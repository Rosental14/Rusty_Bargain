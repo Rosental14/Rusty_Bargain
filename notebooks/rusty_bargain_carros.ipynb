{
 "cells": [
  {
   "cell_type": "markdown",
   "metadata": {},
   "source": [
    "O serviço de vendas de carros usados Rusty Bargain está desenvolvendo um aplicativo para atrair novos clientes. Nesse aplicativo, você pode descobrir rapidamente o valor de mercado do seu carro. Você tem acesso a dados históricos: especificações técnicas, versões de acabamento e preços. Você precisa construir o modelo para determinar o valor. \n",
    "\n",
    "Rusty Bargain está interessado em:\n",
    "\n",
    "- a qualidade da predição;\n",
    "- a velocidade da predição;\n",
    "- o tempo necessário para o treinamento"
   ]
  },
  {
   "cell_type": "code",
   "execution_count": 4,
   "metadata": {},
   "outputs": [],
   "source": [
    "import pandas as pd\n",
    "import numpy as np\n",
    "import re\n",
    "import time\n",
    "import timeit\n",
    "import lightgbm as lgb\n",
    "import warnings\n",
    "import seaborn as sns\n",
    "import matplotlib.pyplot as plt\n",
    "\n",
    "from sklearn.model_selection import train_test_split\n",
    "from sklearn.model_selection import GridSearchCV\n",
    "\n",
    "from sklearn.metrics import mean_squared_error\n",
    "from sklearn.metrics import r2_score\n",
    "\n",
    "from sklearn.ensemble import RandomForestRegressor\n",
    "from sklearn.linear_model import LinearRegression\n",
    "from catboost import CatBoostRegressor, Pool\n",
    "\n",
    "from sklearn.preprocessing import OrdinalEncoder\n",
    "from sklearn.preprocessing import StandardScaler"
   ]
  },
  {
   "cell_type": "markdown",
   "metadata": {},
   "source": [
    "## Preparação de Dados"
   ]
  },
  {
   "cell_type": "code",
   "execution_count": 5,
   "metadata": {},
   "outputs": [
    {
     "data": {
      "text/html": [
       "<div>\n",
       "<style scoped>\n",
       "    .dataframe tbody tr th:only-of-type {\n",
       "        vertical-align: middle;\n",
       "    }\n",
       "\n",
       "    .dataframe tbody tr th {\n",
       "        vertical-align: top;\n",
       "    }\n",
       "\n",
       "    .dataframe thead th {\n",
       "        text-align: right;\n",
       "    }\n",
       "</style>\n",
       "<table border=\"1\" class=\"dataframe\">\n",
       "  <thead>\n",
       "    <tr style=\"text-align: right;\">\n",
       "      <th></th>\n",
       "      <th>DateCrawled</th>\n",
       "      <th>Price</th>\n",
       "      <th>VehicleType</th>\n",
       "      <th>RegistrationYear</th>\n",
       "      <th>Gearbox</th>\n",
       "      <th>Power</th>\n",
       "      <th>Model</th>\n",
       "      <th>Mileage</th>\n",
       "      <th>RegistrationMonth</th>\n",
       "      <th>FuelType</th>\n",
       "      <th>Brand</th>\n",
       "      <th>NotRepaired</th>\n",
       "      <th>DateCreated</th>\n",
       "      <th>NumberOfPictures</th>\n",
       "      <th>PostalCode</th>\n",
       "      <th>LastSeen</th>\n",
       "    </tr>\n",
       "  </thead>\n",
       "  <tbody>\n",
       "    <tr>\n",
       "      <th>255700</th>\n",
       "      <td>07/03/2016 21:51</td>\n",
       "      <td>9000</td>\n",
       "      <td>bus</td>\n",
       "      <td>2007</td>\n",
       "      <td>manual</td>\n",
       "      <td>105</td>\n",
       "      <td>touran</td>\n",
       "      <td>125000</td>\n",
       "      <td>5</td>\n",
       "      <td>gasoline</td>\n",
       "      <td>volkswagen</td>\n",
       "      <td>NaN</td>\n",
       "      <td>07/03/2016 00:00</td>\n",
       "      <td>0</td>\n",
       "      <td>78628</td>\n",
       "      <td>06/04/2016 03:45</td>\n",
       "    </tr>\n",
       "    <tr>\n",
       "      <th>127026</th>\n",
       "      <td>15/03/2016 21:40</td>\n",
       "      <td>500</td>\n",
       "      <td>sedan</td>\n",
       "      <td>1991</td>\n",
       "      <td>manual</td>\n",
       "      <td>75</td>\n",
       "      <td>golf</td>\n",
       "      <td>150000</td>\n",
       "      <td>7</td>\n",
       "      <td>petrol</td>\n",
       "      <td>volkswagen</td>\n",
       "      <td>no</td>\n",
       "      <td>15/03/2016 00:00</td>\n",
       "      <td>0</td>\n",
       "      <td>71272</td>\n",
       "      <td>24/03/2016 13:45</td>\n",
       "    </tr>\n",
       "    <tr>\n",
       "      <th>254188</th>\n",
       "      <td>09/03/2016 12:46</td>\n",
       "      <td>1350</td>\n",
       "      <td>small</td>\n",
       "      <td>2000</td>\n",
       "      <td>manual</td>\n",
       "      <td>75</td>\n",
       "      <td>clio</td>\n",
       "      <td>150000</td>\n",
       "      <td>5</td>\n",
       "      <td>petrol</td>\n",
       "      <td>renault</td>\n",
       "      <td>no</td>\n",
       "      <td>09/03/2016 00:00</td>\n",
       "      <td>0</td>\n",
       "      <td>67678</td>\n",
       "      <td>03/04/2016 22:16</td>\n",
       "    </tr>\n",
       "    <tr>\n",
       "      <th>179339</th>\n",
       "      <td>29/03/2016 19:54</td>\n",
       "      <td>0</td>\n",
       "      <td>small</td>\n",
       "      <td>1996</td>\n",
       "      <td>manual</td>\n",
       "      <td>50</td>\n",
       "      <td>fiesta</td>\n",
       "      <td>125000</td>\n",
       "      <td>7</td>\n",
       "      <td>petrol</td>\n",
       "      <td>ford</td>\n",
       "      <td>NaN</td>\n",
       "      <td>29/03/2016 00:00</td>\n",
       "      <td>0</td>\n",
       "      <td>39624</td>\n",
       "      <td>06/04/2016 06:15</td>\n",
       "    </tr>\n",
       "    <tr>\n",
       "      <th>295012</th>\n",
       "      <td>08/03/2016 11:36</td>\n",
       "      <td>1200</td>\n",
       "      <td>wagon</td>\n",
       "      <td>1999</td>\n",
       "      <td>manual</td>\n",
       "      <td>75</td>\n",
       "      <td>3er</td>\n",
       "      <td>150000</td>\n",
       "      <td>0</td>\n",
       "      <td>NaN</td>\n",
       "      <td>bmw</td>\n",
       "      <td>yes</td>\n",
       "      <td>08/03/2016 00:00</td>\n",
       "      <td>0</td>\n",
       "      <td>13587</td>\n",
       "      <td>12/03/2016 19:17</td>\n",
       "    </tr>\n",
       "  </tbody>\n",
       "</table>\n",
       "</div>"
      ],
      "text/plain": [
       "             DateCrawled  Price VehicleType  RegistrationYear Gearbox  Power  \\\n",
       "255700  07/03/2016 21:51   9000         bus              2007  manual    105   \n",
       "127026  15/03/2016 21:40    500       sedan              1991  manual     75   \n",
       "254188  09/03/2016 12:46   1350       small              2000  manual     75   \n",
       "179339  29/03/2016 19:54      0       small              1996  manual     50   \n",
       "295012  08/03/2016 11:36   1200       wagon              1999  manual     75   \n",
       "\n",
       "         Model  Mileage  RegistrationMonth  FuelType       Brand NotRepaired  \\\n",
       "255700  touran   125000                  5  gasoline  volkswagen         NaN   \n",
       "127026    golf   150000                  7    petrol  volkswagen          no   \n",
       "254188    clio   150000                  5    petrol     renault          no   \n",
       "179339  fiesta   125000                  7    petrol        ford         NaN   \n",
       "295012     3er   150000                  0       NaN         bmw         yes   \n",
       "\n",
       "             DateCreated  NumberOfPictures  PostalCode          LastSeen  \n",
       "255700  07/03/2016 00:00                 0       78628  06/04/2016 03:45  \n",
       "127026  15/03/2016 00:00                 0       71272  24/03/2016 13:45  \n",
       "254188  09/03/2016 00:00                 0       67678  03/04/2016 22:16  \n",
       "179339  29/03/2016 00:00                 0       39624  06/04/2016 06:15  \n",
       "295012  08/03/2016 00:00                 0       13587  12/03/2016 19:17  "
      ]
     },
     "execution_count": 5,
     "metadata": {},
     "output_type": "execute_result"
    }
   ],
   "source": [
    "df = pd.read_csv('./datasets/car_data.csv')\n",
    "df.sample(5)"
   ]
  },
  {
   "cell_type": "code",
   "execution_count": 6,
   "metadata": {},
   "outputs": [
    {
     "name": "stdout",
     "output_type": "stream",
     "text": [
      "<class 'pandas.core.frame.DataFrame'>\n",
      "RangeIndex: 354369 entries, 0 to 354368\n",
      "Data columns (total 16 columns):\n",
      " #   Column             Non-Null Count   Dtype \n",
      "---  ------             --------------   ----- \n",
      " 0   DateCrawled        354369 non-null  object\n",
      " 1   Price              354369 non-null  int64 \n",
      " 2   VehicleType        316879 non-null  object\n",
      " 3   RegistrationYear   354369 non-null  int64 \n",
      " 4   Gearbox            334536 non-null  object\n",
      " 5   Power              354369 non-null  int64 \n",
      " 6   Model              334664 non-null  object\n",
      " 7   Mileage            354369 non-null  int64 \n",
      " 8   RegistrationMonth  354369 non-null  int64 \n",
      " 9   FuelType           321474 non-null  object\n",
      " 10  Brand              354369 non-null  object\n",
      " 11  NotRepaired        283215 non-null  object\n",
      " 12  DateCreated        354369 non-null  object\n",
      " 13  NumberOfPictures   354369 non-null  int64 \n",
      " 14  PostalCode         354369 non-null  int64 \n",
      " 15  LastSeen           354369 non-null  object\n",
      "dtypes: int64(7), object(9)\n",
      "memory usage: 43.3+ MB\n"
     ]
    }
   ],
   "source": [
    "df.info()"
   ]
  },
  {
   "cell_type": "markdown",
   "metadata": {},
   "source": [
    "### Renomeando as colunas para snake_case"
   ]
  },
  {
   "cell_type": "code",
   "execution_count": 7,
   "metadata": {},
   "outputs": [
    {
     "name": "stdout",
     "output_type": "stream",
     "text": [
      "[' Date Crawled', ' Price', ' Vehicle Type', ' Registration Year', ' Gearbox', ' Power', ' Model', ' Mileage', ' Registration Month', ' Fuel Type', ' Brand', ' Not Repaired', ' Date Created', ' Number Of Pictures', ' Postal Code', ' Last Seen']\n"
     ]
    }
   ],
   "source": [
    "# Criando a variável columns_new com os nomes das colunas em uma lista\n",
    "columns_new = df.columns\n",
    "\n",
    "# Transformando a lista em string para poder usar regex\n",
    "string_columns = '/'.join(columns_new)\n",
    "\n",
    "# Usando Expressões Regulares (Regex) para alterar as strings inserindo um espaço antes das letras maiúsculas\n",
    "regex_columns = re.sub('(?=[A-Z])', ' ', string_columns)\n",
    "regex_columns = regex_columns.split('/')\n",
    "\n",
    "print(regex_columns)"
   ]
  },
  {
   "cell_type": "code",
   "execution_count": 8,
   "metadata": {},
   "outputs": [
    {
     "data": {
      "text/html": [
       "<div>\n",
       "<style scoped>\n",
       "    .dataframe tbody tr th:only-of-type {\n",
       "        vertical-align: middle;\n",
       "    }\n",
       "\n",
       "    .dataframe tbody tr th {\n",
       "        vertical-align: top;\n",
       "    }\n",
       "\n",
       "    .dataframe thead th {\n",
       "        text-align: right;\n",
       "    }\n",
       "</style>\n",
       "<table border=\"1\" class=\"dataframe\">\n",
       "  <thead>\n",
       "    <tr style=\"text-align: right;\">\n",
       "      <th></th>\n",
       "      <th>date_crawled</th>\n",
       "      <th>price</th>\n",
       "      <th>vehicle_type</th>\n",
       "      <th>registration_year</th>\n",
       "      <th>gearbox</th>\n",
       "      <th>power</th>\n",
       "      <th>model</th>\n",
       "      <th>mileage</th>\n",
       "      <th>registration_month</th>\n",
       "      <th>fuel_type</th>\n",
       "      <th>brand</th>\n",
       "      <th>not_repaired</th>\n",
       "      <th>date_created</th>\n",
       "      <th>number_of_pictures</th>\n",
       "      <th>postal_code</th>\n",
       "      <th>last_seen</th>\n",
       "    </tr>\n",
       "  </thead>\n",
       "  <tbody>\n",
       "    <tr>\n",
       "      <th>249157</th>\n",
       "      <td>18/03/2016 14:06</td>\n",
       "      <td>500</td>\n",
       "      <td>NaN</td>\n",
       "      <td>2005</td>\n",
       "      <td>manual</td>\n",
       "      <td>60</td>\n",
       "      <td>corsa</td>\n",
       "      <td>150000</td>\n",
       "      <td>0</td>\n",
       "      <td>NaN</td>\n",
       "      <td>opel</td>\n",
       "      <td>yes</td>\n",
       "      <td>18/03/2016 00:00</td>\n",
       "      <td>0</td>\n",
       "      <td>56566</td>\n",
       "      <td>26/03/2016 04:17</td>\n",
       "    </tr>\n",
       "    <tr>\n",
       "      <th>304533</th>\n",
       "      <td>12/03/2016 16:54</td>\n",
       "      <td>1500</td>\n",
       "      <td>sedan</td>\n",
       "      <td>1994</td>\n",
       "      <td>manual</td>\n",
       "      <td>116</td>\n",
       "      <td>passat</td>\n",
       "      <td>90000</td>\n",
       "      <td>3</td>\n",
       "      <td>petrol</td>\n",
       "      <td>volkswagen</td>\n",
       "      <td>no</td>\n",
       "      <td>12/03/2016 00:00</td>\n",
       "      <td>0</td>\n",
       "      <td>22043</td>\n",
       "      <td>12/03/2016 16:54</td>\n",
       "    </tr>\n",
       "    <tr>\n",
       "      <th>189138</th>\n",
       "      <td>28/03/2016 18:39</td>\n",
       "      <td>1750</td>\n",
       "      <td>sedan</td>\n",
       "      <td>1990</td>\n",
       "      <td>manual</td>\n",
       "      <td>90</td>\n",
       "      <td>golf</td>\n",
       "      <td>150000</td>\n",
       "      <td>5</td>\n",
       "      <td>petrol</td>\n",
       "      <td>volkswagen</td>\n",
       "      <td>NaN</td>\n",
       "      <td>28/03/2016 00:00</td>\n",
       "      <td>0</td>\n",
       "      <td>64850</td>\n",
       "      <td>28/03/2016 18:39</td>\n",
       "    </tr>\n",
       "    <tr>\n",
       "      <th>203405</th>\n",
       "      <td>10/03/2016 09:57</td>\n",
       "      <td>2300</td>\n",
       "      <td>NaN</td>\n",
       "      <td>2018</td>\n",
       "      <td>manual</td>\n",
       "      <td>0</td>\n",
       "      <td>NaN</td>\n",
       "      <td>5000</td>\n",
       "      <td>0</td>\n",
       "      <td>petrol</td>\n",
       "      <td>audi</td>\n",
       "      <td>no</td>\n",
       "      <td>10/03/2016 00:00</td>\n",
       "      <td>0</td>\n",
       "      <td>40233</td>\n",
       "      <td>10/03/2016 09:57</td>\n",
       "    </tr>\n",
       "    <tr>\n",
       "      <th>140321</th>\n",
       "      <td>25/03/2016 20:40</td>\n",
       "      <td>1150</td>\n",
       "      <td>small</td>\n",
       "      <td>2002</td>\n",
       "      <td>manual</td>\n",
       "      <td>58</td>\n",
       "      <td>corsa</td>\n",
       "      <td>150000</td>\n",
       "      <td>4</td>\n",
       "      <td>petrol</td>\n",
       "      <td>opel</td>\n",
       "      <td>yes</td>\n",
       "      <td>25/03/2016 00:00</td>\n",
       "      <td>0</td>\n",
       "      <td>91154</td>\n",
       "      <td>07/04/2016 02:45</td>\n",
       "    </tr>\n",
       "  </tbody>\n",
       "</table>\n",
       "</div>"
      ],
      "text/plain": [
       "            date_crawled  price vehicle_type  registration_year gearbox  \\\n",
       "249157  18/03/2016 14:06    500          NaN               2005  manual   \n",
       "304533  12/03/2016 16:54   1500        sedan               1994  manual   \n",
       "189138  28/03/2016 18:39   1750        sedan               1990  manual   \n",
       "203405  10/03/2016 09:57   2300          NaN               2018  manual   \n",
       "140321  25/03/2016 20:40   1150        small               2002  manual   \n",
       "\n",
       "        power   model  mileage  registration_month fuel_type       brand  \\\n",
       "249157     60   corsa   150000                   0       NaN        opel   \n",
       "304533    116  passat    90000                   3    petrol  volkswagen   \n",
       "189138     90    golf   150000                   5    petrol  volkswagen   \n",
       "203405      0     NaN     5000                   0    petrol        audi   \n",
       "140321     58   corsa   150000                   4    petrol        opel   \n",
       "\n",
       "       not_repaired      date_created  number_of_pictures  postal_code  \\\n",
       "249157          yes  18/03/2016 00:00                   0        56566   \n",
       "304533           no  12/03/2016 00:00                   0        22043   \n",
       "189138          NaN  28/03/2016 00:00                   0        64850   \n",
       "203405           no  10/03/2016 00:00                   0        40233   \n",
       "140321          yes  25/03/2016 00:00                   0        91154   \n",
       "\n",
       "               last_seen  \n",
       "249157  26/03/2016 04:17  \n",
       "304533  12/03/2016 16:54  \n",
       "189138  28/03/2016 18:39  \n",
       "203405  10/03/2016 09:57  \n",
       "140321  07/04/2016 02:45  "
      ]
     },
     "execution_count": 8,
     "metadata": {},
     "output_type": "execute_result"
    }
   ],
   "source": [
    "# Criando a lista vazia para anexar os nomes das colunas após transformações\n",
    "new_col_names = []\n",
    "\n",
    "# Criando loop para renomear todas as colunas em snake_case\n",
    "for name in regex_columns:\n",
    "    name_stripped = name.strip()\n",
    "    name_lowered = name_stripped.lower()\n",
    "    name_no_spaces = name_lowered.replace(' ', '_')\n",
    "    \n",
    "    new_col_names.append(name_no_spaces)\n",
    "\n",
    "# Renomeando as colunas do DataFrame com os nomes modificados anteriormente\n",
    "df.columns = new_col_names\n",
    "df.sample(5)"
   ]
  },
  {
   "cell_type": "markdown",
   "metadata": {},
   "source": [
    "### Checagem de duplicados"
   ]
  },
  {
   "cell_type": "code",
   "execution_count": 9,
   "metadata": {},
   "outputs": [
    {
     "data": {
      "text/plain": [
       "262"
      ]
     },
     "execution_count": 9,
     "metadata": {},
     "output_type": "execute_result"
    }
   ],
   "source": [
    "df.duplicated().sum()"
   ]
  },
  {
   "cell_type": "code",
   "execution_count": 10,
   "metadata": {},
   "outputs": [
    {
     "data": {
      "text/plain": [
       "0"
      ]
     },
     "execution_count": 10,
     "metadata": {},
     "output_type": "execute_result"
    }
   ],
   "source": [
    "df = df.drop_duplicates().reset_index(drop=True)\n",
    "df.duplicated().sum()"
   ]
  },
  {
   "cell_type": "markdown",
   "metadata": {},
   "source": [
    "### Remoção de colunas desnecessárias"
   ]
  },
  {
   "cell_type": "markdown",
   "metadata": {},
   "source": [
    "Algumas colunas não trazem informações que tenham correlação com o preço do veículo (target). Por este motivo vamos removê-las para evitar o overfitting e também reduzir o tempo de treinamento dos nossos modelos."
   ]
  },
  {
   "cell_type": "code",
   "execution_count": 11,
   "metadata": {},
   "outputs": [],
   "source": [
    "df = df.drop((['date_crawled', 'registration_month', 'date_created', 'number_of_pictures', 'postal_code', 'last_seen']), axis=1)"
   ]
  },
  {
   "cell_type": "code",
   "execution_count": 12,
   "metadata": {},
   "outputs": [
    {
     "data": {
      "text/html": [
       "<div>\n",
       "<style scoped>\n",
       "    .dataframe tbody tr th:only-of-type {\n",
       "        vertical-align: middle;\n",
       "    }\n",
       "\n",
       "    .dataframe tbody tr th {\n",
       "        vertical-align: top;\n",
       "    }\n",
       "\n",
       "    .dataframe thead th {\n",
       "        text-align: right;\n",
       "    }\n",
       "</style>\n",
       "<table border=\"1\" class=\"dataframe\">\n",
       "  <thead>\n",
       "    <tr style=\"text-align: right;\">\n",
       "      <th></th>\n",
       "      <th>price</th>\n",
       "      <th>vehicle_type</th>\n",
       "      <th>registration_year</th>\n",
       "      <th>gearbox</th>\n",
       "      <th>power</th>\n",
       "      <th>model</th>\n",
       "      <th>mileage</th>\n",
       "      <th>fuel_type</th>\n",
       "      <th>brand</th>\n",
       "      <th>not_repaired</th>\n",
       "    </tr>\n",
       "  </thead>\n",
       "  <tbody>\n",
       "    <tr>\n",
       "      <th>0</th>\n",
       "      <td>480</td>\n",
       "      <td>NaN</td>\n",
       "      <td>1993</td>\n",
       "      <td>manual</td>\n",
       "      <td>0</td>\n",
       "      <td>golf</td>\n",
       "      <td>150000</td>\n",
       "      <td>petrol</td>\n",
       "      <td>volkswagen</td>\n",
       "      <td>NaN</td>\n",
       "    </tr>\n",
       "    <tr>\n",
       "      <th>1</th>\n",
       "      <td>18300</td>\n",
       "      <td>coupe</td>\n",
       "      <td>2011</td>\n",
       "      <td>manual</td>\n",
       "      <td>190</td>\n",
       "      <td>NaN</td>\n",
       "      <td>125000</td>\n",
       "      <td>gasoline</td>\n",
       "      <td>audi</td>\n",
       "      <td>yes</td>\n",
       "    </tr>\n",
       "    <tr>\n",
       "      <th>2</th>\n",
       "      <td>9800</td>\n",
       "      <td>suv</td>\n",
       "      <td>2004</td>\n",
       "      <td>auto</td>\n",
       "      <td>163</td>\n",
       "      <td>grand</td>\n",
       "      <td>125000</td>\n",
       "      <td>gasoline</td>\n",
       "      <td>jeep</td>\n",
       "      <td>NaN</td>\n",
       "    </tr>\n",
       "  </tbody>\n",
       "</table>\n",
       "</div>"
      ],
      "text/plain": [
       "   price vehicle_type  registration_year gearbox  power  model  mileage  \\\n",
       "0    480          NaN               1993  manual      0   golf   150000   \n",
       "1  18300        coupe               2011  manual    190    NaN   125000   \n",
       "2   9800          suv               2004    auto    163  grand   125000   \n",
       "\n",
       "  fuel_type       brand not_repaired  \n",
       "0    petrol  volkswagen          NaN  \n",
       "1  gasoline        audi          yes  \n",
       "2  gasoline        jeep          NaN  "
      ]
     },
     "execution_count": 12,
     "metadata": {},
     "output_type": "execute_result"
    }
   ],
   "source": [
    "df.head(3)"
   ]
  },
  {
   "cell_type": "markdown",
   "metadata": {},
   "source": [
    "### Análise individual das colunas numéricas"
   ]
  },
  {
   "cell_type": "code",
   "execution_count": 13,
   "metadata": {},
   "outputs": [
    {
     "data": {
      "text/html": [
       "<div>\n",
       "<style scoped>\n",
       "    .dataframe tbody tr th:only-of-type {\n",
       "        vertical-align: middle;\n",
       "    }\n",
       "\n",
       "    .dataframe tbody tr th {\n",
       "        vertical-align: top;\n",
       "    }\n",
       "\n",
       "    .dataframe thead th {\n",
       "        text-align: right;\n",
       "    }\n",
       "</style>\n",
       "<table border=\"1\" class=\"dataframe\">\n",
       "  <thead>\n",
       "    <tr style=\"text-align: right;\">\n",
       "      <th></th>\n",
       "      <th>price</th>\n",
       "      <th>registration_year</th>\n",
       "      <th>power</th>\n",
       "      <th>mileage</th>\n",
       "    </tr>\n",
       "  </thead>\n",
       "  <tbody>\n",
       "    <tr>\n",
       "      <th>count</th>\n",
       "      <td>354107.000000</td>\n",
       "      <td>354107.000000</td>\n",
       "      <td>354107.000000</td>\n",
       "      <td>354107.000000</td>\n",
       "    </tr>\n",
       "    <tr>\n",
       "      <th>mean</th>\n",
       "      <td>4416.433287</td>\n",
       "      <td>2004.235355</td>\n",
       "      <td>110.089651</td>\n",
       "      <td>128211.811684</td>\n",
       "    </tr>\n",
       "    <tr>\n",
       "      <th>std</th>\n",
       "      <td>4514.338584</td>\n",
       "      <td>90.261168</td>\n",
       "      <td>189.914972</td>\n",
       "      <td>37906.590101</td>\n",
       "    </tr>\n",
       "    <tr>\n",
       "      <th>min</th>\n",
       "      <td>0.000000</td>\n",
       "      <td>1000.000000</td>\n",
       "      <td>0.000000</td>\n",
       "      <td>5000.000000</td>\n",
       "    </tr>\n",
       "    <tr>\n",
       "      <th>25%</th>\n",
       "      <td>1050.000000</td>\n",
       "      <td>1999.000000</td>\n",
       "      <td>69.000000</td>\n",
       "      <td>125000.000000</td>\n",
       "    </tr>\n",
       "    <tr>\n",
       "      <th>50%</th>\n",
       "      <td>2700.000000</td>\n",
       "      <td>2003.000000</td>\n",
       "      <td>105.000000</td>\n",
       "      <td>150000.000000</td>\n",
       "    </tr>\n",
       "    <tr>\n",
       "      <th>75%</th>\n",
       "      <td>6400.000000</td>\n",
       "      <td>2008.000000</td>\n",
       "      <td>143.000000</td>\n",
       "      <td>150000.000000</td>\n",
       "    </tr>\n",
       "    <tr>\n",
       "      <th>max</th>\n",
       "      <td>20000.000000</td>\n",
       "      <td>9999.000000</td>\n",
       "      <td>20000.000000</td>\n",
       "      <td>150000.000000</td>\n",
       "    </tr>\n",
       "  </tbody>\n",
       "</table>\n",
       "</div>"
      ],
      "text/plain": [
       "               price  registration_year          power        mileage\n",
       "count  354107.000000      354107.000000  354107.000000  354107.000000\n",
       "mean     4416.433287        2004.235355     110.089651  128211.811684\n",
       "std      4514.338584          90.261168     189.914972   37906.590101\n",
       "min         0.000000        1000.000000       0.000000    5000.000000\n",
       "25%      1050.000000        1999.000000      69.000000  125000.000000\n",
       "50%      2700.000000        2003.000000     105.000000  150000.000000\n",
       "75%      6400.000000        2008.000000     143.000000  150000.000000\n",
       "max     20000.000000        9999.000000   20000.000000  150000.000000"
      ]
     },
     "execution_count": 13,
     "metadata": {},
     "output_type": "execute_result"
    }
   ],
   "source": [
    "df.describe()"
   ]
  },
  {
   "cell_type": "markdown",
   "metadata": {},
   "source": [
    "#### Coluna registration_year"
   ]
  },
  {
   "cell_type": "markdown",
   "metadata": {},
   "source": [
    "A coluna 'registration_year', apresenta algumas informações equivocadas que observamos ao analisar o valor mínimo e o máximo.  \n",
    "Vamos investigar a coluna de uma forma mais aprofundada."
   ]
  },
  {
   "cell_type": "code",
   "execution_count": 14,
   "metadata": {},
   "outputs": [
    {
     "data": {
      "text/plain": [
       "array([1000, 1001, 1039, 1111, 1200, 1234, 1253, 1255, 1300, 1400, 1500,\n",
       "       1600, 1602, 1688, 1800, 1910, 1915, 1919, 1920, 1923, 1925, 1927,\n",
       "       1928, 1929, 1930, 1931, 1932, 1933, 1934, 1935, 1936, 1937, 1938,\n",
       "       1940, 1941, 1942, 1943, 1944, 1945, 1946, 1947, 1948, 1949, 1950,\n",
       "       1951, 1952, 1953, 1954, 1955, 1956, 1957, 1958, 1959, 1960, 1961,\n",
       "       1962, 1963, 1964, 1965, 1966, 1967, 1968, 1969, 1970, 1971, 1972,\n",
       "       1973, 1974, 1975, 1976, 1977, 1978, 1979, 1980, 1981, 1982, 1983,\n",
       "       1984, 1985, 1986, 1987, 1988, 1989, 1990, 1991, 1992, 1993, 1994,\n",
       "       1995, 1996, 1997, 1998, 1999, 2000, 2001, 2002, 2003, 2004, 2005,\n",
       "       2006, 2007, 2008, 2009, 2010, 2011, 2012, 2013, 2014, 2015, 2016,\n",
       "       2017, 2018, 2019, 2066, 2200, 2222, 2290, 2500, 2800, 2900, 3000,\n",
       "       3200, 3500, 3700, 3800, 4000, 4100, 4500, 4800, 5000, 5300, 5555,\n",
       "       5600, 5900, 5911, 6000, 6500, 7000, 7100, 7500, 7800, 8000, 8200,\n",
       "       8455, 8500, 8888, 9000, 9229, 9450, 9996, 9999], dtype=int64)"
      ]
     },
     "execution_count": 14,
     "metadata": {},
     "output_type": "execute_result"
    }
   ],
   "source": [
    "df['registration_year'].sort_values().unique()"
   ]
  },
  {
   "cell_type": "markdown",
   "metadata": {},
   "source": [
    "A coluna apresenta valores sem sentido para a informação de ano. Acima de 2019, já temos o ano de 2066 e, a partir daí várias informações equivocadas que iremos remover.  \n",
    "Vamos remover também anos anteriores ao ano de 1960, pois não nos interessam carros tão antigos. Dessa forma já eliminaremos também muitas linhas que contém anos anteriores a 1800, obviamente informações equivocadas."
   ]
  },
  {
   "cell_type": "code",
   "execution_count": 15,
   "metadata": {},
   "outputs": [
    {
     "data": {
      "text/plain": [
       "array([1961, 1962, 1963, 1964, 1965, 1966, 1967, 1968, 1969, 1970, 1971,\n",
       "       1972, 1973, 1974, 1975, 1976, 1977, 1978, 1979, 1980, 1981, 1982,\n",
       "       1983, 1984, 1985, 1986, 1987, 1988, 1989, 1990, 1991, 1992, 1993,\n",
       "       1994, 1995, 1996, 1997, 1998, 1999, 2000, 2001, 2002, 2003, 2004,\n",
       "       2005, 2006, 2007, 2008, 2009, 2010, 2011, 2012, 2013, 2014, 2015,\n",
       "       2016, 2017, 2018, 2019], dtype=int64)"
      ]
     },
     "execution_count": 15,
     "metadata": {},
     "output_type": "execute_result"
    }
   ],
   "source": [
    "df = df.query(\"registration_year > 1960 and registration_year < 2020\")\n",
    "\n",
    "df['registration_year'].sort_values().unique()"
   ]
  },
  {
   "cell_type": "code",
   "execution_count": 16,
   "metadata": {},
   "outputs": [
    {
     "data": {
      "text/plain": [
       "(353392, 10)"
      ]
     },
     "execution_count": 16,
     "metadata": {},
     "output_type": "execute_result"
    }
   ],
   "source": [
    "df.shape"
   ]
  },
  {
   "cell_type": "markdown",
   "metadata": {},
   "source": [
    "#### Coluna price"
   ]
  },
  {
   "cell_type": "markdown",
   "metadata": {},
   "source": [
    "Como essa coluna é nosso target, vamos realizar uma análise de outliers mais detalhada"
   ]
  },
  {
   "cell_type": "code",
   "execution_count": 17,
   "metadata": {},
   "outputs": [
    {
     "data": {
      "text/plain": [
       "price\n",
       "0        10617\n",
       "500       5649\n",
       "1500      5382\n",
       "1000      4635\n",
       "1200      4587\n",
       "         ...  \n",
       "7435         1\n",
       "16845        1\n",
       "17159        1\n",
       "7396         1\n",
       "10985        1\n",
       "Name: count, Length: 3731, dtype: int64"
      ]
     },
     "execution_count": 17,
     "metadata": {},
     "output_type": "execute_result"
    }
   ],
   "source": [
    "df['price'].value_counts()"
   ]
  },
  {
   "cell_type": "code",
   "execution_count": 18,
   "metadata": {},
   "outputs": [
    {
     "data": {
      "image/png": "[encoded data removed]",
      "text/plain": [
       "<Figure size 1000x600 with 1 Axes>"
      ]
     },
     "metadata": {},
     "output_type": "display_data"
    }
   ],
   "source": [
    "# Traçando histograma para análise dos dados da coluna target\n",
    "plt.figure(figsize=(10, 6))\n",
    "sns.histplot(df['price'], bins=50, kde=True)\n",
    "plt.title('Histograma dos Preços dos Carros')\n",
    "plt.xlabel('Preço')\n",
    "plt.ylabel('Frequência')\n",
    "plt.show()"
   ]
  },
  {
   "cell_type": "markdown",
   "metadata": {},
   "source": [
    "Analisando o histograma, podemos observar que muitos carros estão lançados com preço 0 ou muito baixo.  \n",
    "Em relação aos preços altos, os valores não ultrapassam $20,000. Precisamos analisar mais detalhadamente os outliers, mas não existe nenhum valor que está muito acima e com características claras de outlier."
   ]
  },
  {
   "cell_type": "code",
   "execution_count": 19,
   "metadata": {},
   "outputs": [
    {
     "data": {
      "image/png": "[encoded data removed]",
      "text/plain": [
       "<Figure size 1000x400 with 1 Axes>"
      ]
     },
     "metadata": {},
     "output_type": "display_data"
    }
   ],
   "source": [
    "# Traçando um boxplot para análise de outliers\n",
    "\n",
    "plt.figure(figsize=(10, 4))\n",
    "sns.boxplot(x=df['price'])\n",
    "plt.title('Distribuição dos Preços dos Carros')\n",
    "plt.xlabel('Preço')\n",
    "plt.show()"
   ]
  },
  {
   "cell_type": "markdown",
   "metadata": {},
   "source": [
    "Interquartile Range (IQR)\n",
    "O IQR é a diferença entre o terceiro quartil (Q3) e o primeiro quartil (Q1).  \n",
    "\n",
    "Valores abaixo de 𝑄1 − 1.5 × 𝐼𝑄𝑅 ou acima de 𝑄3 + 1.5 × 𝐼𝑄𝑅 são considerados outliers."
   ]
  },
  {
   "cell_type": "code",
   "execution_count": 20,
   "metadata": {},
   "outputs": [
    {
     "name": "stdout",
     "output_type": "stream",
     "text": [
      "upper_bound: 14417.5\n",
      "\n",
      "Number of outliers: 18888\n"
     ]
    }
   ],
   "source": [
    "Q1 = df['price'].quantile(0.25)\n",
    "Q3 = df['price'].quantile(0.75)\n",
    "IQR = Q3 - Q1\n",
    "\n",
    "lower_bound = Q1 - 1.5 * IQR\n",
    "upper_bound = Q3 + 1.5 * IQR\n",
    "\n",
    "outliers = df[(df['price'] < lower_bound) | (df['price'] > upper_bound)]\n",
    "print('upper_bound:', upper_bound)\n",
    "print()\n",
    "print(f\"Number of outliers: {len(outliers)}\")"
   ]
  },
  {
   "cell_type": "markdown",
   "metadata": {},
   "source": [
    "Analisando outliers através do IQR, observamos que pelo método, temos 18.888 outliers, pois os preços acima de $14.417,50 foram considerados outliers, mas se tratando do mercado de veículos, precisamos analisar se estes são de fato outliers ou se tratam realmente de modelos de luxo, mais valorizados no mercado."
   ]
  },
  {
   "cell_type": "code",
   "execution_count": 21,
   "metadata": {},
   "outputs": [
    {
     "data": {
      "text/plain": [
       "brand\n",
       "volkswagen        3935\n",
       "bmw               3443\n",
       "audi              3159\n",
       "mercedes_benz     3013\n",
       "ford               775\n",
       "opel               532\n",
       "mini               521\n",
       "skoda              354\n",
       "sonstige_autos     286\n",
       "nissan             272\n",
       "porsche            263\n",
       "seat               225\n",
       "hyundai            203\n",
       "kia                176\n",
       "renault            176\n",
       "peugeot            176\n",
       "volvo              175\n",
       "toyota             161\n",
       "mazda              141\n",
       "chevrolet          118\n",
       "land_rover         104\n",
       "citroen             84\n",
       "jeep                76\n",
       "mitsubishi          70\n",
       "fiat                68\n",
       "alfa_romeo          67\n",
       "jaguar              65\n",
       "honda               60\n",
       "chrysler            43\n",
       "subaru              39\n",
       "suzuki              38\n",
       "smart               23\n",
       "dacia               21\n",
       "saab                18\n",
       "lancia               5\n",
       "trabant              2\n",
       "rover                1\n",
       "Name: count, dtype: int64"
      ]
     },
     "execution_count": 21,
     "metadata": {},
     "output_type": "execute_result"
    }
   ],
   "source": [
    "# Checando as marcas com mais outliers\n",
    "outliers['brand'].value_counts()"
   ]
  },
  {
   "cell_type": "markdown",
   "metadata": {},
   "source": [
    "As marcas que apresentam mais outliers são de fato marcas que possuem carros com preço mais elevado. Vamos checar algumas marcas para conferir se existe algum padrão de erro ou se de fato os preços tendem a estar corretos."
   ]
  },
  {
   "cell_type": "code",
   "execution_count": 22,
   "metadata": {},
   "outputs": [
    {
     "data": {
      "text/html": [
       "<div>\n",
       "<style scoped>\n",
       "    .dataframe tbody tr th:only-of-type {\n",
       "        vertical-align: middle;\n",
       "    }\n",
       "\n",
       "    .dataframe tbody tr th {\n",
       "        vertical-align: top;\n",
       "    }\n",
       "\n",
       "    .dataframe thead th {\n",
       "        text-align: right;\n",
       "    }\n",
       "</style>\n",
       "<table border=\"1\" class=\"dataframe\">\n",
       "  <thead>\n",
       "    <tr style=\"text-align: right;\">\n",
       "      <th></th>\n",
       "      <th>price</th>\n",
       "      <th>vehicle_type</th>\n",
       "      <th>registration_year</th>\n",
       "      <th>gearbox</th>\n",
       "      <th>power</th>\n",
       "      <th>model</th>\n",
       "      <th>mileage</th>\n",
       "      <th>fuel_type</th>\n",
       "      <th>brand</th>\n",
       "      <th>not_repaired</th>\n",
       "    </tr>\n",
       "  </thead>\n",
       "  <tbody>\n",
       "    <tr>\n",
       "      <th>24742</th>\n",
       "      <td>19200</td>\n",
       "      <td>suv</td>\n",
       "      <td>2011</td>\n",
       "      <td>auto</td>\n",
       "      <td>140</td>\n",
       "      <td>tiguan</td>\n",
       "      <td>80000</td>\n",
       "      <td>gasoline</td>\n",
       "      <td>volkswagen</td>\n",
       "      <td>NaN</td>\n",
       "    </tr>\n",
       "    <tr>\n",
       "      <th>70535</th>\n",
       "      <td>15999</td>\n",
       "      <td>sedan</td>\n",
       "      <td>2011</td>\n",
       "      <td>manual</td>\n",
       "      <td>211</td>\n",
       "      <td>golf</td>\n",
       "      <td>90000</td>\n",
       "      <td>petrol</td>\n",
       "      <td>volkswagen</td>\n",
       "      <td>no</td>\n",
       "    </tr>\n",
       "    <tr>\n",
       "      <th>76484</th>\n",
       "      <td>19800</td>\n",
       "      <td>sedan</td>\n",
       "      <td>2010</td>\n",
       "      <td>auto</td>\n",
       "      <td>239</td>\n",
       "      <td>phaeton</td>\n",
       "      <td>125000</td>\n",
       "      <td>gasoline</td>\n",
       "      <td>volkswagen</td>\n",
       "      <td>no</td>\n",
       "    </tr>\n",
       "    <tr>\n",
       "      <th>312150</th>\n",
       "      <td>15500</td>\n",
       "      <td>bus</td>\n",
       "      <td>2013</td>\n",
       "      <td>auto</td>\n",
       "      <td>122</td>\n",
       "      <td>golf</td>\n",
       "      <td>40000</td>\n",
       "      <td>petrol</td>\n",
       "      <td>volkswagen</td>\n",
       "      <td>no</td>\n",
       "    </tr>\n",
       "    <tr>\n",
       "      <th>176527</th>\n",
       "      <td>16750</td>\n",
       "      <td>sedan</td>\n",
       "      <td>2013</td>\n",
       "      <td>auto</td>\n",
       "      <td>150</td>\n",
       "      <td>golf</td>\n",
       "      <td>100000</td>\n",
       "      <td>gasoline</td>\n",
       "      <td>volkswagen</td>\n",
       "      <td>no</td>\n",
       "    </tr>\n",
       "    <tr>\n",
       "      <th>183041</th>\n",
       "      <td>16999</td>\n",
       "      <td>sedan</td>\n",
       "      <td>2013</td>\n",
       "      <td>manual</td>\n",
       "      <td>140</td>\n",
       "      <td>golf</td>\n",
       "      <td>40000</td>\n",
       "      <td>petrol</td>\n",
       "      <td>volkswagen</td>\n",
       "      <td>no</td>\n",
       "    </tr>\n",
       "    <tr>\n",
       "      <th>2345</th>\n",
       "      <td>19199</td>\n",
       "      <td>coupe</td>\n",
       "      <td>2012</td>\n",
       "      <td>manual</td>\n",
       "      <td>170</td>\n",
       "      <td>scirocco</td>\n",
       "      <td>60000</td>\n",
       "      <td>gasoline</td>\n",
       "      <td>volkswagen</td>\n",
       "      <td>no</td>\n",
       "    </tr>\n",
       "    <tr>\n",
       "      <th>287</th>\n",
       "      <td>16150</td>\n",
       "      <td>suv</td>\n",
       "      <td>2011</td>\n",
       "      <td>manual</td>\n",
       "      <td>150</td>\n",
       "      <td>tiguan</td>\n",
       "      <td>30000</td>\n",
       "      <td>petrol</td>\n",
       "      <td>volkswagen</td>\n",
       "      <td>no</td>\n",
       "    </tr>\n",
       "    <tr>\n",
       "      <th>282445</th>\n",
       "      <td>16950</td>\n",
       "      <td>sedan</td>\n",
       "      <td>2014</td>\n",
       "      <td>auto</td>\n",
       "      <td>150</td>\n",
       "      <td>golf</td>\n",
       "      <td>60000</td>\n",
       "      <td>gasoline</td>\n",
       "      <td>volkswagen</td>\n",
       "      <td>no</td>\n",
       "    </tr>\n",
       "    <tr>\n",
       "      <th>269048</th>\n",
       "      <td>14850</td>\n",
       "      <td>bus</td>\n",
       "      <td>2012</td>\n",
       "      <td>auto</td>\n",
       "      <td>140</td>\n",
       "      <td>touran</td>\n",
       "      <td>40000</td>\n",
       "      <td>petrol</td>\n",
       "      <td>volkswagen</td>\n",
       "      <td>no</td>\n",
       "    </tr>\n",
       "  </tbody>\n",
       "</table>\n",
       "</div>"
      ],
      "text/plain": [
       "        price vehicle_type  registration_year gearbox  power     model  \\\n",
       "24742   19200          suv               2011    auto    140    tiguan   \n",
       "70535   15999        sedan               2011  manual    211      golf   \n",
       "76484   19800        sedan               2010    auto    239   phaeton   \n",
       "312150  15500          bus               2013    auto    122      golf   \n",
       "176527  16750        sedan               2013    auto    150      golf   \n",
       "183041  16999        sedan               2013  manual    140      golf   \n",
       "2345    19199        coupe               2012  manual    170  scirocco   \n",
       "287     16150          suv               2011  manual    150    tiguan   \n",
       "282445  16950        sedan               2014    auto    150      golf   \n",
       "269048  14850          bus               2012    auto    140    touran   \n",
       "\n",
       "        mileage fuel_type       brand not_repaired  \n",
       "24742     80000  gasoline  volkswagen          NaN  \n",
       "70535     90000    petrol  volkswagen           no  \n",
       "76484    125000  gasoline  volkswagen           no  \n",
       "312150    40000    petrol  volkswagen           no  \n",
       "176527   100000  gasoline  volkswagen           no  \n",
       "183041    40000    petrol  volkswagen           no  \n",
       "2345      60000  gasoline  volkswagen           no  \n",
       "287       30000    petrol  volkswagen           no  \n",
       "282445    60000  gasoline  volkswagen           no  \n",
       "269048    40000    petrol  volkswagen           no  "
      ]
     },
     "execution_count": 22,
     "metadata": {},
     "output_type": "execute_result"
    }
   ],
   "source": [
    "out_volks = outliers[outliers['brand'] == 'volkswagen']\n",
    "out_volks.sample(10)"
   ]
  },
  {
   "cell_type": "markdown",
   "metadata": {},
   "source": [
    "Aparentemente não há nenhum erro sistemático com os preços dos carros da Volkswagen, pois não há um preço específico para todos os carros e podemos observar que são veículos que tendem a ter um preço realmente maior, como 'Golf', 'Tiguan'e alguns modelos de ônibus."
   ]
  },
  {
   "cell_type": "code",
   "execution_count": 23,
   "metadata": {},
   "outputs": [
    {
     "data": {
      "text/html": [
       "<div>\n",
       "<style scoped>\n",
       "    .dataframe tbody tr th:only-of-type {\n",
       "        vertical-align: middle;\n",
       "    }\n",
       "\n",
       "    .dataframe tbody tr th {\n",
       "        vertical-align: top;\n",
       "    }\n",
       "\n",
       "    .dataframe thead th {\n",
       "        text-align: right;\n",
       "    }\n",
       "</style>\n",
       "<table border=\"1\" class=\"dataframe\">\n",
       "  <thead>\n",
       "    <tr style=\"text-align: right;\">\n",
       "      <th></th>\n",
       "      <th>price</th>\n",
       "      <th>vehicle_type</th>\n",
       "      <th>registration_year</th>\n",
       "      <th>gearbox</th>\n",
       "      <th>power</th>\n",
       "      <th>model</th>\n",
       "      <th>mileage</th>\n",
       "      <th>fuel_type</th>\n",
       "      <th>brand</th>\n",
       "      <th>not_repaired</th>\n",
       "    </tr>\n",
       "  </thead>\n",
       "  <tbody>\n",
       "    <tr>\n",
       "      <th>21255</th>\n",
       "      <td>16550</td>\n",
       "      <td>bus</td>\n",
       "      <td>2013</td>\n",
       "      <td>auto</td>\n",
       "      <td>150</td>\n",
       "      <td>other</td>\n",
       "      <td>40000</td>\n",
       "      <td>gasoline</td>\n",
       "      <td>renault</td>\n",
       "      <td>no</td>\n",
       "    </tr>\n",
       "    <tr>\n",
       "      <th>265097</th>\n",
       "      <td>17990</td>\n",
       "      <td>bus</td>\n",
       "      <td>2015</td>\n",
       "      <td>manual</td>\n",
       "      <td>131</td>\n",
       "      <td>scenic</td>\n",
       "      <td>30000</td>\n",
       "      <td>gasoline</td>\n",
       "      <td>renault</td>\n",
       "      <td>no</td>\n",
       "    </tr>\n",
       "    <tr>\n",
       "      <th>102922</th>\n",
       "      <td>19450</td>\n",
       "      <td>wagon</td>\n",
       "      <td>2012</td>\n",
       "      <td>manual</td>\n",
       "      <td>114</td>\n",
       "      <td>other</td>\n",
       "      <td>60000</td>\n",
       "      <td>gasoline</td>\n",
       "      <td>renault</td>\n",
       "      <td>no</td>\n",
       "    </tr>\n",
       "    <tr>\n",
       "      <th>260172</th>\n",
       "      <td>14500</td>\n",
       "      <td>wagon</td>\n",
       "      <td>2012</td>\n",
       "      <td>manual</td>\n",
       "      <td>116</td>\n",
       "      <td>megane</td>\n",
       "      <td>50000</td>\n",
       "      <td>petrol</td>\n",
       "      <td>renault</td>\n",
       "      <td>no</td>\n",
       "    </tr>\n",
       "    <tr>\n",
       "      <th>236642</th>\n",
       "      <td>17590</td>\n",
       "      <td>coupe</td>\n",
       "      <td>2011</td>\n",
       "      <td>auto</td>\n",
       "      <td>235</td>\n",
       "      <td>laguna</td>\n",
       "      <td>80000</td>\n",
       "      <td>gasoline</td>\n",
       "      <td>renault</td>\n",
       "      <td>yes</td>\n",
       "    </tr>\n",
       "    <tr>\n",
       "      <th>84125</th>\n",
       "      <td>18900</td>\n",
       "      <td>wagon</td>\n",
       "      <td>2014</td>\n",
       "      <td>manual</td>\n",
       "      <td>173</td>\n",
       "      <td>laguna</td>\n",
       "      <td>40000</td>\n",
       "      <td>gasoline</td>\n",
       "      <td>renault</td>\n",
       "      <td>no</td>\n",
       "    </tr>\n",
       "    <tr>\n",
       "      <th>283167</th>\n",
       "      <td>16200</td>\n",
       "      <td>sedan</td>\n",
       "      <td>2016</td>\n",
       "      <td>auto</td>\n",
       "      <td>114</td>\n",
       "      <td>other</td>\n",
       "      <td>5000</td>\n",
       "      <td>petrol</td>\n",
       "      <td>renault</td>\n",
       "      <td>no</td>\n",
       "    </tr>\n",
       "    <tr>\n",
       "      <th>353373</th>\n",
       "      <td>17000</td>\n",
       "      <td>convertible</td>\n",
       "      <td>2012</td>\n",
       "      <td>manual</td>\n",
       "      <td>132</td>\n",
       "      <td>megane</td>\n",
       "      <td>40000</td>\n",
       "      <td>petrol</td>\n",
       "      <td>renault</td>\n",
       "      <td>no</td>\n",
       "    </tr>\n",
       "    <tr>\n",
       "      <th>37892</th>\n",
       "      <td>16500</td>\n",
       "      <td>bus</td>\n",
       "      <td>2011</td>\n",
       "      <td>manual</td>\n",
       "      <td>150</td>\n",
       "      <td>other</td>\n",
       "      <td>80000</td>\n",
       "      <td>gasoline</td>\n",
       "      <td>renault</td>\n",
       "      <td>no</td>\n",
       "    </tr>\n",
       "    <tr>\n",
       "      <th>236422</th>\n",
       "      <td>14900</td>\n",
       "      <td>coupe</td>\n",
       "      <td>2011</td>\n",
       "      <td>manual</td>\n",
       "      <td>250</td>\n",
       "      <td>megane</td>\n",
       "      <td>80000</td>\n",
       "      <td>petrol</td>\n",
       "      <td>renault</td>\n",
       "      <td>no</td>\n",
       "    </tr>\n",
       "  </tbody>\n",
       "</table>\n",
       "</div>"
      ],
      "text/plain": [
       "        price vehicle_type  registration_year gearbox  power   model  mileage  \\\n",
       "21255   16550          bus               2013    auto    150   other    40000   \n",
       "265097  17990          bus               2015  manual    131  scenic    30000   \n",
       "102922  19450        wagon               2012  manual    114   other    60000   \n",
       "260172  14500        wagon               2012  manual    116  megane    50000   \n",
       "236642  17590        coupe               2011    auto    235  laguna    80000   \n",
       "84125   18900        wagon               2014  manual    173  laguna    40000   \n",
       "283167  16200        sedan               2016    auto    114   other     5000   \n",
       "353373  17000  convertible               2012  manual    132  megane    40000   \n",
       "37892   16500          bus               2011  manual    150   other    80000   \n",
       "236422  14900        coupe               2011  manual    250  megane    80000   \n",
       "\n",
       "       fuel_type    brand not_repaired  \n",
       "21255   gasoline  renault           no  \n",
       "265097  gasoline  renault           no  \n",
       "102922  gasoline  renault           no  \n",
       "260172    petrol  renault           no  \n",
       "236642  gasoline  renault          yes  \n",
       "84125   gasoline  renault           no  \n",
       "283167    petrol  renault           no  \n",
       "353373    petrol  renault           no  \n",
       "37892   gasoline  renault           no  \n",
       "236422    petrol  renault           no  "
      ]
     },
     "execution_count": 23,
     "metadata": {},
     "output_type": "execute_result"
    }
   ],
   "source": [
    "out_renault = outliers[outliers['brand'] == 'renault']\n",
    "out_renault.sample(10)"
   ]
  },
  {
   "cell_type": "markdown",
   "metadata": {},
   "source": [
    "Analisando os outliers da marca Renault, vemos que muitas observações tem a informação 'Other' no modelo do veículo. Essas linhas serão todas removidas posteriormente quando analisarmos a coluna 'model', pois eliminaremos todas as informações inúteis desta coluna.  \n",
    "\n",
    "As linhas que apresentam os nomes dos modelos, trazem nomes de modelos realmente mais caros, não aparentando erros de informação."
   ]
  },
  {
   "cell_type": "code",
   "execution_count": 24,
   "metadata": {},
   "outputs": [
    {
     "data": {
      "text/html": [
       "<div>\n",
       "<style scoped>\n",
       "    .dataframe tbody tr th:only-of-type {\n",
       "        vertical-align: middle;\n",
       "    }\n",
       "\n",
       "    .dataframe tbody tr th {\n",
       "        vertical-align: top;\n",
       "    }\n",
       "\n",
       "    .dataframe thead th {\n",
       "        text-align: right;\n",
       "    }\n",
       "</style>\n",
       "<table border=\"1\" class=\"dataframe\">\n",
       "  <thead>\n",
       "    <tr style=\"text-align: right;\">\n",
       "      <th></th>\n",
       "      <th>price</th>\n",
       "      <th>vehicle_type</th>\n",
       "      <th>registration_year</th>\n",
       "      <th>gearbox</th>\n",
       "      <th>power</th>\n",
       "      <th>model</th>\n",
       "      <th>mileage</th>\n",
       "      <th>fuel_type</th>\n",
       "      <th>brand</th>\n",
       "      <th>not_repaired</th>\n",
       "    </tr>\n",
       "  </thead>\n",
       "  <tbody>\n",
       "    <tr>\n",
       "      <th>233290</th>\n",
       "      <td>17999</td>\n",
       "      <td>wagon</td>\n",
       "      <td>2013</td>\n",
       "      <td>auto</td>\n",
       "      <td>163</td>\n",
       "      <td>5_reihe</td>\n",
       "      <td>60000</td>\n",
       "      <td>gasoline</td>\n",
       "      <td>peugeot</td>\n",
       "      <td>no</td>\n",
       "    </tr>\n",
       "    <tr>\n",
       "      <th>227013</th>\n",
       "      <td>15990</td>\n",
       "      <td>wagon</td>\n",
       "      <td>2011</td>\n",
       "      <td>auto</td>\n",
       "      <td>163</td>\n",
       "      <td>5_reihe</td>\n",
       "      <td>90000</td>\n",
       "      <td>gasoline</td>\n",
       "      <td>peugeot</td>\n",
       "      <td>no</td>\n",
       "    </tr>\n",
       "    <tr>\n",
       "      <th>73472</th>\n",
       "      <td>15000</td>\n",
       "      <td>sedan</td>\n",
       "      <td>1963</td>\n",
       "      <td>manual</td>\n",
       "      <td>65</td>\n",
       "      <td>4_reihe</td>\n",
       "      <td>125000</td>\n",
       "      <td>petrol</td>\n",
       "      <td>peugeot</td>\n",
       "      <td>no</td>\n",
       "    </tr>\n",
       "    <tr>\n",
       "      <th>181368</th>\n",
       "      <td>16500</td>\n",
       "      <td>suv</td>\n",
       "      <td>2015</td>\n",
       "      <td>manual</td>\n",
       "      <td>92</td>\n",
       "      <td>NaN</td>\n",
       "      <td>10000</td>\n",
       "      <td>gasoline</td>\n",
       "      <td>peugeot</td>\n",
       "      <td>no</td>\n",
       "    </tr>\n",
       "    <tr>\n",
       "      <th>171238</th>\n",
       "      <td>15400</td>\n",
       "      <td>convertible</td>\n",
       "      <td>2013</td>\n",
       "      <td>manual</td>\n",
       "      <td>120</td>\n",
       "      <td>2_reihe</td>\n",
       "      <td>20000</td>\n",
       "      <td>petrol</td>\n",
       "      <td>peugeot</td>\n",
       "      <td>no</td>\n",
       "    </tr>\n",
       "    <tr>\n",
       "      <th>238578</th>\n",
       "      <td>16900</td>\n",
       "      <td>coupe</td>\n",
       "      <td>2011</td>\n",
       "      <td>auto</td>\n",
       "      <td>156</td>\n",
       "      <td>other</td>\n",
       "      <td>80000</td>\n",
       "      <td>petrol</td>\n",
       "      <td>peugeot</td>\n",
       "      <td>no</td>\n",
       "    </tr>\n",
       "    <tr>\n",
       "      <th>237212</th>\n",
       "      <td>14900</td>\n",
       "      <td>wagon</td>\n",
       "      <td>2012</td>\n",
       "      <td>auto</td>\n",
       "      <td>204</td>\n",
       "      <td>5_reihe</td>\n",
       "      <td>150000</td>\n",
       "      <td>gasoline</td>\n",
       "      <td>peugeot</td>\n",
       "      <td>no</td>\n",
       "    </tr>\n",
       "    <tr>\n",
       "      <th>116319</th>\n",
       "      <td>18900</td>\n",
       "      <td>sedan</td>\n",
       "      <td>2014</td>\n",
       "      <td>manual</td>\n",
       "      <td>156</td>\n",
       "      <td>3_reihe</td>\n",
       "      <td>30000</td>\n",
       "      <td>petrol</td>\n",
       "      <td>peugeot</td>\n",
       "      <td>NaN</td>\n",
       "    </tr>\n",
       "    <tr>\n",
       "      <th>352008</th>\n",
       "      <td>15500</td>\n",
       "      <td>convertible</td>\n",
       "      <td>2013</td>\n",
       "      <td>manual</td>\n",
       "      <td>120</td>\n",
       "      <td>2_reihe</td>\n",
       "      <td>10000</td>\n",
       "      <td>petrol</td>\n",
       "      <td>peugeot</td>\n",
       "      <td>no</td>\n",
       "    </tr>\n",
       "    <tr>\n",
       "      <th>339214</th>\n",
       "      <td>19500</td>\n",
       "      <td>suv</td>\n",
       "      <td>2014</td>\n",
       "      <td>auto</td>\n",
       "      <td>96</td>\n",
       "      <td>other</td>\n",
       "      <td>40000</td>\n",
       "      <td>gasoline</td>\n",
       "      <td>peugeot</td>\n",
       "      <td>no</td>\n",
       "    </tr>\n",
       "  </tbody>\n",
       "</table>\n",
       "</div>"
      ],
      "text/plain": [
       "        price vehicle_type  registration_year gearbox  power    model  \\\n",
       "233290  17999        wagon               2013    auto    163  5_reihe   \n",
       "227013  15990        wagon               2011    auto    163  5_reihe   \n",
       "73472   15000        sedan               1963  manual     65  4_reihe   \n",
       "181368  16500          suv               2015  manual     92      NaN   \n",
       "171238  15400  convertible               2013  manual    120  2_reihe   \n",
       "238578  16900        coupe               2011    auto    156    other   \n",
       "237212  14900        wagon               2012    auto    204  5_reihe   \n",
       "116319  18900        sedan               2014  manual    156  3_reihe   \n",
       "352008  15500  convertible               2013  manual    120  2_reihe   \n",
       "339214  19500          suv               2014    auto     96    other   \n",
       "\n",
       "        mileage fuel_type    brand not_repaired  \n",
       "233290    60000  gasoline  peugeot           no  \n",
       "227013    90000  gasoline  peugeot           no  \n",
       "73472    125000    petrol  peugeot           no  \n",
       "181368    10000  gasoline  peugeot           no  \n",
       "171238    20000    petrol  peugeot           no  \n",
       "238578    80000    petrol  peugeot           no  \n",
       "237212   150000  gasoline  peugeot           no  \n",
       "116319    30000    petrol  peugeot          NaN  \n",
       "352008    10000    petrol  peugeot           no  \n",
       "339214    40000  gasoline  peugeot           no  "
      ]
     },
     "execution_count": 24,
     "metadata": {},
     "output_type": "execute_result"
    }
   ],
   "source": [
    "out_peugeot = outliers[outliers['brand'] == 'peugeot']\n",
    "out_peugeot.sample(10)"
   ]
  },
  {
   "cell_type": "markdown",
   "metadata": {},
   "source": [
    "Analisando os carros da Peugeot, também não vemos nenhum padrão específico de erro em relação aos preços dos carros"
   ]
  },
  {
   "cell_type": "markdown",
   "metadata": {},
   "source": [
    "Após análise dos outliers, como não existem valores exageradamente discrepantes, não iremos eliminar as linhas com as informações de preço elevado, pois poderíamos introduzir um viés por desconsiderar carros de luxo, não conseguindo predizer os preços desse tipo de carros com o modelo.  \n",
    "\n",
    "Desta forma, iremos eliminar apenas as linhas que não contém preço ou que estejam com um preço muito baixo, abaixo de 500$, pois possivelmente esses preços estão lançados de forma errada."
   ]
  },
  {
   "cell_type": "code",
   "execution_count": 25,
   "metadata": {
    "scrolled": false
   },
   "outputs": [
    {
     "data": {
      "text/plain": [
       "(317640, 10)"
      ]
     },
     "execution_count": 25,
     "metadata": {},
     "output_type": "execute_result"
    }
   ],
   "source": [
    "# Vamos filtrar o dataframe para eliminarmos linhas que não contém o preço ou que estão com preço muito baixo, abaixo de $100\n",
    "df = df.query(\"price >= 500\")\n",
    "df.shape"
   ]
  },
  {
   "cell_type": "code",
   "execution_count": 26,
   "metadata": {
    "scrolled": false
   },
   "outputs": [
    {
     "data": {
      "image/png": "[encoded data removed]",
      "text/plain": [
       "<Figure size 1000x600 with 1 Axes>"
      ]
     },
     "metadata": {},
     "output_type": "display_data"
    }
   ],
   "source": [
    "plt.figure(figsize=(10, 6))\n",
    "sns.histplot(df['price'], bins=50, kde=True)\n",
    "plt.title('Histograma dos Preços dos Carros Após Filtragem')\n",
    "plt.xlabel('Preço')\n",
    "plt.ylabel('Frequência')\n",
    "plt.show()"
   ]
  },
  {
   "cell_type": "markdown",
   "metadata": {},
   "source": [
    "#### Coluna power"
   ]
  },
  {
   "cell_type": "markdown",
   "metadata": {},
   "source": [
    "Em breve pesquisa encontramos os carros com menores potência já fabricados e podemos observar que são raros os modelos abaixo de 30 hp. Considerando esses fatores, filtraremos o dataframe eliminando essas observações que nos trazem um valor menor do que 30.\n",
    "\n",
    "**Carros de menor potência:**  \n",
    "\n",
    "* Citroën 2CV (1948-1990): 9 hp\n",
    "* Fiat 500 (1957-1975): 13 hp\n",
    "* BMW Isetta (1955-1962): 12 hp\n",
    "* Auto Union DKW Junior (1950-1958): 12 hp\n",
    "* Goggomobil T300 (1959-1969): 13 hp\n",
    "* Suzuki Alto (1979-presente): 31 hp (modelos iniciais)\n",
    "* Smart Fortwo (1998-presente): 45 hp (modelos iniciais)  \n",
    "\n",
    "\n",
    "Eliminaremos também, modelos que estejam com uma potência muito acima da normal. Apenas modelos superesportivos de marcas consagradas ultrapassam os 600hp. Por este motivo, vamos desconsiderar modelos acima de 600 hp.\n",
    "\n",
    "**Carros esportivos com maior potência:**\n",
    "\n",
    "* Porsche 911 Turbo S (2023): 650 cv\n",
    "* Ferrari 812 Superfast (2023): 789 cv\n",
    "* Lamborghini Huracán LP610-4 (2023): 610 cv\n",
    "* Bugatti Chiron Super Sport 300+ (2019): 1.600 cv\n",
    "* McLaren 720S (2019): 720 cv"
   ]
  },
  {
   "cell_type": "code",
   "execution_count": 27,
   "metadata": {},
   "outputs": [
    {
     "data": {
      "text/plain": [
       "power\n",
       "0        28470\n",
       "75       20755\n",
       "150      13834\n",
       "60       12665\n",
       "140      12577\n",
       "         ...  \n",
       "5867         1\n",
       "2172         1\n",
       "17410        1\n",
       "584          1\n",
       "1548         1\n",
       "Name: count, Length: 666, dtype: int64"
      ]
     },
     "execution_count": 27,
     "metadata": {},
     "output_type": "execute_result"
    }
   ],
   "source": [
    "df['power'].value_counts()"
   ]
  },
  {
   "cell_type": "code",
   "execution_count": 28,
   "metadata": {},
   "outputs": [
    {
     "data": {
      "text/plain": [
       "array([    0,     1,     2,     3,     4,     5,     6,     7,     8,\n",
       "           9,    10,    11,    12,    13,    14,    15,    16,    17,\n",
       "          18,    19,    20,    21,    22,    23,    24,    25,    26,\n",
       "          27,    28,    29,    30,    31,    33,    34,    35,    36,\n",
       "          37,    38,    39,    40,    41,    42,    43,    44,    45,\n",
       "          46,    47,    48,    49,    50,    51,    52,    53,    54,\n",
       "          55,    56,    57,    58,    59,    60,    61,    62,    63,\n",
       "          64,    65,    66,    67,    68,    69,    70,    71,    72,\n",
       "          73,    74,    75,    76,    77,    78,    79,    80,    81,\n",
       "          82,    83,    84,    85,    86,    87,    88,    89,    90,\n",
       "          91,    92,    93,    94,    95,    96,    97,    98,    99,\n",
       "         100,   101,   102,   103,   104,   105,   106,   107,   108,\n",
       "         109,   110,   111,   112,   113,   114,   115,   116,   117,\n",
       "         118,   119,   120,   121,   122,   123,   124,   125,   126,\n",
       "         127,   128,   129,   130,   131,   132,   133,   134,   135,\n",
       "         136,   137,   138,   139,   140,   141,   142,   143,   144,\n",
       "         145,   146,   147,   148,   149,   150,   151,   152,   153,\n",
       "         154,   155,   156,   157,   158,   159,   160,   161,   162,\n",
       "         163,   164,   165,   166,   167,   168,   169,   170,   171,\n",
       "         172,   173,   174,   175,   176,   177,   178,   179,   180,\n",
       "         181,   182,   183,   184,   185,   186,   187,   188,   189,\n",
       "         190,   191,   192,   193,   194,   195,   196,   197,   198,\n",
       "         199,   200,   201,   202,   203,   204,   205,   206,   207,\n",
       "         208,   209,   210,   211,   212,   213,   214,   215,   216,\n",
       "         217,   218,   219,   220,   221,   222,   223,   224,   225,\n",
       "         226,   227,   228,   229,   230,   231,   232,   233,   234,\n",
       "         235,   236,   237,   238,   239,   240,   241,   242,   243,\n",
       "         244,   245,   246,   247,   248,   249,   250,   251,   252,\n",
       "         253,   254,   255,   256,   257,   258,   259,   260,   261,\n",
       "         262,   264,   265,   266,   267,   268,   269,   270,   271,\n",
       "         272,   273,   274,   275,   276,   277,   278,   279,   280,\n",
       "         281,   282,   283,   284,   285,   286,   287,   288,   289,\n",
       "         290,   292,   293,   294,   295,   296,   297,   298,   299,\n",
       "         300,   301,   303,   304,   305,   306,   307,   308,   309,\n",
       "         310,   311,   313,   314,   315,   316,   317,   318,   320,\n",
       "         321,   322,   323,   324,   325,   326,   327,   328,   329,\n",
       "         330,   331,   332,   333,   334,   335,   336,   337,   338,\n",
       "         339,   340,   341,   343,   344,   345,   346,   347,   348,\n",
       "         349,   350,   351,   352,   353,   354,   355,   356,   357,\n",
       "         358,   360,   361,   362,   363,   364,   365,   367,   368,\n",
       "         370,   371,   374,   375,   376,   377,   379,   380,   381,\n",
       "         382,   385,   386,   387,   388,   390,   392,   394,   396,\n",
       "         398,   399,   400,   401,   402,   405,   408,   409,   411,\n",
       "         416,   420,   421,   425,   426,   428,   430,   431,   435,\n",
       "         440,   442,   445,   449,   450,   454,   457,   460,   475,\n",
       "         476,   487,   489,   490,   500,   504,   505,   507,   508,\n",
       "         510,   514,   515,   517,   519,   520,   521,   525,   540,\n",
       "         544,   550,   551,   560,   572,   579,   584,   585,   599,\n",
       "         600,   601,   602,   603,   604,   606,   607,   612,   620,\n",
       "         640,   645,   650,   651,   671,   678,   682,   685,   696,\n",
       "         700,   702,   703,   732,   743,   750,   751,   771,   776,\n",
       "         800,   805,   808,   850,   851,   871,   900,   901,   903,\n",
       "         907,   909,   923,   950,   952,   953,   999,  1000,  1001,\n",
       "        1003,  1005,  1011,  1012,  1016,  1017,  1021,  1024,  1054,\n",
       "        1055,  1056,  1062,  1079,  1082,  1090,  1100,  1105,  1115,\n",
       "        1149,  1151,  1160,  1162,  1164,  1199,  1202,  1221,  1223,\n",
       "        1240,  1250,  1252,  1256,  1275,  1288,  1299,  1300,  1317,\n",
       "        1339,  1351,  1360,  1362,  1363,  1367,  1390,  1394,  1398,\n",
       "        1399,  1400,  1401,  1403,  1405,  1416,  1432,  1433,  1436,\n",
       "        1500,  1501,  1502,  1503,  1506,  1521,  1548,  1595,  1596,\n",
       "        1597,  1598,  1600,  1631,  1653,  1659,  1689,  1700,  1701,\n",
       "        1704,  1707,  1753,  1771,  1779,  1780,  1781,  1783,  1793,\n",
       "        1796,  1800,  1801,  1870,  1895,  1896,  1900,  1920,  1922,\n",
       "        1933,  1937,  1968,  1986,  1992,  1993,  1995,  1998,  2000,\n",
       "        2004,  2005,  2007,  2009,  2016,  2017,  2018,  2172,  2331,\n",
       "        2340,  2389,  2402,  2461,  2598,  2729,  2789,  2792,  2799,\n",
       "        3199,  3454,  3500,  4400,  4700,  5411,  5420,  5809,  5867,\n",
       "        6006,  6010,  6011,  6012,  6018,  6045,  6062,  6226,  6512,\n",
       "        6920,  7508,  7511,  7512,  7515,  7518,  7529,  7544,  8259,\n",
       "        8404,  8500,  9000,  9007,  9010,  9011,  9012,  9013, 10000,\n",
       "       10110, 10218, 10311, 10520, 10522, 10710, 10910, 10912, 11011,\n",
       "       11025, 11509, 11530, 11635, 12012, 12510, 12512, 13616, 13636,\n",
       "       14009, 15001, 15017, 15020, 15033, 16011, 16051, 16311, 16312,\n",
       "       17011, 17019, 17410, 17700, 17932, 19208, 19211, 19312, 20000],\n",
       "      dtype=int64)"
      ]
     },
     "execution_count": 28,
     "metadata": {},
     "output_type": "execute_result"
    }
   ],
   "source": [
    "df['power'].sort_values().unique()"
   ]
  },
  {
   "cell_type": "code",
   "execution_count": 29,
   "metadata": {},
   "outputs": [
    {
     "data": {
      "text/plain": [
       "(308, 10)"
      ]
     },
     "execution_count": 29,
     "metadata": {},
     "output_type": "execute_result"
    }
   ],
   "source": [
    "df_power_high = df.query(\"power > 600\")\n",
    "\n",
    "df_power_high.shape"
   ]
  },
  {
   "cell_type": "code",
   "execution_count": 30,
   "metadata": {},
   "outputs": [
    {
     "data": {
      "text/plain": [
       "(29204, 10)"
      ]
     },
     "execution_count": 30,
     "metadata": {},
     "output_type": "execute_result"
    }
   ],
   "source": [
    "df_power_low = df.query(\"power < 30\")\n",
    "\n",
    "df_power_low.shape"
   ]
  },
  {
   "cell_type": "code",
   "execution_count": 31,
   "metadata": {},
   "outputs": [
    {
     "data": {
      "text/plain": [
       "(288128, 10)"
      ]
     },
     "execution_count": 31,
     "metadata": {},
     "output_type": "execute_result"
    }
   ],
   "source": [
    "df = df.query(\"power >= 30 and power <=600\")\n",
    "df.shape"
   ]
  },
  {
   "cell_type": "markdown",
   "metadata": {},
   "source": [
    "### Análise individual das colunas categóricas"
   ]
  },
  {
   "cell_type": "code",
   "execution_count": 32,
   "metadata": {},
   "outputs": [
    {
     "data": {
      "text/html": [
       "<div>\n",
       "<style scoped>\n",
       "    .dataframe tbody tr th:only-of-type {\n",
       "        vertical-align: middle;\n",
       "    }\n",
       "\n",
       "    .dataframe tbody tr th {\n",
       "        vertical-align: top;\n",
       "    }\n",
       "\n",
       "    .dataframe thead th {\n",
       "        text-align: right;\n",
       "    }\n",
       "</style>\n",
       "<table border=\"1\" class=\"dataframe\">\n",
       "  <thead>\n",
       "    <tr style=\"text-align: right;\">\n",
       "      <th></th>\n",
       "      <th>price</th>\n",
       "      <th>vehicle_type</th>\n",
       "      <th>registration_year</th>\n",
       "      <th>gearbox</th>\n",
       "      <th>power</th>\n",
       "      <th>model</th>\n",
       "      <th>mileage</th>\n",
       "      <th>fuel_type</th>\n",
       "      <th>brand</th>\n",
       "      <th>not_repaired</th>\n",
       "    </tr>\n",
       "  </thead>\n",
       "  <tbody>\n",
       "    <tr>\n",
       "      <th>1</th>\n",
       "      <td>18300</td>\n",
       "      <td>coupe</td>\n",
       "      <td>2011</td>\n",
       "      <td>manual</td>\n",
       "      <td>190</td>\n",
       "      <td>NaN</td>\n",
       "      <td>125000</td>\n",
       "      <td>gasoline</td>\n",
       "      <td>audi</td>\n",
       "      <td>yes</td>\n",
       "    </tr>\n",
       "    <tr>\n",
       "      <th>2</th>\n",
       "      <td>9800</td>\n",
       "      <td>suv</td>\n",
       "      <td>2004</td>\n",
       "      <td>auto</td>\n",
       "      <td>163</td>\n",
       "      <td>grand</td>\n",
       "      <td>125000</td>\n",
       "      <td>gasoline</td>\n",
       "      <td>jeep</td>\n",
       "      <td>NaN</td>\n",
       "    </tr>\n",
       "    <tr>\n",
       "      <th>3</th>\n",
       "      <td>1500</td>\n",
       "      <td>small</td>\n",
       "      <td>2001</td>\n",
       "      <td>manual</td>\n",
       "      <td>75</td>\n",
       "      <td>golf</td>\n",
       "      <td>150000</td>\n",
       "      <td>petrol</td>\n",
       "      <td>volkswagen</td>\n",
       "      <td>no</td>\n",
       "    </tr>\n",
       "  </tbody>\n",
       "</table>\n",
       "</div>"
      ],
      "text/plain": [
       "   price vehicle_type  registration_year gearbox  power  model  mileage  \\\n",
       "1  18300        coupe               2011  manual    190    NaN   125000   \n",
       "2   9800          suv               2004    auto    163  grand   125000   \n",
       "3   1500        small               2001  manual     75   golf   150000   \n",
       "\n",
       "  fuel_type       brand not_repaired  \n",
       "1  gasoline        audi          yes  \n",
       "2  gasoline        jeep          NaN  \n",
       "3    petrol  volkswagen           no  "
      ]
     },
     "execution_count": 32,
     "metadata": {},
     "output_type": "execute_result"
    }
   ],
   "source": [
    "df.head(3)"
   ]
  },
  {
   "cell_type": "markdown",
   "metadata": {},
   "source": [
    "#### coluna model"
   ]
  },
  {
   "cell_type": "markdown",
   "metadata": {},
   "source": [
    "Não nos interessa avaliar observações que não contenham o modelo do automóvel, pois esta informação é crucial para quem faz buscas, assim como também é crucial para determinar o preço do veículo. Deste modo, iremos excluir as linhas com dados ausentes nesta coluna."
   ]
  },
  {
   "cell_type": "code",
   "execution_count": 33,
   "metadata": {},
   "outputs": [
    {
     "data": {
      "text/plain": [
       "0"
      ]
     },
     "execution_count": 33,
     "metadata": {},
     "output_type": "execute_result"
    }
   ],
   "source": [
    "df = df.dropna(subset=['model'])\n",
    "df['model'].isna().sum()"
   ]
  },
  {
   "cell_type": "code",
   "execution_count": 34,
   "metadata": {},
   "outputs": [
    {
     "data": {
      "text/plain": [
       "(277462, 10)"
      ]
     },
     "execution_count": 34,
     "metadata": {},
     "output_type": "execute_result"
    }
   ],
   "source": [
    "df.shape"
   ]
  },
  {
   "cell_type": "code",
   "execution_count": 35,
   "metadata": {},
   "outputs": [
    {
     "data": {
      "text/plain": [
       "array(['100', '145', '147', '156', '159', '1_reihe', '1er', '200',\n",
       "       '2_reihe', '300c', '3_reihe', '3er', '4_reihe', '500', '5_reihe',\n",
       "       '5er', '601', '6_reihe', '6er', '7er', '80', '850', '90', '900',\n",
       "       '9000', '911', 'a1', 'a2', 'a3', 'a4', 'a5', 'a6', 'a8',\n",
       "       'a_klasse', 'accord', 'agila', 'alhambra', 'almera', 'altea',\n",
       "       'amarok', 'antara', 'arosa', 'astra', 'auris', 'avensis', 'aveo',\n",
       "       'aygo', 'b_klasse', 'b_max', 'beetle', 'berlingo', 'bora',\n",
       "       'boxster', 'bravo', 'c1', 'c2', 'c3', 'c4', 'c5', 'c_klasse',\n",
       "       'c_max', 'c_reihe', 'caddy', 'calibra', 'captiva', 'carisma',\n",
       "       'carnival', 'cayenne', 'cc', 'ceed', 'charade', 'cherokee',\n",
       "       'citigo', 'civic', 'cl', 'clio', 'clk', 'clubman', 'colt', 'combo',\n",
       "       'cooper', 'cordoba', 'corolla', 'corsa', 'cr_reihe', 'croma',\n",
       "       'crossfire', 'cuore', 'cx_reihe', 'defender', 'delta', 'discovery',\n",
       "       'doblo', 'ducato', 'duster', 'e_klasse', 'elefantino', 'eos',\n",
       "       'escort', 'espace', 'exeo', 'fabia', 'fiesta', 'focus', 'forester',\n",
       "       'forfour', 'fortwo', 'fox', 'freelander', 'fusion', 'g_klasse',\n",
       "       'galant', 'galaxy', 'getz', 'gl', 'glk', 'golf', 'grand', 'i3',\n",
       "       'i_reihe', 'ibiza', 'impreza', 'insignia', 'jazz', 'jetta',\n",
       "       'jimny', 'juke', 'justy', 'ka', 'kadett', 'kaefer', 'kalina',\n",
       "       'kalos', 'kangoo', 'kappa', 'kuga', 'laguna', 'lancer', 'lanos',\n",
       "       'legacy', 'leon', 'lodgy', 'logan', 'lupo', 'lybra', 'm_klasse',\n",
       "       'm_reihe', 'materia', 'matiz', 'megane', 'meriva', 'micra', 'mii',\n",
       "       'modus', 'mondeo', 'move', 'musa', 'mustang', 'mx_reihe', 'navara',\n",
       "       'niva', 'note', 'nubira', 'octavia', 'omega', 'one', 'other',\n",
       "       'outlander', 'pajero', 'panda', 'passat', 'phaeton', 'picanto',\n",
       "       'polo', 'primera', 'ptcruiser', 'punto', 'q3', 'q5', 'q7',\n",
       "       'qashqai', 'r19', 'range_rover', 'range_rover_evoque',\n",
       "       'range_rover_sport', 'rangerover', 'rav', 'rio', 'roadster',\n",
       "       'roomster', 'rx_reihe', 's60', 's_klasse', 's_max', 's_type',\n",
       "       'samara', 'sandero', 'santa', 'scenic', 'scirocco', 'seicento',\n",
       "       'serie_2', 'serie_3', 'sharan', 'signum', 'sirion', 'sl', 'slk',\n",
       "       'sorento', 'spark', 'spider', 'sportage', 'sprinter', 'stilo',\n",
       "       'superb', 'swift', 'terios', 'tigra', 'tiguan', 'toledo',\n",
       "       'touareg', 'touran', 'transit', 'transporter', 'tt', 'tucson',\n",
       "       'twingo', 'up', 'v40', 'v50', 'v60', 'v70', 'v_klasse', 'vectra',\n",
       "       'verso', 'viano', 'vito', 'vivaro', 'voyager', 'wrangler',\n",
       "       'x_reihe', 'x_trail', 'x_type', 'xc_reihe', 'yaris', 'yeti',\n",
       "       'ypsilon', 'z_reihe', 'zafira'], dtype=object)"
      ]
     },
     "execution_count": 35,
     "metadata": {},
     "output_type": "execute_result"
    }
   ],
   "source": [
    "df['model'].sort_values().unique()"
   ]
  },
  {
   "cell_type": "code",
   "execution_count": 36,
   "metadata": {},
   "outputs": [
    {
     "data": {
      "text/plain": [
       "249"
      ]
     },
     "execution_count": 36,
     "metadata": {},
     "output_type": "execute_result"
    }
   ],
   "source": [
    "df['model'].nunique()"
   ]
  },
  {
   "cell_type": "code",
   "execution_count": 37,
   "metadata": {},
   "outputs": [
    {
     "data": {
      "text/plain": [
       "model\n",
       "golf                  24364\n",
       "other                 19385\n",
       "3er                   17233\n",
       "polo                   9661\n",
       "corsa                  8853\n",
       "                      ...  \n",
       "i3                        4\n",
       "serie_3                   3\n",
       "samara                    3\n",
       "rangerover                3\n",
       "range_rover_evoque        2\n",
       "Name: count, Length: 249, dtype: int64"
      ]
     },
     "execution_count": 37,
     "metadata": {},
     "output_type": "execute_result"
    }
   ],
   "source": [
    "df['model'].value_counts()"
   ]
  },
  {
   "cell_type": "markdown",
   "metadata": {},
   "source": [
    "Assim como vamos eliminar as linhas que contém informação ausente em relação ao modelo, também iremos eliminar aquelas que estejam preenchidas com 'other', pois esta informação também não nos interessa."
   ]
  },
  {
   "cell_type": "code",
   "execution_count": 38,
   "metadata": {},
   "outputs": [
    {
     "data": {
      "text/plain": [
       "(258077, 10)"
      ]
     },
     "execution_count": 38,
     "metadata": {},
     "output_type": "execute_result"
    }
   ],
   "source": [
    "df = df[df['model']!= 'other']\n",
    "\n",
    "df.shape"
   ]
  },
  {
   "cell_type": "markdown",
   "metadata": {},
   "source": [
    "#### coluna vehicle_type"
   ]
  },
  {
   "cell_type": "code",
   "execution_count": 39,
   "metadata": {},
   "outputs": [
    {
     "name": "stdout",
     "output_type": "stream",
     "text": [
      "vehicle_type\n",
      "sedan          72983\n",
      "small          57778\n",
      "wagon          53482\n",
      "bus            21476\n",
      "convertible    16530\n",
      "coupe          10874\n",
      "suv             8281\n",
      "other           1542\n",
      "Name: count, dtype: int64\n",
      "\n",
      "ausentes: 15131\n"
     ]
    }
   ],
   "source": [
    "print(df['vehicle_type'].value_counts())\n",
    "print()\n",
    "print('ausentes:', df['vehicle_type'].isna().sum())"
   ]
  },
  {
   "cell_type": "markdown",
   "metadata": {},
   "source": [
    "Temos uma quantidade muito grande de linhas com esta informação ausente. Essa informação de 'vehicle_type' pode ser inferida da coluna 'model', sendo que podemos verificar o modelo do carro e copiar o 'vehicle_type' que mais se repete para ele no DF. \n",
    "\n",
    "Poderíamos fazer essa tarefa com o algorítmo kNN, porém, como são mais de 30 mil linhas com informação ausente, isso levaria um tempo muito grande."
   ]
  },
  {
   "cell_type": "code",
   "execution_count": 40,
   "metadata": {},
   "outputs": [
    {
     "data": {
      "text/html": [
       "<div>\n",
       "<style scoped>\n",
       "    .dataframe tbody tr th:only-of-type {\n",
       "        vertical-align: middle;\n",
       "    }\n",
       "\n",
       "    .dataframe tbody tr th {\n",
       "        vertical-align: top;\n",
       "    }\n",
       "\n",
       "    .dataframe thead th {\n",
       "        text-align: right;\n",
       "    }\n",
       "</style>\n",
       "<table border=\"1\" class=\"dataframe\">\n",
       "  <thead>\n",
       "    <tr style=\"text-align: right;\">\n",
       "      <th></th>\n",
       "      <th>price</th>\n",
       "      <th>vehicle_type</th>\n",
       "      <th>registration_year</th>\n",
       "      <th>gearbox</th>\n",
       "      <th>power</th>\n",
       "      <th>model</th>\n",
       "      <th>mileage</th>\n",
       "      <th>fuel_type</th>\n",
       "      <th>brand</th>\n",
       "      <th>not_repaired</th>\n",
       "    </tr>\n",
       "  </thead>\n",
       "  <tbody>\n",
       "    <tr>\n",
       "      <th>28499</th>\n",
       "      <td>10500</td>\n",
       "      <td>wagon</td>\n",
       "      <td>2010</td>\n",
       "      <td>manual</td>\n",
       "      <td>136</td>\n",
       "      <td>focus</td>\n",
       "      <td>125000</td>\n",
       "      <td>gasoline</td>\n",
       "      <td>ford</td>\n",
       "      <td>no</td>\n",
       "    </tr>\n",
       "    <tr>\n",
       "      <th>168954</th>\n",
       "      <td>8500</td>\n",
       "      <td>sedan</td>\n",
       "      <td>2007</td>\n",
       "      <td>auto</td>\n",
       "      <td>172</td>\n",
       "      <td>a6</td>\n",
       "      <td>150000</td>\n",
       "      <td>gasoline</td>\n",
       "      <td>audi</td>\n",
       "      <td>no</td>\n",
       "    </tr>\n",
       "    <tr>\n",
       "      <th>339759</th>\n",
       "      <td>3950</td>\n",
       "      <td>bus</td>\n",
       "      <td>2009</td>\n",
       "      <td>manual</td>\n",
       "      <td>125</td>\n",
       "      <td>modus</td>\n",
       "      <td>150000</td>\n",
       "      <td>petrol</td>\n",
       "      <td>renault</td>\n",
       "      <td>no</td>\n",
       "    </tr>\n",
       "    <tr>\n",
       "      <th>28681</th>\n",
       "      <td>10990</td>\n",
       "      <td>sedan</td>\n",
       "      <td>2010</td>\n",
       "      <td>manual</td>\n",
       "      <td>122</td>\n",
       "      <td>1er</td>\n",
       "      <td>80000</td>\n",
       "      <td>petrol</td>\n",
       "      <td>bmw</td>\n",
       "      <td>no</td>\n",
       "    </tr>\n",
       "    <tr>\n",
       "      <th>102815</th>\n",
       "      <td>18500</td>\n",
       "      <td>coupe</td>\n",
       "      <td>2008</td>\n",
       "      <td>NaN</td>\n",
       "      <td>250</td>\n",
       "      <td>tt</td>\n",
       "      <td>150000</td>\n",
       "      <td>petrol</td>\n",
       "      <td>audi</td>\n",
       "      <td>no</td>\n",
       "    </tr>\n",
       "    <tr>\n",
       "      <th>318596</th>\n",
       "      <td>7850</td>\n",
       "      <td>convertible</td>\n",
       "      <td>2011</td>\n",
       "      <td>auto</td>\n",
       "      <td>71</td>\n",
       "      <td>fortwo</td>\n",
       "      <td>50000</td>\n",
       "      <td>petrol</td>\n",
       "      <td>smart</td>\n",
       "      <td>no</td>\n",
       "    </tr>\n",
       "    <tr>\n",
       "      <th>245945</th>\n",
       "      <td>4999</td>\n",
       "      <td>small</td>\n",
       "      <td>2008</td>\n",
       "      <td>manual</td>\n",
       "      <td>84</td>\n",
       "      <td>fortwo</td>\n",
       "      <td>100000</td>\n",
       "      <td>petrol</td>\n",
       "      <td>smart</td>\n",
       "      <td>no</td>\n",
       "    </tr>\n",
       "  </tbody>\n",
       "</table>\n",
       "</div>"
      ],
      "text/plain": [
       "        price vehicle_type  registration_year gearbox  power   model  mileage  \\\n",
       "28499   10500        wagon               2010  manual    136   focus   125000   \n",
       "168954   8500        sedan               2007    auto    172      a6   150000   \n",
       "339759   3950          bus               2009  manual    125   modus   150000   \n",
       "28681   10990        sedan               2010  manual    122     1er    80000   \n",
       "102815  18500        coupe               2008     NaN    250      tt   150000   \n",
       "318596   7850  convertible               2011    auto     71  fortwo    50000   \n",
       "245945   4999        small               2008  manual     84  fortwo   100000   \n",
       "\n",
       "       fuel_type    brand not_repaired  \n",
       "28499   gasoline     ford           no  \n",
       "168954  gasoline     audi           no  \n",
       "339759    petrol  renault           no  \n",
       "28681     petrol      bmw           no  \n",
       "102815    petrol     audi           no  \n",
       "318596    petrol    smart           no  \n",
       "245945    petrol    smart           no  "
      ]
     },
     "execution_count": 40,
     "metadata": {},
     "output_type": "execute_result"
    }
   ],
   "source": [
    "# Criar um dicionário para mapear modelos ao tipo de veículo mais comum\n",
    "model_to_vehicle_type = df.dropna(subset=['vehicle_type']).groupby('model')['vehicle_type'].agg(lambda x: x.value_counts().index[0]).to_dict()\n",
    "\n",
    "# Função para preencher os valores ausentes de 'vehicle_type'\n",
    "def fill_vehicle_type(row):\n",
    "    if pd.isna(row['vehicle_type']):\n",
    "        return model_to_vehicle_type.get(row['model'], row['vehicle_type'])\n",
    "    return row['vehicle_type']\n",
    "\n",
    "# Aplicar a função ao DataFrame\n",
    "df['vehicle_type'] = df.apply(fill_vehicle_type, axis=1)\n",
    "\n",
    "df.sample(7)"
   ]
  },
  {
   "cell_type": "code",
   "execution_count": 41,
   "metadata": {},
   "outputs": [
    {
     "data": {
      "text/plain": [
       "0"
      ]
     },
     "execution_count": 41,
     "metadata": {},
     "output_type": "execute_result"
    }
   ],
   "source": [
    "df['vehicle_type'].isna().sum()"
   ]
  },
  {
   "cell_type": "code",
   "execution_count": 42,
   "metadata": {},
   "outputs": [
    {
     "data": {
      "text/plain": [
       "(256533, 10)"
      ]
     },
     "execution_count": 42,
     "metadata": {},
     "output_type": "execute_result"
    }
   ],
   "source": [
    "df = df[df['vehicle_type'] != 'other']\n",
    "df.shape"
   ]
  },
  {
   "cell_type": "markdown",
   "metadata": {},
   "source": [
    "#### coluna fuel_type"
   ]
  },
  {
   "cell_type": "code",
   "execution_count": 43,
   "metadata": {},
   "outputs": [
    {
     "name": "stdout",
     "output_type": "stream",
     "text": [
      "fuel_type\n",
      "petrol      158414\n",
      "gasoline     80809\n",
      "lpg           3842\n",
      "cng            429\n",
      "hybrid         117\n",
      "other           30\n",
      "electric        22\n",
      "Name: count, dtype: int64\n",
      "\n",
      "ausentes: 12870\n"
     ]
    }
   ],
   "source": [
    "print(df['fuel_type'].value_counts())\n",
    "print()\n",
    "print('ausentes:', df['fuel_type'].isna().sum())"
   ]
  },
  {
   "cell_type": "code",
   "execution_count": 44,
   "metadata": {},
   "outputs": [],
   "source": [
    "df = df[df['fuel_type'] != 'other']"
   ]
  },
  {
   "cell_type": "markdown",
   "metadata": {},
   "source": [
    "#### coluna gearbox"
   ]
  },
  {
   "cell_type": "code",
   "execution_count": 45,
   "metadata": {},
   "outputs": [
    {
     "name": "stdout",
     "output_type": "stream",
     "text": [
      "gearbox\n",
      "manual    200252\n",
      "auto       52115\n",
      "Name: count, dtype: int64\n",
      "\n",
      "ausentes: 4136\n"
     ]
    }
   ],
   "source": [
    "print(df['gearbox'].value_counts())\n",
    "print()\n",
    "print('ausentes:', df['gearbox'].isna().sum())"
   ]
  },
  {
   "cell_type": "markdown",
   "metadata": {},
   "source": [
    "#### coluna not_repaired"
   ]
  },
  {
   "cell_type": "code",
   "execution_count": 46,
   "metadata": {},
   "outputs": [
    {
     "name": "stdout",
     "output_type": "stream",
     "text": [
      "not_repaired\n",
      "no     201816\n",
      "yes     20373\n",
      "Name: count, dtype: int64\n",
      "\n",
      "ausentes: 34314\n"
     ]
    }
   ],
   "source": [
    "print(df['not_repaired'].value_counts())\n",
    "print()\n",
    "print('ausentes:', df['not_repaired'].isna().sum())"
   ]
  },
  {
   "cell_type": "markdown",
   "metadata": {},
   "source": [
    "Para as colunas 'fuel_type', 'gearbox' e 'not_repaired' não temos uma forma de inferir a informação exata e poderíamos inserir informações erradas. Deste modo, como temos muitas linhas, iremos removê-las."
   ]
  },
  {
   "cell_type": "code",
   "execution_count": 47,
   "metadata": {},
   "outputs": [
    {
     "data": {
      "text/plain": [
       "(211817, 10)"
      ]
     },
     "execution_count": 47,
     "metadata": {},
     "output_type": "execute_result"
    }
   ],
   "source": [
    "df = df.dropna(subset=['fuel_type', 'gearbox', 'not_repaired'])\n",
    "\n",
    "df.shape"
   ]
  },
  {
   "cell_type": "code",
   "execution_count": 48,
   "metadata": {},
   "outputs": [
    {
     "name": "stdout",
     "output_type": "stream",
     "text": [
      "price                0\n",
      "vehicle_type         0\n",
      "registration_year    0\n",
      "gearbox              0\n",
      "power                0\n",
      "model                0\n",
      "mileage              0\n",
      "fuel_type            0\n",
      "brand                0\n",
      "not_repaired         0\n",
      "dtype: int64\n"
     ]
    }
   ],
   "source": [
    "print(df.isna().sum())"
   ]
  },
  {
   "cell_type": "markdown",
   "metadata": {},
   "source": [
    "### Data Frame após pré-processamento"
   ]
  },
  {
   "cell_type": "markdown",
   "metadata": {},
   "source": [
    "Agora renomeamos o DataFrame após finalizar todos os ajustes"
   ]
  },
  {
   "cell_type": "code",
   "execution_count": 49,
   "metadata": {},
   "outputs": [],
   "source": [
    "df_clean = df"
   ]
  },
  {
   "cell_type": "code",
   "execution_count": 50,
   "metadata": {},
   "outputs": [
    {
     "data": {
      "text/html": [
       "<div>\n",
       "<style scoped>\n",
       "    .dataframe tbody tr th:only-of-type {\n",
       "        vertical-align: middle;\n",
       "    }\n",
       "\n",
       "    .dataframe tbody tr th {\n",
       "        vertical-align: top;\n",
       "    }\n",
       "\n",
       "    .dataframe thead th {\n",
       "        text-align: right;\n",
       "    }\n",
       "</style>\n",
       "<table border=\"1\" class=\"dataframe\">\n",
       "  <thead>\n",
       "    <tr style=\"text-align: right;\">\n",
       "      <th></th>\n",
       "      <th>price</th>\n",
       "      <th>vehicle_type</th>\n",
       "      <th>registration_year</th>\n",
       "      <th>gearbox</th>\n",
       "      <th>power</th>\n",
       "      <th>model</th>\n",
       "      <th>mileage</th>\n",
       "      <th>fuel_type</th>\n",
       "      <th>brand</th>\n",
       "      <th>not_repaired</th>\n",
       "    </tr>\n",
       "  </thead>\n",
       "  <tbody>\n",
       "    <tr>\n",
       "      <th>155637</th>\n",
       "      <td>10850</td>\n",
       "      <td>wagon</td>\n",
       "      <td>2008</td>\n",
       "      <td>manual</td>\n",
       "      <td>170</td>\n",
       "      <td>c_klasse</td>\n",
       "      <td>150000</td>\n",
       "      <td>gasoline</td>\n",
       "      <td>mercedes_benz</td>\n",
       "      <td>no</td>\n",
       "    </tr>\n",
       "    <tr>\n",
       "      <th>267103</th>\n",
       "      <td>950</td>\n",
       "      <td>wagon</td>\n",
       "      <td>2000</td>\n",
       "      <td>auto</td>\n",
       "      <td>131</td>\n",
       "      <td>omega</td>\n",
       "      <td>150000</td>\n",
       "      <td>gasoline</td>\n",
       "      <td>opel</td>\n",
       "      <td>no</td>\n",
       "    </tr>\n",
       "    <tr>\n",
       "      <th>249227</th>\n",
       "      <td>11900</td>\n",
       "      <td>bus</td>\n",
       "      <td>2005</td>\n",
       "      <td>auto</td>\n",
       "      <td>174</td>\n",
       "      <td>transporter</td>\n",
       "      <td>150000</td>\n",
       "      <td>gasoline</td>\n",
       "      <td>volkswagen</td>\n",
       "      <td>no</td>\n",
       "    </tr>\n",
       "    <tr>\n",
       "      <th>84648</th>\n",
       "      <td>8200</td>\n",
       "      <td>suv</td>\n",
       "      <td>2011</td>\n",
       "      <td>manual</td>\n",
       "      <td>110</td>\n",
       "      <td>duster</td>\n",
       "      <td>150000</td>\n",
       "      <td>gasoline</td>\n",
       "      <td>dacia</td>\n",
       "      <td>no</td>\n",
       "    </tr>\n",
       "    <tr>\n",
       "      <th>166192</th>\n",
       "      <td>2000</td>\n",
       "      <td>sedan</td>\n",
       "      <td>1999</td>\n",
       "      <td>manual</td>\n",
       "      <td>101</td>\n",
       "      <td>a3</td>\n",
       "      <td>5000</td>\n",
       "      <td>gasoline</td>\n",
       "      <td>audi</td>\n",
       "      <td>no</td>\n",
       "    </tr>\n",
       "  </tbody>\n",
       "</table>\n",
       "</div>"
      ],
      "text/plain": [
       "        price vehicle_type  registration_year gearbox  power        model  \\\n",
       "155637  10850        wagon               2008  manual    170     c_klasse   \n",
       "267103    950        wagon               2000    auto    131        omega   \n",
       "249227  11900          bus               2005    auto    174  transporter   \n",
       "84648    8200          suv               2011  manual    110       duster   \n",
       "166192   2000        sedan               1999  manual    101           a3   \n",
       "\n",
       "        mileage fuel_type          brand not_repaired  \n",
       "155637   150000  gasoline  mercedes_benz           no  \n",
       "267103   150000  gasoline           opel           no  \n",
       "249227   150000  gasoline     volkswagen           no  \n",
       "84648    150000  gasoline          dacia           no  \n",
       "166192     5000  gasoline           audi           no  "
      ]
     },
     "execution_count": 50,
     "metadata": {},
     "output_type": "execute_result"
    }
   ],
   "source": [
    "df_clean.sample(5)"
   ]
  },
  {
   "cell_type": "code",
   "execution_count": 51,
   "metadata": {},
   "outputs": [
    {
     "data": {
      "text/html": [
       "<div>\n",
       "<style scoped>\n",
       "    .dataframe tbody tr th:only-of-type {\n",
       "        vertical-align: middle;\n",
       "    }\n",
       "\n",
       "    .dataframe tbody tr th {\n",
       "        vertical-align: top;\n",
       "    }\n",
       "\n",
       "    .dataframe thead th {\n",
       "        text-align: right;\n",
       "    }\n",
       "</style>\n",
       "<table border=\"1\" class=\"dataframe\">\n",
       "  <thead>\n",
       "    <tr style=\"text-align: right;\">\n",
       "      <th></th>\n",
       "      <th>price</th>\n",
       "      <th>registration_year</th>\n",
       "      <th>power</th>\n",
       "      <th>mileage</th>\n",
       "    </tr>\n",
       "  </thead>\n",
       "  <tbody>\n",
       "    <tr>\n",
       "      <th>count</th>\n",
       "      <td>211817.000000</td>\n",
       "      <td>211817.000000</td>\n",
       "      <td>211817.000000</td>\n",
       "      <td>211817.000000</td>\n",
       "    </tr>\n",
       "    <tr>\n",
       "      <th>mean</th>\n",
       "      <td>5456.894980</td>\n",
       "      <td>2003.876426</td>\n",
       "      <td>123.620271</td>\n",
       "      <td>126990.586214</td>\n",
       "    </tr>\n",
       "    <tr>\n",
       "      <th>std</th>\n",
       "      <td>4694.716626</td>\n",
       "      <td>5.726833</td>\n",
       "      <td>52.565641</td>\n",
       "      <td>36847.724393</td>\n",
       "    </tr>\n",
       "    <tr>\n",
       "      <th>min</th>\n",
       "      <td>500.000000</td>\n",
       "      <td>1961.000000</td>\n",
       "      <td>30.000000</td>\n",
       "      <td>5000.000000</td>\n",
       "    </tr>\n",
       "    <tr>\n",
       "      <th>25%</th>\n",
       "      <td>1750.000000</td>\n",
       "      <td>2000.000000</td>\n",
       "      <td>84.000000</td>\n",
       "      <td>125000.000000</td>\n",
       "    </tr>\n",
       "    <tr>\n",
       "      <th>50%</th>\n",
       "      <td>3900.000000</td>\n",
       "      <td>2004.000000</td>\n",
       "      <td>116.000000</td>\n",
       "      <td>150000.000000</td>\n",
       "    </tr>\n",
       "    <tr>\n",
       "      <th>75%</th>\n",
       "      <td>7900.000000</td>\n",
       "      <td>2008.000000</td>\n",
       "      <td>150.000000</td>\n",
       "      <td>150000.000000</td>\n",
       "    </tr>\n",
       "    <tr>\n",
       "      <th>max</th>\n",
       "      <td>20000.000000</td>\n",
       "      <td>2019.000000</td>\n",
       "      <td>600.000000</td>\n",
       "      <td>150000.000000</td>\n",
       "    </tr>\n",
       "  </tbody>\n",
       "</table>\n",
       "</div>"
      ],
      "text/plain": [
       "               price  registration_year          power        mileage\n",
       "count  211817.000000      211817.000000  211817.000000  211817.000000\n",
       "mean     5456.894980        2003.876426     123.620271  126990.586214\n",
       "std      4694.716626           5.726833      52.565641   36847.724393\n",
       "min       500.000000        1961.000000      30.000000    5000.000000\n",
       "25%      1750.000000        2000.000000      84.000000  125000.000000\n",
       "50%      3900.000000        2004.000000     116.000000  150000.000000\n",
       "75%      7900.000000        2008.000000     150.000000  150000.000000\n",
       "max     20000.000000        2019.000000     600.000000  150000.000000"
      ]
     },
     "execution_count": 51,
     "metadata": {},
     "output_type": "execute_result"
    }
   ],
   "source": [
    "df_clean.describe()"
   ]
  },
  {
   "cell_type": "markdown",
   "metadata": {},
   "source": [
    "### Feature Engineering"
   ]
  },
  {
   "cell_type": "code",
   "execution_count": 52,
   "metadata": {},
   "outputs": [
    {
     "data": {
      "text/html": [
       "<div>\n",
       "<style scoped>\n",
       "    .dataframe tbody tr th:only-of-type {\n",
       "        vertical-align: middle;\n",
       "    }\n",
       "\n",
       "    .dataframe tbody tr th {\n",
       "        vertical-align: top;\n",
       "    }\n",
       "\n",
       "    .dataframe thead th {\n",
       "        text-align: right;\n",
       "    }\n",
       "</style>\n",
       "<table border=\"1\" class=\"dataframe\">\n",
       "  <thead>\n",
       "    <tr style=\"text-align: right;\">\n",
       "      <th></th>\n",
       "      <th>price</th>\n",
       "      <th>vehicle_type</th>\n",
       "      <th>registration_year</th>\n",
       "      <th>gearbox</th>\n",
       "      <th>power</th>\n",
       "      <th>model</th>\n",
       "      <th>mileage</th>\n",
       "      <th>fuel_type</th>\n",
       "      <th>brand</th>\n",
       "      <th>not_repaired</th>\n",
       "      <th>power_x2</th>\n",
       "    </tr>\n",
       "  </thead>\n",
       "  <tbody>\n",
       "    <tr>\n",
       "      <th>3</th>\n",
       "      <td>1500</td>\n",
       "      <td>small</td>\n",
       "      <td>2001</td>\n",
       "      <td>manual</td>\n",
       "      <td>75</td>\n",
       "      <td>golf</td>\n",
       "      <td>150000</td>\n",
       "      <td>petrol</td>\n",
       "      <td>volkswagen</td>\n",
       "      <td>no</td>\n",
       "      <td>150</td>\n",
       "    </tr>\n",
       "    <tr>\n",
       "      <th>4</th>\n",
       "      <td>3600</td>\n",
       "      <td>small</td>\n",
       "      <td>2008</td>\n",
       "      <td>manual</td>\n",
       "      <td>69</td>\n",
       "      <td>fabia</td>\n",
       "      <td>90000</td>\n",
       "      <td>gasoline</td>\n",
       "      <td>skoda</td>\n",
       "      <td>no</td>\n",
       "      <td>138</td>\n",
       "    </tr>\n",
       "    <tr>\n",
       "      <th>5</th>\n",
       "      <td>650</td>\n",
       "      <td>sedan</td>\n",
       "      <td>1995</td>\n",
       "      <td>manual</td>\n",
       "      <td>102</td>\n",
       "      <td>3er</td>\n",
       "      <td>150000</td>\n",
       "      <td>petrol</td>\n",
       "      <td>bmw</td>\n",
       "      <td>yes</td>\n",
       "      <td>204</td>\n",
       "    </tr>\n",
       "    <tr>\n",
       "      <th>6</th>\n",
       "      <td>2200</td>\n",
       "      <td>convertible</td>\n",
       "      <td>2004</td>\n",
       "      <td>manual</td>\n",
       "      <td>109</td>\n",
       "      <td>2_reihe</td>\n",
       "      <td>150000</td>\n",
       "      <td>petrol</td>\n",
       "      <td>peugeot</td>\n",
       "      <td>no</td>\n",
       "      <td>218</td>\n",
       "    </tr>\n",
       "    <tr>\n",
       "      <th>10</th>\n",
       "      <td>2000</td>\n",
       "      <td>sedan</td>\n",
       "      <td>2004</td>\n",
       "      <td>manual</td>\n",
       "      <td>105</td>\n",
       "      <td>3_reihe</td>\n",
       "      <td>150000</td>\n",
       "      <td>petrol</td>\n",
       "      <td>mazda</td>\n",
       "      <td>no</td>\n",
       "      <td>210</td>\n",
       "    </tr>\n",
       "  </tbody>\n",
       "</table>\n",
       "</div>"
      ],
      "text/plain": [
       "    price vehicle_type  registration_year gearbox  power    model  mileage  \\\n",
       "3    1500        small               2001  manual     75     golf   150000   \n",
       "4    3600        small               2008  manual     69    fabia    90000   \n",
       "5     650        sedan               1995  manual    102      3er   150000   \n",
       "6    2200  convertible               2004  manual    109  2_reihe   150000   \n",
       "10   2000        sedan               2004  manual    105  3_reihe   150000   \n",
       "\n",
       "   fuel_type       brand not_repaired  power_x2  \n",
       "3     petrol  volkswagen           no       150  \n",
       "4   gasoline       skoda           no       138  \n",
       "5     petrol         bmw          yes       204  \n",
       "6     petrol     peugeot           no       218  \n",
       "10    petrol       mazda           no       210  "
      ]
     },
     "execution_count": 52,
     "metadata": {},
     "output_type": "execute_result"
    }
   ],
   "source": [
    "# Criando um cópia do DataFrame para evitar warning\n",
    "df_clean = df_clean.copy()\n",
    "\n",
    "# Criando uma coluna 'power_x2'\n",
    "df_clean.loc[:, 'power_x2'] = df_clean['power'] * 2\n",
    "\n",
    "df_clean.head()"
   ]
  },
  {
   "cell_type": "markdown",
   "metadata": {},
   "source": [
    "### Transformação dos dados"
   ]
  },
  {
   "cell_type": "code",
   "execution_count": 53,
   "metadata": {},
   "outputs": [],
   "source": [
    "# Definindo as categorias\n",
    "categoric = ['model', 'fuel_type', 'vehicle_type', 'brand']\n",
    "numeric = ['price', 'power', 'mileage', 'registration_year', 'power_x2']\n",
    "ordinal = ['gearbox', 'not_repaired']"
   ]
  },
  {
   "cell_type": "markdown",
   "metadata": {},
   "source": [
    "#### Ordinal"
   ]
  },
  {
   "cell_type": "markdown",
   "metadata": {},
   "source": [
    "##### gearbox"
   ]
  },
  {
   "cell_type": "markdown",
   "metadata": {},
   "source": [
    "Carros automáticos de mesmo modelo e marca, tendem a ser mais caros do que os mesmos modelos em versão manual. Por este motivo, consideramos a coluna 'gearbox' como ordinal, onde manual é igual a 0 e auto é igual a 1. "
   ]
  },
  {
   "cell_type": "code",
   "execution_count": 54,
   "metadata": {},
   "outputs": [
    {
     "data": {
      "text/plain": [
       "3         0\n",
       "4         0\n",
       "5         0\n",
       "6         0\n",
       "10        0\n",
       "         ..\n",
       "354096    0\n",
       "354097    0\n",
       "354100    0\n",
       "354104    1\n",
       "354105    0\n",
       "Name: gearbox, Length: 211817, dtype: int64"
      ]
     },
     "execution_count": 54,
     "metadata": {},
     "output_type": "execute_result"
    }
   ],
   "source": [
    "gearbox_dict = {'manual': 0, 'auto': 1}\n",
    "\n",
    "df_clean['gearbox'] = df_clean['gearbox'].map(gearbox_dict)\n",
    "df_clean['gearbox']"
   ]
  },
  {
   "cell_type": "code",
   "execution_count": 55,
   "metadata": {},
   "outputs": [
    {
     "data": {
      "text/plain": [
       "gearbox\n",
       "0    167198\n",
       "1     44619\n",
       "Name: count, dtype: int64"
      ]
     },
     "execution_count": 55,
     "metadata": {},
     "output_type": "execute_result"
    }
   ],
   "source": [
    "df_clean['gearbox'].value_counts()"
   ]
  },
  {
   "cell_type": "markdown",
   "metadata": {},
   "source": [
    "##### not_repaired"
   ]
  },
  {
   "cell_type": "markdown",
   "metadata": {},
   "source": [
    "Minha interpretação para essa coluna foi de que carros not_repaired, são carros que não tiveram a necessidade de reparos, ou não tiveram avarias. Portanto, estes carros seriam mais valorizados do que aqueles de mesmas características que precisaram de reparos ou sofreram avarias. Deste modo, definimos 'no' igual a 1 e 'yes' igual a 0."
   ]
  },
  {
   "cell_type": "code",
   "execution_count": 56,
   "metadata": {},
   "outputs": [],
   "source": [
    "repair_dict = {'no': 1, 'yes': 0}\n",
    "\n",
    "df_clean['not_repaired'] = df_clean['not_repaired'].map(repair_dict)"
   ]
  },
  {
   "cell_type": "code",
   "execution_count": 57,
   "metadata": {},
   "outputs": [
    {
     "data": {
      "text/plain": [
       "not_repaired\n",
       "1    192983\n",
       "0     18834\n",
       "Name: count, dtype: int64"
      ]
     },
     "execution_count": 57,
     "metadata": {},
     "output_type": "execute_result"
    }
   ],
   "source": [
    "df_clean['not_repaired'].value_counts()"
   ]
  },
  {
   "cell_type": "code",
   "execution_count": 58,
   "metadata": {},
   "outputs": [
    {
     "data": {
      "text/plain": [
       "price                 int64\n",
       "vehicle_type         object\n",
       "registration_year     int64\n",
       "gearbox               int64\n",
       "power                 int64\n",
       "model                object\n",
       "mileage               int64\n",
       "fuel_type            object\n",
       "brand                object\n",
       "not_repaired          int64\n",
       "power_x2              int64\n",
       "dtype: object"
      ]
     },
     "execution_count": 58,
     "metadata": {},
     "output_type": "execute_result"
    }
   ],
   "source": [
    "df_clean.dtypes"
   ]
  },
  {
   "cell_type": "markdown",
   "metadata": {},
   "source": [
    "### Tratamento tipos de dados"
   ]
  },
  {
   "cell_type": "code",
   "execution_count": 59,
   "metadata": {},
   "outputs": [
    {
     "data": {
      "text/plain": [
       "price                   int64\n",
       "vehicle_type         category\n",
       "registration_year       int64\n",
       "gearbox                 int64\n",
       "power                   int64\n",
       "model                category\n",
       "mileage                 int64\n",
       "fuel_type            category\n",
       "brand                category\n",
       "not_repaired            int64\n",
       "power_x2                int64\n",
       "dtype: object"
      ]
     },
     "execution_count": 59,
     "metadata": {},
     "output_type": "execute_result"
    }
   ],
   "source": [
    "# Colunas para category\n",
    "df_clean[['model', 'fuel_type', 'vehicle_type', 'brand']] = df_clean[\n",
    "    ['model', 'fuel_type', 'vehicle_type', 'brand']].astype('category')\n",
    "\n",
    "df_clean.dtypes"
   ]
  },
  {
   "cell_type": "code",
   "execution_count": 60,
   "metadata": {},
   "outputs": [
    {
     "data": {
      "text/html": [
       "<div>\n",
       "<style scoped>\n",
       "    .dataframe tbody tr th:only-of-type {\n",
       "        vertical-align: middle;\n",
       "    }\n",
       "\n",
       "    .dataframe tbody tr th {\n",
       "        vertical-align: top;\n",
       "    }\n",
       "\n",
       "    .dataframe thead th {\n",
       "        text-align: right;\n",
       "    }\n",
       "</style>\n",
       "<table border=\"1\" class=\"dataframe\">\n",
       "  <thead>\n",
       "    <tr style=\"text-align: right;\">\n",
       "      <th></th>\n",
       "      <th>price</th>\n",
       "      <th>vehicle_type</th>\n",
       "      <th>registration_year</th>\n",
       "      <th>gearbox</th>\n",
       "      <th>power</th>\n",
       "      <th>model</th>\n",
       "      <th>mileage</th>\n",
       "      <th>fuel_type</th>\n",
       "      <th>brand</th>\n",
       "      <th>not_repaired</th>\n",
       "      <th>power_x2</th>\n",
       "    </tr>\n",
       "  </thead>\n",
       "  <tbody>\n",
       "    <tr>\n",
       "      <th>3</th>\n",
       "      <td>1500</td>\n",
       "      <td>small</td>\n",
       "      <td>2001</td>\n",
       "      <td>0</td>\n",
       "      <td>75</td>\n",
       "      <td>golf</td>\n",
       "      <td>150000</td>\n",
       "      <td>petrol</td>\n",
       "      <td>volkswagen</td>\n",
       "      <td>1</td>\n",
       "      <td>150</td>\n",
       "    </tr>\n",
       "    <tr>\n",
       "      <th>4</th>\n",
       "      <td>3600</td>\n",
       "      <td>small</td>\n",
       "      <td>2008</td>\n",
       "      <td>0</td>\n",
       "      <td>69</td>\n",
       "      <td>fabia</td>\n",
       "      <td>90000</td>\n",
       "      <td>gasoline</td>\n",
       "      <td>skoda</td>\n",
       "      <td>1</td>\n",
       "      <td>138</td>\n",
       "    </tr>\n",
       "    <tr>\n",
       "      <th>5</th>\n",
       "      <td>650</td>\n",
       "      <td>sedan</td>\n",
       "      <td>1995</td>\n",
       "      <td>0</td>\n",
       "      <td>102</td>\n",
       "      <td>3er</td>\n",
       "      <td>150000</td>\n",
       "      <td>petrol</td>\n",
       "      <td>bmw</td>\n",
       "      <td>0</td>\n",
       "      <td>204</td>\n",
       "    </tr>\n",
       "    <tr>\n",
       "      <th>6</th>\n",
       "      <td>2200</td>\n",
       "      <td>convertible</td>\n",
       "      <td>2004</td>\n",
       "      <td>0</td>\n",
       "      <td>109</td>\n",
       "      <td>2_reihe</td>\n",
       "      <td>150000</td>\n",
       "      <td>petrol</td>\n",
       "      <td>peugeot</td>\n",
       "      <td>1</td>\n",
       "      <td>218</td>\n",
       "    </tr>\n",
       "    <tr>\n",
       "      <th>10</th>\n",
       "      <td>2000</td>\n",
       "      <td>sedan</td>\n",
       "      <td>2004</td>\n",
       "      <td>0</td>\n",
       "      <td>105</td>\n",
       "      <td>3_reihe</td>\n",
       "      <td>150000</td>\n",
       "      <td>petrol</td>\n",
       "      <td>mazda</td>\n",
       "      <td>1</td>\n",
       "      <td>210</td>\n",
       "    </tr>\n",
       "  </tbody>\n",
       "</table>\n",
       "</div>"
      ],
      "text/plain": [
       "    price vehicle_type  registration_year  gearbox  power    model  mileage  \\\n",
       "3    1500        small               2001        0     75     golf   150000   \n",
       "4    3600        small               2008        0     69    fabia    90000   \n",
       "5     650        sedan               1995        0    102      3er   150000   \n",
       "6    2200  convertible               2004        0    109  2_reihe   150000   \n",
       "10   2000        sedan               2004        0    105  3_reihe   150000   \n",
       "\n",
       "   fuel_type       brand  not_repaired  power_x2  \n",
       "3     petrol  volkswagen             1       150  \n",
       "4   gasoline       skoda             1       138  \n",
       "5     petrol         bmw             0       204  \n",
       "6     petrol     peugeot             1       218  \n",
       "10    petrol       mazda             1       210  "
      ]
     },
     "execution_count": 60,
     "metadata": {},
     "output_type": "execute_result"
    }
   ],
   "source": [
    "df_clean.head()"
   ]
  },
  {
   "cell_type": "markdown",
   "metadata": {},
   "source": [
    "#### One-Hot"
   ]
  },
  {
   "cell_type": "code",
   "execution_count": 61,
   "metadata": {},
   "outputs": [
    {
     "data": {
      "text/html": [
       "<div>\n",
       "<style scoped>\n",
       "    .dataframe tbody tr th:only-of-type {\n",
       "        vertical-align: middle;\n",
       "    }\n",
       "\n",
       "    .dataframe tbody tr th {\n",
       "        vertical-align: top;\n",
       "    }\n",
       "\n",
       "    .dataframe thead th {\n",
       "        text-align: right;\n",
       "    }\n",
       "</style>\n",
       "<table border=\"1\" class=\"dataframe\">\n",
       "  <thead>\n",
       "    <tr style=\"text-align: right;\">\n",
       "      <th></th>\n",
       "      <th>model_145</th>\n",
       "      <th>model_147</th>\n",
       "      <th>model_156</th>\n",
       "      <th>model_159</th>\n",
       "      <th>model_1_reihe</th>\n",
       "      <th>model_1er</th>\n",
       "      <th>model_200</th>\n",
       "      <th>model_2_reihe</th>\n",
       "      <th>model_300c</th>\n",
       "      <th>model_3_reihe</th>\n",
       "      <th>...</th>\n",
       "      <th>brand_trabant</th>\n",
       "      <th>brand_volkswagen</th>\n",
       "      <th>brand_volvo</th>\n",
       "      <th>price</th>\n",
       "      <th>power</th>\n",
       "      <th>mileage</th>\n",
       "      <th>registration_year</th>\n",
       "      <th>power_x2</th>\n",
       "      <th>gearbox</th>\n",
       "      <th>not_repaired</th>\n",
       "    </tr>\n",
       "  </thead>\n",
       "  <tbody>\n",
       "    <tr>\n",
       "      <th>0</th>\n",
       "      <td>False</td>\n",
       "      <td>False</td>\n",
       "      <td>False</td>\n",
       "      <td>False</td>\n",
       "      <td>False</td>\n",
       "      <td>False</td>\n",
       "      <td>False</td>\n",
       "      <td>False</td>\n",
       "      <td>False</td>\n",
       "      <td>False</td>\n",
       "      <td>...</td>\n",
       "      <td>False</td>\n",
       "      <td>True</td>\n",
       "      <td>False</td>\n",
       "      <td>1500</td>\n",
       "      <td>75</td>\n",
       "      <td>150000</td>\n",
       "      <td>2001</td>\n",
       "      <td>150</td>\n",
       "      <td>0</td>\n",
       "      <td>1</td>\n",
       "    </tr>\n",
       "    <tr>\n",
       "      <th>1</th>\n",
       "      <td>False</td>\n",
       "      <td>False</td>\n",
       "      <td>False</td>\n",
       "      <td>False</td>\n",
       "      <td>False</td>\n",
       "      <td>False</td>\n",
       "      <td>False</td>\n",
       "      <td>False</td>\n",
       "      <td>False</td>\n",
       "      <td>False</td>\n",
       "      <td>...</td>\n",
       "      <td>False</td>\n",
       "      <td>False</td>\n",
       "      <td>False</td>\n",
       "      <td>3600</td>\n",
       "      <td>69</td>\n",
       "      <td>90000</td>\n",
       "      <td>2008</td>\n",
       "      <td>138</td>\n",
       "      <td>0</td>\n",
       "      <td>1</td>\n",
       "    </tr>\n",
       "    <tr>\n",
       "      <th>2</th>\n",
       "      <td>False</td>\n",
       "      <td>False</td>\n",
       "      <td>False</td>\n",
       "      <td>False</td>\n",
       "      <td>False</td>\n",
       "      <td>False</td>\n",
       "      <td>False</td>\n",
       "      <td>False</td>\n",
       "      <td>False</td>\n",
       "      <td>False</td>\n",
       "      <td>...</td>\n",
       "      <td>False</td>\n",
       "      <td>False</td>\n",
       "      <td>False</td>\n",
       "      <td>650</td>\n",
       "      <td>102</td>\n",
       "      <td>150000</td>\n",
       "      <td>1995</td>\n",
       "      <td>204</td>\n",
       "      <td>0</td>\n",
       "      <td>0</td>\n",
       "    </tr>\n",
       "    <tr>\n",
       "      <th>3</th>\n",
       "      <td>False</td>\n",
       "      <td>False</td>\n",
       "      <td>False</td>\n",
       "      <td>False</td>\n",
       "      <td>False</td>\n",
       "      <td>False</td>\n",
       "      <td>False</td>\n",
       "      <td>True</td>\n",
       "      <td>False</td>\n",
       "      <td>False</td>\n",
       "      <td>...</td>\n",
       "      <td>False</td>\n",
       "      <td>False</td>\n",
       "      <td>False</td>\n",
       "      <td>2200</td>\n",
       "      <td>109</td>\n",
       "      <td>150000</td>\n",
       "      <td>2004</td>\n",
       "      <td>218</td>\n",
       "      <td>0</td>\n",
       "      <td>1</td>\n",
       "    </tr>\n",
       "    <tr>\n",
       "      <th>4</th>\n",
       "      <td>False</td>\n",
       "      <td>False</td>\n",
       "      <td>False</td>\n",
       "      <td>False</td>\n",
       "      <td>False</td>\n",
       "      <td>False</td>\n",
       "      <td>False</td>\n",
       "      <td>False</td>\n",
       "      <td>False</td>\n",
       "      <td>True</td>\n",
       "      <td>...</td>\n",
       "      <td>False</td>\n",
       "      <td>False</td>\n",
       "      <td>False</td>\n",
       "      <td>2000</td>\n",
       "      <td>105</td>\n",
       "      <td>150000</td>\n",
       "      <td>2004</td>\n",
       "      <td>210</td>\n",
       "      <td>0</td>\n",
       "      <td>1</td>\n",
       "    </tr>\n",
       "  </tbody>\n",
       "</table>\n",
       "<p>5 rows × 302 columns</p>\n",
       "</div>"
      ],
      "text/plain": [
       "   model_145  model_147  model_156  model_159  model_1_reihe  model_1er  \\\n",
       "0      False      False      False      False          False      False   \n",
       "1      False      False      False      False          False      False   \n",
       "2      False      False      False      False          False      False   \n",
       "3      False      False      False      False          False      False   \n",
       "4      False      False      False      False          False      False   \n",
       "\n",
       "   model_200  model_2_reihe  model_300c  model_3_reihe  ...  brand_trabant  \\\n",
       "0      False          False       False          False  ...          False   \n",
       "1      False          False       False          False  ...          False   \n",
       "2      False          False       False          False  ...          False   \n",
       "3      False           True       False          False  ...          False   \n",
       "4      False          False       False           True  ...          False   \n",
       "\n",
       "   brand_volkswagen  brand_volvo  price  power  mileage  registration_year  \\\n",
       "0              True        False   1500     75   150000               2001   \n",
       "1             False        False   3600     69    90000               2008   \n",
       "2             False        False    650    102   150000               1995   \n",
       "3             False        False   2200    109   150000               2004   \n",
       "4             False        False   2000    105   150000               2004   \n",
       "\n",
       "   power_x2  gearbox  not_repaired  \n",
       "0       150        0             1  \n",
       "1       138        0             1  \n",
       "2       204        0             0  \n",
       "3       218        0             1  \n",
       "4       210        0             1  \n",
       "\n",
       "[5 rows x 302 columns]"
      ]
     },
     "execution_count": 61,
     "metadata": {},
     "output_type": "execute_result"
    }
   ],
   "source": [
    "# Definindo df com características categóricas para codificação One-Hot \n",
    "df_clean_categoric = pd.get_dummies(df_clean[categoric], drop_first=True)\n",
    "\n",
    "# Ajustando demais DataFrames para concatenação\n",
    "df_clean_numeric = df_clean[numeric]\n",
    "df_clean_ordinal = df_clean[ordinal]\n",
    "\n",
    "# Reiniciando os índices\n",
    "df_clean_categoric.reset_index(drop=True, inplace=True)\n",
    "df_clean_numeric.reset_index(drop=True, inplace=True)\n",
    "df_clean_ordinal.reset_index(drop=True, inplace=True)\n",
    "\n",
    "# Concatenando os DataFrames\n",
    "df_concat = pd.concat([df_clean_categoric, df_clean_numeric, df_clean_ordinal], axis=1)\n",
    "\n",
    "df_concat.head()"
   ]
  },
  {
   "cell_type": "markdown",
   "metadata": {},
   "source": [
    "#### Divisão dos dados"
   ]
  },
  {
   "cell_type": "code",
   "execution_count": 62,
   "metadata": {},
   "outputs": [
    {
     "name": "stdout",
     "output_type": "stream",
     "text": [
      "(148271, 301)\n",
      "(148271,)\n",
      "(31773, 301)\n",
      "(31773,)\n",
      "(31773, 301)\n",
      "(31773,)\n"
     ]
    }
   ],
   "source": [
    "# Dividindo o DataFrame em características e objetivo\n",
    "features = df_concat.drop(\"price\", axis=1)\n",
    "target = df_concat[\"price\"]\n",
    "\n",
    "# Na primeira etapa, dividiremos os dados em \"treinamento\" e \"conjunto de dados restantes\" \n",
    "features_train, features_remain, target_train, target_remain = train_test_split(\n",
    "    features, target, train_size=0.7, random_state = 12345)\n",
    "\n",
    "# Agora, queremos que os tamanhos dos conjuntos de validação e teste sejam iguais \n",
    "# Portanto, vamos definir test_size que represente 50% dos dados restantes\n",
    "features_valid, features_test, target_valid, target_test = train_test_split(\n",
    "    features_remain, target_remain, test_size=0.5, random_state = 12345)\n",
    "\n",
    "\n",
    "print(features_train.shape)\n",
    "print(target_train.shape)\n",
    "print(features_valid.shape)\n",
    "print(target_valid.shape)\n",
    "print(features_test.shape)\n",
    "print(target_test.shape)"
   ]
  },
  {
   "cell_type": "markdown",
   "metadata": {},
   "source": [
    "### Padronização dos dados"
   ]
  },
  {
   "cell_type": "code",
   "execution_count": 63,
   "metadata": {},
   "outputs": [],
   "source": [
    "numeric = ['power', 'mileage', 'registration_year']"
   ]
  },
  {
   "cell_type": "code",
   "execution_count": 64,
   "metadata": {},
   "outputs": [
    {
     "name": "stderr",
     "output_type": "stream",
     "text": [
      "C:\\Users\\renan\\AppData\\Local\\Temp\\ipykernel_8432\\3458923212.py:6: FutureWarning: Setting an item of incompatible dtype is deprecated and will raise in a future error of pandas. Value '[-1.27744321  0.62338799 -1.54899053 ...  0.62338799  0.62338799\n",
      "  0.62338799]' has dtype incompatible with int64, please explicitly cast to a compatible dtype first.\n",
      "  features_train.loc[:, numeric[1:]] = scaler.fit_transform(features_train.loc[:, numeric[1:]])\n",
      "C:\\Users\\renan\\AppData\\Local\\Temp\\ipykernel_8432\\3458923212.py:6: FutureWarning: Setting an item of incompatible dtype is deprecated and will raise in a future error of pandas. Value '[ 0.54720743  0.19770457  1.42096459 ... -1.37505832 -1.02555546\n",
      " -0.6760526 ]' has dtype incompatible with int64, please explicitly cast to a compatible dtype first.\n",
      "  features_train.loc[:, numeric[1:]] = scaler.fit_transform(features_train.loc[:, numeric[1:]])\n",
      "C:\\Users\\renan\\AppData\\Local\\Temp\\ipykernel_8432\\3458923212.py:7: FutureWarning: Setting an item of incompatible dtype is deprecated and will raise in a future error of pandas. Value '[-2.36363247  0.62338799  0.62338799 ...  0.62338799  0.62338799\n",
      "  0.62338799]' has dtype incompatible with int64, please explicitly cast to a compatible dtype first.\n",
      "  features_valid.loc[:, numeric[1:]] = scaler.transform(features_valid.loc[:, numeric[1:]])\n",
      "C:\\Users\\renan\\AppData\\Local\\Temp\\ipykernel_8432\\3458923212.py:7: FutureWarning: Setting an item of incompatible dtype is deprecated and will raise in a future error of pandas. Value '[ 0.72195886 -0.50130116  0.19770457 ...  0.19770457 -0.32654973\n",
      "  0.372456  ]' has dtype incompatible with int64, please explicitly cast to a compatible dtype first.\n",
      "  features_valid.loc[:, numeric[1:]] = scaler.transform(features_valid.loc[:, numeric[1:]])\n",
      "C:\\Users\\renan\\AppData\\Local\\Temp\\ipykernel_8432\\3458923212.py:8: FutureWarning: Setting an item of incompatible dtype is deprecated and will raise in a future error of pandas. Value '[-0.05548029 -1.82053784  0.62338799 ...  0.62338799 -2.63517979\n",
      "  0.62338799]' has dtype incompatible with int64, please explicitly cast to a compatible dtype first.\n",
      "  features_test.loc[:, numeric[1:]] = scaler.transform(features_test.loc[:, numeric[1:]])\n",
      "C:\\Users\\renan\\AppData\\Local\\Temp\\ipykernel_8432\\3458923212.py:8: FutureWarning: Setting an item of incompatible dtype is deprecated and will raise in a future error of pandas. Value '[0.72195886 1.59571602 0.19770457 ... 0.372456   1.24621316 0.8967103 ]' has dtype incompatible with int64, please explicitly cast to a compatible dtype first.\n",
      "  features_test.loc[:, numeric[1:]] = scaler.transform(features_test.loc[:, numeric[1:]])\n"
     ]
    },
    {
     "data": {
      "text/html": [
       "<div>\n",
       "<style scoped>\n",
       "    .dataframe tbody tr th:only-of-type {\n",
       "        vertical-align: middle;\n",
       "    }\n",
       "\n",
       "    .dataframe tbody tr th {\n",
       "        vertical-align: top;\n",
       "    }\n",
       "\n",
       "    .dataframe thead th {\n",
       "        text-align: right;\n",
       "    }\n",
       "</style>\n",
       "<table border=\"1\" class=\"dataframe\">\n",
       "  <thead>\n",
       "    <tr style=\"text-align: right;\">\n",
       "      <th></th>\n",
       "      <th>model_145</th>\n",
       "      <th>model_147</th>\n",
       "      <th>model_156</th>\n",
       "      <th>model_159</th>\n",
       "      <th>model_1_reihe</th>\n",
       "      <th>model_1er</th>\n",
       "      <th>model_200</th>\n",
       "      <th>model_2_reihe</th>\n",
       "      <th>model_300c</th>\n",
       "      <th>model_3_reihe</th>\n",
       "      <th>...</th>\n",
       "      <th>brand_toyota</th>\n",
       "      <th>brand_trabant</th>\n",
       "      <th>brand_volkswagen</th>\n",
       "      <th>brand_volvo</th>\n",
       "      <th>power</th>\n",
       "      <th>mileage</th>\n",
       "      <th>registration_year</th>\n",
       "      <th>power_x2</th>\n",
       "      <th>gearbox</th>\n",
       "      <th>not_repaired</th>\n",
       "    </tr>\n",
       "  </thead>\n",
       "  <tbody>\n",
       "    <tr>\n",
       "      <th>92424</th>\n",
       "      <td>False</td>\n",
       "      <td>False</td>\n",
       "      <td>False</td>\n",
       "      <td>False</td>\n",
       "      <td>False</td>\n",
       "      <td>False</td>\n",
       "      <td>False</td>\n",
       "      <td>False</td>\n",
       "      <td>False</td>\n",
       "      <td>False</td>\n",
       "      <td>...</td>\n",
       "      <td>False</td>\n",
       "      <td>False</td>\n",
       "      <td>False</td>\n",
       "      <td>False</td>\n",
       "      <td>95</td>\n",
       "      <td>-1.277443</td>\n",
       "      <td>0.547207</td>\n",
       "      <td>190</td>\n",
       "      <td>1</td>\n",
       "      <td>1</td>\n",
       "    </tr>\n",
       "    <tr>\n",
       "      <th>98253</th>\n",
       "      <td>False</td>\n",
       "      <td>False</td>\n",
       "      <td>False</td>\n",
       "      <td>False</td>\n",
       "      <td>False</td>\n",
       "      <td>False</td>\n",
       "      <td>False</td>\n",
       "      <td>False</td>\n",
       "      <td>False</td>\n",
       "      <td>False</td>\n",
       "      <td>...</td>\n",
       "      <td>False</td>\n",
       "      <td>False</td>\n",
       "      <td>False</td>\n",
       "      <td>False</td>\n",
       "      <td>218</td>\n",
       "      <td>0.623388</td>\n",
       "      <td>0.197705</td>\n",
       "      <td>436</td>\n",
       "      <td>1</td>\n",
       "      <td>1</td>\n",
       "    </tr>\n",
       "    <tr>\n",
       "      <th>178458</th>\n",
       "      <td>False</td>\n",
       "      <td>False</td>\n",
       "      <td>False</td>\n",
       "      <td>False</td>\n",
       "      <td>False</td>\n",
       "      <td>False</td>\n",
       "      <td>False</td>\n",
       "      <td>False</td>\n",
       "      <td>False</td>\n",
       "      <td>False</td>\n",
       "      <td>...</td>\n",
       "      <td>False</td>\n",
       "      <td>False</td>\n",
       "      <td>False</td>\n",
       "      <td>False</td>\n",
       "      <td>120</td>\n",
       "      <td>-1.548991</td>\n",
       "      <td>1.420965</td>\n",
       "      <td>240</td>\n",
       "      <td>0</td>\n",
       "      <td>1</td>\n",
       "    </tr>\n",
       "  </tbody>\n",
       "</table>\n",
       "<p>3 rows × 301 columns</p>\n",
       "</div>"
      ],
      "text/plain": [
       "        model_145  model_147  model_156  model_159  model_1_reihe  model_1er  \\\n",
       "92424       False      False      False      False          False      False   \n",
       "98253       False      False      False      False          False      False   \n",
       "178458      False      False      False      False          False      False   \n",
       "\n",
       "        model_200  model_2_reihe  model_300c  model_3_reihe  ...  \\\n",
       "92424       False          False       False          False  ...   \n",
       "98253       False          False       False          False  ...   \n",
       "178458      False          False       False          False  ...   \n",
       "\n",
       "        brand_toyota  brand_trabant  brand_volkswagen  brand_volvo  power  \\\n",
       "92424          False          False             False        False     95   \n",
       "98253          False          False             False        False    218   \n",
       "178458         False          False             False        False    120   \n",
       "\n",
       "         mileage  registration_year  power_x2  gearbox  not_repaired  \n",
       "92424  -1.277443           0.547207       190        1             1  \n",
       "98253   0.623388           0.197705       436        1             1  \n",
       "178458 -1.548991           1.420965       240        0             1  \n",
       "\n",
       "[3 rows x 301 columns]"
      ]
     },
     "execution_count": 64,
     "metadata": {},
     "output_type": "execute_result"
    }
   ],
   "source": [
    "features_train = features_train.copy()\n",
    "features_valid = features_valid.copy()\n",
    "features_test = features_test.copy()\n",
    "\n",
    "scaler = StandardScaler()\n",
    "features_train.loc[:, numeric[1:]] = scaler.fit_transform(features_train.loc[:, numeric[1:]])\n",
    "features_valid.loc[:, numeric[1:]] = scaler.transform(features_valid.loc[:, numeric[1:]])\n",
    "features_test.loc[:, numeric[1:]] = scaler.transform(features_test.loc[:, numeric[1:]])\n",
    "\n",
    "\n",
    "features_train.head(3)"
   ]
  },
  {
   "cell_type": "markdown",
   "metadata": {},
   "source": [
    "## Treinamento dos modelos"
   ]
  },
  {
   "cell_type": "markdown",
   "metadata": {},
   "source": [
    "### Regressão Linear"
   ]
  },
  {
   "cell_type": "code",
   "execution_count": 65,
   "metadata": {},
   "outputs": [
    {
     "name": "stdout",
     "output_type": "stream",
     "text": [
      "Reqm: 2457.439495694943\n",
      "Tempo de execução: 12.310902500059456 segundos\n"
     ]
    },
    {
     "name": "stderr",
     "output_type": "stream",
     "text": [
      "C:\\Users\\renan\\AppData\\Local\\Packages\\PythonSoftwareFoundation.Python.3.12_qbz5n2kfra8p0\\LocalCache\\local-packages\\Python312\\site-packages\\sklearn\\metrics\\_regression.py:492: FutureWarning: 'squared' is deprecated in version 1.4 and will be removed in 1.6. To calculate the root mean squared error, use the function'root_mean_squared_error'.\n",
      "  warnings.warn(\n"
     ]
    }
   ],
   "source": [
    "# Definindo o modelo de Regressão Linear\n",
    "model_reg = LinearRegression()\n",
    "model_reg.fit(features_train, target_train)\n",
    "predict_valid_reg = model_reg.predict(features_valid)\n",
    "\n",
    "# Medindo o tempo de treinamento do modelo\n",
    "time_train_reg = timeit.timeit(lambda: model_reg.fit(features_train, target_train), number=1)\n",
    "\n",
    "# Avaliando o modelo\n",
    "reqm_train_reg = mean_squared_error(target_valid, predict_valid_reg, squared=False)\n",
    "print('Reqm:', reqm_train_reg)\n",
    "print(f'Tempo de execução: {time_train_reg} segundos')"
   ]
  },
  {
   "cell_type": "code",
   "execution_count": 66,
   "metadata": {},
   "outputs": [
    {
     "name": "stdout",
     "output_type": "stream",
     "text": [
      "Reqm: 2409.887840880788\n",
      "Tempo de execução: 0.1734807000029832 segundos\n"
     ]
    },
    {
     "name": "stderr",
     "output_type": "stream",
     "text": [
      "C:\\Users\\renan\\AppData\\Local\\Packages\\PythonSoftwareFoundation.Python.3.12_qbz5n2kfra8p0\\LocalCache\\local-packages\\Python312\\site-packages\\sklearn\\metrics\\_regression.py:492: FutureWarning: 'squared' is deprecated in version 1.4 and will be removed in 1.6. To calculate the root mean squared error, use the function'root_mean_squared_error'.\n",
      "  warnings.warn(\n"
     ]
    }
   ],
   "source": [
    "# Predizendo os resultados com o modelo obtido\n",
    "predict_test_reg = model_reg.predict(features_test)\n",
    "\n",
    "# Medindo o tempo para predição\n",
    "time_test_reg = timeit.timeit(lambda: model_reg.predict(features_test), number=1)\n",
    "\n",
    "#Avaliando o modelo\n",
    "reqm_test_reg = mean_squared_error(target_test, predict_test_reg, squared=False)\n",
    "print('Reqm:', reqm_test_reg)\n",
    "print(f'Tempo de execução: {time_test_reg} segundos')"
   ]
  },
  {
   "cell_type": "markdown",
   "metadata": {},
   "source": [
    "### Floresta Aleatória"
   ]
  },
  {
   "cell_type": "code",
   "execution_count": 67,
   "metadata": {
    "scrolled": false
   },
   "outputs": [
    {
     "name": "stdout",
     "output_type": "stream",
     "text": [
      "REQM: 1576.3183040102738\n",
      "Melhores Hiperparâmetros: {'max_depth': None, 'min_samples_split': 6, 'n_estimators': 4}\n",
      "Tempo de execução: 267.7235814000014 segundos\n"
     ]
    },
    {
     "name": "stderr",
     "output_type": "stream",
     "text": [
      "C:\\Users\\renan\\AppData\\Local\\Packages\\PythonSoftwareFoundation.Python.3.12_qbz5n2kfra8p0\\LocalCache\\local-packages\\Python312\\site-packages\\sklearn\\metrics\\_regression.py:492: FutureWarning: 'squared' is deprecated in version 1.4 and will be removed in 1.6. To calculate the root mean squared error, use the function'root_mean_squared_error'.\n",
      "  warnings.warn(\n"
     ]
    }
   ],
   "source": [
    "# Definindo o modelo de Floresta Aleatória\n",
    "model_forest = RandomForestRegressor(random_state=12345)\n",
    "\n",
    "# Definindo a grade de hiperparâmetros\n",
    "param_grid = {'n_estimators': [1, 2, 3, 4],\n",
    "              'max_depth': [None, 1, 3, 5],\n",
    "              'min_samples_split': [2, 4, 6]}\n",
    "\n",
    "# Configurando o GridSearchCV\n",
    "grid_search = GridSearchCV(estimator=model_forest, param_grid=param_grid, cv=3, n_jobs=-1, scoring='neg_mean_squared_error')\n",
    "\n",
    "\n",
    "# Função para executar o ajuste do modelo\n",
    "def fit_model_forest():\n",
    "    grid_search.fit(features_train, target_train)\n",
    "\n",
    "# Medindo o tempo de execução do treinamento\n",
    "time_train_forest = timeit.timeit(fit_model_forest, number=1)\n",
    "\n",
    "# Treinando o modelo e fazendo as predições\n",
    "grid_search.fit(features_train, target_train)\n",
    "best_model_forest = grid_search.best_estimator_\n",
    "predict_valid_forest = best_model_forest.predict(features_valid)\n",
    "\n",
    "# Avaliando o modelo\n",
    "reqm_train_forest = mean_squared_error(target_valid, predict_valid_forest, squared=False)\n",
    "print('REQM:', reqm_train_forest)\n",
    "print('Melhores Hiperparâmetros:', grid_search.best_params_)\n",
    "print(f'Tempo de execução: {time_train_forest} segundos')"
   ]
  },
  {
   "cell_type": "code",
   "execution_count": 68,
   "metadata": {},
   "outputs": [
    {
     "name": "stdout",
     "output_type": "stream",
     "text": [
      "REQM: 1565.333397693155\n",
      "Tempo de execução: 0.14128790004178882 segundos\n"
     ]
    },
    {
     "name": "stderr",
     "output_type": "stream",
     "text": [
      "C:\\Users\\renan\\AppData\\Local\\Packages\\PythonSoftwareFoundation.Python.3.12_qbz5n2kfra8p0\\LocalCache\\local-packages\\Python312\\site-packages\\sklearn\\metrics\\_regression.py:492: FutureWarning: 'squared' is deprecated in version 1.4 and will be removed in 1.6. To calculate the root mean squared error, use the function'root_mean_squared_error'.\n",
      "  warnings.warn(\n"
     ]
    }
   ],
   "source": [
    "# Predizendo os resultados com o melhor modelo encontrado\n",
    "predict_test_forest = best_model_forest.predict(features_test)\n",
    "\n",
    "time_test_forest = timeit.timeit(lambda: best_model_forest.predict(features_test), number=1) \n",
    "\n",
    "reqm_test_forest = mean_squared_error(target_test, predict_test_forest, squared=False)\n",
    "print('REQM:', reqm_test_forest)\n",
    "print(f'Tempo de execução: {time_test_forest} segundos')"
   ]
  },
  {
   "cell_type": "markdown",
   "metadata": {},
   "source": [
    "### CatBoost"
   ]
  },
  {
   "cell_type": "code",
   "execution_count": 69,
   "metadata": {
    "scrolled": false
   },
   "outputs": [
    {
     "name": "stdout",
     "output_type": "stream",
     "text": [
      "Learning rate set to 0.0902\n",
      "0:\tlearn: 4413.7594366\ttotal: 686ms\tremaining: 11m 25s\n",
      "1:\tlearn: 4158.0835986\ttotal: 813ms\tremaining: 6m 45s\n",
      "2:\tlearn: 3925.3705550\ttotal: 936ms\tremaining: 5m 10s\n",
      "3:\tlearn: 3722.7665071\ttotal: 977ms\tremaining: 4m 3s\n",
      "4:\tlearn: 3545.4486639\ttotal: 1s\tremaining: 3m 20s\n",
      "5:\tlearn: 3378.3765458\ttotal: 1.07s\tremaining: 2m 57s\n",
      "6:\tlearn: 3232.4986659\ttotal: 1.1s\tremaining: 2m 35s\n",
      "7:\tlearn: 3102.0112523\ttotal: 1.15s\tremaining: 2m 23s\n",
      "8:\tlearn: 2982.3925417\ttotal: 1.18s\tremaining: 2m 10s\n",
      "9:\tlearn: 2881.2215581\ttotal: 1.21s\tremaining: 2m\n",
      "10:\tlearn: 2788.8110229\ttotal: 1.24s\tremaining: 1m 51s\n",
      "11:\tlearn: 2703.4890691\ttotal: 1.27s\tremaining: 1m 44s\n",
      "12:\tlearn: 2630.3031634\ttotal: 1.3s\tremaining: 1m 38s\n",
      "13:\tlearn: 2563.0995231\ttotal: 1.32s\tremaining: 1m 33s\n",
      "14:\tlearn: 2504.1324478\ttotal: 1.35s\tremaining: 1m 28s\n",
      "15:\tlearn: 2451.4815319\ttotal: 1.45s\tremaining: 1m 29s\n",
      "16:\tlearn: 2402.6614176\ttotal: 1.48s\tremaining: 1m 25s\n",
      "17:\tlearn: 2361.0733363\ttotal: 1.51s\tremaining: 1m 22s\n",
      "18:\tlearn: 2323.9277248\ttotal: 1.53s\tremaining: 1m 19s\n",
      "19:\tlearn: 2291.4678104\ttotal: 1.56s\tremaining: 1m 16s\n",
      "20:\tlearn: 2258.9514590\ttotal: 1.59s\tremaining: 1m 14s\n",
      "21:\tlearn: 2231.2648997\ttotal: 1.62s\tremaining: 1m 12s\n",
      "22:\tlearn: 2203.6103331\ttotal: 1.65s\tremaining: 1m 9s\n",
      "23:\tlearn: 2180.3314306\ttotal: 1.67s\tremaining: 1m 8s\n",
      "24:\tlearn: 2157.0705252\ttotal: 1.7s\tremaining: 1m 6s\n",
      "25:\tlearn: 2136.2072854\ttotal: 1.73s\tremaining: 1m 4s\n",
      "26:\tlearn: 2115.3186044\ttotal: 1.76s\tremaining: 1m 3s\n",
      "27:\tlearn: 2097.3593865\ttotal: 1.79s\tremaining: 1m 2s\n",
      "28:\tlearn: 2081.1016072\ttotal: 1.81s\tremaining: 1m\n",
      "29:\tlearn: 2064.5587160\ttotal: 1.84s\tremaining: 59.6s\n",
      "30:\tlearn: 2049.4595922\ttotal: 1.87s\tremaining: 58.5s\n",
      "31:\tlearn: 2030.8409773\ttotal: 1.9s\tremaining: 57.6s\n",
      "32:\tlearn: 2018.8007630\ttotal: 1.93s\tremaining: 56.7s\n",
      "33:\tlearn: 2006.9242755\ttotal: 1.96s\tremaining: 55.7s\n",
      "34:\tlearn: 1997.3250552\ttotal: 1.99s\tremaining: 54.8s\n",
      "35:\tlearn: 1987.0035471\ttotal: 2.01s\tremaining: 53.9s\n",
      "36:\tlearn: 1975.9469649\ttotal: 2.04s\tremaining: 53.2s\n",
      "37:\tlearn: 1966.9231522\ttotal: 2.07s\tremaining: 52.4s\n",
      "38:\tlearn: 1958.8802491\ttotal: 2.1s\tremaining: 51.7s\n",
      "39:\tlearn: 1948.4104351\ttotal: 2.13s\tremaining: 51s\n",
      "40:\tlearn: 1941.5943178\ttotal: 2.15s\tremaining: 50.4s\n",
      "41:\tlearn: 1933.9116776\ttotal: 2.18s\tremaining: 49.7s\n",
      "42:\tlearn: 1925.0104246\ttotal: 2.21s\tremaining: 49.2s\n",
      "43:\tlearn: 1917.5414636\ttotal: 2.24s\tremaining: 48.6s\n",
      "44:\tlearn: 1911.3701778\ttotal: 2.26s\tremaining: 48.1s\n",
      "45:\tlearn: 1904.0586308\ttotal: 2.3s\tremaining: 47.6s\n",
      "46:\tlearn: 1895.5072630\ttotal: 2.33s\tremaining: 47.2s\n",
      "47:\tlearn: 1889.3267577\ttotal: 2.36s\tremaining: 46.7s\n",
      "48:\tlearn: 1884.3915467\ttotal: 2.38s\tremaining: 46.2s\n",
      "49:\tlearn: 1880.1487351\ttotal: 2.4s\tremaining: 45.7s\n",
      "50:\tlearn: 1874.8286748\ttotal: 2.44s\tremaining: 45.4s\n",
      "51:\tlearn: 1870.6382768\ttotal: 2.46s\tremaining: 44.9s\n",
      "52:\tlearn: 1864.9121203\ttotal: 2.49s\tremaining: 44.5s\n",
      "53:\tlearn: 1859.9196366\ttotal: 2.52s\tremaining: 44.2s\n",
      "54:\tlearn: 1854.9002998\ttotal: 2.55s\tremaining: 43.8s\n",
      "55:\tlearn: 1849.7331723\ttotal: 2.58s\tremaining: 43.4s\n",
      "56:\tlearn: 1844.8256737\ttotal: 2.61s\tremaining: 43.1s\n",
      "57:\tlearn: 1841.5638696\ttotal: 2.63s\tremaining: 42.8s\n",
      "58:\tlearn: 1838.6801308\ttotal: 2.66s\tremaining: 42.4s\n",
      "59:\tlearn: 1834.3204296\ttotal: 2.69s\tremaining: 42.1s\n",
      "60:\tlearn: 1830.6143404\ttotal: 2.71s\tremaining: 41.8s\n",
      "61:\tlearn: 1827.6378639\ttotal: 2.74s\tremaining: 41.4s\n",
      "62:\tlearn: 1823.6602568\ttotal: 2.77s\tremaining: 41.2s\n",
      "63:\tlearn: 1820.1487918\ttotal: 2.8s\tremaining: 41s\n",
      "64:\tlearn: 1815.8609695\ttotal: 2.83s\tremaining: 40.7s\n",
      "65:\tlearn: 1812.4868562\ttotal: 2.86s\tremaining: 40.4s\n",
      "66:\tlearn: 1807.6468472\ttotal: 2.88s\tremaining: 40.2s\n",
      "67:\tlearn: 1804.7654646\ttotal: 2.91s\tremaining: 39.9s\n",
      "68:\tlearn: 1802.2755632\ttotal: 2.94s\tremaining: 39.6s\n",
      "69:\tlearn: 1799.9184957\ttotal: 2.96s\tremaining: 39.4s\n",
      "70:\tlearn: 1796.7323341\ttotal: 2.99s\tremaining: 39.2s\n",
      "71:\tlearn: 1794.5632780\ttotal: 3.02s\tremaining: 38.9s\n",
      "72:\tlearn: 1791.9948427\ttotal: 3.05s\tremaining: 38.7s\n",
      "73:\tlearn: 1789.7970851\ttotal: 3.08s\tremaining: 38.5s\n",
      "74:\tlearn: 1787.2834626\ttotal: 3.14s\tremaining: 38.7s\n",
      "75:\tlearn: 1785.4187729\ttotal: 3.17s\tremaining: 38.5s\n",
      "76:\tlearn: 1783.6763831\ttotal: 3.19s\tremaining: 38.3s\n",
      "77:\tlearn: 1781.9860757\ttotal: 3.22s\tremaining: 38.1s\n",
      "78:\tlearn: 1779.7648599\ttotal: 3.25s\tremaining: 37.9s\n",
      "79:\tlearn: 1777.4009751\ttotal: 3.28s\tremaining: 37.7s\n",
      "80:\tlearn: 1775.5270707\ttotal: 3.3s\tremaining: 37.5s\n",
      "81:\tlearn: 1772.9848193\ttotal: 3.33s\tremaining: 37.3s\n",
      "82:\tlearn: 1770.8511366\ttotal: 3.36s\tremaining: 37.1s\n",
      "83:\tlearn: 1769.4683464\ttotal: 3.38s\tremaining: 36.9s\n",
      "84:\tlearn: 1767.3574695\ttotal: 3.41s\tremaining: 36.7s\n",
      "85:\tlearn: 1765.7115155\ttotal: 3.44s\tremaining: 36.5s\n",
      "86:\tlearn: 1764.3906780\ttotal: 3.46s\tremaining: 36.4s\n",
      "87:\tlearn: 1763.1262673\ttotal: 3.49s\tremaining: 36.2s\n",
      "88:\tlearn: 1761.3342981\ttotal: 3.52s\tremaining: 36s\n",
      "89:\tlearn: 1758.8065556\ttotal: 3.54s\tremaining: 35.8s\n",
      "90:\tlearn: 1756.3771618\ttotal: 3.57s\tremaining: 35.7s\n",
      "91:\tlearn: 1755.1549031\ttotal: 3.59s\tremaining: 35.5s\n",
      "92:\tlearn: 1751.6748858\ttotal: 3.62s\tremaining: 35.3s\n",
      "93:\tlearn: 1749.4695082\ttotal: 3.65s\tremaining: 35.2s\n",
      "94:\tlearn: 1747.8019952\ttotal: 3.68s\tremaining: 35.1s\n",
      "95:\tlearn: 1746.0071422\ttotal: 3.7s\tremaining: 34.9s\n",
      "96:\tlearn: 1743.6843188\ttotal: 3.73s\tremaining: 34.7s\n",
      "97:\tlearn: 1742.1147173\ttotal: 3.76s\tremaining: 34.6s\n",
      "98:\tlearn: 1739.9945717\ttotal: 3.79s\tremaining: 34.5s\n",
      "99:\tlearn: 1738.4854456\ttotal: 3.81s\tremaining: 34.3s\n",
      "100:\tlearn: 1737.3564217\ttotal: 3.84s\tremaining: 34.2s\n",
      "101:\tlearn: 1735.9089637\ttotal: 3.87s\tremaining: 34.1s\n",
      "102:\tlearn: 1734.3957127\ttotal: 3.9s\tremaining: 33.9s\n",
      "103:\tlearn: 1732.6653280\ttotal: 3.92s\tremaining: 33.8s\n",
      "104:\tlearn: 1731.3485114\ttotal: 3.95s\tremaining: 33.7s\n",
      "105:\tlearn: 1729.8264374\ttotal: 3.98s\tremaining: 33.6s\n",
      "106:\tlearn: 1728.5247022\ttotal: 4s\tremaining: 33.4s\n",
      "107:\tlearn: 1727.2434269\ttotal: 4.03s\tremaining: 33.3s\n",
      "108:\tlearn: 1726.0714556\ttotal: 4.06s\tremaining: 33.2s\n",
      "109:\tlearn: 1724.5665476\ttotal: 4.08s\tremaining: 33.1s\n",
      "110:\tlearn: 1722.0465626\ttotal: 4.11s\tremaining: 32.9s\n",
      "111:\tlearn: 1720.8393311\ttotal: 4.14s\tremaining: 32.8s\n",
      "112:\tlearn: 1719.6797978\ttotal: 4.16s\tremaining: 32.7s\n",
      "113:\tlearn: 1718.9236865\ttotal: 4.18s\tremaining: 32.5s\n",
      "114:\tlearn: 1717.6635574\ttotal: 4.21s\tremaining: 32.4s\n",
      "115:\tlearn: 1716.1340538\ttotal: 4.24s\tremaining: 32.3s\n",
      "116:\tlearn: 1715.1934190\ttotal: 4.27s\tremaining: 32.2s\n",
      "117:\tlearn: 1713.9484408\ttotal: 4.29s\tremaining: 32.1s\n",
      "118:\tlearn: 1713.2036738\ttotal: 4.32s\tremaining: 32s\n",
      "119:\tlearn: 1712.5125969\ttotal: 4.34s\tremaining: 31.8s\n",
      "120:\tlearn: 1711.6309811\ttotal: 4.37s\tremaining: 31.7s\n",
      "121:\tlearn: 1710.4806023\ttotal: 4.39s\tremaining: 31.6s\n",
      "122:\tlearn: 1709.3432494\ttotal: 4.42s\tremaining: 31.5s\n",
      "123:\tlearn: 1707.8756374\ttotal: 4.44s\tremaining: 31.4s\n",
      "124:\tlearn: 1706.7629782\ttotal: 4.47s\tremaining: 31.3s\n",
      "125:\tlearn: 1705.5041515\ttotal: 4.49s\tremaining: 31.2s\n",
      "126:\tlearn: 1704.2972162\ttotal: 4.52s\tremaining: 31.1s\n",
      "127:\tlearn: 1703.5348485\ttotal: 4.55s\tremaining: 31s\n",
      "128:\tlearn: 1702.6259154\ttotal: 4.59s\tremaining: 31s\n",
      "129:\tlearn: 1701.1999048\ttotal: 4.62s\tremaining: 30.9s\n",
      "130:\tlearn: 1700.4432078\ttotal: 4.64s\tremaining: 30.8s\n",
      "131:\tlearn: 1699.7793283\ttotal: 4.67s\tremaining: 30.7s\n",
      "132:\tlearn: 1698.0878592\ttotal: 4.69s\tremaining: 30.6s\n",
      "133:\tlearn: 1696.5628535\ttotal: 4.72s\tremaining: 30.5s\n",
      "134:\tlearn: 1694.9688771\ttotal: 4.75s\tremaining: 30.4s\n",
      "135:\tlearn: 1693.7034307\ttotal: 4.77s\tremaining: 30.3s\n",
      "136:\tlearn: 1692.5492101\ttotal: 4.8s\tremaining: 30.2s\n",
      "137:\tlearn: 1691.8502857\ttotal: 4.83s\tremaining: 30.2s\n",
      "138:\tlearn: 1690.5772171\ttotal: 4.85s\tremaining: 30.1s\n",
      "139:\tlearn: 1689.7562817\ttotal: 4.88s\tremaining: 30s\n",
      "140:\tlearn: 1688.6858703\ttotal: 4.91s\tremaining: 29.9s\n",
      "141:\tlearn: 1687.9764925\ttotal: 4.93s\tremaining: 29.8s\n",
      "142:\tlearn: 1687.4530020\ttotal: 5s\tremaining: 29.9s\n",
      "143:\tlearn: 1686.8238149\ttotal: 5.02s\tremaining: 29.9s\n",
      "144:\tlearn: 1686.1118834\ttotal: 5.05s\tremaining: 29.8s\n",
      "145:\tlearn: 1685.2130917\ttotal: 5.08s\tremaining: 29.7s\n",
      "146:\tlearn: 1683.3559529\ttotal: 5.1s\tremaining: 29.6s\n",
      "147:\tlearn: 1682.5059757\ttotal: 5.13s\tremaining: 29.5s\n",
      "148:\tlearn: 1681.8605503\ttotal: 5.15s\tremaining: 29.4s\n",
      "149:\tlearn: 1681.0761051\ttotal: 5.18s\tremaining: 29.4s\n",
      "150:\tlearn: 1680.0388108\ttotal: 5.21s\tremaining: 29.3s\n",
      "151:\tlearn: 1678.9820303\ttotal: 5.23s\tremaining: 29.2s\n",
      "152:\tlearn: 1678.0338470\ttotal: 5.26s\tremaining: 29.1s\n",
      "153:\tlearn: 1677.0682105\ttotal: 5.29s\tremaining: 29s\n",
      "154:\tlearn: 1675.7099363\ttotal: 5.32s\tremaining: 29s\n",
      "155:\tlearn: 1674.7756538\ttotal: 5.34s\tremaining: 28.9s\n",
      "156:\tlearn: 1673.9735484\ttotal: 5.37s\tremaining: 28.8s\n",
      "157:\tlearn: 1673.0294339\ttotal: 5.39s\tremaining: 28.7s\n",
      "158:\tlearn: 1672.2511662\ttotal: 5.42s\tremaining: 28.7s\n",
      "159:\tlearn: 1671.4470136\ttotal: 5.45s\tremaining: 28.6s\n",
      "160:\tlearn: 1670.8228267\ttotal: 5.47s\tremaining: 28.5s\n",
      "161:\tlearn: 1670.1888054\ttotal: 5.5s\tremaining: 28.4s\n",
      "162:\tlearn: 1669.2040575\ttotal: 5.53s\tremaining: 28.4s\n",
      "163:\tlearn: 1668.3157653\ttotal: 5.55s\tremaining: 28.3s\n",
      "164:\tlearn: 1667.3529061\ttotal: 5.58s\tremaining: 28.2s\n",
      "165:\tlearn: 1666.5261600\ttotal: 5.61s\tremaining: 28.2s\n",
      "166:\tlearn: 1666.0377752\ttotal: 5.63s\tremaining: 28.1s\n",
      "167:\tlearn: 1665.3790535\ttotal: 5.65s\tremaining: 28s\n",
      "168:\tlearn: 1664.4423736\ttotal: 5.68s\tremaining: 27.9s\n",
      "169:\tlearn: 1663.8076862\ttotal: 5.7s\tremaining: 27.9s\n",
      "170:\tlearn: 1662.8749870\ttotal: 5.73s\tremaining: 27.8s\n",
      "171:\tlearn: 1662.1971501\ttotal: 5.76s\tremaining: 27.7s\n",
      "172:\tlearn: 1661.7868140\ttotal: 5.78s\tremaining: 27.6s\n",
      "173:\tlearn: 1660.9892373\ttotal: 5.81s\tremaining: 27.6s\n",
      "174:\tlearn: 1660.1696759\ttotal: 5.83s\tremaining: 27.5s\n",
      "175:\tlearn: 1659.5462082\ttotal: 5.86s\tremaining: 27.4s\n",
      "176:\tlearn: 1658.9596830\ttotal: 5.89s\tremaining: 27.4s\n",
      "177:\tlearn: 1658.4024167\ttotal: 5.91s\tremaining: 27.3s\n",
      "178:\tlearn: 1657.6541377\ttotal: 5.94s\tremaining: 27.2s\n",
      "179:\tlearn: 1656.8805543\ttotal: 5.96s\tremaining: 27.2s\n",
      "180:\tlearn: 1656.4033634\ttotal: 5.99s\tremaining: 27.1s\n",
      "181:\tlearn: 1655.3171761\ttotal: 6.01s\tremaining: 27s\n",
      "182:\tlearn: 1654.6186630\ttotal: 6.04s\tremaining: 27s\n",
      "183:\tlearn: 1654.2442695\ttotal: 6.06s\tremaining: 26.9s\n",
      "184:\tlearn: 1653.4472216\ttotal: 6.09s\tremaining: 26.8s\n",
      "185:\tlearn: 1652.4752147\ttotal: 6.12s\tremaining: 26.8s\n",
      "186:\tlearn: 1651.6221120\ttotal: 6.15s\tremaining: 26.7s\n",
      "187:\tlearn: 1651.2094565\ttotal: 6.17s\tremaining: 26.7s\n",
      "188:\tlearn: 1650.4547144\ttotal: 6.2s\tremaining: 26.6s\n",
      "189:\tlearn: 1649.5057150\ttotal: 6.22s\tremaining: 26.5s\n",
      "190:\tlearn: 1649.1438864\ttotal: 6.25s\tremaining: 26.5s\n",
      "191:\tlearn: 1648.3586135\ttotal: 6.28s\tremaining: 26.4s\n",
      "192:\tlearn: 1647.7669169\ttotal: 6.3s\tremaining: 26.4s\n",
      "193:\tlearn: 1647.1635859\ttotal: 6.33s\tremaining: 26.3s\n",
      "194:\tlearn: 1646.5413236\ttotal: 6.36s\tremaining: 26.2s\n",
      "195:\tlearn: 1645.8859987\ttotal: 6.38s\tremaining: 26.2s\n",
      "196:\tlearn: 1645.1666374\ttotal: 6.41s\tremaining: 26.1s\n",
      "197:\tlearn: 1644.6530607\ttotal: 6.44s\tremaining: 26.1s\n",
      "198:\tlearn: 1643.8868879\ttotal: 6.46s\tremaining: 26s\n",
      "199:\tlearn: 1643.2217504\ttotal: 6.5s\tremaining: 26s\n",
      "200:\tlearn: 1642.5556483\ttotal: 6.52s\tremaining: 25.9s\n",
      "201:\tlearn: 1641.8731712\ttotal: 6.55s\tremaining: 25.9s\n",
      "202:\tlearn: 1641.0154712\ttotal: 6.57s\tremaining: 25.8s\n",
      "203:\tlearn: 1640.5499816\ttotal: 6.59s\tremaining: 25.7s\n",
      "204:\tlearn: 1639.8018305\ttotal: 6.62s\tremaining: 25.7s\n",
      "205:\tlearn: 1639.1424846\ttotal: 6.64s\tremaining: 25.6s\n",
      "206:\tlearn: 1638.5223151\ttotal: 6.66s\tremaining: 25.5s\n",
      "207:\tlearn: 1637.7607404\ttotal: 6.69s\tremaining: 25.5s\n",
      "208:\tlearn: 1637.3272795\ttotal: 6.72s\tremaining: 25.4s\n",
      "209:\tlearn: 1636.7628631\ttotal: 6.74s\tremaining: 25.4s\n",
      "210:\tlearn: 1636.0605992\ttotal: 6.77s\tremaining: 25.3s\n",
      "211:\tlearn: 1635.5406199\ttotal: 6.79s\tremaining: 25.3s\n",
      "212:\tlearn: 1634.9801898\ttotal: 6.82s\tremaining: 25.2s\n",
      "213:\tlearn: 1634.5957327\ttotal: 6.84s\tremaining: 25.1s\n",
      "214:\tlearn: 1633.1335884\ttotal: 6.87s\tremaining: 25.1s\n",
      "215:\tlearn: 1632.3913390\ttotal: 6.89s\tremaining: 25s\n",
      "216:\tlearn: 1631.9751406\ttotal: 6.92s\tremaining: 25s\n",
      "217:\tlearn: 1631.6101724\ttotal: 6.94s\tremaining: 24.9s\n",
      "218:\tlearn: 1631.1410887\ttotal: 6.96s\tremaining: 24.8s\n",
      "219:\tlearn: 1630.3131591\ttotal: 6.98s\tremaining: 24.8s\n",
      "220:\tlearn: 1629.8161006\ttotal: 7s\tremaining: 24.7s\n",
      "221:\tlearn: 1628.9470279\ttotal: 7.03s\tremaining: 24.6s\n",
      "222:\tlearn: 1628.2520513\ttotal: 7.05s\tremaining: 24.6s\n",
      "223:\tlearn: 1627.5554015\ttotal: 7.07s\tremaining: 24.5s\n",
      "224:\tlearn: 1626.9717018\ttotal: 7.1s\tremaining: 24.4s\n",
      "225:\tlearn: 1626.5398909\ttotal: 7.12s\tremaining: 24.4s\n",
      "226:\tlearn: 1625.7323965\ttotal: 7.14s\tremaining: 24.3s\n",
      "227:\tlearn: 1625.2954913\ttotal: 7.16s\tremaining: 24.3s\n",
      "228:\tlearn: 1624.7798184\ttotal: 7.18s\tremaining: 24.2s\n",
      "229:\tlearn: 1624.0950064\ttotal: 7.21s\tremaining: 24.1s\n",
      "230:\tlearn: 1623.1733235\ttotal: 7.24s\tremaining: 24.1s\n",
      "231:\tlearn: 1622.6029351\ttotal: 7.26s\tremaining: 24s\n",
      "232:\tlearn: 1621.9180751\ttotal: 7.29s\tremaining: 24s\n",
      "233:\tlearn: 1621.5513461\ttotal: 7.32s\tremaining: 24s\n",
      "234:\tlearn: 1621.1166188\ttotal: 7.34s\tremaining: 23.9s\n",
      "235:\tlearn: 1620.5792229\ttotal: 7.37s\tremaining: 23.8s\n",
      "236:\tlearn: 1620.0068095\ttotal: 7.39s\tremaining: 23.8s\n",
      "237:\tlearn: 1619.4633858\ttotal: 7.42s\tremaining: 23.7s\n",
      "238:\tlearn: 1619.0338731\ttotal: 7.44s\tremaining: 23.7s\n",
      "239:\tlearn: 1618.5890933\ttotal: 7.46s\tremaining: 23.6s\n",
      "240:\tlearn: 1618.1651723\ttotal: 7.48s\tremaining: 23.6s\n",
      "241:\tlearn: 1617.8784693\ttotal: 7.5s\tremaining: 23.5s\n",
      "242:\tlearn: 1617.1917062\ttotal: 7.53s\tremaining: 23.5s\n",
      "243:\tlearn: 1616.3787173\ttotal: 7.56s\tremaining: 23.4s\n",
      "244:\tlearn: 1616.0328363\ttotal: 7.58s\tremaining: 23.4s\n",
      "245:\tlearn: 1615.7548859\ttotal: 7.6s\tremaining: 23.3s\n",
      "246:\tlearn: 1615.4142621\ttotal: 7.62s\tremaining: 23.2s\n",
      "247:\tlearn: 1615.0089045\ttotal: 7.64s\tremaining: 23.2s\n",
      "248:\tlearn: 1614.3331117\ttotal: 7.67s\tremaining: 23.1s\n",
      "249:\tlearn: 1613.7825714\ttotal: 7.69s\tremaining: 23.1s\n",
      "250:\tlearn: 1613.3117378\ttotal: 7.72s\tremaining: 23s\n",
      "251:\tlearn: 1612.6712224\ttotal: 7.75s\tremaining: 23s\n",
      "252:\tlearn: 1612.1419827\ttotal: 7.77s\tremaining: 22.9s\n",
      "253:\tlearn: 1611.6265499\ttotal: 7.8s\tremaining: 22.9s\n",
      "254:\tlearn: 1611.4109567\ttotal: 7.82s\tremaining: 22.9s\n",
      "255:\tlearn: 1610.8844918\ttotal: 7.85s\tremaining: 22.8s\n",
      "256:\tlearn: 1610.6532241\ttotal: 7.87s\tremaining: 22.8s\n",
      "257:\tlearn: 1610.1185221\ttotal: 7.9s\tremaining: 22.7s\n",
      "258:\tlearn: 1609.8060646\ttotal: 7.92s\tremaining: 22.7s\n",
      "259:\tlearn: 1608.9714692\ttotal: 7.95s\tremaining: 22.6s\n",
      "260:\tlearn: 1608.6714229\ttotal: 7.98s\tremaining: 22.6s\n",
      "261:\tlearn: 1608.2091500\ttotal: 8.01s\tremaining: 22.6s\n",
      "262:\tlearn: 1607.9582962\ttotal: 8.03s\tremaining: 22.5s\n",
      "263:\tlearn: 1607.5760354\ttotal: 8.06s\tremaining: 22.5s\n",
      "264:\tlearn: 1607.0452512\ttotal: 8.09s\tremaining: 22.4s\n",
      "265:\tlearn: 1606.5924156\ttotal: 8.12s\tremaining: 22.4s\n",
      "266:\tlearn: 1606.2507606\ttotal: 8.14s\tremaining: 22.3s\n",
      "267:\tlearn: 1605.9166101\ttotal: 8.16s\tremaining: 22.3s\n",
      "268:\tlearn: 1605.3126441\ttotal: 8.19s\tremaining: 22.3s\n",
      "269:\tlearn: 1605.0031443\ttotal: 8.22s\tremaining: 22.2s\n",
      "270:\tlearn: 1604.6897327\ttotal: 8.25s\tremaining: 22.2s\n",
      "271:\tlearn: 1604.1922612\ttotal: 8.28s\tremaining: 22.1s\n",
      "272:\tlearn: 1603.7467652\ttotal: 8.3s\tremaining: 22.1s\n",
      "273:\tlearn: 1603.3424727\ttotal: 8.32s\tremaining: 22.1s\n",
      "274:\tlearn: 1602.9659654\ttotal: 8.35s\tremaining: 22s\n",
      "275:\tlearn: 1602.5316147\ttotal: 8.38s\tremaining: 22s\n",
      "276:\tlearn: 1602.2240719\ttotal: 8.4s\tremaining: 21.9s\n",
      "277:\tlearn: 1601.5819919\ttotal: 8.43s\tremaining: 21.9s\n",
      "278:\tlearn: 1600.6880304\ttotal: 8.46s\tremaining: 21.9s\n",
      "279:\tlearn: 1600.0285973\ttotal: 8.49s\tremaining: 21.8s\n",
      "280:\tlearn: 1599.7329536\ttotal: 8.51s\tremaining: 21.8s\n",
      "281:\tlearn: 1598.9952433\ttotal: 8.54s\tremaining: 21.7s\n",
      "282:\tlearn: 1598.5083246\ttotal: 8.57s\tremaining: 21.7s\n",
      "283:\tlearn: 1598.1334576\ttotal: 8.6s\tremaining: 21.7s\n",
      "284:\tlearn: 1597.6559266\ttotal: 8.63s\tremaining: 21.6s\n",
      "285:\tlearn: 1597.2890130\ttotal: 8.65s\tremaining: 21.6s\n",
      "286:\tlearn: 1596.6937721\ttotal: 8.68s\tremaining: 21.6s\n",
      "287:\tlearn: 1596.1478742\ttotal: 8.71s\tremaining: 21.5s\n",
      "288:\tlearn: 1595.7363220\ttotal: 8.74s\tremaining: 21.5s\n",
      "289:\tlearn: 1595.3309371\ttotal: 8.76s\tremaining: 21.5s\n",
      "290:\tlearn: 1594.7652238\ttotal: 8.79s\tremaining: 21.4s\n",
      "291:\tlearn: 1594.6024563\ttotal: 8.81s\tremaining: 21.4s\n",
      "292:\tlearn: 1594.3951184\ttotal: 8.84s\tremaining: 21.3s\n",
      "293:\tlearn: 1594.1204428\ttotal: 8.87s\tremaining: 21.3s\n",
      "294:\tlearn: 1593.6055935\ttotal: 8.89s\tremaining: 21.3s\n",
      "295:\tlearn: 1593.1286775\ttotal: 8.92s\tremaining: 21.2s\n",
      "296:\tlearn: 1592.6586540\ttotal: 8.95s\tremaining: 21.2s\n",
      "297:\tlearn: 1592.2838802\ttotal: 8.97s\tremaining: 21.1s\n",
      "298:\tlearn: 1591.5424039\ttotal: 9s\tremaining: 21.1s\n",
      "299:\tlearn: 1590.8885113\ttotal: 9.02s\tremaining: 21.1s\n",
      "300:\tlearn: 1590.4112700\ttotal: 9.05s\tremaining: 21s\n",
      "301:\tlearn: 1589.9984139\ttotal: 9.08s\tremaining: 21s\n",
      "302:\tlearn: 1589.7107978\ttotal: 9.11s\tremaining: 20.9s\n",
      "303:\tlearn: 1589.2868074\ttotal: 9.14s\tremaining: 20.9s\n",
      "304:\tlearn: 1589.0541594\ttotal: 9.16s\tremaining: 20.9s\n",
      "305:\tlearn: 1588.5253159\ttotal: 9.19s\tremaining: 20.8s\n",
      "306:\tlearn: 1587.9271465\ttotal: 9.22s\tremaining: 20.8s\n",
      "307:\tlearn: 1587.3027409\ttotal: 9.25s\tremaining: 20.8s\n",
      "308:\tlearn: 1586.7717698\ttotal: 9.28s\tremaining: 20.7s\n",
      "309:\tlearn: 1586.4757975\ttotal: 9.3s\tremaining: 20.7s\n",
      "310:\tlearn: 1585.9391202\ttotal: 9.33s\tremaining: 20.7s\n",
      "311:\tlearn: 1585.6671762\ttotal: 9.36s\tremaining: 20.6s\n",
      "312:\tlearn: 1585.3647235\ttotal: 9.38s\tremaining: 20.6s\n",
      "313:\tlearn: 1585.1661900\ttotal: 9.41s\tremaining: 20.6s\n",
      "314:\tlearn: 1584.9079933\ttotal: 9.43s\tremaining: 20.5s\n",
      "315:\tlearn: 1584.6359446\ttotal: 9.46s\tremaining: 20.5s\n",
      "316:\tlearn: 1584.2865992\ttotal: 9.48s\tremaining: 20.4s\n",
      "317:\tlearn: 1583.9634548\ttotal: 9.51s\tremaining: 20.4s\n",
      "318:\tlearn: 1583.4685826\ttotal: 9.54s\tremaining: 20.4s\n",
      "319:\tlearn: 1583.0965447\ttotal: 9.56s\tremaining: 20.3s\n",
      "320:\tlearn: 1582.7569326\ttotal: 9.59s\tremaining: 20.3s\n",
      "321:\tlearn: 1582.4980215\ttotal: 9.61s\tremaining: 20.2s\n",
      "322:\tlearn: 1582.1206802\ttotal: 9.64s\tremaining: 20.2s\n",
      "323:\tlearn: 1581.5387906\ttotal: 9.67s\tremaining: 20.2s\n",
      "324:\tlearn: 1580.7377885\ttotal: 9.7s\tremaining: 20.2s\n",
      "325:\tlearn: 1580.3165900\ttotal: 9.73s\tremaining: 20.1s\n",
      "326:\tlearn: 1580.1174470\ttotal: 9.76s\tremaining: 20.1s\n",
      "327:\tlearn: 1579.7622971\ttotal: 9.79s\tremaining: 20s\n",
      "328:\tlearn: 1579.3344114\ttotal: 9.81s\tremaining: 20s\n",
      "329:\tlearn: 1579.1789203\ttotal: 9.84s\tremaining: 20s\n",
      "330:\tlearn: 1578.8056996\ttotal: 9.86s\tremaining: 19.9s\n",
      "331:\tlearn: 1578.4837564\ttotal: 9.89s\tremaining: 19.9s\n",
      "332:\tlearn: 1578.1341554\ttotal: 9.92s\tremaining: 19.9s\n",
      "333:\tlearn: 1577.9049647\ttotal: 9.94s\tremaining: 19.8s\n",
      "334:\tlearn: 1577.5509652\ttotal: 9.96s\tremaining: 19.8s\n",
      "335:\tlearn: 1577.3343612\ttotal: 9.99s\tremaining: 19.7s\n",
      "336:\tlearn: 1576.5879293\ttotal: 10s\tremaining: 19.7s\n",
      "337:\tlearn: 1576.1834205\ttotal: 10s\tremaining: 19.7s\n",
      "338:\tlearn: 1575.6968323\ttotal: 10.1s\tremaining: 19.6s\n",
      "339:\tlearn: 1575.1323650\ttotal: 10.1s\tremaining: 19.6s\n",
      "340:\tlearn: 1574.8734288\ttotal: 10.1s\tremaining: 19.6s\n",
      "341:\tlearn: 1574.5651025\ttotal: 10.2s\tremaining: 19.6s\n",
      "342:\tlearn: 1574.2138546\ttotal: 10.2s\tremaining: 19.5s\n",
      "343:\tlearn: 1573.9708159\ttotal: 10.2s\tremaining: 19.5s\n",
      "344:\tlearn: 1573.6741487\ttotal: 10.2s\tremaining: 19.4s\n",
      "345:\tlearn: 1573.3630598\ttotal: 10.3s\tremaining: 19.4s\n",
      "346:\tlearn: 1572.5946703\ttotal: 10.3s\tremaining: 19.4s\n",
      "347:\tlearn: 1572.1607720\ttotal: 10.3s\tremaining: 19.3s\n",
      "348:\tlearn: 1571.7234402\ttotal: 10.4s\tremaining: 19.3s\n",
      "349:\tlearn: 1571.4225242\ttotal: 10.4s\tremaining: 19.3s\n",
      "350:\tlearn: 1571.0057569\ttotal: 10.4s\tremaining: 19.2s\n",
      "351:\tlearn: 1570.5967574\ttotal: 10.4s\tremaining: 19.2s\n",
      "352:\tlearn: 1570.2355828\ttotal: 10.5s\tremaining: 19.2s\n",
      "353:\tlearn: 1569.8675599\ttotal: 10.5s\tremaining: 19.1s\n",
      "354:\tlearn: 1569.5283106\ttotal: 10.5s\tremaining: 19.1s\n",
      "355:\tlearn: 1569.0779241\ttotal: 10.5s\tremaining: 19.1s\n",
      "356:\tlearn: 1568.6184414\ttotal: 10.6s\tremaining: 19s\n",
      "357:\tlearn: 1568.2221583\ttotal: 10.6s\tremaining: 19s\n",
      "358:\tlearn: 1568.0164278\ttotal: 10.6s\tremaining: 19s\n",
      "359:\tlearn: 1567.6103801\ttotal: 10.7s\tremaining: 18.9s\n",
      "360:\tlearn: 1567.4410809\ttotal: 10.7s\tremaining: 18.9s\n",
      "361:\tlearn: 1567.1149789\ttotal: 10.7s\tremaining: 18.9s\n",
      "362:\tlearn: 1566.7451877\ttotal: 10.7s\tremaining: 18.8s\n",
      "363:\tlearn: 1566.5817495\ttotal: 10.8s\tremaining: 18.8s\n",
      "364:\tlearn: 1566.3795510\ttotal: 10.8s\tremaining: 18.8s\n",
      "365:\tlearn: 1565.9951194\ttotal: 10.8s\tremaining: 18.7s\n",
      "366:\tlearn: 1565.3724822\ttotal: 10.8s\tremaining: 18.7s\n",
      "367:\tlearn: 1565.1454965\ttotal: 10.9s\tremaining: 18.7s\n",
      "368:\tlearn: 1564.9366744\ttotal: 10.9s\tremaining: 18.6s\n",
      "369:\tlearn: 1564.6984534\ttotal: 10.9s\tremaining: 18.6s\n",
      "370:\tlearn: 1564.5057733\ttotal: 10.9s\tremaining: 18.6s\n",
      "371:\tlearn: 1564.2604282\ttotal: 11s\tremaining: 18.5s\n",
      "372:\tlearn: 1564.0295639\ttotal: 11s\tremaining: 18.5s\n",
      "373:\tlearn: 1563.6478957\ttotal: 11s\tremaining: 18.5s\n",
      "374:\tlearn: 1563.4149657\ttotal: 11.1s\tremaining: 18.4s\n",
      "375:\tlearn: 1563.1642836\ttotal: 11.1s\tremaining: 18.4s\n",
      "376:\tlearn: 1562.8445508\ttotal: 11.1s\tremaining: 18.4s\n",
      "377:\tlearn: 1562.4155727\ttotal: 11.1s\tremaining: 18.3s\n",
      "378:\tlearn: 1562.1939787\ttotal: 11.2s\tremaining: 18.3s\n",
      "379:\tlearn: 1561.9733700\ttotal: 11.2s\tremaining: 18.3s\n",
      "380:\tlearn: 1561.6595752\ttotal: 11.2s\tremaining: 18.2s\n",
      "381:\tlearn: 1561.1797317\ttotal: 11.2s\tremaining: 18.2s\n",
      "382:\tlearn: 1560.8355274\ttotal: 11.3s\tremaining: 18.2s\n",
      "383:\tlearn: 1560.5260704\ttotal: 11.3s\tremaining: 18.1s\n",
      "384:\tlearn: 1560.3063193\ttotal: 11.3s\tremaining: 18.1s\n",
      "385:\tlearn: 1559.9995115\ttotal: 11.3s\tremaining: 18.1s\n",
      "386:\tlearn: 1559.6200204\ttotal: 11.4s\tremaining: 18s\n",
      "387:\tlearn: 1559.2478960\ttotal: 11.4s\tremaining: 18s\n",
      "388:\tlearn: 1559.0582271\ttotal: 11.4s\tremaining: 18s\n",
      "389:\tlearn: 1558.6802585\ttotal: 11.5s\tremaining: 17.9s\n",
      "390:\tlearn: 1558.4102480\ttotal: 11.5s\tremaining: 17.9s\n",
      "391:\tlearn: 1558.2415678\ttotal: 11.5s\tremaining: 17.9s\n",
      "392:\tlearn: 1557.9688309\ttotal: 11.5s\tremaining: 17.8s\n",
      "393:\tlearn: 1557.8228262\ttotal: 11.6s\tremaining: 17.8s\n",
      "394:\tlearn: 1557.5920768\ttotal: 11.6s\tremaining: 17.8s\n",
      "395:\tlearn: 1557.3574560\ttotal: 11.6s\tremaining: 17.7s\n",
      "396:\tlearn: 1557.1816605\ttotal: 11.6s\tremaining: 17.7s\n",
      "397:\tlearn: 1557.0386982\ttotal: 11.7s\tremaining: 17.6s\n",
      "398:\tlearn: 1556.7203305\ttotal: 11.7s\tremaining: 17.6s\n",
      "399:\tlearn: 1556.3823466\ttotal: 11.7s\tremaining: 17.6s\n",
      "400:\tlearn: 1556.0438328\ttotal: 11.8s\tremaining: 17.6s\n",
      "401:\tlearn: 1555.8347512\ttotal: 11.8s\tremaining: 17.5s\n",
      "402:\tlearn: 1555.5311712\ttotal: 11.8s\tremaining: 17.5s\n",
      "403:\tlearn: 1555.2140189\ttotal: 11.8s\tremaining: 17.5s\n",
      "404:\tlearn: 1554.9921428\ttotal: 11.9s\tremaining: 17.4s\n",
      "405:\tlearn: 1554.7715121\ttotal: 11.9s\tremaining: 17.4s\n",
      "406:\tlearn: 1554.3564427\ttotal: 11.9s\tremaining: 17.4s\n",
      "407:\tlearn: 1554.0535163\ttotal: 11.9s\tremaining: 17.3s\n",
      "408:\tlearn: 1553.8280870\ttotal: 12s\tremaining: 17.3s\n",
      "409:\tlearn: 1553.6233896\ttotal: 12s\tremaining: 17.3s\n",
      "410:\tlearn: 1553.3667964\ttotal: 12s\tremaining: 17.2s\n",
      "411:\tlearn: 1553.0962082\ttotal: 12s\tremaining: 17.2s\n",
      "412:\tlearn: 1552.9201008\ttotal: 12.1s\tremaining: 17.2s\n",
      "413:\tlearn: 1552.5588623\ttotal: 12.1s\tremaining: 17.1s\n",
      "414:\tlearn: 1551.9838278\ttotal: 12.1s\tremaining: 17.1s\n",
      "415:\tlearn: 1551.8021130\ttotal: 12.2s\tremaining: 17.1s\n",
      "416:\tlearn: 1551.5144565\ttotal: 12.2s\tremaining: 17.1s\n",
      "417:\tlearn: 1551.2547285\ttotal: 12.2s\tremaining: 17s\n",
      "418:\tlearn: 1551.0056615\ttotal: 12.3s\tremaining: 17s\n",
      "419:\tlearn: 1550.6403786\ttotal: 12.3s\tremaining: 17s\n",
      "420:\tlearn: 1550.1128193\ttotal: 12.3s\tremaining: 16.9s\n",
      "421:\tlearn: 1549.8575080\ttotal: 12.3s\tremaining: 16.9s\n",
      "422:\tlearn: 1549.6233712\ttotal: 12.4s\tremaining: 16.9s\n",
      "423:\tlearn: 1549.4280100\ttotal: 12.4s\tremaining: 16.8s\n",
      "424:\tlearn: 1549.2547488\ttotal: 12.4s\tremaining: 16.8s\n",
      "425:\tlearn: 1549.0145536\ttotal: 12.4s\tremaining: 16.8s\n",
      "426:\tlearn: 1548.8819148\ttotal: 12.5s\tremaining: 16.7s\n",
      "427:\tlearn: 1548.6645383\ttotal: 12.5s\tremaining: 16.7s\n",
      "428:\tlearn: 1548.4520621\ttotal: 12.5s\tremaining: 16.7s\n",
      "429:\tlearn: 1548.2665157\ttotal: 12.5s\tremaining: 16.6s\n",
      "430:\tlearn: 1547.9323387\ttotal: 12.6s\tremaining: 16.6s\n",
      "431:\tlearn: 1547.3921113\ttotal: 12.6s\tremaining: 16.6s\n",
      "432:\tlearn: 1547.2698431\ttotal: 12.6s\tremaining: 16.5s\n",
      "433:\tlearn: 1546.9711950\ttotal: 12.7s\tremaining: 16.5s\n",
      "434:\tlearn: 1546.8487012\ttotal: 12.7s\tremaining: 16.5s\n",
      "435:\tlearn: 1546.6538569\ttotal: 12.7s\tremaining: 16.5s\n",
      "436:\tlearn: 1546.4930888\ttotal: 12.8s\tremaining: 16.4s\n",
      "437:\tlearn: 1546.3025148\ttotal: 12.8s\tremaining: 16.4s\n",
      "438:\tlearn: 1546.0948252\ttotal: 12.8s\tremaining: 16.4s\n",
      "439:\tlearn: 1545.9141930\ttotal: 12.8s\tremaining: 16.3s\n",
      "440:\tlearn: 1545.5854603\ttotal: 12.9s\tremaining: 16.3s\n",
      "441:\tlearn: 1545.3245096\ttotal: 12.9s\tremaining: 16.3s\n",
      "442:\tlearn: 1545.1497870\ttotal: 12.9s\tremaining: 16.2s\n",
      "443:\tlearn: 1544.8763181\ttotal: 12.9s\tremaining: 16.2s\n",
      "444:\tlearn: 1544.7198381\ttotal: 13s\tremaining: 16.2s\n",
      "445:\tlearn: 1544.4248271\ttotal: 13s\tremaining: 16.2s\n",
      "446:\tlearn: 1544.1251320\ttotal: 13s\tremaining: 16.1s\n",
      "447:\tlearn: 1543.9079719\ttotal: 13.1s\tremaining: 16.1s\n",
      "448:\tlearn: 1543.6324738\ttotal: 13.1s\tremaining: 16.1s\n",
      "449:\tlearn: 1543.4382362\ttotal: 13.1s\tremaining: 16s\n",
      "450:\tlearn: 1543.2497565\ttotal: 13.1s\tremaining: 16s\n",
      "451:\tlearn: 1543.0909485\ttotal: 13.2s\tremaining: 16s\n",
      "452:\tlearn: 1542.9587134\ttotal: 13.2s\tremaining: 15.9s\n",
      "453:\tlearn: 1542.7342560\ttotal: 13.2s\tremaining: 15.9s\n",
      "454:\tlearn: 1542.5244484\ttotal: 13.2s\tremaining: 15.9s\n",
      "455:\tlearn: 1542.2047177\ttotal: 13.3s\tremaining: 15.8s\n",
      "456:\tlearn: 1542.0348902\ttotal: 13.3s\tremaining: 15.8s\n",
      "457:\tlearn: 1541.7880390\ttotal: 13.3s\tremaining: 15.8s\n",
      "458:\tlearn: 1541.5690293\ttotal: 13.4s\tremaining: 15.7s\n",
      "459:\tlearn: 1541.2988967\ttotal: 13.4s\tremaining: 15.7s\n",
      "460:\tlearn: 1541.1063346\ttotal: 13.4s\tremaining: 15.7s\n",
      "461:\tlearn: 1540.9004526\ttotal: 13.4s\tremaining: 15.7s\n",
      "462:\tlearn: 1540.6686661\ttotal: 13.5s\tremaining: 15.6s\n",
      "463:\tlearn: 1540.1157295\ttotal: 13.5s\tremaining: 15.6s\n",
      "464:\tlearn: 1539.9593629\ttotal: 13.5s\tremaining: 15.6s\n",
      "465:\tlearn: 1539.6021447\ttotal: 13.6s\tremaining: 15.5s\n",
      "466:\tlearn: 1539.4458697\ttotal: 13.6s\tremaining: 15.5s\n",
      "467:\tlearn: 1539.2933771\ttotal: 13.6s\tremaining: 15.5s\n",
      "468:\tlearn: 1539.1083695\ttotal: 13.6s\tremaining: 15.4s\n",
      "469:\tlearn: 1538.9298290\ttotal: 13.7s\tremaining: 15.4s\n",
      "470:\tlearn: 1538.7155181\ttotal: 13.7s\tremaining: 15.4s\n",
      "471:\tlearn: 1538.6118931\ttotal: 13.7s\tremaining: 15.3s\n",
      "472:\tlearn: 1538.0910660\ttotal: 13.7s\tremaining: 15.3s\n",
      "473:\tlearn: 1537.9253714\ttotal: 13.8s\tremaining: 15.3s\n",
      "474:\tlearn: 1537.7447592\ttotal: 13.8s\tremaining: 15.2s\n",
      "475:\tlearn: 1537.4168151\ttotal: 13.8s\tremaining: 15.2s\n",
      "476:\tlearn: 1537.0543181\ttotal: 13.8s\tremaining: 15.2s\n",
      "477:\tlearn: 1536.9238092\ttotal: 13.9s\tremaining: 15.1s\n",
      "478:\tlearn: 1536.6917571\ttotal: 13.9s\tremaining: 15.1s\n",
      "479:\tlearn: 1536.5776160\ttotal: 13.9s\tremaining: 15.1s\n",
      "480:\tlearn: 1536.3374313\ttotal: 13.9s\tremaining: 15.1s\n",
      "481:\tlearn: 1535.9501861\ttotal: 14s\tremaining: 15s\n",
      "482:\tlearn: 1535.7370869\ttotal: 14s\tremaining: 15s\n",
      "483:\tlearn: 1535.4331541\ttotal: 14s\tremaining: 15s\n",
      "484:\tlearn: 1535.1708289\ttotal: 14.1s\tremaining: 14.9s\n",
      "485:\tlearn: 1534.9739109\ttotal: 14.1s\tremaining: 14.9s\n",
      "486:\tlearn: 1534.8223880\ttotal: 14.1s\tremaining: 14.9s\n",
      "487:\tlearn: 1534.6246586\ttotal: 14.1s\tremaining: 14.8s\n",
      "488:\tlearn: 1534.3876280\ttotal: 14.2s\tremaining: 14.8s\n",
      "489:\tlearn: 1534.2056243\ttotal: 14.2s\tremaining: 14.8s\n",
      "490:\tlearn: 1533.9906394\ttotal: 14.2s\tremaining: 14.7s\n",
      "491:\tlearn: 1533.7244792\ttotal: 14.2s\tremaining: 14.7s\n",
      "492:\tlearn: 1533.5605757\ttotal: 14.3s\tremaining: 14.7s\n",
      "493:\tlearn: 1533.3170111\ttotal: 14.3s\tremaining: 14.6s\n",
      "494:\tlearn: 1533.0866389\ttotal: 14.3s\tremaining: 14.6s\n",
      "495:\tlearn: 1532.8354127\ttotal: 14.3s\tremaining: 14.6s\n",
      "496:\tlearn: 1532.6496537\ttotal: 14.4s\tremaining: 14.5s\n",
      "497:\tlearn: 1532.4816860\ttotal: 14.4s\tremaining: 14.5s\n",
      "498:\tlearn: 1532.2403908\ttotal: 14.4s\tremaining: 14.5s\n",
      "499:\tlearn: 1532.0820390\ttotal: 14.4s\tremaining: 14.4s\n",
      "500:\tlearn: 1531.8051117\ttotal: 14.5s\tremaining: 14.4s\n",
      "501:\tlearn: 1531.5368107\ttotal: 14.5s\tremaining: 14.4s\n",
      "502:\tlearn: 1531.2645213\ttotal: 14.5s\tremaining: 14.4s\n",
      "503:\tlearn: 1531.0611012\ttotal: 14.6s\tremaining: 14.3s\n",
      "504:\tlearn: 1530.8349748\ttotal: 14.6s\tremaining: 14.3s\n",
      "505:\tlearn: 1530.5863457\ttotal: 14.6s\tremaining: 14.3s\n",
      "506:\tlearn: 1530.3832631\ttotal: 14.6s\tremaining: 14.2s\n",
      "507:\tlearn: 1530.3094424\ttotal: 14.7s\tremaining: 14.2s\n",
      "508:\tlearn: 1529.9400612\ttotal: 14.7s\tremaining: 14.2s\n",
      "509:\tlearn: 1529.5402665\ttotal: 14.7s\tremaining: 14.1s\n",
      "510:\tlearn: 1529.3062529\ttotal: 14.7s\tremaining: 14.1s\n",
      "511:\tlearn: 1529.0624581\ttotal: 14.8s\tremaining: 14.1s\n",
      "512:\tlearn: 1528.8144342\ttotal: 14.8s\tremaining: 14.1s\n",
      "513:\tlearn: 1528.6922132\ttotal: 14.9s\tremaining: 14s\n",
      "514:\tlearn: 1528.5825657\ttotal: 14.9s\tremaining: 14s\n",
      "515:\tlearn: 1528.3483313\ttotal: 14.9s\tremaining: 14s\n",
      "516:\tlearn: 1528.0588394\ttotal: 14.9s\tremaining: 14s\n",
      "517:\tlearn: 1527.8959448\ttotal: 15s\tremaining: 13.9s\n",
      "518:\tlearn: 1527.6744273\ttotal: 15s\tremaining: 13.9s\n",
      "519:\tlearn: 1527.4196363\ttotal: 15s\tremaining: 13.9s\n",
      "520:\tlearn: 1527.2835939\ttotal: 15.1s\tremaining: 13.8s\n",
      "521:\tlearn: 1527.0991543\ttotal: 15.1s\tremaining: 13.8s\n",
      "522:\tlearn: 1526.8275343\ttotal: 15.1s\tremaining: 13.8s\n",
      "523:\tlearn: 1526.6442462\ttotal: 15.1s\tremaining: 13.8s\n",
      "524:\tlearn: 1526.3159055\ttotal: 15.2s\tremaining: 13.7s\n",
      "525:\tlearn: 1526.1463194\ttotal: 15.2s\tremaining: 13.7s\n",
      "526:\tlearn: 1525.9472593\ttotal: 15.2s\tremaining: 13.7s\n",
      "527:\tlearn: 1525.8233896\ttotal: 15.3s\tremaining: 13.6s\n",
      "528:\tlearn: 1525.6958962\ttotal: 15.3s\tremaining: 13.6s\n",
      "529:\tlearn: 1525.3629985\ttotal: 15.3s\tremaining: 13.6s\n",
      "530:\tlearn: 1525.1691774\ttotal: 15.3s\tremaining: 13.5s\n",
      "531:\tlearn: 1524.9398119\ttotal: 15.4s\tremaining: 13.5s\n",
      "532:\tlearn: 1524.7656145\ttotal: 15.4s\tremaining: 13.5s\n",
      "533:\tlearn: 1524.4990987\ttotal: 15.4s\tremaining: 13.5s\n",
      "534:\tlearn: 1524.0379866\ttotal: 15.4s\tremaining: 13.4s\n",
      "535:\tlearn: 1523.9015550\ttotal: 15.5s\tremaining: 13.4s\n",
      "536:\tlearn: 1523.8139631\ttotal: 15.5s\tremaining: 13.4s\n",
      "537:\tlearn: 1523.5419965\ttotal: 15.5s\tremaining: 13.3s\n",
      "538:\tlearn: 1523.2907102\ttotal: 15.5s\tremaining: 13.3s\n",
      "539:\tlearn: 1523.0935169\ttotal: 15.6s\tremaining: 13.3s\n",
      "540:\tlearn: 1522.9516239\ttotal: 15.6s\tremaining: 13.2s\n",
      "541:\tlearn: 1522.7632592\ttotal: 15.6s\tremaining: 13.2s\n",
      "542:\tlearn: 1522.5386660\ttotal: 15.7s\tremaining: 13.2s\n",
      "543:\tlearn: 1522.3034793\ttotal: 15.7s\tremaining: 13.1s\n",
      "544:\tlearn: 1522.0984187\ttotal: 15.7s\tremaining: 13.1s\n",
      "545:\tlearn: 1521.8898281\ttotal: 15.7s\tremaining: 13.1s\n",
      "546:\tlearn: 1521.5463204\ttotal: 15.8s\tremaining: 13.1s\n",
      "547:\tlearn: 1521.2948281\ttotal: 15.8s\tremaining: 13s\n",
      "548:\tlearn: 1521.0538880\ttotal: 15.8s\tremaining: 13s\n",
      "549:\tlearn: 1520.8893605\ttotal: 15.8s\tremaining: 13s\n",
      "550:\tlearn: 1520.5589639\ttotal: 15.9s\tremaining: 12.9s\n",
      "551:\tlearn: 1520.3301717\ttotal: 15.9s\tremaining: 12.9s\n",
      "552:\tlearn: 1520.1810552\ttotal: 15.9s\tremaining: 12.9s\n",
      "553:\tlearn: 1519.9005764\ttotal: 16s\tremaining: 12.8s\n",
      "554:\tlearn: 1519.8047363\ttotal: 16s\tremaining: 12.8s\n",
      "555:\tlearn: 1519.6607279\ttotal: 16s\tremaining: 12.8s\n",
      "556:\tlearn: 1519.4852355\ttotal: 16s\tremaining: 12.8s\n",
      "557:\tlearn: 1519.2645410\ttotal: 16.1s\tremaining: 12.7s\n",
      "558:\tlearn: 1519.1008629\ttotal: 16.1s\tremaining: 12.7s\n",
      "559:\tlearn: 1518.9202056\ttotal: 16.1s\tremaining: 12.7s\n",
      "560:\tlearn: 1518.6861092\ttotal: 16.1s\tremaining: 12.6s\n",
      "561:\tlearn: 1518.4842166\ttotal: 16.2s\tremaining: 12.6s\n",
      "562:\tlearn: 1518.3096560\ttotal: 16.2s\tremaining: 12.6s\n",
      "563:\tlearn: 1518.2104176\ttotal: 16.2s\tremaining: 12.5s\n",
      "564:\tlearn: 1517.8877155\ttotal: 16.2s\tremaining: 12.5s\n",
      "565:\tlearn: 1517.6468725\ttotal: 16.3s\tremaining: 12.5s\n",
      "566:\tlearn: 1517.4744219\ttotal: 16.3s\tremaining: 12.4s\n",
      "567:\tlearn: 1517.2807506\ttotal: 16.3s\tremaining: 12.4s\n",
      "568:\tlearn: 1517.0014154\ttotal: 16.4s\tremaining: 12.4s\n",
      "569:\tlearn: 1516.8372334\ttotal: 16.4s\tremaining: 12.4s\n",
      "570:\tlearn: 1516.5815523\ttotal: 16.4s\tremaining: 12.3s\n",
      "571:\tlearn: 1516.4424674\ttotal: 16.4s\tremaining: 12.3s\n",
      "572:\tlearn: 1516.3037760\ttotal: 16.5s\tremaining: 12.3s\n",
      "573:\tlearn: 1516.0261912\ttotal: 16.5s\tremaining: 12.2s\n",
      "574:\tlearn: 1515.8532394\ttotal: 16.5s\tremaining: 12.2s\n",
      "575:\tlearn: 1515.6538853\ttotal: 16.5s\tremaining: 12.2s\n",
      "576:\tlearn: 1515.5234817\ttotal: 16.6s\tremaining: 12.1s\n",
      "577:\tlearn: 1515.3670524\ttotal: 16.6s\tremaining: 12.1s\n",
      "578:\tlearn: 1515.1991626\ttotal: 16.6s\tremaining: 12.1s\n",
      "579:\tlearn: 1514.9521374\ttotal: 16.7s\tremaining: 12.1s\n",
      "580:\tlearn: 1514.6180429\ttotal: 16.7s\tremaining: 12s\n",
      "581:\tlearn: 1514.2942163\ttotal: 16.7s\tremaining: 12s\n",
      "582:\tlearn: 1514.1801825\ttotal: 16.8s\tremaining: 12s\n",
      "583:\tlearn: 1514.1129416\ttotal: 16.8s\tremaining: 12s\n",
      "584:\tlearn: 1513.9464965\ttotal: 16.8s\tremaining: 11.9s\n",
      "585:\tlearn: 1513.7639414\ttotal: 16.8s\tremaining: 11.9s\n",
      "586:\tlearn: 1513.5281456\ttotal: 16.9s\tremaining: 11.9s\n",
      "587:\tlearn: 1513.2787325\ttotal: 16.9s\tremaining: 11.9s\n",
      "588:\tlearn: 1513.0724911\ttotal: 16.9s\tremaining: 11.8s\n",
      "589:\tlearn: 1512.8206861\ttotal: 17s\tremaining: 11.8s\n",
      "590:\tlearn: 1512.5787355\ttotal: 17s\tremaining: 11.8s\n",
      "591:\tlearn: 1512.4309567\ttotal: 17s\tremaining: 11.7s\n",
      "592:\tlearn: 1512.3006029\ttotal: 17.1s\tremaining: 11.7s\n",
      "593:\tlearn: 1512.2120883\ttotal: 17.1s\tremaining: 11.7s\n",
      "594:\tlearn: 1511.9822265\ttotal: 17.1s\tremaining: 11.7s\n",
      "595:\tlearn: 1511.7929273\ttotal: 17.1s\tremaining: 11.6s\n",
      "596:\tlearn: 1511.6662092\ttotal: 17.2s\tremaining: 11.6s\n",
      "597:\tlearn: 1511.4971425\ttotal: 17.2s\tremaining: 11.6s\n",
      "598:\tlearn: 1511.3310919\ttotal: 17.2s\tremaining: 11.5s\n",
      "599:\tlearn: 1510.9885078\ttotal: 17.3s\tremaining: 11.5s\n",
      "600:\tlearn: 1510.8380883\ttotal: 17.3s\tremaining: 11.5s\n",
      "601:\tlearn: 1510.6872850\ttotal: 17.3s\tremaining: 11.4s\n",
      "602:\tlearn: 1510.5206093\ttotal: 17.3s\tremaining: 11.4s\n",
      "603:\tlearn: 1510.3883055\ttotal: 17.4s\tremaining: 11.4s\n",
      "604:\tlearn: 1510.2129115\ttotal: 17.4s\tremaining: 11.4s\n",
      "605:\tlearn: 1510.0917595\ttotal: 17.4s\tremaining: 11.3s\n",
      "606:\tlearn: 1509.9270099\ttotal: 17.4s\tremaining: 11.3s\n",
      "607:\tlearn: 1509.7830836\ttotal: 17.5s\tremaining: 11.3s\n",
      "608:\tlearn: 1509.5024619\ttotal: 17.5s\tremaining: 11.2s\n",
      "609:\tlearn: 1509.2666552\ttotal: 17.5s\tremaining: 11.2s\n",
      "610:\tlearn: 1509.1607029\ttotal: 17.6s\tremaining: 11.2s\n",
      "611:\tlearn: 1508.9537280\ttotal: 17.6s\tremaining: 11.1s\n",
      "612:\tlearn: 1508.6661326\ttotal: 17.6s\tremaining: 11.1s\n",
      "613:\tlearn: 1508.5279557\ttotal: 17.6s\tremaining: 11.1s\n",
      "614:\tlearn: 1508.4061068\ttotal: 17.7s\tremaining: 11.1s\n",
      "615:\tlearn: 1508.2233289\ttotal: 17.7s\tremaining: 11s\n",
      "616:\tlearn: 1508.0332508\ttotal: 17.7s\tremaining: 11s\n",
      "617:\tlearn: 1507.6839223\ttotal: 17.7s\tremaining: 11s\n",
      "618:\tlearn: 1507.5456439\ttotal: 17.8s\tremaining: 10.9s\n",
      "619:\tlearn: 1507.3051300\ttotal: 17.8s\tremaining: 10.9s\n",
      "620:\tlearn: 1507.1638199\ttotal: 17.8s\tremaining: 10.9s\n",
      "621:\tlearn: 1507.0277302\ttotal: 17.9s\tremaining: 10.8s\n",
      "622:\tlearn: 1506.9241917\ttotal: 17.9s\tremaining: 10.8s\n",
      "623:\tlearn: 1506.7376821\ttotal: 17.9s\tremaining: 10.8s\n",
      "624:\tlearn: 1506.5028117\ttotal: 17.9s\tremaining: 10.8s\n",
      "625:\tlearn: 1506.2643779\ttotal: 18s\tremaining: 10.7s\n",
      "626:\tlearn: 1506.1028789\ttotal: 18s\tremaining: 10.7s\n",
      "627:\tlearn: 1505.9336313\ttotal: 18s\tremaining: 10.7s\n",
      "628:\tlearn: 1505.7149929\ttotal: 18s\tremaining: 10.6s\n",
      "629:\tlearn: 1505.4395510\ttotal: 18.1s\tremaining: 10.6s\n",
      "630:\tlearn: 1505.2288502\ttotal: 18.1s\tremaining: 10.6s\n",
      "631:\tlearn: 1505.0278675\ttotal: 18.1s\tremaining: 10.6s\n",
      "632:\tlearn: 1504.7957201\ttotal: 18.2s\tremaining: 10.5s\n",
      "633:\tlearn: 1504.6110815\ttotal: 18.2s\tremaining: 10.5s\n",
      "634:\tlearn: 1504.4826137\ttotal: 18.2s\tremaining: 10.5s\n",
      "635:\tlearn: 1504.3190539\ttotal: 18.2s\tremaining: 10.4s\n",
      "636:\tlearn: 1504.0472199\ttotal: 18.3s\tremaining: 10.4s\n",
      "637:\tlearn: 1503.9290717\ttotal: 18.3s\tremaining: 10.4s\n",
      "638:\tlearn: 1503.8124685\ttotal: 18.3s\tremaining: 10.4s\n",
      "639:\tlearn: 1503.6772420\ttotal: 18.4s\tremaining: 10.3s\n",
      "640:\tlearn: 1503.5971898\ttotal: 18.4s\tremaining: 10.3s\n",
      "641:\tlearn: 1503.4181620\ttotal: 18.4s\tremaining: 10.3s\n",
      "642:\tlearn: 1503.2335041\ttotal: 18.5s\tremaining: 10.2s\n",
      "643:\tlearn: 1503.0905791\ttotal: 18.5s\tremaining: 10.2s\n",
      "644:\tlearn: 1502.8849772\ttotal: 18.5s\tremaining: 10.2s\n",
      "645:\tlearn: 1502.7371736\ttotal: 18.6s\tremaining: 10.2s\n",
      "646:\tlearn: 1502.4586842\ttotal: 18.6s\tremaining: 10.1s\n",
      "647:\tlearn: 1502.2562303\ttotal: 18.6s\tremaining: 10.1s\n",
      "648:\tlearn: 1502.1221291\ttotal: 18.7s\tremaining: 10.1s\n",
      "649:\tlearn: 1501.8023996\ttotal: 18.7s\tremaining: 10.1s\n",
      "650:\tlearn: 1501.6622077\ttotal: 18.7s\tremaining: 10s\n",
      "651:\tlearn: 1501.2715281\ttotal: 18.7s\tremaining: 10s\n",
      "652:\tlearn: 1501.1521876\ttotal: 18.8s\tremaining: 9.97s\n",
      "653:\tlearn: 1500.9881366\ttotal: 18.8s\tremaining: 9.94s\n",
      "654:\tlearn: 1500.8494881\ttotal: 18.8s\tremaining: 9.91s\n",
      "655:\tlearn: 1500.6980046\ttotal: 18.8s\tremaining: 9.88s\n",
      "656:\tlearn: 1500.5512890\ttotal: 18.9s\tremaining: 9.85s\n",
      "657:\tlearn: 1500.3278167\ttotal: 18.9s\tremaining: 9.82s\n",
      "658:\tlearn: 1500.1636277\ttotal: 18.9s\tremaining: 9.79s\n",
      "659:\tlearn: 1499.9886920\ttotal: 18.9s\tremaining: 9.76s\n",
      "660:\tlearn: 1499.8141364\ttotal: 19s\tremaining: 9.73s\n",
      "661:\tlearn: 1499.6440091\ttotal: 19s\tremaining: 9.7s\n",
      "662:\tlearn: 1499.5376857\ttotal: 19s\tremaining: 9.67s\n",
      "663:\tlearn: 1499.3600941\ttotal: 19.1s\tremaining: 9.64s\n",
      "664:\tlearn: 1499.1431234\ttotal: 19.1s\tremaining: 9.61s\n",
      "665:\tlearn: 1498.9686265\ttotal: 19.1s\tremaining: 9.58s\n",
      "666:\tlearn: 1498.8481955\ttotal: 19.1s\tremaining: 9.55s\n",
      "667:\tlearn: 1498.5592308\ttotal: 19.2s\tremaining: 9.52s\n",
      "668:\tlearn: 1498.4362811\ttotal: 19.2s\tremaining: 9.49s\n",
      "669:\tlearn: 1498.3301091\ttotal: 19.2s\tremaining: 9.46s\n",
      "670:\tlearn: 1498.2069224\ttotal: 19.2s\tremaining: 9.43s\n",
      "671:\tlearn: 1498.1370814\ttotal: 19.3s\tremaining: 9.4s\n",
      "672:\tlearn: 1497.8749844\ttotal: 19.3s\tremaining: 9.37s\n",
      "673:\tlearn: 1497.8211378\ttotal: 19.3s\tremaining: 9.34s\n",
      "674:\tlearn: 1497.6866758\ttotal: 19.3s\tremaining: 9.31s\n",
      "675:\tlearn: 1497.5759341\ttotal: 19.4s\tremaining: 9.28s\n",
      "676:\tlearn: 1497.4643591\ttotal: 19.4s\tremaining: 9.25s\n",
      "677:\tlearn: 1497.4171854\ttotal: 19.4s\tremaining: 9.22s\n",
      "678:\tlearn: 1497.2912563\ttotal: 19.4s\tremaining: 9.19s\n",
      "679:\tlearn: 1497.1118800\ttotal: 19.5s\tremaining: 9.16s\n",
      "680:\tlearn: 1496.9975591\ttotal: 19.5s\tremaining: 9.13s\n",
      "681:\tlearn: 1496.8529864\ttotal: 19.5s\tremaining: 9.1s\n",
      "682:\tlearn: 1496.7323363\ttotal: 19.5s\tremaining: 9.07s\n",
      "683:\tlearn: 1496.5507463\ttotal: 19.6s\tremaining: 9.04s\n",
      "684:\tlearn: 1496.3881910\ttotal: 19.6s\tremaining: 9.01s\n",
      "685:\tlearn: 1496.2188848\ttotal: 19.6s\tremaining: 8.99s\n",
      "686:\tlearn: 1496.0427810\ttotal: 19.8s\tremaining: 9.03s\n",
      "687:\tlearn: 1495.8813879\ttotal: 19.9s\tremaining: 9.02s\n",
      "688:\tlearn: 1495.6370350\ttotal: 20s\tremaining: 9.01s\n",
      "689:\tlearn: 1495.4638205\ttotal: 20.1s\tremaining: 9.03s\n",
      "690:\tlearn: 1495.3640989\ttotal: 20.2s\tremaining: 9.02s\n",
      "691:\tlearn: 1495.2081965\ttotal: 20.2s\tremaining: 8.99s\n",
      "692:\tlearn: 1495.0568411\ttotal: 20.2s\tremaining: 8.97s\n",
      "693:\tlearn: 1494.9237696\ttotal: 20.3s\tremaining: 8.95s\n",
      "694:\tlearn: 1494.6469100\ttotal: 20.4s\tremaining: 8.93s\n",
      "695:\tlearn: 1494.4550620\ttotal: 20.4s\tremaining: 8.91s\n",
      "696:\tlearn: 1494.2704901\ttotal: 20.5s\tremaining: 8.89s\n",
      "697:\tlearn: 1494.0051480\ttotal: 20.5s\tremaining: 8.87s\n",
      "698:\tlearn: 1493.7842265\ttotal: 20.5s\tremaining: 8.85s\n",
      "699:\tlearn: 1493.5676410\ttotal: 20.6s\tremaining: 8.83s\n",
      "700:\tlearn: 1493.4569509\ttotal: 20.7s\tremaining: 8.81s\n",
      "701:\tlearn: 1493.3095603\ttotal: 20.7s\tremaining: 8.79s\n",
      "702:\tlearn: 1493.1409442\ttotal: 20.8s\tremaining: 8.77s\n",
      "703:\tlearn: 1492.9969922\ttotal: 20.8s\tremaining: 8.75s\n",
      "704:\tlearn: 1492.8222407\ttotal: 20.9s\tremaining: 8.73s\n",
      "705:\tlearn: 1492.6647669\ttotal: 20.9s\tremaining: 8.71s\n",
      "706:\tlearn: 1492.4766155\ttotal: 20.9s\tremaining: 8.68s\n",
      "707:\tlearn: 1492.3639554\ttotal: 21s\tremaining: 8.65s\n",
      "708:\tlearn: 1492.2681903\ttotal: 21s\tremaining: 8.63s\n",
      "709:\tlearn: 1491.9985107\ttotal: 21.1s\tremaining: 8.6s\n",
      "710:\tlearn: 1491.8243057\ttotal: 21.1s\tremaining: 8.58s\n",
      "711:\tlearn: 1491.6525002\ttotal: 21.1s\tremaining: 8.55s\n",
      "712:\tlearn: 1491.5053242\ttotal: 21.2s\tremaining: 8.52s\n",
      "713:\tlearn: 1491.2778630\ttotal: 21.2s\tremaining: 8.5s\n",
      "714:\tlearn: 1491.1588962\ttotal: 21.2s\tremaining: 8.46s\n",
      "715:\tlearn: 1490.7873958\ttotal: 21.3s\tremaining: 8.44s\n",
      "716:\tlearn: 1490.5842598\ttotal: 21.3s\tremaining: 8.41s\n",
      "717:\tlearn: 1490.3902449\ttotal: 21.3s\tremaining: 8.38s\n",
      "718:\tlearn: 1490.2882075\ttotal: 21.4s\tremaining: 8.35s\n",
      "719:\tlearn: 1490.1353969\ttotal: 21.4s\tremaining: 8.32s\n",
      "720:\tlearn: 1490.0591387\ttotal: 21.4s\tremaining: 8.29s\n",
      "721:\tlearn: 1489.8791701\ttotal: 21.5s\tremaining: 8.26s\n",
      "722:\tlearn: 1489.7642959\ttotal: 21.5s\tremaining: 8.23s\n",
      "723:\tlearn: 1489.6623618\ttotal: 21.5s\tremaining: 8.2s\n",
      "724:\tlearn: 1489.5207376\ttotal: 21.5s\tremaining: 8.17s\n",
      "725:\tlearn: 1489.3794049\ttotal: 21.6s\tremaining: 8.14s\n",
      "726:\tlearn: 1489.2372299\ttotal: 21.6s\tremaining: 8.11s\n",
      "727:\tlearn: 1489.0134453\ttotal: 21.6s\tremaining: 8.08s\n",
      "728:\tlearn: 1488.7527099\ttotal: 21.7s\tremaining: 8.05s\n",
      "729:\tlearn: 1488.5938628\ttotal: 21.7s\tremaining: 8.02s\n",
      "730:\tlearn: 1488.4465777\ttotal: 21.7s\tremaining: 7.99s\n",
      "731:\tlearn: 1488.2744267\ttotal: 21.8s\tremaining: 7.96s\n",
      "732:\tlearn: 1488.1317257\ttotal: 21.8s\tremaining: 7.93s\n",
      "733:\tlearn: 1488.0308430\ttotal: 21.8s\tremaining: 7.9s\n",
      "734:\tlearn: 1487.8270938\ttotal: 21.8s\tremaining: 7.87s\n",
      "735:\tlearn: 1487.6675407\ttotal: 21.9s\tremaining: 7.85s\n",
      "736:\tlearn: 1487.5363483\ttotal: 21.9s\tremaining: 7.82s\n",
      "737:\tlearn: 1487.4102997\ttotal: 21.9s\tremaining: 7.79s\n",
      "738:\tlearn: 1487.3345514\ttotal: 22s\tremaining: 7.76s\n",
      "739:\tlearn: 1487.1898449\ttotal: 22s\tremaining: 7.73s\n",
      "740:\tlearn: 1487.0111643\ttotal: 22s\tremaining: 7.7s\n",
      "741:\tlearn: 1486.7861186\ttotal: 22.1s\tremaining: 7.68s\n",
      "742:\tlearn: 1486.6599579\ttotal: 22.1s\tremaining: 7.65s\n",
      "743:\tlearn: 1486.4987341\ttotal: 22.1s\tremaining: 7.62s\n",
      "744:\tlearn: 1486.3235441\ttotal: 22.2s\tremaining: 7.59s\n",
      "745:\tlearn: 1486.2511264\ttotal: 22.2s\tremaining: 7.56s\n",
      "746:\tlearn: 1486.0903101\ttotal: 22.2s\tremaining: 7.53s\n",
      "747:\tlearn: 1485.9937465\ttotal: 22.3s\tremaining: 7.5s\n",
      "748:\tlearn: 1485.8371521\ttotal: 22.3s\tremaining: 7.47s\n",
      "749:\tlearn: 1485.7030641\ttotal: 22.3s\tremaining: 7.44s\n",
      "750:\tlearn: 1485.6322984\ttotal: 22.3s\tremaining: 7.41s\n",
      "751:\tlearn: 1485.5251279\ttotal: 22.4s\tremaining: 7.38s\n",
      "752:\tlearn: 1485.3594048\ttotal: 22.4s\tremaining: 7.35s\n",
      "753:\tlearn: 1485.2447848\ttotal: 22.4s\tremaining: 7.32s\n",
      "754:\tlearn: 1485.1514685\ttotal: 22.5s\tremaining: 7.29s\n",
      "755:\tlearn: 1485.0212980\ttotal: 22.5s\tremaining: 7.26s\n",
      "756:\tlearn: 1484.9501643\ttotal: 22.5s\tremaining: 7.23s\n",
      "757:\tlearn: 1484.7869190\ttotal: 22.6s\tremaining: 7.2s\n",
      "758:\tlearn: 1484.6732224\ttotal: 22.6s\tremaining: 7.17s\n",
      "759:\tlearn: 1484.5936998\ttotal: 22.6s\tremaining: 7.14s\n",
      "760:\tlearn: 1484.4806185\ttotal: 22.7s\tremaining: 7.12s\n",
      "761:\tlearn: 1484.3857883\ttotal: 22.7s\tremaining: 7.09s\n",
      "762:\tlearn: 1484.2799487\ttotal: 22.7s\tremaining: 7.06s\n",
      "763:\tlearn: 1484.1158870\ttotal: 22.7s\tremaining: 7.03s\n",
      "764:\tlearn: 1483.9712184\ttotal: 22.8s\tremaining: 7s\n",
      "765:\tlearn: 1483.8429025\ttotal: 22.8s\tremaining: 6.97s\n",
      "766:\tlearn: 1483.6717731\ttotal: 22.8s\tremaining: 6.94s\n",
      "767:\tlearn: 1483.4282880\ttotal: 22.9s\tremaining: 6.91s\n",
      "768:\tlearn: 1483.3399548\ttotal: 22.9s\tremaining: 6.88s\n",
      "769:\tlearn: 1483.1742956\ttotal: 23s\tremaining: 6.86s\n",
      "770:\tlearn: 1483.0490640\ttotal: 23s\tremaining: 6.83s\n",
      "771:\tlearn: 1482.8388499\ttotal: 23s\tremaining: 6.8s\n",
      "772:\tlearn: 1482.6956753\ttotal: 23.1s\tremaining: 6.77s\n",
      "773:\tlearn: 1482.5653881\ttotal: 23.1s\tremaining: 6.74s\n",
      "774:\tlearn: 1482.4913032\ttotal: 23.1s\tremaining: 6.71s\n",
      "775:\tlearn: 1482.4325827\ttotal: 23.1s\tremaining: 6.68s\n",
      "776:\tlearn: 1482.3413476\ttotal: 23.2s\tremaining: 6.65s\n",
      "777:\tlearn: 1482.1876303\ttotal: 23.2s\tremaining: 6.62s\n",
      "778:\tlearn: 1482.0908280\ttotal: 23.3s\tremaining: 6.6s\n",
      "779:\tlearn: 1481.9690684\ttotal: 23.3s\tremaining: 6.57s\n",
      "780:\tlearn: 1481.7588814\ttotal: 23.3s\tremaining: 6.54s\n",
      "781:\tlearn: 1481.6234829\ttotal: 23.4s\tremaining: 6.52s\n",
      "782:\tlearn: 1481.5109648\ttotal: 23.4s\tremaining: 6.5s\n",
      "783:\tlearn: 1481.2710735\ttotal: 23.5s\tremaining: 6.47s\n",
      "784:\tlearn: 1481.1937687\ttotal: 23.5s\tremaining: 6.44s\n",
      "785:\tlearn: 1481.0635146\ttotal: 23.5s\tremaining: 6.41s\n",
      "786:\tlearn: 1480.9772208\ttotal: 23.6s\tremaining: 6.38s\n",
      "787:\tlearn: 1480.8199533\ttotal: 23.6s\tremaining: 6.34s\n",
      "788:\tlearn: 1480.6154344\ttotal: 23.6s\tremaining: 6.31s\n",
      "789:\tlearn: 1480.4965158\ttotal: 23.6s\tremaining: 6.28s\n",
      "790:\tlearn: 1480.3444371\ttotal: 23.7s\tremaining: 6.25s\n",
      "791:\tlearn: 1480.2700966\ttotal: 23.7s\tremaining: 6.22s\n",
      "792:\tlearn: 1479.9214044\ttotal: 23.7s\tremaining: 6.19s\n",
      "793:\tlearn: 1479.7295605\ttotal: 23.8s\tremaining: 6.16s\n",
      "794:\tlearn: 1479.6445987\ttotal: 23.8s\tremaining: 6.14s\n",
      "795:\tlearn: 1479.5014019\ttotal: 23.8s\tremaining: 6.11s\n",
      "796:\tlearn: 1479.4140499\ttotal: 23.9s\tremaining: 6.08s\n",
      "797:\tlearn: 1479.2374399\ttotal: 23.9s\tremaining: 6.05s\n",
      "798:\tlearn: 1479.1524927\ttotal: 23.9s\tremaining: 6.02s\n",
      "799:\tlearn: 1478.9858469\ttotal: 24s\tremaining: 5.99s\n",
      "800:\tlearn: 1478.8409718\ttotal: 24s\tremaining: 5.96s\n",
      "801:\tlearn: 1478.7097522\ttotal: 24s\tremaining: 5.93s\n",
      "802:\tlearn: 1478.4822234\ttotal: 24.1s\tremaining: 5.91s\n",
      "803:\tlearn: 1478.3586979\ttotal: 24.1s\tremaining: 5.88s\n",
      "804:\tlearn: 1478.2676551\ttotal: 24.1s\tremaining: 5.85s\n",
      "805:\tlearn: 1478.1346968\ttotal: 24.2s\tremaining: 5.82s\n",
      "806:\tlearn: 1478.0122171\ttotal: 24.2s\tremaining: 5.79s\n",
      "807:\tlearn: 1477.9172924\ttotal: 24.2s\tremaining: 5.76s\n",
      "808:\tlearn: 1477.8320823\ttotal: 24.3s\tremaining: 5.73s\n",
      "809:\tlearn: 1477.6873638\ttotal: 24.3s\tremaining: 5.7s\n",
      "810:\tlearn: 1477.5851613\ttotal: 24.3s\tremaining: 5.67s\n",
      "811:\tlearn: 1477.5216503\ttotal: 24.4s\tremaining: 5.64s\n",
      "812:\tlearn: 1477.4390890\ttotal: 24.4s\tremaining: 5.61s\n",
      "813:\tlearn: 1477.3394928\ttotal: 24.4s\tremaining: 5.59s\n",
      "814:\tlearn: 1477.2307414\ttotal: 24.5s\tremaining: 5.56s\n",
      "815:\tlearn: 1477.1343229\ttotal: 24.5s\tremaining: 5.53s\n",
      "816:\tlearn: 1477.0225858\ttotal: 24.6s\tremaining: 5.5s\n",
      "817:\tlearn: 1476.8986284\ttotal: 24.6s\tremaining: 5.48s\n",
      "818:\tlearn: 1476.7888737\ttotal: 24.9s\tremaining: 5.5s\n",
      "819:\tlearn: 1476.7474195\ttotal: 24.9s\tremaining: 5.47s\n",
      "820:\tlearn: 1476.5709566\ttotal: 25s\tremaining: 5.45s\n",
      "821:\tlearn: 1476.4393168\ttotal: 25.1s\tremaining: 5.43s\n",
      "822:\tlearn: 1476.2952251\ttotal: 25.2s\tremaining: 5.42s\n",
      "823:\tlearn: 1476.1490629\ttotal: 25.3s\tremaining: 5.41s\n",
      "824:\tlearn: 1475.9932334\ttotal: 25.4s\tremaining: 5.4s\n",
      "825:\tlearn: 1475.9098477\ttotal: 25.7s\tremaining: 5.41s\n",
      "826:\tlearn: 1475.7950032\ttotal: 25.8s\tremaining: 5.4s\n",
      "827:\tlearn: 1475.7144168\ttotal: 25.9s\tremaining: 5.38s\n",
      "828:\tlearn: 1475.5291739\ttotal: 26s\tremaining: 5.36s\n",
      "829:\tlearn: 1475.3941587\ttotal: 26.1s\tremaining: 5.34s\n",
      "830:\tlearn: 1475.3742707\ttotal: 26.2s\tremaining: 5.32s\n",
      "831:\tlearn: 1475.2503014\ttotal: 26.2s\tremaining: 5.29s\n",
      "832:\tlearn: 1474.9672836\ttotal: 26.3s\tremaining: 5.26s\n",
      "833:\tlearn: 1474.8026282\ttotal: 26.3s\tremaining: 5.24s\n",
      "834:\tlearn: 1474.7463677\ttotal: 26.4s\tremaining: 5.22s\n",
      "835:\tlearn: 1474.5887120\ttotal: 26.5s\tremaining: 5.2s\n",
      "836:\tlearn: 1474.4290481\ttotal: 26.6s\tremaining: 5.18s\n",
      "837:\tlearn: 1474.3464755\ttotal: 26.7s\tremaining: 5.15s\n",
      "838:\tlearn: 1474.2878560\ttotal: 26.7s\tremaining: 5.12s\n",
      "839:\tlearn: 1474.2498288\ttotal: 26.7s\tremaining: 5.09s\n",
      "840:\tlearn: 1474.0124120\ttotal: 26.8s\tremaining: 5.07s\n",
      "841:\tlearn: 1473.9563097\ttotal: 26.8s\tremaining: 5.03s\n",
      "842:\tlearn: 1473.8945874\ttotal: 26.9s\tremaining: 5s\n",
      "843:\tlearn: 1473.7995152\ttotal: 26.9s\tremaining: 4.97s\n",
      "844:\tlearn: 1473.6952407\ttotal: 26.9s\tremaining: 4.94s\n",
      "845:\tlearn: 1473.5918720\ttotal: 27s\tremaining: 4.91s\n",
      "846:\tlearn: 1473.4716086\ttotal: 27s\tremaining: 4.88s\n",
      "847:\tlearn: 1473.3868356\ttotal: 27s\tremaining: 4.85s\n",
      "848:\tlearn: 1473.2659624\ttotal: 27.1s\tremaining: 4.82s\n",
      "849:\tlearn: 1473.1144589\ttotal: 27.1s\tremaining: 4.79s\n",
      "850:\tlearn: 1473.0237416\ttotal: 27.2s\tremaining: 4.76s\n",
      "851:\tlearn: 1472.9272583\ttotal: 27.2s\tremaining: 4.72s\n",
      "852:\tlearn: 1472.8490983\ttotal: 27.2s\tremaining: 4.69s\n",
      "853:\tlearn: 1472.7399720\ttotal: 27.3s\tremaining: 4.67s\n",
      "854:\tlearn: 1472.6698087\ttotal: 27.4s\tremaining: 4.64s\n",
      "855:\tlearn: 1472.5256479\ttotal: 27.4s\tremaining: 4.61s\n",
      "856:\tlearn: 1472.3876127\ttotal: 27.5s\tremaining: 4.58s\n",
      "857:\tlearn: 1472.3005082\ttotal: 27.5s\tremaining: 4.55s\n",
      "858:\tlearn: 1472.2557038\ttotal: 27.5s\tremaining: 4.52s\n",
      "859:\tlearn: 1472.1535342\ttotal: 27.6s\tremaining: 4.49s\n",
      "860:\tlearn: 1471.9528766\ttotal: 27.6s\tremaining: 4.46s\n",
      "861:\tlearn: 1471.8634836\ttotal: 27.6s\tremaining: 4.42s\n",
      "862:\tlearn: 1471.7558690\ttotal: 27.7s\tremaining: 4.39s\n",
      "863:\tlearn: 1471.6859114\ttotal: 27.7s\tremaining: 4.36s\n",
      "864:\tlearn: 1471.5250638\ttotal: 27.7s\tremaining: 4.33s\n",
      "865:\tlearn: 1471.4507990\ttotal: 27.7s\tremaining: 4.29s\n",
      "866:\tlearn: 1471.3623759\ttotal: 27.8s\tremaining: 4.26s\n",
      "867:\tlearn: 1471.2536150\ttotal: 27.8s\tremaining: 4.23s\n",
      "868:\tlearn: 1471.1552667\ttotal: 27.8s\tremaining: 4.19s\n",
      "869:\tlearn: 1471.0376018\ttotal: 27.9s\tremaining: 4.16s\n",
      "870:\tlearn: 1470.9337434\ttotal: 27.9s\tremaining: 4.13s\n",
      "871:\tlearn: 1470.8355839\ttotal: 27.9s\tremaining: 4.09s\n",
      "872:\tlearn: 1470.6998431\ttotal: 27.9s\tremaining: 4.06s\n",
      "873:\tlearn: 1470.5556041\ttotal: 28s\tremaining: 4.03s\n",
      "874:\tlearn: 1470.4346444\ttotal: 28s\tremaining: 4s\n",
      "875:\tlearn: 1470.3769429\ttotal: 28s\tremaining: 3.97s\n",
      "876:\tlearn: 1470.2448841\ttotal: 28.1s\tremaining: 3.94s\n",
      "877:\tlearn: 1470.1511318\ttotal: 28.1s\tremaining: 3.9s\n",
      "878:\tlearn: 1470.0287635\ttotal: 28.1s\tremaining: 3.87s\n",
      "879:\tlearn: 1469.9049370\ttotal: 28.2s\tremaining: 3.84s\n",
      "880:\tlearn: 1469.8142688\ttotal: 28.2s\tremaining: 3.81s\n",
      "881:\tlearn: 1469.5851197\ttotal: 28.2s\tremaining: 3.78s\n",
      "882:\tlearn: 1469.4802879\ttotal: 28.3s\tremaining: 3.75s\n",
      "883:\tlearn: 1469.3201452\ttotal: 28.3s\tremaining: 3.71s\n",
      "884:\tlearn: 1469.2613301\ttotal: 28.3s\tremaining: 3.68s\n",
      "885:\tlearn: 1469.1019865\ttotal: 28.4s\tremaining: 3.65s\n",
      "886:\tlearn: 1468.9344334\ttotal: 28.4s\tremaining: 3.62s\n",
      "887:\tlearn: 1468.8351757\ttotal: 28.4s\tremaining: 3.58s\n",
      "888:\tlearn: 1468.7297939\ttotal: 28.4s\tremaining: 3.55s\n",
      "889:\tlearn: 1468.6186947\ttotal: 28.5s\tremaining: 3.52s\n",
      "890:\tlearn: 1468.5434834\ttotal: 28.5s\tremaining: 3.49s\n",
      "891:\tlearn: 1468.4089526\ttotal: 28.5s\tremaining: 3.45s\n",
      "892:\tlearn: 1468.3491006\ttotal: 28.6s\tremaining: 3.42s\n",
      "893:\tlearn: 1468.2602682\ttotal: 28.6s\tremaining: 3.39s\n",
      "894:\tlearn: 1468.1383989\ttotal: 28.6s\tremaining: 3.36s\n",
      "895:\tlearn: 1468.1132815\ttotal: 28.6s\tremaining: 3.32s\n",
      "896:\tlearn: 1467.9435267\ttotal: 28.7s\tremaining: 3.29s\n",
      "897:\tlearn: 1467.8882509\ttotal: 28.7s\tremaining: 3.26s\n",
      "898:\tlearn: 1467.6662224\ttotal: 28.7s\tremaining: 3.23s\n",
      "899:\tlearn: 1467.5865471\ttotal: 28.8s\tremaining: 3.2s\n",
      "900:\tlearn: 1467.4031697\ttotal: 28.8s\tremaining: 3.17s\n",
      "901:\tlearn: 1467.3482171\ttotal: 28.8s\tremaining: 3.13s\n",
      "902:\tlearn: 1467.2336095\ttotal: 28.9s\tremaining: 3.1s\n",
      "903:\tlearn: 1467.1373933\ttotal: 28.9s\tremaining: 3.07s\n",
      "904:\tlearn: 1467.0656634\ttotal: 28.9s\tremaining: 3.04s\n",
      "905:\tlearn: 1466.9354394\ttotal: 29s\tremaining: 3s\n",
      "906:\tlearn: 1466.8447213\ttotal: 29s\tremaining: 2.97s\n",
      "907:\tlearn: 1466.7010635\ttotal: 29s\tremaining: 2.94s\n",
      "908:\tlearn: 1466.6172178\ttotal: 29.1s\tremaining: 2.91s\n",
      "909:\tlearn: 1466.5277004\ttotal: 29.1s\tremaining: 2.88s\n",
      "910:\tlearn: 1466.4411480\ttotal: 29.1s\tremaining: 2.84s\n",
      "911:\tlearn: 1466.3364998\ttotal: 29.1s\tremaining: 2.81s\n",
      "912:\tlearn: 1466.1233375\ttotal: 29.2s\tremaining: 2.78s\n",
      "913:\tlearn: 1466.0612884\ttotal: 29.2s\tremaining: 2.75s\n",
      "914:\tlearn: 1465.9905999\ttotal: 29.2s\tremaining: 2.71s\n",
      "915:\tlearn: 1465.8771476\ttotal: 29.2s\tremaining: 2.68s\n",
      "916:\tlearn: 1465.7885554\ttotal: 29.3s\tremaining: 2.65s\n",
      "917:\tlearn: 1465.6532027\ttotal: 29.3s\tremaining: 2.62s\n",
      "918:\tlearn: 1465.5473238\ttotal: 29.3s\tremaining: 2.58s\n",
      "919:\tlearn: 1465.4817280\ttotal: 29.4s\tremaining: 2.55s\n",
      "920:\tlearn: 1465.3162827\ttotal: 29.4s\tremaining: 2.52s\n",
      "921:\tlearn: 1465.2542228\ttotal: 29.4s\tremaining: 2.49s\n",
      "922:\tlearn: 1465.1687055\ttotal: 29.4s\tremaining: 2.46s\n",
      "923:\tlearn: 1465.0776624\ttotal: 29.5s\tremaining: 2.42s\n",
      "924:\tlearn: 1464.9101521\ttotal: 29.5s\tremaining: 2.39s\n",
      "925:\tlearn: 1464.8067305\ttotal: 29.5s\tremaining: 2.36s\n",
      "926:\tlearn: 1464.6863385\ttotal: 29.5s\tremaining: 2.33s\n",
      "927:\tlearn: 1464.5571559\ttotal: 29.6s\tremaining: 2.29s\n",
      "928:\tlearn: 1464.4203271\ttotal: 29.6s\tremaining: 2.26s\n",
      "929:\tlearn: 1464.2629192\ttotal: 29.6s\tremaining: 2.23s\n",
      "930:\tlearn: 1464.1389143\ttotal: 29.7s\tremaining: 2.2s\n",
      "931:\tlearn: 1464.0006382\ttotal: 29.7s\tremaining: 2.17s\n",
      "932:\tlearn: 1463.9410923\ttotal: 29.7s\tremaining: 2.13s\n",
      "933:\tlearn: 1463.7951191\ttotal: 29.7s\tremaining: 2.1s\n",
      "934:\tlearn: 1463.6441799\ttotal: 29.8s\tremaining: 2.07s\n",
      "935:\tlearn: 1463.4394733\ttotal: 29.8s\tremaining: 2.04s\n",
      "936:\tlearn: 1463.3652282\ttotal: 29.8s\tremaining: 2s\n",
      "937:\tlearn: 1463.2020823\ttotal: 29.9s\tremaining: 1.97s\n",
      "938:\tlearn: 1463.1509801\ttotal: 29.9s\tremaining: 1.94s\n",
      "939:\tlearn: 1462.9995862\ttotal: 29.9s\tremaining: 1.91s\n",
      "940:\tlearn: 1462.8812564\ttotal: 29.9s\tremaining: 1.88s\n",
      "941:\tlearn: 1462.7252894\ttotal: 30s\tremaining: 1.84s\n",
      "942:\tlearn: 1462.5242332\ttotal: 30s\tremaining: 1.81s\n",
      "943:\tlearn: 1462.3992271\ttotal: 30s\tremaining: 1.78s\n",
      "944:\tlearn: 1462.2906170\ttotal: 30.1s\tremaining: 1.75s\n",
      "945:\tlearn: 1462.2077011\ttotal: 30.1s\tremaining: 1.72s\n",
      "946:\tlearn: 1462.1518135\ttotal: 30.1s\tremaining: 1.69s\n",
      "947:\tlearn: 1462.0987694\ttotal: 30.2s\tremaining: 1.65s\n",
      "948:\tlearn: 1462.0266348\ttotal: 30.2s\tremaining: 1.62s\n",
      "949:\tlearn: 1461.8807810\ttotal: 30.2s\tremaining: 1.59s\n",
      "950:\tlearn: 1461.8138560\ttotal: 30.2s\tremaining: 1.56s\n",
      "951:\tlearn: 1461.7110275\ttotal: 30.3s\tremaining: 1.52s\n",
      "952:\tlearn: 1461.5544387\ttotal: 30.3s\tremaining: 1.49s\n",
      "953:\tlearn: 1461.4094295\ttotal: 30.3s\tremaining: 1.46s\n",
      "954:\tlearn: 1461.3054579\ttotal: 30.3s\tremaining: 1.43s\n",
      "955:\tlearn: 1461.1642453\ttotal: 30.4s\tremaining: 1.4s\n",
      "956:\tlearn: 1461.1352206\ttotal: 30.4s\tremaining: 1.36s\n",
      "957:\tlearn: 1461.0578591\ttotal: 30.4s\tremaining: 1.33s\n",
      "958:\tlearn: 1460.8789759\ttotal: 30.5s\tremaining: 1.3s\n",
      "959:\tlearn: 1460.8332096\ttotal: 30.5s\tremaining: 1.27s\n",
      "960:\tlearn: 1460.6918927\ttotal: 30.5s\tremaining: 1.24s\n",
      "961:\tlearn: 1460.5780710\ttotal: 30.5s\tremaining: 1.21s\n",
      "962:\tlearn: 1460.4360866\ttotal: 30.6s\tremaining: 1.17s\n",
      "963:\tlearn: 1460.3029679\ttotal: 30.6s\tremaining: 1.14s\n",
      "964:\tlearn: 1460.1820940\ttotal: 30.6s\tremaining: 1.11s\n",
      "965:\tlearn: 1459.9907066\ttotal: 30.7s\tremaining: 1.08s\n",
      "966:\tlearn: 1459.8865641\ttotal: 30.7s\tremaining: 1.05s\n",
      "967:\tlearn: 1459.7765087\ttotal: 30.7s\tremaining: 1.01s\n",
      "968:\tlearn: 1459.7081560\ttotal: 30.8s\tremaining: 984ms\n",
      "969:\tlearn: 1459.6202762\ttotal: 30.8s\tremaining: 952ms\n",
      "970:\tlearn: 1459.5833106\ttotal: 30.8s\tremaining: 921ms\n",
      "971:\tlearn: 1459.4725009\ttotal: 30.9s\tremaining: 889ms\n",
      "972:\tlearn: 1459.3045229\ttotal: 30.9s\tremaining: 858ms\n",
      "973:\tlearn: 1459.1959407\ttotal: 30.9s\tremaining: 826ms\n",
      "974:\tlearn: 1459.0858829\ttotal: 31s\tremaining: 795ms\n",
      "975:\tlearn: 1458.9017003\ttotal: 31.1s\tremaining: 764ms\n",
      "976:\tlearn: 1458.7691348\ttotal: 31.1s\tremaining: 732ms\n",
      "977:\tlearn: 1458.6695956\ttotal: 31.1s\tremaining: 701ms\n",
      "978:\tlearn: 1458.5864400\ttotal: 31.2s\tremaining: 669ms\n",
      "979:\tlearn: 1458.4400485\ttotal: 31.2s\tremaining: 637ms\n",
      "980:\tlearn: 1458.3946766\ttotal: 31.3s\tremaining: 606ms\n",
      "981:\tlearn: 1458.3137276\ttotal: 31.3s\tremaining: 574ms\n",
      "982:\tlearn: 1458.2547139\ttotal: 31.3s\tremaining: 542ms\n",
      "983:\tlearn: 1458.0969613\ttotal: 31.4s\tremaining: 510ms\n",
      "984:\tlearn: 1458.0667882\ttotal: 31.4s\tremaining: 478ms\n",
      "985:\tlearn: 1458.0046490\ttotal: 31.5s\tremaining: 447ms\n",
      "986:\tlearn: 1457.8688540\ttotal: 31.5s\tremaining: 415ms\n",
      "987:\tlearn: 1457.7758163\ttotal: 31.5s\tremaining: 383ms\n",
      "988:\tlearn: 1457.6959422\ttotal: 31.5s\tremaining: 351ms\n",
      "989:\tlearn: 1457.6296461\ttotal: 31.6s\tremaining: 319ms\n",
      "990:\tlearn: 1457.5824810\ttotal: 31.6s\tremaining: 287ms\n",
      "991:\tlearn: 1457.4418005\ttotal: 31.6s\tremaining: 255ms\n",
      "992:\tlearn: 1457.2834021\ttotal: 31.7s\tremaining: 223ms\n",
      "993:\tlearn: 1457.2054584\ttotal: 31.7s\tremaining: 191ms\n",
      "994:\tlearn: 1457.0215311\ttotal: 31.7s\tremaining: 159ms\n",
      "995:\tlearn: 1456.9131692\ttotal: 31.8s\tremaining: 128ms\n",
      "996:\tlearn: 1456.8143835\ttotal: 31.8s\tremaining: 95.7ms\n",
      "997:\tlearn: 1456.7105713\ttotal: 31.8s\tremaining: 63.8ms\n",
      "998:\tlearn: 1456.5744992\ttotal: 31.9s\tremaining: 31.9ms\n",
      "999:\tlearn: 1456.5044545\ttotal: 31.9s\tremaining: 0us\n",
      "0:\tlearn: 3715.3225205\ttest: 3701.8124753\tbest: 3701.8124753 (0)\ttotal: 876ms\tremaining: 2m 10s\n",
      "10:\tlearn: 1777.0282353\ttest: 1806.9823622\tbest: 1806.9823622 (10)\ttotal: 3.1s\tremaining: 39.2s\n",
      "20:\tlearn: 1667.8523827\ttest: 1701.7958565\tbest: 1701.7958565 (20)\ttotal: 5.11s\tremaining: 31.4s\n",
      "30:\tlearn: 1614.1863278\ttest: 1654.4790853\tbest: 1654.4790853 (30)\ttotal: 5.92s\tremaining: 22.7s\n",
      "40:\tlearn: 1575.7163943\ttest: 1621.4762694\tbest: 1621.4762694 (40)\ttotal: 6.74s\tremaining: 17.9s\n",
      "50:\tlearn: 1547.1763662\ttest: 1597.5624824\tbest: 1597.5624824 (50)\ttotal: 7.84s\tremaining: 15.2s\n",
      "60:\tlearn: 1525.9814753\ttest: 1578.5585214\tbest: 1578.5585214 (60)\ttotal: 9.02s\tremaining: 13.2s\n",
      "70:\tlearn: 1506.1558240\ttest: 1565.3483088\tbest: 1565.3483088 (70)\ttotal: 10.5s\tremaining: 11.7s\n",
      "80:\tlearn: 1488.4212369\ttest: 1551.9171173\tbest: 1551.9171173 (80)\ttotal: 11.4s\tremaining: 9.71s\n",
      "90:\tlearn: 1474.0834998\ttest: 1541.6468827\tbest: 1541.6468827 (90)\ttotal: 12.2s\tremaining: 7.91s\n",
      "100:\tlearn: 1460.1738640\ttest: 1534.0875731\tbest: 1534.0875731 (100)\ttotal: 12.9s\tremaining: 6.27s\n",
      "110:\tlearn: 1446.4183861\ttest: 1525.7594062\tbest: 1525.7594062 (110)\ttotal: 13.7s\tremaining: 4.8s\n",
      "120:\tlearn: 1437.5007185\ttest: 1520.1012050\tbest: 1520.1012050 (120)\ttotal: 14.6s\tremaining: 3.51s\n",
      "130:\tlearn: 1428.0987285\ttest: 1514.0440815\tbest: 1514.0440815 (130)\ttotal: 15.4s\tremaining: 2.24s\n",
      "140:\tlearn: 1420.2634204\ttest: 1509.1397893\tbest: 1509.1397893 (140)\ttotal: 16.2s\tremaining: 1.03s\n",
      "149:\tlearn: 1412.0815783\ttest: 1505.4303132\tbest: 1505.1372378 (148)\ttotal: 16.8s\tremaining: 0us\n",
      "\n",
      "bestTest = 1505.137238\n",
      "bestIteration = 148\n",
      "\n",
      "Shrink model to first 149 iterations.\n",
      "0:\tlearn: 3715.3225205\ttest: 3701.8124753\tbest: 3701.8124753 (0)\ttotal: 124ms\tremaining: 18.5s\n",
      "10:\tlearn: 1777.0282353\ttest: 1806.9823622\tbest: 1806.9823622 (10)\ttotal: 1.11s\tremaining: 14s\n",
      "20:\tlearn: 1667.8523827\ttest: 1701.7958565\tbest: 1701.7958565 (20)\ttotal: 1.97s\tremaining: 12.1s\n",
      "30:\tlearn: 1614.1863278\ttest: 1654.4790853\tbest: 1654.4790853 (30)\ttotal: 3.02s\tremaining: 11.6s\n",
      "40:\tlearn: 1575.7163943\ttest: 1621.4762694\tbest: 1621.4762694 (40)\ttotal: 3.92s\tremaining: 10.4s\n",
      "50:\tlearn: 1547.1763662\ttest: 1597.5624824\tbest: 1597.5624824 (50)\ttotal: 4.71s\tremaining: 9.15s\n",
      "60:\tlearn: 1525.9814753\ttest: 1578.5585214\tbest: 1578.5585214 (60)\ttotal: 5.55s\tremaining: 8.09s\n",
      "70:\tlearn: 1506.1558240\ttest: 1565.3483088\tbest: 1565.3483088 (70)\ttotal: 6.31s\tremaining: 7.02s\n",
      "80:\tlearn: 1488.4212369\ttest: 1551.9171173\tbest: 1551.9171173 (80)\ttotal: 7.09s\tremaining: 6.04s\n",
      "90:\tlearn: 1474.0834998\ttest: 1541.6468827\tbest: 1541.6468827 (90)\ttotal: 7.89s\tremaining: 5.11s\n",
      "100:\tlearn: 1460.1738640\ttest: 1534.0875731\tbest: 1534.0875731 (100)\ttotal: 8.66s\tremaining: 4.2s\n",
      "110:\tlearn: 1446.4183861\ttest: 1525.7594062\tbest: 1525.7594062 (110)\ttotal: 9.51s\tremaining: 3.34s\n",
      "120:\tlearn: 1437.5007185\ttest: 1520.1012050\tbest: 1520.1012050 (120)\ttotal: 10.4s\tremaining: 2.48s\n",
      "130:\tlearn: 1428.0987285\ttest: 1514.0440815\tbest: 1514.0440815 (130)\ttotal: 11.8s\tremaining: 1.71s\n",
      "140:\tlearn: 1420.2634204\ttest: 1509.1397893\tbest: 1509.1397893 (140)\ttotal: 14s\tremaining: 891ms\n",
      "149:\tlearn: 1412.0815783\ttest: 1505.4303132\tbest: 1505.1372378 (148)\ttotal: 14.9s\tremaining: 0us\n",
      "\n",
      "bestTest = 1505.137238\n",
      "bestIteration = 148\n",
      "\n",
      "Shrink model to first 149 iterations.\n",
      "REQM: 1505.1372378069648\n",
      "Melhores Hiperparâmetros: {'depth': 10, 'iterations': 150, 'learning_rate': 0.3}\n",
      "Tempo de execução: 417.937550699804 segundos\n"
     ]
    },
    {
     "name": "stderr",
     "output_type": "stream",
     "text": [
      "C:\\Users\\renan\\AppData\\Local\\Packages\\PythonSoftwareFoundation.Python.3.12_qbz5n2kfra8p0\\LocalCache\\local-packages\\Python312\\site-packages\\sklearn\\metrics\\_regression.py:492: FutureWarning: 'squared' is deprecated in version 1.4 and will be removed in 1.6. To calculate the root mean squared error, use the function'root_mean_squared_error'.\n",
      "  warnings.warn(\n"
     ]
    }
   ],
   "source": [
    "# Definindo o modelo de CatBoost\n",
    "model_cat = CatBoostRegressor(random_seed=12345, loss_function='RMSE', early_stopping_rounds=10)\n",
    "model_cat.fit(features_train, target_train)\n",
    "\n",
    "# Definindo a grade de hiperparâmetros\n",
    "param_grid = {'learning_rate': [0.1, 0.2, 0.3],\n",
    "              'depth': [None, 3, 6, 10],\n",
    "              'iterations': [50, 100, 150]}\n",
    "    \n",
    "\n",
    "# Configurando o GridSearchCV\n",
    "grid_search = GridSearchCV(estimator=model_cat, param_grid=param_grid, cv=3, n_jobs=-1, scoring='neg_mean_squared_error')\n",
    "\n",
    "\n",
    "# Função para executar o ajuste do modelo\n",
    "def fit_model_cat():\n",
    "    grid_search.fit(features_train, target_train, eval_set=(features_valid, target_valid), verbose=10, use_best_model=True)\n",
    "\n",
    "# Medindo o tempo de execução do treinamento\n",
    "time_train_cat = timeit.timeit(fit_model_cat, number=1)\n",
    "\n",
    "# Treinando o modelo e fazendo as predições\n",
    "grid_search.fit(features_train, target_train, eval_set=(features_valid, target_valid), verbose=10, use_best_model=True)\n",
    "best_model_cat = grid_search.best_estimator_\n",
    "predict_valid_cat = best_model_cat.predict(features_valid)\n",
    "\n",
    "# Avaliando o modelo\n",
    "reqm_train_cat = mean_squared_error(target_valid, predict_valid_cat, squared=False)\n",
    "print('REQM:', reqm_train_cat)\n",
    "print('Melhores Hiperparâmetros:', grid_search.best_params_)\n",
    "print(f'Tempo de execução: {time_train_cat} segundos')"
   ]
  },
  {
   "cell_type": "code",
   "execution_count": 70,
   "metadata": {
    "scrolled": false
   },
   "outputs": [
    {
     "name": "stdout",
     "output_type": "stream",
     "text": [
      "Tempo de execução: 0.3562102001160383 segundos\n",
      "REQM: 1472.3224104350868\n"
     ]
    },
    {
     "name": "stderr",
     "output_type": "stream",
     "text": [
      "C:\\Users\\renan\\AppData\\Local\\Packages\\PythonSoftwareFoundation.Python.3.12_qbz5n2kfra8p0\\LocalCache\\local-packages\\Python312\\site-packages\\sklearn\\metrics\\_regression.py:492: FutureWarning: 'squared' is deprecated in version 1.4 and will be removed in 1.6. To calculate the root mean squared error, use the function'root_mean_squared_error'.\n",
      "  warnings.warn(\n"
     ]
    }
   ],
   "source": [
    "# Medindo o tempo de execução das predições com o melhor modelo \n",
    "time_test_cat = timeit.timeit(lambda: best_model_cat.predict(features_test), number=1)\n",
    "\n",
    "# Fazendo as predições com o melhor modelo\n",
    "predict_test_cat = best_model_cat.predict(features_test)\n",
    "\n",
    "# Avaliando o modelo\n",
    "reqm_test_cat = mean_squared_error(target_test, predict_test_cat, squared=False)\n",
    "print(f'Tempo de execução: {time_test_cat} segundos')\n",
    "print('REQM:', reqm_test_cat)"
   ]
  },
  {
   "cell_type": "markdown",
   "metadata": {},
   "source": [
    "### LightGBM "
   ]
  },
  {
   "cell_type": "code",
   "execution_count": 71,
   "metadata": {
    "scrolled": false
   },
   "outputs": [],
   "source": [
    "# Definindo o modelo LGBM\n",
    "model_lgb = lgb.LGBMRegressor(random_state=12345)\n",
    "\n",
    "# Definindo a grade de hiperparâmetros\n",
    "param_grid = {\n",
    "    'learning_rate': [0.01, 0.1, 0.2],\n",
    "    'num_leaves': [10, 30, 50],\n",
    "    'n_estimators': [50, 100, 150],\n",
    "    'max_depth': [-1, 5, 10]}\n",
    "\n",
    "# Configurando o GridSearchCV\n",
    "grid_search = GridSearchCV(\n",
    "    estimator=model_lgb,\n",
    "    param_grid=param_grid,\n",
    "    cv=3,\n",
    "    n_jobs=-1,\n",
    "    scoring='neg_mean_squared_error')\n",
    "\n",
    "# Função callback para logging\n",
    "callbacks = [lgb.log_evaluation(period=10), lgb.early_stopping(stopping_rounds=10)]\n",
    "\n",
    "# Função para ajustar o modelo\n",
    "def fit_model():\n",
    "    grid_search.fit(\n",
    "        features_train, target_train,\n",
    "        eval_set=[(features_valid, target_valid)],\n",
    "        eval_metric='rmse',\n",
    "        callbacks=callbacks)\n",
    "\n",
    "# Medindo o tempo de execução\n",
    "time_train_lgb = timeit.timeit(fit_model, number=1)\n",
    "\n",
    "# Treinando o modelo\n",
    "fit_model()\n",
    "best_model_lgb = grid_search.best_estimator_\n",
    "\n",
    "# Fazendo as predições e avaliando o modelo\n",
    "predict_valid_lgb = best_model_lgb.predict(features_valid)\n",
    "reqm_train_lgb = mean_squared_error(target_valid, predict_valid_lgb, squared=False)\n",
    "\n",
    "print(f'Tempo de execução: {time_train_lgb} segundos')\n",
    "print('REQM:', reqm_train_lgb)\n",
    "print('Melhores Hiperparâmetros:', grid_search.best_params_)"
   ]
  },
  {
   "cell_type": "code",
   "execution_count": null,
   "metadata": {},
   "outputs": [],
   "source": [
    "# Fazendo as predições com o melhor modelo\n",
    "predict_test_lgb = best_model_lgb.predict(features_test)\n",
    "\n",
    "# Medindo o tempo de execução\n",
    "time_test_lgb = timeit.timeit(lambda: best_model_lgb.predict(features_test), number=1)\n",
    "\n",
    "# Avaliando o modelo\n",
    "reqm_test_lgb = mean_squared_error(target_test, predict_test_lgb, squared=False)\n",
    "print(f'Tempo de execução: {time_test_lgb} segundos')\n",
    "print('REQM:', reqm_test_lgb)"
   ]
  },
  {
   "cell_type": "markdown",
   "metadata": {},
   "source": [
    "## Análise dos modelos"
   ]
  },
  {
   "cell_type": "code",
   "execution_count": null,
   "metadata": {},
   "outputs": [],
   "source": [
    "results = {\n",
    "    'model': ['Regressão Linear', 'Floresta Aleatória', 'CatBoost', 'LightGBM'],\n",
    "    'REQM_train_valid': [reqm_train_reg, reqm_train_forest, reqm_train_cat, reqm_train_lgb],\n",
    "    'REQM_test': [reqm_test_reg, reqm_test_forest, reqm_test_cat, reqm_test_lgb],\n",
    "    'time_train_valid_(s)': [time_train_reg, time_train_forest, time_train_cat, time_train_lgb],\n",
    "    'time_test_(s)': [time_test_reg, time_test_forest, time_test_cat, time_test_lgb]}\n",
    "\n",
    "df_results = pd.DataFrame(results)\n",
    "df_results = df_results.set_index('model')\n",
    "df_results"
   ]
  },
  {
   "cell_type": "code",
   "execution_count": null,
   "metadata": {},
   "outputs": [],
   "source": [
    "df_reqm = df_results[['REQM_train_valid', 'REQM_test']]\n",
    "\n",
    "df_time = df_results[['time_train_valid_(s)', 'time_test_(s)']]"
   ]
  },
  {
   "cell_type": "code",
   "execution_count": null,
   "metadata": {},
   "outputs": [],
   "source": [
    "# Plotando um gráfico de barras para visualização dos dados de vendas das plataformas top-5 ao longo dos anos\n",
    "ax = df_reqm.plot(kind='bar',\n",
    "                    figsize=[10, 4],\n",
    "                    width=0.4)\n",
    "\n",
    "# Ajustando o título e os rótulos dos eixos\n",
    "ax.set_title('RESULTADOS DE REQM OBTIDOS', fontsize=14, weight='bold', pad=20)\n",
    "ax.set_xlabel('MODELOS', fontsize=14, labelpad=10, weight='bold')\n",
    "ax.set_ylabel('REQM', fontsize=14, labelpad=10, weight='bold')\n",
    "\n",
    "# Rotacionando os rótulos do eixo x\n",
    "ax.set_xticklabels(df_reqm.index, rotation=0)\n",
    "\n",
    "# Ajustando o tamanho dos rótulos dos eixos\n",
    "ax.tick_params(axis='x', labelsize=10)\n",
    "ax.tick_params(axis='y', labelsize=12)\n",
    "\n",
    "# Adicionando gridlines\n",
    "ax.grid(True, which='both', linestyle='--', linewidth=1, axis='y')\n",
    "\n",
    "# Posicionando a legenda fora do gráfico\n",
    "ax.legend(['Treino', 'Teste'], fontsize=12, loc='upper left', bbox_to_anchor=(1, 1))\n",
    "\n",
    "# Exibindo o gráfico\n",
    "plt.show()"
   ]
  },
  {
   "cell_type": "markdown",
   "metadata": {},
   "source": [
    "**Conclusões:**  \n",
    "\n",
    "Os melhores resultados obtidos foram os dos modelos CatBoost e LGBM. Porém, o resultado obtido pelo modelo Floresta Aleatória também foi aceitável. O pior resultado de REQM foi o do modelo de Regressão Linear, apresentando um erro muito maior do que o dos outros modelos treinados."
   ]
  },
  {
   "cell_type": "code",
   "execution_count": null,
   "metadata": {},
   "outputs": [],
   "source": [
    "# Plotando um gráfico de barras para visualização dos dados de vendas das plataformas top-5 ao longo dos anos\n",
    "ax = df_time['time_train_valid_(s)'].plot(kind='bar',\n",
    "                                          figsize=[10, 4],\n",
    "                                          width=0.4,\n",
    "                                          legend=False)\n",
    "\n",
    "# Ajustando o título e os rótulos dos eixos\n",
    "ax.set_title('TEMPO PARA TREINAMENTO DOS MODELOS', fontsize=14, weight='bold', pad=20)\n",
    "ax.set_xlabel('MODELOS', fontsize=10, labelpad=10, weight='bold')\n",
    "ax.set_ylabel('TEMPO (s)', fontsize=10, labelpad=10, weight='bold')\n",
    "\n",
    "# Rotacionando os rótulos do eixo x\n",
    "ax.set_xticklabels(df_time['time_train_valid_(s)'].index, rotation=0)\n",
    "\n",
    "# Ajustando o tamanho dos rótulos dos eixos\n",
    "ax.tick_params(axis='x', labelsize=10)\n",
    "ax.tick_params(axis='y', labelsize=12)\n",
    "\n",
    "# Adicionando gridlines\n",
    "ax.grid(True, which='both', linestyle='--', linewidth=1, axis='y')\n",
    "\n",
    "\n",
    "# Exibindo o gráfico\n",
    "plt.show()"
   ]
  },
  {
   "cell_type": "markdown",
   "metadata": {},
   "source": [
    "**Conclusões:**  \n",
    "\n",
    "Em relação ao tempo de treinamento dos modelos observamos que o melhor desempenho, com larga vantagem, é o do modelo de Regressão Linear, que demorou apenas 12 segundos. O segundo melhor desempenho foi do modelo de Floresta Aleatória, mas já consumindo um tempo de 370 segundos (30 vezes maior do que o tempo gasto pela Regressão Linear). Em seguida, tivemos o modelo CatBoost, que consumiu um tempo de 550 segundos (45 vezes mais do que o modelo de Regressão) e, por último, o modelo de LGBM, que levou 1220 segundos para o treinamento do modelo (mais do que o dobro do tempo gasto pelo CatBoost e mais de 100 vezes o tempo gasto pela Regressão Linear).\n"
   ]
  },
  {
   "cell_type": "code",
   "execution_count": null,
   "metadata": {},
   "outputs": [],
   "source": [
    "# Plotando um gráfico de barras para visualização dos dados de vendas das plataformas top-5 ao longo dos anos\n",
    "ax = df_time['time_test_(s)'].plot(kind='bar',\n",
    "                                          figsize=[10, 4],\n",
    "                                          width=0.4,\n",
    "                                          legend=False)\n",
    "\n",
    "# Ajustando o título e os rótulos dos eixos\n",
    "ax.set_title('TEMPO PARA PREDIÇÃO COM DADOS DE TESTE', fontsize=14, weight='bold', pad=20)\n",
    "ax.set_xlabel('MODELOS', fontsize=10, labelpad=10, weight='bold')\n",
    "ax.set_ylabel('TEMPO (s)', fontsize=10, labelpad=10, weight='bold')\n",
    "\n",
    "# Rotacionando os rótulos do eixo x\n",
    "ax.set_xticklabels(df_time['time_test_(s)'].index, rotation=0)\n",
    "\n",
    "# Ajustando o tamanho dos rótulos dos eixos\n",
    "ax.tick_params(axis='x', labelsize=10)\n",
    "ax.tick_params(axis='y', labelsize=12)\n",
    "\n",
    "# Adicionando gridlines\n",
    "ax.grid(True, which='both', linestyle='--', linewidth=1, axis='y')\n",
    "\n",
    "\n",
    "# Exibindo o gráfico\n",
    "plt.show()"
   ]
  },
  {
   "cell_type": "markdown",
   "metadata": {},
   "source": [
    "**Conclusões:**\n",
    "\n",
    "Em relação ao tempo para predição com os dados de teste, todos os modelos apresentaram resultados satisfatórios, pois todos estiveram abaixo de 1 segundo. Porém, se compararmos uns com os outros, podemos observar que o modelo CatBoost apresentou um desempenho melhor, sendo de 0.08 segundo, seguido por Regressão Linear (0.1 s), Floresta Aleatória (0.15 s) e LGBM, que apresentou de longe o pior desempenho (0.61 s).\n",
    "\n",
    "Para este conjunto de dados, o desempenho de todos foi aceitável. Porém, se considerarmos um conjunto de dados muito maior, com milhões ou bilhões de linhas, o desempenho pode ser mais impactado. Portanto, o modelo CatBoost apresentaria um resultado melhor nesses casos."
   ]
  },
  {
   "cell_type": "markdown",
   "metadata": {},
   "source": [
    "## Conclusões Finais"
   ]
  },
  {
   "cell_type": "markdown",
   "metadata": {},
   "source": [
    "**O melhor desempenho dentre os modelos, analisando-se os resultados de REQM e o tempo, foi o do modelo CatBoost.**\n",
    "\n",
    "O modelo de Regressão Linear apresentou um resultado muito melhor em relação ao tempo de treinamento do modelo. Porém, o resultado de REQM não foi aceitável se comparado aos demais modelos.\n",
    "\n",
    "Os resultados de REQM obtidos foram muito parecidos entre os modelos CatBoost e LGBM. Porém, o tempo gasto pelo modelo LGBM foi muito maior, sendo mais que o dobro do tempo gasto pelo CatBoost. Por este motivo, o modelo CatBoost foi considerado o modelo que apresentou o melhor desempenho"
   ]
  }
 ],
 "metadata": {
  "ExecuteTimeLog": [
   {
    "duration": 667,
    "start_time": "2024-07-16T11:29:29.306Z"
   },
   {
    "duration": 13,
    "start_time": "2024-07-16T11:29:31.938Z"
   },
   {
    "duration": 1120,
    "start_time": "2024-07-16T11:29:39.554Z"
   },
   {
    "duration": 1043,
    "start_time": "2024-07-16T11:29:46.397Z"
   },
   {
    "duration": 1000,
    "start_time": "2024-07-16T11:30:00.458Z"
   },
   {
    "duration": 266,
    "start_time": "2024-07-16T11:30:44.904Z"
   },
   {
    "duration": 22,
    "start_time": "2024-07-16T11:34:48.361Z"
   },
   {
    "duration": 1409,
    "start_time": "2024-07-16T11:35:01.569Z"
   },
   {
    "duration": 45,
    "start_time": "2024-07-16T11:35:17.547Z"
   },
   {
    "duration": 2071,
    "start_time": "2024-07-16T11:37:15.482Z"
   },
   {
    "duration": 110,
    "start_time": "2024-07-16T11:38:54.546Z"
   },
   {
    "duration": 96,
    "start_time": "2024-07-16T11:44:15.546Z"
   },
   {
    "duration": 2109,
    "start_time": "2024-07-16T11:45:10.751Z"
   },
   {
    "duration": 2165,
    "start_time": "2024-07-16T11:47:15.586Z"
   },
   {
    "duration": 9,
    "start_time": "2024-07-16T11:48:07.567Z"
   },
   {
    "duration": 18,
    "start_time": "2024-07-16T11:48:16.017Z"
   },
   {
    "duration": 10,
    "start_time": "2024-07-16T11:48:30.973Z"
   },
   {
    "duration": 9,
    "start_time": "2024-07-16T11:48:41.842Z"
   },
   {
    "duration": 7,
    "start_time": "2024-07-16T11:48:54.288Z"
   },
   {
    "duration": 77,
    "start_time": "2024-07-16T11:50:02.623Z"
   },
   {
    "duration": 36,
    "start_time": "2024-07-16T11:51:45.195Z"
   },
   {
    "duration": 40,
    "start_time": "2024-07-16T11:52:18.272Z"
   },
   {
    "duration": 37,
    "start_time": "2024-07-16T11:53:03.525Z"
   },
   {
    "duration": 1461,
    "start_time": "2024-07-16T11:54:20.281Z"
   },
   {
    "duration": 9,
    "start_time": "2024-07-16T11:55:00.546Z"
   },
   {
    "duration": 6,
    "start_time": "2024-07-16T11:55:12.143Z"
   },
   {
    "duration": 159,
    "start_time": "2024-07-16T11:55:28.255Z"
   },
   {
    "duration": 11,
    "start_time": "2024-07-16T11:55:43.568Z"
   },
   {
    "duration": 41,
    "start_time": "2024-07-16T11:56:12.559Z"
   },
   {
    "duration": 12,
    "start_time": "2024-07-16T11:57:14.758Z"
   },
   {
    "duration": 26,
    "start_time": "2024-07-16T11:57:38.155Z"
   },
   {
    "duration": 35,
    "start_time": "2024-07-16T11:57:55.991Z"
   },
   {
    "duration": 132,
    "start_time": "2024-07-16T11:58:28.939Z"
   },
   {
    "duration": 41,
    "start_time": "2024-07-16T11:58:39.312Z"
   },
   {
    "duration": 26,
    "start_time": "2024-07-16T12:12:52.681Z"
   },
   {
    "duration": 4,
    "start_time": "2024-07-16T12:13:27.489Z"
   },
   {
    "duration": 8,
    "start_time": "2024-07-16T12:13:30.951Z"
   },
   {
    "duration": 6,
    "start_time": "2024-07-16T12:13:35.156Z"
   },
   {
    "duration": 7,
    "start_time": "2024-07-16T12:14:06.487Z"
   },
   {
    "duration": 19,
    "start_time": "2024-07-16T12:14:31.075Z"
   },
   {
    "duration": 67,
    "start_time": "2024-07-16T12:16:27.996Z"
   },
   {
    "duration": 187,
    "start_time": "2024-07-16T12:23:23.578Z"
   },
   {
    "duration": 90,
    "start_time": "2024-07-16T12:24:06.613Z"
   },
   {
    "duration": 115,
    "start_time": "2024-07-16T12:24:14.725Z"
   },
   {
    "duration": 117,
    "start_time": "2024-07-16T12:24:58.531Z"
   },
   {
    "duration": 96,
    "start_time": "2024-07-16T12:26:01.518Z"
   },
   {
    "duration": 511,
    "start_time": "2024-07-16T12:29:47.175Z"
   },
   {
    "duration": 342,
    "start_time": "2024-07-16T12:30:54.787Z"
   },
   {
    "duration": 293,
    "start_time": "2024-07-16T12:31:19.789Z"
   },
   {
    "duration": 309,
    "start_time": "2024-07-16T12:31:37.717Z"
   },
   {
    "duration": 301,
    "start_time": "2024-07-16T12:31:59.020Z"
   },
   {
    "duration": 295,
    "start_time": "2024-07-16T12:32:18.489Z"
   },
   {
    "duration": 331,
    "start_time": "2024-07-16T12:33:36.000Z"
   },
   {
    "duration": 249,
    "start_time": "2024-07-16T12:33:47.450Z"
   },
   {
    "duration": 325,
    "start_time": "2024-07-16T12:33:52.235Z"
   },
   {
    "duration": 335,
    "start_time": "2024-07-16T12:33:56.466Z"
   },
   {
    "duration": 329,
    "start_time": "2024-07-16T12:35:40.691Z"
   },
   {
    "duration": 302,
    "start_time": "2024-07-16T12:36:05.380Z"
   },
   {
    "duration": 360,
    "start_time": "2024-07-16T12:37:36.332Z"
   },
   {
    "duration": 497,
    "start_time": "2024-07-16T12:37:42.039Z"
   },
   {
    "duration": 4046,
    "start_time": "2024-07-16T12:39:03.999Z"
   },
   {
    "duration": 1096,
    "start_time": "2024-07-16T12:40:28.290Z"
   },
   {
    "duration": 251,
    "start_time": "2024-07-16T12:40:43.744Z"
   },
   {
    "duration": 40,
    "start_time": "2024-07-16T12:41:49.033Z"
   },
   {
    "duration": 124,
    "start_time": "2024-07-16T12:42:27.809Z"
   },
   {
    "duration": 84,
    "start_time": "2024-07-16T12:43:19.116Z"
   },
   {
    "duration": 13,
    "start_time": "2024-07-16T12:43:21.951Z"
   },
   {
    "duration": 30,
    "start_time": "2024-07-16T12:43:22.323Z"
   },
   {
    "duration": 112,
    "start_time": "2024-07-16T12:43:22.869Z"
   },
   {
    "duration": 291,
    "start_time": "2024-07-16T12:44:57.693Z"
   },
   {
    "duration": 35,
    "start_time": "2024-07-16T12:49:05.981Z"
   },
   {
    "duration": 44,
    "start_time": "2024-07-16T12:49:34.655Z"
   },
   {
    "duration": 370,
    "start_time": "2024-07-16T12:51:07.393Z"
   },
   {
    "duration": 655,
    "start_time": "2024-07-16T12:51:24.015Z"
   },
   {
    "duration": 1005,
    "start_time": "2024-07-16T12:51:24.675Z"
   },
   {
    "duration": 201,
    "start_time": "2024-07-16T12:51:25.684Z"
   },
   {
    "duration": 21,
    "start_time": "2024-07-16T12:51:25.890Z"
   },
   {
    "duration": 38,
    "start_time": "2024-07-16T12:51:25.915Z"
   },
   {
    "duration": 3848,
    "start_time": "2024-07-16T12:51:25.962Z"
   },
   {
    "duration": 56,
    "start_time": "2024-07-16T12:51:29.821Z"
   },
   {
    "duration": 53,
    "start_time": "2024-07-16T12:51:29.881Z"
   },
   {
    "duration": 49,
    "start_time": "2024-07-16T12:52:56.945Z"
   },
   {
    "duration": 109,
    "start_time": "2024-07-16T12:54:23.306Z"
   },
   {
    "duration": 2440,
    "start_time": "2024-07-16T12:54:39.205Z"
   },
   {
    "duration": 63,
    "start_time": "2024-07-16T12:55:28.886Z"
   },
   {
    "duration": 80,
    "start_time": "2024-07-16T12:55:50.701Z"
   },
   {
    "duration": 553,
    "start_time": "2024-07-16T14:19:56.843Z"
   },
   {
    "duration": 1119,
    "start_time": "2024-07-16T14:19:57.402Z"
   },
   {
    "duration": 223,
    "start_time": "2024-07-16T14:19:58.524Z"
   },
   {
    "duration": 8,
    "start_time": "2024-07-16T14:19:58.758Z"
   },
   {
    "duration": 32,
    "start_time": "2024-07-16T14:19:58.768Z"
   },
   {
    "duration": 3944,
    "start_time": "2024-07-16T14:19:58.803Z"
   },
   {
    "duration": 98,
    "start_time": "2024-07-16T14:20:02.751Z"
   },
   {
    "duration": 400,
    "start_time": "2024-07-16T14:26:47.876Z"
   },
   {
    "duration": 57,
    "start_time": "2024-07-16T14:26:58.789Z"
   },
   {
    "duration": 778,
    "start_time": "2024-07-16T14:27:19.019Z"
   },
   {
    "duration": 193,
    "start_time": "2024-07-16T14:27:25.780Z"
   },
   {
    "duration": 4557,
    "start_time": "2024-07-16T14:28:10.828Z"
   },
   {
    "duration": 103,
    "start_time": "2024-07-16T14:30:46.634Z"
   },
   {
    "duration": 1196,
    "start_time": "2024-07-16T14:30:56.078Z"
   },
   {
    "duration": 867,
    "start_time": "2024-07-16T14:30:57.281Z"
   },
   {
    "duration": 163,
    "start_time": "2024-07-16T14:30:58.151Z"
   },
   {
    "duration": 5,
    "start_time": "2024-07-16T14:30:58.317Z"
   },
   {
    "duration": 20,
    "start_time": "2024-07-16T14:30:58.328Z"
   },
   {
    "duration": 408,
    "start_time": "2024-07-16T14:30:58.351Z"
   },
   {
    "duration": 128,
    "start_time": "2024-07-16T14:30:58.762Z"
   },
   {
    "duration": 329,
    "start_time": "2024-07-16T14:30:58.894Z"
   },
   {
    "duration": 448,
    "start_time": "2024-07-16T14:30:59.229Z"
   },
   {
    "duration": 2913,
    "start_time": "2024-07-16T14:31:49.553Z"
   },
   {
    "duration": 57,
    "start_time": "2024-07-16T14:31:53.014Z"
   },
   {
    "duration": 229,
    "start_time": "2024-07-16T14:32:01.574Z"
   },
   {
    "duration": 202,
    "start_time": "2024-07-16T14:32:13.009Z"
   },
   {
    "duration": 327,
    "start_time": "2024-07-16T14:33:53.234Z"
   },
   {
    "duration": 316,
    "start_time": "2024-07-16T14:35:13.251Z"
   },
   {
    "duration": 814,
    "start_time": "2024-07-16T14:36:07.248Z"
   },
   {
    "duration": 785,
    "start_time": "2024-07-16T14:36:49.466Z"
   },
   {
    "duration": 852,
    "start_time": "2024-07-16T14:37:55.701Z"
   },
   {
    "duration": 141,
    "start_time": "2024-07-16T14:38:06.670Z"
   },
   {
    "duration": 2180,
    "start_time": "2024-07-16T14:40:46.224Z"
   },
   {
    "duration": 219,
    "start_time": "2024-07-16T14:40:53.821Z"
   },
   {
    "duration": 1491,
    "start_time": "2024-07-16T14:41:21.539Z"
   },
   {
    "duration": 956,
    "start_time": "2024-07-16T14:41:23.033Z"
   },
   {
    "duration": 173,
    "start_time": "2024-07-16T14:41:23.994Z"
   },
   {
    "duration": 7,
    "start_time": "2024-07-16T14:41:24.174Z"
   },
   {
    "duration": 47,
    "start_time": "2024-07-16T14:41:24.184Z"
   },
   {
    "duration": 4200,
    "start_time": "2024-07-16T14:41:24.235Z"
   },
   {
    "duration": 347,
    "start_time": "2024-07-16T14:41:28.438Z"
   },
   {
    "duration": 721,
    "start_time": "2024-07-16T14:41:28.789Z"
   },
   {
    "duration": 102,
    "start_time": "2024-07-16T14:41:29.513Z"
   },
   {
    "duration": 29,
    "start_time": "2024-07-16T14:41:29.621Z"
   },
   {
    "duration": 220,
    "start_time": "2024-07-16T14:41:29.654Z"
   },
   {
    "duration": 3917,
    "start_time": "2024-07-16T14:41:29.877Z"
   },
   {
    "duration": 1973,
    "start_time": "2024-07-16T14:44:54.990Z"
   },
   {
    "duration": 99,
    "start_time": "2024-07-16T14:45:35.444Z"
   },
   {
    "duration": 6,
    "start_time": "2024-07-16T14:46:08.506Z"
   },
   {
    "duration": 96,
    "start_time": "2024-07-16T14:46:29.280Z"
   },
   {
    "duration": 54,
    "start_time": "2024-07-16T14:46:49.124Z"
   },
   {
    "duration": 49,
    "start_time": "2024-07-16T14:47:05.000Z"
   },
   {
    "duration": 41,
    "start_time": "2024-07-16T14:48:03.601Z"
   },
   {
    "duration": 30,
    "start_time": "2024-07-16T14:48:24.147Z"
   },
   {
    "duration": 32,
    "start_time": "2024-07-16T14:48:29.864Z"
   },
   {
    "duration": 1202,
    "start_time": "2024-07-16T14:48:49.076Z"
   },
   {
    "duration": 763,
    "start_time": "2024-07-16T14:48:50.281Z"
   },
   {
    "duration": 165,
    "start_time": "2024-07-16T14:48:51.048Z"
   },
   {
    "duration": 10,
    "start_time": "2024-07-16T14:48:51.219Z"
   },
   {
    "duration": 26,
    "start_time": "2024-07-16T14:48:51.232Z"
   },
   {
    "duration": 3099,
    "start_time": "2024-07-16T14:48:51.261Z"
   },
   {
    "duration": 285,
    "start_time": "2024-07-16T14:48:54.363Z"
   },
   {
    "duration": 541,
    "start_time": "2024-07-16T14:48:54.652Z"
   },
   {
    "duration": 69,
    "start_time": "2024-07-16T14:48:55.196Z"
   },
   {
    "duration": 44,
    "start_time": "2024-07-16T14:48:55.270Z"
   },
   {
    "duration": 14,
    "start_time": "2024-07-16T14:48:55.318Z"
   },
   {
    "duration": 131,
    "start_time": "2024-07-16T14:48:55.336Z"
   },
   {
    "duration": 340,
    "start_time": "2024-07-16T14:48:55.470Z"
   },
   {
    "duration": 35,
    "start_time": "2024-07-16T14:49:21.922Z"
   },
   {
    "duration": 28,
    "start_time": "2024-07-16T14:49:46.441Z"
   },
   {
    "duration": 50,
    "start_time": "2024-07-16T14:50:16.547Z"
   },
   {
    "duration": 117,
    "start_time": "2024-07-16T14:52:03.106Z"
   },
   {
    "duration": 93,
    "start_time": "2024-07-16T14:54:14.439Z"
   },
   {
    "duration": 4,
    "start_time": "2024-07-16T16:26:09.887Z"
   },
   {
    "duration": 601,
    "start_time": "2024-07-16T16:33:09.049Z"
   },
   {
    "duration": 627,
    "start_time": "2024-07-16T16:33:44.263Z"
   },
   {
    "duration": 238,
    "start_time": "2024-07-16T16:35:12.318Z"
   },
   {
    "duration": 4,
    "start_time": "2024-07-16T16:36:11.182Z"
   },
   {
    "duration": 4,
    "start_time": "2024-07-16T16:36:19.266Z"
   },
   {
    "duration": 28,
    "start_time": "2024-07-16T16:38:14.041Z"
   },
   {
    "duration": 4,
    "start_time": "2024-07-16T16:38:27.510Z"
   },
   {
    "duration": 619,
    "start_time": "2024-07-16T16:38:29.008Z"
   },
   {
    "duration": 664,
    "start_time": "2024-07-16T16:38:29.630Z"
   },
   {
    "duration": 4,
    "start_time": "2024-07-16T16:43:17.763Z"
   },
   {
    "duration": 618,
    "start_time": "2024-07-16T16:43:19.035Z"
   },
   {
    "duration": 135,
    "start_time": "2024-07-16T16:43:20.252Z"
   },
   {
    "duration": 208,
    "start_time": "2024-07-16T16:44:04.127Z"
   },
   {
    "duration": 159,
    "start_time": "2024-07-16T16:44:12.904Z"
   },
   {
    "duration": 131,
    "start_time": "2024-07-16T16:44:35.964Z"
   },
   {
    "duration": 162,
    "start_time": "2024-07-16T16:47:54.075Z"
   },
   {
    "duration": 161,
    "start_time": "2024-07-16T16:49:34.539Z"
   },
   {
    "duration": 1190,
    "start_time": "2024-07-16T16:49:52.882Z"
   },
   {
    "duration": 803,
    "start_time": "2024-07-16T16:49:54.076Z"
   },
   {
    "duration": 160,
    "start_time": "2024-07-16T16:49:54.882Z"
   },
   {
    "duration": 5,
    "start_time": "2024-07-16T16:49:55.047Z"
   },
   {
    "duration": 19,
    "start_time": "2024-07-16T16:49:55.055Z"
   },
   {
    "duration": 3257,
    "start_time": "2024-07-16T16:49:55.077Z"
   },
   {
    "duration": 251,
    "start_time": "2024-07-16T16:49:58.337Z"
   },
   {
    "duration": 536,
    "start_time": "2024-07-16T16:49:58.592Z"
   },
   {
    "duration": 58,
    "start_time": "2024-07-16T16:49:59.131Z"
   },
   {
    "duration": 24,
    "start_time": "2024-07-16T16:49:59.210Z"
   },
   {
    "duration": 34,
    "start_time": "2024-07-16T16:49:59.238Z"
   },
   {
    "duration": 84,
    "start_time": "2024-07-16T16:49:59.275Z"
   },
   {
    "duration": 132,
    "start_time": "2024-07-16T16:49:59.362Z"
   },
   {
    "duration": 11,
    "start_time": "2024-07-16T16:49:59.497Z"
   },
   {
    "duration": 668,
    "start_time": "2024-07-16T16:49:59.512Z"
   },
   {
    "duration": 172,
    "start_time": "2024-07-16T16:50:00.184Z"
   },
   {
    "duration": 321,
    "start_time": "2024-07-16T16:50:00.359Z"
   },
   {
    "duration": 154,
    "start_time": "2024-07-16T16:51:38.279Z"
   },
   {
    "duration": 729,
    "start_time": "2024-07-16T16:53:25.667Z"
   },
   {
    "duration": 1146,
    "start_time": "2024-07-16T16:54:53.683Z"
   },
   {
    "duration": 1341,
    "start_time": "2024-07-16T16:55:23.670Z"
   },
   {
    "duration": 931,
    "start_time": "2024-07-16T16:55:25.015Z"
   },
   {
    "duration": 188,
    "start_time": "2024-07-16T16:55:25.951Z"
   },
   {
    "duration": 11,
    "start_time": "2024-07-16T16:55:26.142Z"
   },
   {
    "duration": 62,
    "start_time": "2024-07-16T16:55:26.159Z"
   },
   {
    "duration": 3240,
    "start_time": "2024-07-16T16:55:26.226Z"
   },
   {
    "duration": 275,
    "start_time": "2024-07-16T16:55:29.469Z"
   },
   {
    "duration": 572,
    "start_time": "2024-07-16T16:55:29.747Z"
   },
   {
    "duration": 57,
    "start_time": "2024-07-16T16:55:30.323Z"
   },
   {
    "duration": 44,
    "start_time": "2024-07-16T16:55:30.383Z"
   },
   {
    "duration": 33,
    "start_time": "2024-07-16T16:55:30.431Z"
   },
   {
    "duration": 89,
    "start_time": "2024-07-16T16:55:30.467Z"
   },
   {
    "duration": 129,
    "start_time": "2024-07-16T16:55:30.559Z"
   },
   {
    "duration": 14,
    "start_time": "2024-07-16T16:55:30.694Z"
   },
   {
    "duration": 567,
    "start_time": "2024-07-16T16:55:30.711Z"
   },
   {
    "duration": 208,
    "start_time": "2024-07-16T16:55:31.281Z"
   },
   {
    "duration": 343,
    "start_time": "2024-07-16T16:55:31.496Z"
   },
   {
    "duration": 558,
    "start_time": "2024-07-16T16:55:52.819Z"
   },
   {
    "duration": 518,
    "start_time": "2024-07-16T16:56:35.481Z"
   },
   {
    "duration": 151,
    "start_time": "2024-07-16T16:56:38.106Z"
   },
   {
    "duration": 524,
    "start_time": "2024-07-16T16:57:16.570Z"
   },
   {
    "duration": 144,
    "start_time": "2024-07-16T16:57:54.379Z"
   },
   {
    "duration": 1225,
    "start_time": "2024-07-16T16:58:57.234Z"
   },
   {
    "duration": 799,
    "start_time": "2024-07-16T16:58:58.463Z"
   },
   {
    "duration": 161,
    "start_time": "2024-07-16T16:58:59.265Z"
   },
   {
    "duration": 5,
    "start_time": "2024-07-16T16:58:59.429Z"
   },
   {
    "duration": 23,
    "start_time": "2024-07-16T16:58:59.439Z"
   },
   {
    "duration": 3119,
    "start_time": "2024-07-16T16:58:59.466Z"
   },
   {
    "duration": 263,
    "start_time": "2024-07-16T16:59:02.589Z"
   },
   {
    "duration": 555,
    "start_time": "2024-07-16T16:59:02.854Z"
   },
   {
    "duration": 59,
    "start_time": "2024-07-16T16:59:03.413Z"
   },
   {
    "duration": 46,
    "start_time": "2024-07-16T16:59:03.475Z"
   },
   {
    "duration": 29,
    "start_time": "2024-07-16T16:59:03.526Z"
   },
   {
    "duration": 79,
    "start_time": "2024-07-16T16:59:03.558Z"
   },
   {
    "duration": 135,
    "start_time": "2024-07-16T16:59:03.640Z"
   },
   {
    "duration": 4,
    "start_time": "2024-07-16T16:59:03.782Z"
   },
   {
    "duration": 413,
    "start_time": "2024-07-16T16:59:03.809Z"
   },
   {
    "duration": 0,
    "start_time": "2024-07-16T16:59:04.225Z"
   },
   {
    "duration": 0,
    "start_time": "2024-07-16T16:59:04.227Z"
   },
   {
    "duration": 32,
    "start_time": "2024-07-16T16:59:10.963Z"
   },
   {
    "duration": 534,
    "start_time": "2024-07-16T16:59:29.077Z"
   },
   {
    "duration": 42,
    "start_time": "2024-07-16T16:59:41.413Z"
   },
   {
    "duration": 147,
    "start_time": "2024-07-16T17:00:00.397Z"
   },
   {
    "duration": 25,
    "start_time": "2024-07-16T17:06:46.955Z"
   },
   {
    "duration": 6,
    "start_time": "2024-07-16T17:07:07.361Z"
   },
   {
    "duration": 363,
    "start_time": "2024-07-16T17:07:16.650Z"
   },
   {
    "duration": 95,
    "start_time": "2024-07-16T17:12:53.061Z"
   },
   {
    "duration": 1274,
    "start_time": "2024-07-16T17:14:31.804Z"
   },
   {
    "duration": 791,
    "start_time": "2024-07-16T17:14:33.081Z"
   },
   {
    "duration": 162,
    "start_time": "2024-07-16T17:14:33.875Z"
   },
   {
    "duration": 6,
    "start_time": "2024-07-16T17:14:34.042Z"
   },
   {
    "duration": 70,
    "start_time": "2024-07-16T17:14:34.051Z"
   },
   {
    "duration": 3154,
    "start_time": "2024-07-16T17:14:34.124Z"
   },
   {
    "duration": 294,
    "start_time": "2024-07-16T17:14:37.281Z"
   },
   {
    "duration": 535,
    "start_time": "2024-07-16T17:14:37.578Z"
   },
   {
    "duration": 57,
    "start_time": "2024-07-16T17:14:38.116Z"
   },
   {
    "duration": 165,
    "start_time": "2024-07-16T17:14:38.178Z"
   },
   {
    "duration": 20,
    "start_time": "2024-07-16T17:14:38.347Z"
   },
   {
    "duration": 53,
    "start_time": "2024-07-16T17:14:38.371Z"
   },
   {
    "duration": 51,
    "start_time": "2024-07-16T17:14:38.427Z"
   },
   {
    "duration": 162,
    "start_time": "2024-07-16T17:14:38.481Z"
   },
   {
    "duration": 5,
    "start_time": "2024-07-16T17:14:38.646Z"
   },
   {
    "duration": 765,
    "start_time": "2024-07-16T17:14:38.655Z"
   },
   {
    "duration": 0,
    "start_time": "2024-07-16T17:14:39.424Z"
   },
   {
    "duration": 0,
    "start_time": "2024-07-16T17:14:39.426Z"
   },
   {
    "duration": 9,
    "start_time": "2024-07-16T17:16:41.880Z"
   },
   {
    "duration": 37,
    "start_time": "2024-07-16T17:16:50.751Z"
   },
   {
    "duration": 18,
    "start_time": "2024-07-16T17:17:23.149Z"
   },
   {
    "duration": 19,
    "start_time": "2024-07-16T17:17:54.548Z"
   },
   {
    "duration": 81,
    "start_time": "2024-07-16T17:19:36.917Z"
   },
   {
    "duration": 1226,
    "start_time": "2024-07-16T17:20:13.975Z"
   },
   {
    "duration": 798,
    "start_time": "2024-07-16T17:20:15.205Z"
   },
   {
    "duration": 151,
    "start_time": "2024-07-16T17:20:16.006Z"
   },
   {
    "duration": 7,
    "start_time": "2024-07-16T17:20:16.160Z"
   },
   {
    "duration": 54,
    "start_time": "2024-07-16T17:20:16.171Z"
   },
   {
    "duration": 3179,
    "start_time": "2024-07-16T17:20:16.229Z"
   },
   {
    "duration": 254,
    "start_time": "2024-07-16T17:20:19.411Z"
   },
   {
    "duration": 554,
    "start_time": "2024-07-16T17:20:19.668Z"
   },
   {
    "duration": 57,
    "start_time": "2024-07-16T17:20:20.227Z"
   },
   {
    "duration": 47,
    "start_time": "2024-07-16T17:20:20.286Z"
   },
   {
    "duration": 128,
    "start_time": "2024-07-16T17:20:20.336Z"
   },
   {
    "duration": 19,
    "start_time": "2024-07-16T17:20:20.466Z"
   },
   {
    "duration": 49,
    "start_time": "2024-07-16T17:20:20.488Z"
   },
   {
    "duration": 81,
    "start_time": "2024-07-16T17:20:20.542Z"
   },
   {
    "duration": 127,
    "start_time": "2024-07-16T17:20:20.627Z"
   },
   {
    "duration": 5,
    "start_time": "2024-07-16T17:20:20.757Z"
   },
   {
    "duration": 788,
    "start_time": "2024-07-16T17:20:20.766Z"
   },
   {
    "duration": 0,
    "start_time": "2024-07-16T17:20:21.557Z"
   },
   {
    "duration": 0,
    "start_time": "2024-07-16T17:20:21.561Z"
   },
   {
    "duration": 94,
    "start_time": "2024-07-16T17:22:45.524Z"
   },
   {
    "duration": 11,
    "start_time": "2024-07-16T17:24:25.567Z"
   },
   {
    "duration": 12,
    "start_time": "2024-07-16T17:26:10.737Z"
   },
   {
    "duration": 12,
    "start_time": "2024-07-16T17:27:13.293Z"
   },
   {
    "duration": 48,
    "start_time": "2024-07-16T17:27:34.109Z"
   },
   {
    "duration": 43,
    "start_time": "2024-07-16T17:28:16.146Z"
   },
   {
    "duration": 63,
    "start_time": "2024-07-16T17:29:02.435Z"
   },
   {
    "duration": 39,
    "start_time": "2024-07-16T17:29:33.124Z"
   },
   {
    "duration": 43,
    "start_time": "2024-07-16T17:29:40.923Z"
   },
   {
    "duration": 54,
    "start_time": "2024-07-16T17:30:16.085Z"
   },
   {
    "duration": 52,
    "start_time": "2024-07-16T17:30:37.786Z"
   },
   {
    "duration": 64,
    "start_time": "2024-07-16T17:30:56.154Z"
   },
   {
    "duration": 58,
    "start_time": "2024-07-16T17:31:25.372Z"
   },
   {
    "duration": 12,
    "start_time": "2024-07-16T17:32:20.923Z"
   },
   {
    "duration": 11,
    "start_time": "2024-07-16T17:32:45.006Z"
   },
   {
    "duration": 9,
    "start_time": "2024-07-16T17:33:06.937Z"
   },
   {
    "duration": 60,
    "start_time": "2024-07-16T17:46:33.742Z"
   },
   {
    "duration": 4,
    "start_time": "2024-07-16T18:04:04.744Z"
   },
   {
    "duration": 1331,
    "start_time": "2024-07-16T18:08:18.728Z"
   },
   {
    "duration": 544,
    "start_time": "2024-07-16T18:12:14.126Z"
   },
   {
    "duration": 589,
    "start_time": "2024-07-16T18:12:28.887Z"
   },
   {
    "duration": 615,
    "start_time": "2024-07-16T18:12:49.351Z"
   },
   {
    "duration": 631,
    "start_time": "2024-07-16T18:15:43.004Z"
   },
   {
    "duration": 156,
    "start_time": "2024-07-16T18:34:29.236Z"
   },
   {
    "duration": 1290,
    "start_time": "2024-07-16T18:34:41.541Z"
   },
   {
    "duration": 854,
    "start_time": "2024-07-16T18:34:42.835Z"
   },
   {
    "duration": 183,
    "start_time": "2024-07-16T18:34:43.692Z"
   },
   {
    "duration": 6,
    "start_time": "2024-07-16T18:34:43.882Z"
   },
   {
    "duration": 65,
    "start_time": "2024-07-16T18:34:43.892Z"
   },
   {
    "duration": 3464,
    "start_time": "2024-07-16T18:34:43.963Z"
   },
   {
    "duration": 253,
    "start_time": "2024-07-16T18:34:47.437Z"
   },
   {
    "duration": 579,
    "start_time": "2024-07-16T18:34:47.693Z"
   },
   {
    "duration": 88,
    "start_time": "2024-07-16T18:34:48.275Z"
   },
   {
    "duration": 75,
    "start_time": "2024-07-16T18:34:48.369Z"
   },
   {
    "duration": 118,
    "start_time": "2024-07-16T18:34:48.447Z"
   },
   {
    "duration": 12,
    "start_time": "2024-07-16T18:34:48.568Z"
   },
   {
    "duration": 337,
    "start_time": "2024-07-16T18:37:39.731Z"
   },
   {
    "duration": 1248,
    "start_time": "2024-07-16T18:37:48.033Z"
   },
   {
    "duration": 943,
    "start_time": "2024-07-16T18:37:49.285Z"
   },
   {
    "duration": 176,
    "start_time": "2024-07-16T18:37:50.231Z"
   },
   {
    "duration": 10,
    "start_time": "2024-07-16T18:37:50.414Z"
   },
   {
    "duration": 27,
    "start_time": "2024-07-16T18:37:50.429Z"
   },
   {
    "duration": 3398,
    "start_time": "2024-07-16T18:37:50.459Z"
   },
   {
    "duration": 277,
    "start_time": "2024-07-16T18:37:53.861Z"
   },
   {
    "duration": 544,
    "start_time": "2024-07-16T18:37:54.141Z"
   },
   {
    "duration": 47,
    "start_time": "2024-07-16T18:37:54.688Z"
   },
   {
    "duration": 44,
    "start_time": "2024-07-16T18:37:54.745Z"
   },
   {
    "duration": 80,
    "start_time": "2024-07-16T18:37:54.792Z"
   },
   {
    "duration": 92,
    "start_time": "2024-07-16T18:37:54.874Z"
   },
   {
    "duration": 11,
    "start_time": "2024-07-16T18:37:54.969Z"
   },
   {
    "duration": 2565,
    "start_time": "2024-07-16T18:37:55.010Z"
   },
   {
    "duration": 0,
    "start_time": "2024-07-16T18:37:57.578Z"
   },
   {
    "duration": 0,
    "start_time": "2024-07-16T18:37:57.579Z"
   },
   {
    "duration": 0,
    "start_time": "2024-07-16T18:37:57.581Z"
   },
   {
    "duration": 0,
    "start_time": "2024-07-16T18:37:57.583Z"
   },
   {
    "duration": 0,
    "start_time": "2024-07-16T18:37:57.585Z"
   },
   {
    "duration": 0,
    "start_time": "2024-07-16T18:37:57.586Z"
   },
   {
    "duration": 0,
    "start_time": "2024-07-16T18:37:57.588Z"
   },
   {
    "duration": 0,
    "start_time": "2024-07-16T18:37:57.590Z"
   },
   {
    "duration": 0,
    "start_time": "2024-07-16T18:37:57.612Z"
   },
   {
    "duration": 769,
    "start_time": "2024-07-16T18:38:49.065Z"
   },
   {
    "duration": 85,
    "start_time": "2024-07-16T18:39:14.436Z"
   },
   {
    "duration": 1334,
    "start_time": "2024-07-16T18:39:20.021Z"
   },
   {
    "duration": 832,
    "start_time": "2024-07-16T18:39:21.360Z"
   },
   {
    "duration": 185,
    "start_time": "2024-07-16T18:39:22.195Z"
   },
   {
    "duration": 7,
    "start_time": "2024-07-16T18:39:22.383Z"
   },
   {
    "duration": 35,
    "start_time": "2024-07-16T18:39:22.412Z"
   },
   {
    "duration": 3446,
    "start_time": "2024-07-16T18:39:22.450Z"
   },
   {
    "duration": 290,
    "start_time": "2024-07-16T18:39:25.899Z"
   },
   {
    "duration": 586,
    "start_time": "2024-07-16T18:39:26.193Z"
   },
   {
    "duration": 39,
    "start_time": "2024-07-16T18:39:26.783Z"
   },
   {
    "duration": 44,
    "start_time": "2024-07-16T18:39:26.833Z"
   },
   {
    "duration": 82,
    "start_time": "2024-07-16T18:39:26.880Z"
   },
   {
    "duration": 88,
    "start_time": "2024-07-16T18:39:26.965Z"
   },
   {
    "duration": 9,
    "start_time": "2024-07-16T18:39:27.057Z"
   },
   {
    "duration": 2671,
    "start_time": "2024-07-16T18:39:27.072Z"
   },
   {
    "duration": 0,
    "start_time": "2024-07-16T18:39:29.749Z"
   },
   {
    "duration": 0,
    "start_time": "2024-07-16T18:39:29.751Z"
   },
   {
    "duration": 0,
    "start_time": "2024-07-16T18:39:29.753Z"
   },
   {
    "duration": 0,
    "start_time": "2024-07-16T18:39:29.754Z"
   },
   {
    "duration": 0,
    "start_time": "2024-07-16T18:39:29.756Z"
   },
   {
    "duration": 0,
    "start_time": "2024-07-16T18:39:29.760Z"
   },
   {
    "duration": 0,
    "start_time": "2024-07-16T18:39:29.762Z"
   },
   {
    "duration": 0,
    "start_time": "2024-07-16T18:39:29.765Z"
   },
   {
    "duration": 0,
    "start_time": "2024-07-16T18:39:29.767Z"
   },
   {
    "duration": 29,
    "start_time": "2024-07-16T18:39:43.639Z"
   },
   {
    "duration": 80,
    "start_time": "2024-07-16T18:40:37.331Z"
   },
   {
    "duration": 682,
    "start_time": "2024-07-16T18:41:30.107Z"
   },
   {
    "duration": 1308,
    "start_time": "2024-07-16T18:41:41.597Z"
   },
   {
    "duration": 838,
    "start_time": "2024-07-16T18:41:42.910Z"
   },
   {
    "duration": 180,
    "start_time": "2024-07-16T18:41:43.752Z"
   },
   {
    "duration": 13,
    "start_time": "2024-07-16T18:41:43.943Z"
   },
   {
    "duration": 29,
    "start_time": "2024-07-16T18:41:43.960Z"
   },
   {
    "duration": 3307,
    "start_time": "2024-07-16T18:41:44.009Z"
   },
   {
    "duration": 240,
    "start_time": "2024-07-16T18:41:47.324Z"
   },
   {
    "duration": 511,
    "start_time": "2024-07-16T18:41:47.567Z"
   },
   {
    "duration": 30,
    "start_time": "2024-07-16T18:41:48.081Z"
   },
   {
    "duration": 33,
    "start_time": "2024-07-16T18:41:48.114Z"
   },
   {
    "duration": 83,
    "start_time": "2024-07-16T18:41:48.150Z"
   },
   {
    "duration": 33,
    "start_time": "2024-07-16T18:41:48.237Z"
   },
   {
    "duration": 43,
    "start_time": "2024-07-16T18:41:48.274Z"
   },
   {
    "duration": 46,
    "start_time": "2024-07-16T18:41:48.324Z"
   },
   {
    "duration": 35,
    "start_time": "2024-07-16T18:41:48.374Z"
   },
   {
    "duration": 2427,
    "start_time": "2024-07-16T18:41:48.412Z"
   },
   {
    "duration": 0,
    "start_time": "2024-07-16T18:41:50.843Z"
   },
   {
    "duration": 0,
    "start_time": "2024-07-16T18:41:50.845Z"
   },
   {
    "duration": 0,
    "start_time": "2024-07-16T18:41:50.848Z"
   },
   {
    "duration": 0,
    "start_time": "2024-07-16T18:41:50.851Z"
   },
   {
    "duration": 0,
    "start_time": "2024-07-16T18:41:50.854Z"
   },
   {
    "duration": 0,
    "start_time": "2024-07-16T18:41:50.856Z"
   },
   {
    "duration": 0,
    "start_time": "2024-07-16T18:41:50.858Z"
   },
   {
    "duration": 0,
    "start_time": "2024-07-16T18:41:50.862Z"
   },
   {
    "duration": 0,
    "start_time": "2024-07-16T18:41:50.864Z"
   },
   {
    "duration": 576,
    "start_time": "2024-07-16T18:42:56.772Z"
   },
   {
    "duration": 1243,
    "start_time": "2024-07-16T18:43:03.867Z"
   },
   {
    "duration": 785,
    "start_time": "2024-07-16T18:43:05.115Z"
   },
   {
    "duration": 146,
    "start_time": "2024-07-16T18:43:05.910Z"
   },
   {
    "duration": 5,
    "start_time": "2024-07-16T18:43:06.062Z"
   },
   {
    "duration": 46,
    "start_time": "2024-07-16T18:43:06.071Z"
   },
   {
    "duration": 3165,
    "start_time": "2024-07-16T18:43:06.121Z"
   },
   {
    "duration": 208,
    "start_time": "2024-07-16T18:43:09.290Z"
   },
   {
    "duration": 422,
    "start_time": "2024-07-16T18:43:09.501Z"
   },
   {
    "duration": 16,
    "start_time": "2024-07-16T18:43:09.927Z"
   },
   {
    "duration": 60,
    "start_time": "2024-07-16T18:43:09.952Z"
   },
   {
    "duration": 30,
    "start_time": "2024-07-16T18:43:10.015Z"
   },
   {
    "duration": 14,
    "start_time": "2024-07-16T18:43:10.048Z"
   },
   {
    "duration": 48,
    "start_time": "2024-07-16T18:43:10.065Z"
   },
   {
    "duration": 34,
    "start_time": "2024-07-16T18:43:10.117Z"
   },
   {
    "duration": 55,
    "start_time": "2024-07-16T18:43:10.154Z"
   },
   {
    "duration": 2359,
    "start_time": "2024-07-16T18:43:10.212Z"
   },
   {
    "duration": 0,
    "start_time": "2024-07-16T18:43:12.575Z"
   },
   {
    "duration": 0,
    "start_time": "2024-07-16T18:43:12.577Z"
   },
   {
    "duration": 0,
    "start_time": "2024-07-16T18:43:12.580Z"
   },
   {
    "duration": 0,
    "start_time": "2024-07-16T18:43:12.582Z"
   },
   {
    "duration": 0,
    "start_time": "2024-07-16T18:43:12.585Z"
   },
   {
    "duration": 0,
    "start_time": "2024-07-16T18:43:12.587Z"
   },
   {
    "duration": 0,
    "start_time": "2024-07-16T18:43:12.609Z"
   },
   {
    "duration": 0,
    "start_time": "2024-07-16T18:43:12.611Z"
   },
   {
    "duration": 0,
    "start_time": "2024-07-16T18:43:12.613Z"
   },
   {
    "duration": 2472,
    "start_time": "2024-07-16T18:45:34.200Z"
   },
   {
    "duration": 2596,
    "start_time": "2024-07-16T18:48:52.097Z"
   },
   {
    "duration": 2607,
    "start_time": "2024-07-16T18:49:34.634Z"
   },
   {
    "duration": 0,
    "start_time": "2024-07-16T19:04:54.163Z"
   },
   {
    "duration": 0,
    "start_time": "2024-07-16T19:04:54.165Z"
   },
   {
    "duration": 0,
    "start_time": "2024-07-16T19:04:54.168Z"
   },
   {
    "duration": 0,
    "start_time": "2024-07-16T19:04:54.171Z"
   },
   {
    "duration": 2129,
    "start_time": "2024-07-16T19:07:01.972Z"
   },
   {
    "duration": 2092,
    "start_time": "2024-07-16T19:07:18.434Z"
   },
   {
    "duration": 6186,
    "start_time": "2024-07-16T19:13:45.756Z"
   },
   {
    "duration": 6036,
    "start_time": "2024-07-16T19:14:18.366Z"
   },
   {
    "duration": 3,
    "start_time": "2024-07-16T19:15:38.401Z"
   },
   {
    "duration": 1322,
    "start_time": "2024-07-16T19:15:43.217Z"
   },
   {
    "duration": 909,
    "start_time": "2024-07-16T19:15:44.544Z"
   },
   {
    "duration": 157,
    "start_time": "2024-07-16T19:15:45.456Z"
   },
   {
    "duration": 6,
    "start_time": "2024-07-16T19:15:45.617Z"
   },
   {
    "duration": 27,
    "start_time": "2024-07-16T19:15:45.626Z"
   },
   {
    "duration": 3408,
    "start_time": "2024-07-16T19:15:45.656Z"
   },
   {
    "duration": 204,
    "start_time": "2024-07-16T19:15:49.067Z"
   },
   {
    "duration": 442,
    "start_time": "2024-07-16T19:15:49.274Z"
   },
   {
    "duration": 17,
    "start_time": "2024-07-16T19:15:49.721Z"
   },
   {
    "duration": 37,
    "start_time": "2024-07-16T19:15:49.745Z"
   },
   {
    "duration": 42,
    "start_time": "2024-07-16T19:15:49.809Z"
   },
   {
    "duration": 15,
    "start_time": "2024-07-16T19:15:49.854Z"
   },
   {
    "duration": 37,
    "start_time": "2024-07-16T19:15:49.872Z"
   },
   {
    "duration": 32,
    "start_time": "2024-07-16T19:15:49.912Z"
   },
   {
    "duration": 11,
    "start_time": "2024-07-16T19:15:49.947Z"
   },
   {
    "duration": 4,
    "start_time": "2024-07-16T19:15:49.961Z"
   },
   {
    "duration": 42,
    "start_time": "2024-07-16T19:15:49.968Z"
   },
   {
    "duration": 13,
    "start_time": "2024-07-16T19:15:50.013Z"
   },
   {
    "duration": 17,
    "start_time": "2024-07-16T19:15:50.029Z"
   },
   {
    "duration": 80,
    "start_time": "2024-07-16T19:15:50.049Z"
   },
   {
    "duration": 99,
    "start_time": "2024-07-16T19:15:50.132Z"
   },
   {
    "duration": 4,
    "start_time": "2024-07-16T19:15:50.234Z"
   },
   {
    "duration": 824,
    "start_time": "2024-07-16T19:15:50.242Z"
   },
   {
    "duration": 0,
    "start_time": "2024-07-16T19:15:51.069Z"
   },
   {
    "duration": 0,
    "start_time": "2024-07-16T19:15:51.072Z"
   },
   {
    "duration": 19,
    "start_time": "2024-07-16T19:16:20.040Z"
   },
   {
    "duration": 6319,
    "start_time": "2024-07-16T19:17:32.138Z"
   },
   {
    "duration": 5988,
    "start_time": "2024-07-16T19:17:58.954Z"
   },
   {
    "duration": 35,
    "start_time": "2024-07-16T19:18:10.717Z"
   },
   {
    "duration": 1283,
    "start_time": "2024-07-16T19:18:21.520Z"
   },
   {
    "duration": 854,
    "start_time": "2024-07-16T19:18:22.808Z"
   },
   {
    "duration": 163,
    "start_time": "2024-07-16T19:18:23.666Z"
   },
   {
    "duration": 6,
    "start_time": "2024-07-16T19:18:23.834Z"
   },
   {
    "duration": 23,
    "start_time": "2024-07-16T19:18:23.843Z"
   },
   {
    "duration": 3522,
    "start_time": "2024-07-16T19:18:23.869Z"
   },
   {
    "duration": 216,
    "start_time": "2024-07-16T19:18:27.394Z"
   },
   {
    "duration": 438,
    "start_time": "2024-07-16T19:18:27.613Z"
   },
   {
    "duration": 18,
    "start_time": "2024-07-16T19:18:28.054Z"
   },
   {
    "duration": 63,
    "start_time": "2024-07-16T19:18:28.079Z"
   },
   {
    "duration": 32,
    "start_time": "2024-07-16T19:18:28.145Z"
   },
   {
    "duration": 15,
    "start_time": "2024-07-16T19:18:28.180Z"
   },
   {
    "duration": 21,
    "start_time": "2024-07-16T19:18:28.197Z"
   },
   {
    "duration": 43,
    "start_time": "2024-07-16T19:18:28.222Z"
   },
   {
    "duration": 48,
    "start_time": "2024-07-16T19:18:28.268Z"
   },
   {
    "duration": 6172,
    "start_time": "2024-07-16T19:18:28.325Z"
   },
   {
    "duration": 10,
    "start_time": "2024-07-16T19:18:34.500Z"
   },
   {
    "duration": 12,
    "start_time": "2024-07-16T19:18:34.514Z"
   },
   {
    "duration": 16,
    "start_time": "2024-07-16T19:18:34.529Z"
   },
   {
    "duration": 137,
    "start_time": "2024-07-16T19:18:34.554Z"
   },
   {
    "duration": 124,
    "start_time": "2024-07-16T19:18:34.694Z"
   },
   {
    "duration": 6,
    "start_time": "2024-07-16T19:18:34.825Z"
   },
   {
    "duration": 823,
    "start_time": "2024-07-16T19:18:34.837Z"
   },
   {
    "duration": 0,
    "start_time": "2024-07-16T19:18:35.663Z"
   },
   {
    "duration": 0,
    "start_time": "2024-07-16T19:18:35.666Z"
   },
   {
    "duration": 5981,
    "start_time": "2024-07-16T19:24:25.971Z"
   },
   {
    "duration": 23,
    "start_time": "2024-07-16T19:26:03.954Z"
   },
   {
    "duration": 11,
    "start_time": "2024-07-16T19:26:37.637Z"
   },
   {
    "duration": 14,
    "start_time": "2024-07-16T19:27:07.968Z"
   },
   {
    "duration": 12,
    "start_time": "2024-07-16T19:27:56.141Z"
   },
   {
    "duration": 1298,
    "start_time": "2024-07-16T19:28:50.315Z"
   },
   {
    "duration": 845,
    "start_time": "2024-07-16T19:28:51.616Z"
   },
   {
    "duration": 176,
    "start_time": "2024-07-16T19:28:52.464Z"
   },
   {
    "duration": 6,
    "start_time": "2024-07-16T19:28:52.645Z"
   },
   {
    "duration": 22,
    "start_time": "2024-07-16T19:28:52.654Z"
   },
   {
    "duration": 3538,
    "start_time": "2024-07-16T19:28:52.680Z"
   },
   {
    "duration": 203,
    "start_time": "2024-07-16T19:28:56.222Z"
   },
   {
    "duration": 438,
    "start_time": "2024-07-16T19:28:56.428Z"
   },
   {
    "duration": 15,
    "start_time": "2024-07-16T19:28:56.870Z"
   },
   {
    "duration": 27,
    "start_time": "2024-07-16T19:28:56.913Z"
   },
   {
    "duration": 35,
    "start_time": "2024-07-16T19:28:56.944Z"
   },
   {
    "duration": 32,
    "start_time": "2024-07-16T19:28:57.009Z"
   },
   {
    "duration": 12,
    "start_time": "2024-07-16T19:28:57.044Z"
   },
   {
    "duration": 30,
    "start_time": "2024-07-16T19:28:57.059Z"
   },
   {
    "duration": 11,
    "start_time": "2024-07-16T19:28:57.109Z"
   },
   {
    "duration": 3,
    "start_time": "2024-07-16T19:28:57.124Z"
   },
   {
    "duration": 11,
    "start_time": "2024-07-16T19:28:57.130Z"
   },
   {
    "duration": 12,
    "start_time": "2024-07-16T19:28:57.144Z"
   },
   {
    "duration": 52,
    "start_time": "2024-07-16T19:28:57.159Z"
   },
   {
    "duration": 66,
    "start_time": "2024-07-16T19:28:57.214Z"
   },
   {
    "duration": 123,
    "start_time": "2024-07-16T19:28:57.283Z"
   },
   {
    "duration": 4,
    "start_time": "2024-07-16T19:28:57.416Z"
   },
   {
    "duration": 812,
    "start_time": "2024-07-16T19:28:57.424Z"
   },
   {
    "duration": 0,
    "start_time": "2024-07-16T19:28:58.239Z"
   },
   {
    "duration": 0,
    "start_time": "2024-07-16T19:28:58.241Z"
   },
   {
    "duration": 36,
    "start_time": "2024-07-16T19:30:46.937Z"
   },
   {
    "duration": 12,
    "start_time": "2024-07-16T19:31:44.676Z"
   },
   {
    "duration": 6304,
    "start_time": "2024-07-16T19:34:19.101Z"
   },
   {
    "duration": 21,
    "start_time": "2024-07-16T19:34:49.403Z"
   },
   {
    "duration": 6134,
    "start_time": "2024-07-16T19:35:20.399Z"
   },
   {
    "duration": 11,
    "start_time": "2024-07-16T19:35:46.843Z"
   },
   {
    "duration": 6158,
    "start_time": "2024-07-16T19:39:58.980Z"
   },
   {
    "duration": 6204,
    "start_time": "2024-07-16T19:40:10.784Z"
   },
   {
    "duration": 17,
    "start_time": "2024-07-16T19:40:19.956Z"
   },
   {
    "duration": 6131,
    "start_time": "2024-07-16T19:41:12.448Z"
   },
   {
    "duration": 11,
    "start_time": "2024-07-16T19:47:50.385Z"
   },
   {
    "duration": 10,
    "start_time": "2024-07-16T19:48:30.874Z"
   },
   {
    "duration": 35,
    "start_time": "2024-07-16T19:53:27.197Z"
   },
   {
    "duration": 28,
    "start_time": "2024-07-16T19:54:22.984Z"
   },
   {
    "duration": 19,
    "start_time": "2024-07-16T19:54:58.773Z"
   },
   {
    "duration": 18,
    "start_time": "2024-07-16T19:56:00.523Z"
   },
   {
    "duration": 34,
    "start_time": "2024-07-16T19:57:25.866Z"
   },
   {
    "duration": 1575,
    "start_time": "2024-07-16T20:00:01.380Z"
   },
   {
    "duration": 1277,
    "start_time": "2024-07-16T20:03:56.111Z"
   },
   {
    "duration": 772,
    "start_time": "2024-07-16T20:03:57.393Z"
   },
   {
    "duration": 156,
    "start_time": "2024-07-16T20:03:58.168Z"
   },
   {
    "duration": 5,
    "start_time": "2024-07-16T20:03:58.327Z"
   },
   {
    "duration": 20,
    "start_time": "2024-07-16T20:03:58.338Z"
   },
   {
    "duration": 449,
    "start_time": "2024-07-16T20:03:58.361Z"
   },
   {
    "duration": 899,
    "start_time": "2024-07-16T20:03:58.813Z"
   },
   {
    "duration": 35,
    "start_time": "2024-07-16T20:03:59.715Z"
   },
   {
    "duration": 15,
    "start_time": "2024-07-16T20:03:59.753Z"
   },
   {
    "duration": 129,
    "start_time": "2024-07-16T20:03:59.771Z"
   },
   {
    "duration": 104,
    "start_time": "2024-07-16T20:03:59.910Z"
   },
   {
    "duration": 57,
    "start_time": "2024-07-16T20:04:00.017Z"
   },
   {
    "duration": 93,
    "start_time": "2024-07-16T20:04:00.078Z"
   },
   {
    "duration": 62,
    "start_time": "2024-07-16T20:04:00.178Z"
   },
   {
    "duration": 5990,
    "start_time": "2024-07-16T20:04:00.243Z"
   },
   {
    "duration": 50,
    "start_time": "2024-07-16T20:04:06.236Z"
   },
   {
    "duration": 50,
    "start_time": "2024-07-16T20:04:06.308Z"
   },
   {
    "duration": 62,
    "start_time": "2024-07-16T20:04:06.365Z"
   },
   {
    "duration": 53,
    "start_time": "2024-07-16T20:04:06.430Z"
   },
   {
    "duration": 1100,
    "start_time": "2024-07-16T20:04:06.486Z"
   },
   {
    "duration": 0,
    "start_time": "2024-07-16T20:04:07.589Z"
   },
   {
    "duration": 0,
    "start_time": "2024-07-16T20:04:07.591Z"
   },
   {
    "duration": 0,
    "start_time": "2024-07-16T20:04:07.594Z"
   },
   {
    "duration": 0,
    "start_time": "2024-07-16T20:04:07.610Z"
   },
   {
    "duration": 0,
    "start_time": "2024-07-16T20:04:07.612Z"
   },
   {
    "duration": 32,
    "start_time": "2024-07-16T20:04:51.352Z"
   },
   {
    "duration": 86,
    "start_time": "2024-07-16T20:05:08.045Z"
   },
   {
    "duration": 24,
    "start_time": "2024-07-16T20:05:26.398Z"
   },
   {
    "duration": 86,
    "start_time": "2024-07-16T20:05:56.030Z"
   },
   {
    "duration": 133,
    "start_time": "2024-07-16T20:06:15.085Z"
   },
   {
    "duration": 81,
    "start_time": "2024-07-16T20:06:23.536Z"
   },
   {
    "duration": 754,
    "start_time": "2024-07-16T20:06:54.577Z"
   },
   {
    "duration": 38,
    "start_time": "2024-07-16T20:07:06.989Z"
   },
   {
    "duration": 73,
    "start_time": "2024-07-16T20:07:53.729Z"
   },
   {
    "duration": 5,
    "start_time": "2024-07-16T20:08:00.180Z"
   },
   {
    "duration": 769,
    "start_time": "2024-07-16T20:08:02.724Z"
   },
   {
    "duration": 1487,
    "start_time": "2024-07-16T20:10:00.000Z"
   },
   {
    "duration": 12,
    "start_time": "2024-07-16T20:10:01.972Z"
   },
   {
    "duration": 7,
    "start_time": "2024-07-16T20:10:35.315Z"
   },
   {
    "duration": 12,
    "start_time": "2024-07-16T20:10:41.610Z"
   },
   {
    "duration": 1230,
    "start_time": "2024-07-16T20:11:02.435Z"
   },
   {
    "duration": 779,
    "start_time": "2024-07-16T20:11:03.669Z"
   },
   {
    "duration": 174,
    "start_time": "2024-07-16T20:11:04.451Z"
   },
   {
    "duration": 5,
    "start_time": "2024-07-16T20:11:04.632Z"
   },
   {
    "duration": 22,
    "start_time": "2024-07-16T20:11:04.644Z"
   },
   {
    "duration": 468,
    "start_time": "2024-07-16T20:11:04.669Z"
   },
   {
    "duration": 920,
    "start_time": "2024-07-16T20:11:05.140Z"
   },
   {
    "duration": 51,
    "start_time": "2024-07-16T20:11:06.062Z"
   },
   {
    "duration": 15,
    "start_time": "2024-07-16T20:11:06.116Z"
   },
   {
    "duration": 123,
    "start_time": "2024-07-16T20:11:06.134Z"
   },
   {
    "duration": 98,
    "start_time": "2024-07-16T20:11:06.260Z"
   },
   {
    "duration": 68,
    "start_time": "2024-07-16T20:11:06.362Z"
   },
   {
    "duration": 101,
    "start_time": "2024-07-16T20:11:06.434Z"
   },
   {
    "duration": 66,
    "start_time": "2024-07-16T20:11:06.543Z"
   },
   {
    "duration": 5948,
    "start_time": "2024-07-16T20:11:06.613Z"
   },
   {
    "duration": 57,
    "start_time": "2024-07-16T20:11:12.565Z"
   },
   {
    "duration": 51,
    "start_time": "2024-07-16T20:11:12.626Z"
   },
   {
    "duration": 94,
    "start_time": "2024-07-16T20:11:12.680Z"
   },
   {
    "duration": 65,
    "start_time": "2024-07-16T20:11:12.779Z"
   },
   {
    "duration": 93,
    "start_time": "2024-07-16T20:11:12.847Z"
   },
   {
    "duration": 278,
    "start_time": "2024-07-16T20:11:12.943Z"
   },
   {
    "duration": 87,
    "start_time": "2024-07-16T20:11:13.224Z"
   },
   {
    "duration": 4,
    "start_time": "2024-07-16T20:11:13.314Z"
   },
   {
    "duration": 1129,
    "start_time": "2024-07-16T20:11:13.323Z"
   },
   {
    "duration": 0,
    "start_time": "2024-07-16T20:11:14.455Z"
   },
   {
    "duration": 0,
    "start_time": "2024-07-16T20:11:14.457Z"
   },
   {
    "duration": 9,
    "start_time": "2024-07-16T20:12:36.560Z"
   },
   {
    "duration": 10,
    "start_time": "2024-07-16T20:13:01.061Z"
   },
   {
    "duration": 11,
    "start_time": "2024-07-16T20:13:10.185Z"
   },
   {
    "duration": 11,
    "start_time": "2024-07-16T20:13:38.380Z"
   },
   {
    "duration": 11,
    "start_time": "2024-07-16T20:13:53.940Z"
   },
   {
    "duration": 12,
    "start_time": "2024-07-16T20:14:08.138Z"
   },
   {
    "duration": 14,
    "start_time": "2024-07-16T20:14:36.809Z"
   },
   {
    "duration": 35,
    "start_time": "2024-07-16T20:15:02.494Z"
   },
   {
    "duration": 29,
    "start_time": "2024-07-16T20:15:18.908Z"
   },
   {
    "duration": 37,
    "start_time": "2024-07-16T20:15:40.645Z"
   },
   {
    "duration": 11,
    "start_time": "2024-07-16T20:15:49.431Z"
   },
   {
    "duration": 11,
    "start_time": "2024-07-16T20:16:04.219Z"
   },
   {
    "duration": 46,
    "start_time": "2024-07-16T20:16:18.222Z"
   },
   {
    "duration": 31,
    "start_time": "2024-07-16T20:17:09.101Z"
   },
   {
    "duration": 31,
    "start_time": "2024-07-16T20:18:52.005Z"
   },
   {
    "duration": 10,
    "start_time": "2024-07-16T20:20:33.132Z"
   },
   {
    "duration": 7,
    "start_time": "2024-07-16T20:21:06.677Z"
   },
   {
    "duration": 8,
    "start_time": "2024-07-16T20:21:32.729Z"
   },
   {
    "duration": 11,
    "start_time": "2024-07-16T20:22:17.506Z"
   },
   {
    "duration": 34,
    "start_time": "2024-07-16T20:23:20.798Z"
   },
   {
    "duration": 448,
    "start_time": "2024-07-16T20:25:09.841Z"
   },
   {
    "duration": 1300,
    "start_time": "2024-07-16T20:25:38.408Z"
   },
   {
    "duration": 788,
    "start_time": "2024-07-16T20:25:39.713Z"
   },
   {
    "duration": 179,
    "start_time": "2024-07-16T20:25:40.508Z"
   },
   {
    "duration": 18,
    "start_time": "2024-07-16T20:25:40.691Z"
   },
   {
    "duration": 25,
    "start_time": "2024-07-16T20:25:40.714Z"
   },
   {
    "duration": 498,
    "start_time": "2024-07-16T20:25:40.742Z"
   },
   {
    "duration": 994,
    "start_time": "2024-07-16T20:25:41.244Z"
   },
   {
    "duration": 38,
    "start_time": "2024-07-16T20:25:42.242Z"
   },
   {
    "duration": 32,
    "start_time": "2024-07-16T20:25:42.284Z"
   },
   {
    "duration": 120,
    "start_time": "2024-07-16T20:25:42.320Z"
   },
   {
    "duration": 155,
    "start_time": "2024-07-16T20:25:42.444Z"
   },
   {
    "duration": 98,
    "start_time": "2024-07-16T20:25:42.610Z"
   },
   {
    "duration": 106,
    "start_time": "2024-07-16T20:25:42.712Z"
   },
   {
    "duration": 65,
    "start_time": "2024-07-16T20:25:42.824Z"
   },
   {
    "duration": 6081,
    "start_time": "2024-07-16T20:25:42.910Z"
   },
   {
    "duration": 55,
    "start_time": "2024-07-16T20:25:48.994Z"
   },
   {
    "duration": 98,
    "start_time": "2024-07-16T20:25:49.053Z"
   },
   {
    "duration": 70,
    "start_time": "2024-07-16T20:25:49.155Z"
   },
   {
    "duration": 80,
    "start_time": "2024-07-16T20:25:49.229Z"
   },
   {
    "duration": 84,
    "start_time": "2024-07-16T20:25:49.311Z"
   },
   {
    "duration": 272,
    "start_time": "2024-07-16T20:25:49.410Z"
   },
   {
    "duration": 91,
    "start_time": "2024-07-16T20:25:49.686Z"
   },
   {
    "duration": 4,
    "start_time": "2024-07-16T20:25:49.781Z"
   },
   {
    "duration": 1140,
    "start_time": "2024-07-16T20:25:49.810Z"
   },
   {
    "duration": 0,
    "start_time": "2024-07-16T20:25:50.954Z"
   },
   {
    "duration": 0,
    "start_time": "2024-07-16T20:25:50.957Z"
   },
   {
    "duration": 8,
    "start_time": "2024-07-16T20:27:28.482Z"
   },
   {
    "duration": 10,
    "start_time": "2024-07-16T20:27:33.471Z"
   },
   {
    "duration": 443,
    "start_time": "2024-07-16T20:30:28.231Z"
   },
   {
    "duration": 822,
    "start_time": "2024-07-16T20:41:05.201Z"
   },
   {
    "duration": 846,
    "start_time": "2024-07-16T20:41:21.146Z"
   },
   {
    "duration": 84,
    "start_time": "2024-07-16T20:42:59.891Z"
   },
   {
    "duration": 4,
    "start_time": "2024-07-16T20:44:22.870Z"
   },
   {
    "duration": 40,
    "start_time": "2024-07-16T20:44:28.927Z"
   },
   {
    "duration": 5,
    "start_time": "2024-07-16T20:45:04.738Z"
   },
   {
    "duration": 81,
    "start_time": "2024-07-16T20:45:13.149Z"
   },
   {
    "duration": 44,
    "start_time": "2024-07-16T20:46:58.761Z"
   },
   {
    "duration": 43,
    "start_time": "2024-07-16T20:47:11.807Z"
   },
   {
    "duration": 1264,
    "start_time": "2024-07-16T20:47:28.609Z"
   },
   {
    "duration": 786,
    "start_time": "2024-07-16T20:47:29.878Z"
   },
   {
    "duration": 161,
    "start_time": "2024-07-16T20:47:30.667Z"
   },
   {
    "duration": 5,
    "start_time": "2024-07-16T20:47:30.831Z"
   },
   {
    "duration": 20,
    "start_time": "2024-07-16T20:47:30.841Z"
   },
   {
    "duration": 460,
    "start_time": "2024-07-16T20:47:30.865Z"
   },
   {
    "duration": 959,
    "start_time": "2024-07-16T20:47:31.329Z"
   },
   {
    "duration": 53,
    "start_time": "2024-07-16T20:47:32.292Z"
   },
   {
    "duration": 17,
    "start_time": "2024-07-16T20:47:32.348Z"
   },
   {
    "duration": 125,
    "start_time": "2024-07-16T20:47:32.369Z"
   },
   {
    "duration": 100,
    "start_time": "2024-07-16T20:47:32.497Z"
   },
   {
    "duration": 57,
    "start_time": "2024-07-16T20:47:32.609Z"
   },
   {
    "duration": 94,
    "start_time": "2024-07-16T20:47:32.670Z"
   },
   {
    "duration": 66,
    "start_time": "2024-07-16T20:47:32.770Z"
   },
   {
    "duration": 6124,
    "start_time": "2024-07-16T20:47:32.839Z"
   },
   {
    "duration": 59,
    "start_time": "2024-07-16T20:47:38.966Z"
   },
   {
    "duration": 50,
    "start_time": "2024-07-16T20:47:39.028Z"
   },
   {
    "duration": 70,
    "start_time": "2024-07-16T20:47:39.081Z"
   },
   {
    "duration": 73,
    "start_time": "2024-07-16T20:47:39.154Z"
   },
   {
    "duration": 86,
    "start_time": "2024-07-16T20:47:39.230Z"
   },
   {
    "duration": 274,
    "start_time": "2024-07-16T20:47:39.321Z"
   },
   {
    "duration": 862,
    "start_time": "2024-07-16T20:47:39.598Z"
   },
   {
    "duration": 104,
    "start_time": "2024-07-16T20:47:40.462Z"
   },
   {
    "duration": 4,
    "start_time": "2024-07-16T20:47:40.569Z"
   },
   {
    "duration": 70,
    "start_time": "2024-07-16T20:47:40.576Z"
   },
   {
    "duration": 95433,
    "start_time": "2024-07-16T20:53:30.332Z"
   },
   {
    "duration": 0,
    "start_time": "2024-07-16T20:55:05.817Z"
   },
   {
    "duration": 54,
    "start_time": "2024-07-16T20:55:17.490Z"
   },
   {
    "duration": 350664,
    "start_time": "2024-07-16T20:55:29.425Z"
   },
   {
    "duration": 1393,
    "start_time": "2024-07-16T21:10:12.067Z"
   },
   {
    "duration": 1001,
    "start_time": "2024-07-16T21:10:13.464Z"
   },
   {
    "duration": 223,
    "start_time": "2024-07-16T21:10:14.468Z"
   },
   {
    "duration": 6,
    "start_time": "2024-07-16T21:10:14.697Z"
   },
   {
    "duration": 51,
    "start_time": "2024-07-16T21:10:14.706Z"
   },
   {
    "duration": 504,
    "start_time": "2024-07-16T21:10:14.759Z"
   },
   {
    "duration": 1133,
    "start_time": "2024-07-16T21:10:15.267Z"
   },
   {
    "duration": 45,
    "start_time": "2024-07-16T21:10:16.403Z"
   },
   {
    "duration": 14,
    "start_time": "2024-07-16T21:10:16.452Z"
   },
   {
    "duration": 150,
    "start_time": "2024-07-16T21:10:16.473Z"
   },
   {
    "duration": 106,
    "start_time": "2024-07-16T21:10:16.635Z"
   },
   {
    "duration": 93,
    "start_time": "2024-07-16T21:10:16.746Z"
   },
   {
    "duration": 108,
    "start_time": "2024-07-16T21:10:16.843Z"
   },
   {
    "duration": 56,
    "start_time": "2024-07-16T21:10:16.955Z"
   },
   {
    "duration": 6157,
    "start_time": "2024-07-16T21:10:17.013Z"
   },
   {
    "duration": 73,
    "start_time": "2024-07-16T21:10:23.173Z"
   },
   {
    "duration": 76,
    "start_time": "2024-07-16T21:10:23.249Z"
   },
   {
    "duration": 82,
    "start_time": "2024-07-16T21:10:23.329Z"
   },
   {
    "duration": 61,
    "start_time": "2024-07-16T21:10:23.414Z"
   },
   {
    "duration": 109,
    "start_time": "2024-07-16T21:10:23.478Z"
   },
   {
    "duration": 300,
    "start_time": "2024-07-16T21:10:23.593Z"
   },
   {
    "duration": 1080,
    "start_time": "2024-07-16T21:10:23.896Z"
   },
   {
    "duration": 117,
    "start_time": "2024-07-16T21:10:24.980Z"
   },
   {
    "duration": 5,
    "start_time": "2024-07-16T21:10:25.110Z"
   },
   {
    "duration": 96,
    "start_time": "2024-07-16T21:10:25.120Z"
   },
   {
    "duration": 340,
    "start_time": "2024-07-16T21:10:52.325Z"
   },
   {
    "duration": 1299,
    "start_time": "2024-07-16T21:11:09.836Z"
   },
   {
    "duration": 879,
    "start_time": "2024-07-16T21:11:11.139Z"
   },
   {
    "duration": 256,
    "start_time": "2024-07-16T21:11:12.028Z"
   },
   {
    "duration": 22,
    "start_time": "2024-07-16T21:11:12.287Z"
   },
   {
    "duration": 28,
    "start_time": "2024-07-16T21:11:12.314Z"
   },
   {
    "duration": 488,
    "start_time": "2024-07-16T21:11:12.345Z"
   },
   {
    "duration": 997,
    "start_time": "2024-07-16T21:11:12.837Z"
   },
   {
    "duration": 43,
    "start_time": "2024-07-16T21:11:13.837Z"
   },
   {
    "duration": 46,
    "start_time": "2024-07-16T21:11:13.884Z"
   },
   {
    "duration": 119,
    "start_time": "2024-07-16T21:11:13.942Z"
   },
   {
    "duration": 146,
    "start_time": "2024-07-16T21:11:14.065Z"
   },
   {
    "duration": 96,
    "start_time": "2024-07-16T21:11:14.214Z"
   },
   {
    "duration": 104,
    "start_time": "2024-07-16T21:11:14.314Z"
   },
   {
    "duration": 56,
    "start_time": "2024-07-16T21:11:14.424Z"
   },
   {
    "duration": 6326,
    "start_time": "2024-07-16T21:11:14.482Z"
   },
   {
    "duration": 50,
    "start_time": "2024-07-16T21:11:20.812Z"
   },
   {
    "duration": 79,
    "start_time": "2024-07-16T21:11:20.866Z"
   },
   {
    "duration": 71,
    "start_time": "2024-07-16T21:11:20.949Z"
   },
   {
    "duration": 85,
    "start_time": "2024-07-16T21:11:21.024Z"
   },
   {
    "duration": 101,
    "start_time": "2024-07-16T21:11:21.112Z"
   },
   {
    "duration": 278,
    "start_time": "2024-07-16T21:11:21.217Z"
   },
   {
    "duration": 891,
    "start_time": "2024-07-16T21:11:21.500Z"
   },
   {
    "duration": 119,
    "start_time": "2024-07-16T21:11:22.395Z"
   },
   {
    "duration": 6,
    "start_time": "2024-07-16T21:11:22.517Z"
   },
   {
    "duration": 99,
    "start_time": "2024-07-16T21:11:22.527Z"
   },
   {
    "duration": 1300,
    "start_time": "2024-07-16T21:11:46.266Z"
   },
   {
    "duration": 902,
    "start_time": "2024-07-16T21:11:47.571Z"
   },
   {
    "duration": 159,
    "start_time": "2024-07-16T21:11:48.477Z"
   },
   {
    "duration": 7,
    "start_time": "2024-07-16T21:11:48.640Z"
   },
   {
    "duration": 65,
    "start_time": "2024-07-16T21:11:48.654Z"
   },
   {
    "duration": 437,
    "start_time": "2024-07-16T21:11:48.723Z"
   },
   {
    "duration": 965,
    "start_time": "2024-07-16T21:11:49.164Z"
   },
   {
    "duration": 39,
    "start_time": "2024-07-16T21:11:50.131Z"
   },
   {
    "duration": 43,
    "start_time": "2024-07-16T21:11:50.173Z"
   },
   {
    "duration": 139,
    "start_time": "2024-07-16T21:11:50.220Z"
   },
   {
    "duration": 113,
    "start_time": "2024-07-16T21:11:50.363Z"
   },
   {
    "duration": 91,
    "start_time": "2024-07-16T21:11:50.479Z"
   },
   {
    "duration": 100,
    "start_time": "2024-07-16T21:11:50.574Z"
   },
   {
    "duration": 95,
    "start_time": "2024-07-16T21:11:50.681Z"
   },
   {
    "duration": 6209,
    "start_time": "2024-07-16T21:11:50.780Z"
   },
   {
    "duration": 70,
    "start_time": "2024-07-16T21:11:56.993Z"
   },
   {
    "duration": 82,
    "start_time": "2024-07-16T21:11:57.066Z"
   },
   {
    "duration": 77,
    "start_time": "2024-07-16T21:11:57.152Z"
   },
   {
    "duration": 82,
    "start_time": "2024-07-16T21:11:57.233Z"
   },
   {
    "duration": 144,
    "start_time": "2024-07-16T21:11:57.320Z"
   },
   {
    "duration": 292,
    "start_time": "2024-07-16T21:11:57.467Z"
   },
   {
    "duration": 882,
    "start_time": "2024-07-16T21:11:57.763Z"
   },
   {
    "duration": 127,
    "start_time": "2024-07-16T21:11:58.649Z"
   },
   {
    "duration": 5,
    "start_time": "2024-07-16T21:11:58.780Z"
   },
   {
    "duration": 83,
    "start_time": "2024-07-16T21:11:58.788Z"
   },
   {
    "duration": 42,
    "start_time": "2024-07-16T21:14:07.540Z"
   },
   {
    "duration": 1310,
    "start_time": "2024-07-16T21:14:41.892Z"
   },
   {
    "duration": 777,
    "start_time": "2024-07-16T21:14:43.208Z"
   },
   {
    "duration": 162,
    "start_time": "2024-07-16T21:14:43.988Z"
   },
   {
    "duration": 7,
    "start_time": "2024-07-16T21:14:44.153Z"
   },
   {
    "duration": 56,
    "start_time": "2024-07-16T21:14:44.167Z"
   },
   {
    "duration": 430,
    "start_time": "2024-07-16T21:14:44.227Z"
   },
   {
    "duration": 944,
    "start_time": "2024-07-16T21:14:44.660Z"
   },
   {
    "duration": 41,
    "start_time": "2024-07-16T21:14:45.609Z"
   },
   {
    "duration": 16,
    "start_time": "2024-07-16T21:14:45.653Z"
   },
   {
    "duration": 148,
    "start_time": "2024-07-16T21:14:45.672Z"
   },
   {
    "duration": 99,
    "start_time": "2024-07-16T21:14:45.823Z"
   },
   {
    "duration": 58,
    "start_time": "2024-07-16T21:14:45.925Z"
   },
   {
    "duration": 74,
    "start_time": "2024-07-16T21:14:46.009Z"
   },
   {
    "duration": 53,
    "start_time": "2024-07-16T21:14:46.108Z"
   },
   {
    "duration": 6204,
    "start_time": "2024-07-16T21:14:46.164Z"
   },
   {
    "duration": 60,
    "start_time": "2024-07-16T21:14:52.371Z"
   },
   {
    "duration": 84,
    "start_time": "2024-07-16T21:14:52.434Z"
   },
   {
    "duration": 51,
    "start_time": "2024-07-16T21:14:52.522Z"
   },
   {
    "duration": 69,
    "start_time": "2024-07-16T21:14:52.577Z"
   },
   {
    "duration": 90,
    "start_time": "2024-07-16T21:14:52.649Z"
   },
   {
    "duration": 275,
    "start_time": "2024-07-16T21:14:52.742Z"
   },
   {
    "duration": 849,
    "start_time": "2024-07-16T21:14:53.021Z"
   },
   {
    "duration": 110,
    "start_time": "2024-07-16T21:14:53.875Z"
   },
   {
    "duration": 5,
    "start_time": "2024-07-16T21:14:53.989Z"
   },
   {
    "duration": 51,
    "start_time": "2024-07-16T21:14:54.010Z"
   },
   {
    "duration": 4,
    "start_time": "2024-07-16T21:14:54.064Z"
   },
   {
    "duration": 4,
    "start_time": "2024-07-16T21:18:48.318Z"
   },
   {
    "duration": 410,
    "start_time": "2024-07-16T21:19:11.930Z"
   },
   {
    "duration": 313,
    "start_time": "2024-07-16T21:22:29.455Z"
   },
   {
    "duration": 1225,
    "start_time": "2024-07-16T21:22:38.448Z"
   },
   {
    "duration": 846,
    "start_time": "2024-07-16T21:22:39.676Z"
   },
   {
    "duration": 157,
    "start_time": "2024-07-16T21:22:40.525Z"
   },
   {
    "duration": 6,
    "start_time": "2024-07-16T21:22:40.685Z"
   },
   {
    "duration": 22,
    "start_time": "2024-07-16T21:22:40.712Z"
   },
   {
    "duration": 438,
    "start_time": "2024-07-16T21:22:40.738Z"
   },
   {
    "duration": 925,
    "start_time": "2024-07-16T21:22:41.179Z"
   },
   {
    "duration": 42,
    "start_time": "2024-07-16T21:22:42.110Z"
   },
   {
    "duration": 14,
    "start_time": "2024-07-16T21:22:42.155Z"
   },
   {
    "duration": 141,
    "start_time": "2024-07-16T21:22:42.173Z"
   },
   {
    "duration": 116,
    "start_time": "2024-07-16T21:22:42.317Z"
   },
   {
    "duration": 78,
    "start_time": "2024-07-16T21:22:42.437Z"
   },
   {
    "duration": 98,
    "start_time": "2024-07-16T21:22:42.519Z"
   },
   {
    "duration": 54,
    "start_time": "2024-07-16T21:22:42.625Z"
   },
   {
    "duration": 6254,
    "start_time": "2024-07-16T21:22:42.685Z"
   },
   {
    "duration": 68,
    "start_time": "2024-07-16T21:22:48.942Z"
   },
   {
    "duration": 56,
    "start_time": "2024-07-16T21:22:49.014Z"
   },
   {
    "duration": 76,
    "start_time": "2024-07-16T21:22:49.073Z"
   },
   {
    "duration": 73,
    "start_time": "2024-07-16T21:22:49.153Z"
   },
   {
    "duration": 90,
    "start_time": "2024-07-16T21:22:49.229Z"
   },
   {
    "duration": 277,
    "start_time": "2024-07-16T21:22:49.322Z"
   },
   {
    "duration": 868,
    "start_time": "2024-07-16T21:22:49.610Z"
   },
   {
    "duration": 96,
    "start_time": "2024-07-16T21:22:50.481Z"
   },
   {
    "duration": 4,
    "start_time": "2024-07-16T21:22:50.580Z"
   },
   {
    "duration": 73,
    "start_time": "2024-07-16T21:22:50.587Z"
   },
   {
    "duration": 1172,
    "start_time": "2024-07-16T21:40:16.043Z"
   },
   {
    "duration": 847,
    "start_time": "2024-07-16T21:40:17.225Z"
   },
   {
    "duration": 160,
    "start_time": "2024-07-16T21:40:18.075Z"
   },
   {
    "duration": 6,
    "start_time": "2024-07-16T21:40:18.238Z"
   },
   {
    "duration": 21,
    "start_time": "2024-07-16T21:40:18.249Z"
   },
   {
    "duration": 468,
    "start_time": "2024-07-16T21:40:18.274Z"
   },
   {
    "duration": 917,
    "start_time": "2024-07-16T21:40:18.746Z"
   },
   {
    "duration": 49,
    "start_time": "2024-07-16T21:40:19.666Z"
   },
   {
    "duration": 15,
    "start_time": "2024-07-16T21:40:19.718Z"
   },
   {
    "duration": 125,
    "start_time": "2024-07-16T21:40:19.738Z"
   },
   {
    "duration": 115,
    "start_time": "2024-07-16T21:40:19.866Z"
   },
   {
    "duration": 79,
    "start_time": "2024-07-16T21:40:19.983Z"
   },
   {
    "duration": 100,
    "start_time": "2024-07-16T21:40:20.065Z"
   },
   {
    "duration": 88,
    "start_time": "2024-07-16T21:40:20.173Z"
   },
   {
    "duration": 6421,
    "start_time": "2024-07-16T21:40:20.265Z"
   },
   {
    "duration": 70,
    "start_time": "2024-07-16T21:40:26.690Z"
   },
   {
    "duration": 59,
    "start_time": "2024-07-16T21:40:26.769Z"
   },
   {
    "duration": 50,
    "start_time": "2024-07-16T21:40:26.830Z"
   },
   {
    "duration": 86,
    "start_time": "2024-07-16T21:40:26.883Z"
   },
   {
    "duration": 99,
    "start_time": "2024-07-16T21:40:26.972Z"
   },
   {
    "duration": 302,
    "start_time": "2024-07-16T21:40:27.075Z"
   },
   {
    "duration": 922,
    "start_time": "2024-07-16T21:40:27.385Z"
   },
   {
    "duration": 106,
    "start_time": "2024-07-16T21:40:28.317Z"
   },
   {
    "duration": 11,
    "start_time": "2024-07-16T21:40:28.431Z"
   },
   {
    "duration": 3125,
    "start_time": "2024-07-16T21:40:28.457Z"
   },
   {
    "duration": 2385,
    "start_time": "2024-07-16T21:40:31.585Z"
   },
   {
    "duration": 857,
    "start_time": "2024-07-16T21:40:38.625Z"
   },
   {
    "duration": 1277,
    "start_time": "2024-07-16T21:42:43.060Z"
   },
   {
    "duration": 815,
    "start_time": "2024-07-16T21:42:44.341Z"
   },
   {
    "duration": 192,
    "start_time": "2024-07-16T21:42:45.159Z"
   },
   {
    "duration": 8,
    "start_time": "2024-07-16T21:42:45.356Z"
   },
   {
    "duration": 57,
    "start_time": "2024-07-16T21:42:45.370Z"
   },
   {
    "duration": 460,
    "start_time": "2024-07-16T21:42:45.430Z"
   },
   {
    "duration": 969,
    "start_time": "2024-07-16T21:42:45.894Z"
   },
   {
    "duration": 54,
    "start_time": "2024-07-16T21:42:46.866Z"
   },
   {
    "duration": 18,
    "start_time": "2024-07-16T21:42:46.923Z"
   },
   {
    "duration": 124,
    "start_time": "2024-07-16T21:42:46.945Z"
   },
   {
    "duration": 112,
    "start_time": "2024-07-16T21:42:47.072Z"
   },
   {
    "duration": 75,
    "start_time": "2024-07-16T21:42:47.188Z"
   },
   {
    "duration": 115,
    "start_time": "2024-07-16T21:42:47.267Z"
   },
   {
    "duration": 95,
    "start_time": "2024-07-16T21:42:47.390Z"
   },
   {
    "duration": 7714,
    "start_time": "2024-07-16T21:42:47.488Z"
   },
   {
    "duration": 54,
    "start_time": "2024-07-16T21:42:55.205Z"
   },
   {
    "duration": 83,
    "start_time": "2024-07-16T21:42:55.262Z"
   },
   {
    "duration": 79,
    "start_time": "2024-07-16T21:42:55.348Z"
   },
   {
    "duration": 82,
    "start_time": "2024-07-16T21:42:55.431Z"
   },
   {
    "duration": 112,
    "start_time": "2024-07-16T21:42:55.520Z"
   },
   {
    "duration": 296,
    "start_time": "2024-07-16T21:42:55.635Z"
   },
   {
    "duration": 8537,
    "start_time": "2024-07-16T21:42:55.934Z"
   },
   {
    "duration": 0,
    "start_time": "2024-07-16T21:43:04.474Z"
   },
   {
    "duration": 0,
    "start_time": "2024-07-16T21:43:04.475Z"
   },
   {
    "duration": 0,
    "start_time": "2024-07-16T21:43:04.477Z"
   },
   {
    "duration": 0,
    "start_time": "2024-07-16T21:43:04.478Z"
   },
   {
    "duration": 849,
    "start_time": "2024-07-16T21:43:19.592Z"
   },
   {
    "duration": 871,
    "start_time": "2024-07-16T21:43:44.759Z"
   },
   {
    "duration": 30,
    "start_time": "2024-07-16T21:45:27.921Z"
   },
   {
    "duration": 5,
    "start_time": "2024-07-16T21:45:49.227Z"
   },
   {
    "duration": 1251,
    "start_time": "2024-07-16T21:45:55.116Z"
   },
   {
    "duration": 783,
    "start_time": "2024-07-16T21:45:56.372Z"
   },
   {
    "duration": 160,
    "start_time": "2024-07-16T21:45:57.159Z"
   },
   {
    "duration": 6,
    "start_time": "2024-07-16T21:45:57.322Z"
   },
   {
    "duration": 25,
    "start_time": "2024-07-16T21:45:57.334Z"
   },
   {
    "duration": 479,
    "start_time": "2024-07-16T21:45:57.366Z"
   },
   {
    "duration": 955,
    "start_time": "2024-07-16T21:45:57.848Z"
   },
   {
    "duration": 38,
    "start_time": "2024-07-16T21:45:58.810Z"
   },
   {
    "duration": 16,
    "start_time": "2024-07-16T21:45:58.852Z"
   },
   {
    "duration": 148,
    "start_time": "2024-07-16T21:45:58.871Z"
   },
   {
    "duration": 100,
    "start_time": "2024-07-16T21:45:59.022Z"
   },
   {
    "duration": 57,
    "start_time": "2024-07-16T21:45:59.126Z"
   },
   {
    "duration": 74,
    "start_time": "2024-07-16T21:45:59.210Z"
   },
   {
    "duration": 52,
    "start_time": "2024-07-16T21:45:59.314Z"
   },
   {
    "duration": 6126,
    "start_time": "2024-07-16T21:45:59.370Z"
   },
   {
    "duration": 62,
    "start_time": "2024-07-16T21:46:05.499Z"
   },
   {
    "duration": 79,
    "start_time": "2024-07-16T21:46:05.564Z"
   },
   {
    "duration": 72,
    "start_time": "2024-07-16T21:46:05.647Z"
   },
   {
    "duration": 53,
    "start_time": "2024-07-16T21:46:05.722Z"
   },
   {
    "duration": 101,
    "start_time": "2024-07-16T21:46:05.781Z"
   },
   {
    "duration": 277,
    "start_time": "2024-07-16T21:46:05.885Z"
   },
   {
    "duration": 872,
    "start_time": "2024-07-16T21:46:06.165Z"
   },
   {
    "duration": 108,
    "start_time": "2024-07-16T21:46:07.041Z"
   },
   {
    "duration": 5,
    "start_time": "2024-07-16T21:46:07.152Z"
   },
   {
    "duration": 80,
    "start_time": "2024-07-16T21:46:07.160Z"
   },
   {
    "duration": 1235,
    "start_time": "2024-07-16T22:27:56.152Z"
   },
   {
    "duration": 788,
    "start_time": "2024-07-16T22:27:57.394Z"
   },
   {
    "duration": 164,
    "start_time": "2024-07-16T22:27:58.184Z"
   },
   {
    "duration": 8,
    "start_time": "2024-07-16T22:27:58.353Z"
   },
   {
    "duration": 59,
    "start_time": "2024-07-16T22:27:58.365Z"
   },
   {
    "duration": 454,
    "start_time": "2024-07-16T22:27:58.427Z"
   },
   {
    "duration": 956,
    "start_time": "2024-07-16T22:27:58.885Z"
   },
   {
    "duration": 43,
    "start_time": "2024-07-16T22:27:59.844Z"
   },
   {
    "duration": 28,
    "start_time": "2024-07-16T22:27:59.890Z"
   },
   {
    "duration": 104,
    "start_time": "2024-07-16T22:27:59.935Z"
   },
   {
    "duration": 113,
    "start_time": "2024-07-16T22:28:00.042Z"
   },
   {
    "duration": 85,
    "start_time": "2024-07-16T22:28:00.158Z"
   },
   {
    "duration": 90,
    "start_time": "2024-07-16T22:28:00.246Z"
   },
   {
    "duration": 52,
    "start_time": "2024-07-16T22:28:00.341Z"
   },
   {
    "duration": 6219,
    "start_time": "2024-07-16T22:28:00.408Z"
   },
   {
    "duration": 56,
    "start_time": "2024-07-16T22:28:06.630Z"
   },
   {
    "duration": 61,
    "start_time": "2024-07-16T22:28:06.689Z"
   },
   {
    "duration": 83,
    "start_time": "2024-07-16T22:28:06.754Z"
   },
   {
    "duration": 54,
    "start_time": "2024-07-16T22:28:06.840Z"
   },
   {
    "duration": 105,
    "start_time": "2024-07-16T22:28:06.909Z"
   },
   {
    "duration": 275,
    "start_time": "2024-07-16T22:28:07.017Z"
   },
   {
    "duration": 883,
    "start_time": "2024-07-16T22:28:07.295Z"
   },
   {
    "duration": 100,
    "start_time": "2024-07-16T22:28:08.181Z"
   },
   {
    "duration": 5,
    "start_time": "2024-07-16T22:28:08.284Z"
   },
   {
    "duration": 53,
    "start_time": "2024-07-16T22:28:08.310Z"
   },
   {
    "duration": 4,
    "start_time": "2024-07-16T22:28:08.367Z"
   },
   {
    "duration": 1317,
    "start_time": "2024-07-16T22:55:28.191Z"
   },
   {
    "duration": 792,
    "start_time": "2024-07-16T22:55:29.512Z"
   },
   {
    "duration": 176,
    "start_time": "2024-07-16T22:55:30.311Z"
   },
   {
    "duration": 23,
    "start_time": "2024-07-16T22:55:30.490Z"
   },
   {
    "duration": 25,
    "start_time": "2024-07-16T22:55:30.518Z"
   },
   {
    "duration": 458,
    "start_time": "2024-07-16T22:55:30.547Z"
   },
   {
    "duration": 948,
    "start_time": "2024-07-16T22:55:31.009Z"
   },
   {
    "duration": 58,
    "start_time": "2024-07-16T22:55:31.960Z"
   },
   {
    "duration": 16,
    "start_time": "2024-07-16T22:55:32.021Z"
   },
   {
    "duration": 125,
    "start_time": "2024-07-16T22:55:32.040Z"
   },
   {
    "duration": 140,
    "start_time": "2024-07-16T22:55:32.168Z"
   },
   {
    "duration": 72,
    "start_time": "2024-07-16T22:55:32.311Z"
   },
   {
    "duration": 79,
    "start_time": "2024-07-16T22:55:32.410Z"
   },
   {
    "duration": 57,
    "start_time": "2024-07-16T22:55:32.511Z"
   },
   {
    "duration": 6460,
    "start_time": "2024-07-16T22:55:32.572Z"
   },
   {
    "duration": 51,
    "start_time": "2024-07-16T22:55:39.035Z"
   },
   {
    "duration": 66,
    "start_time": "2024-07-16T22:55:39.094Z"
   },
   {
    "duration": 74,
    "start_time": "2024-07-16T22:55:39.163Z"
   },
   {
    "duration": 78,
    "start_time": "2024-07-16T22:55:39.240Z"
   },
   {
    "duration": 92,
    "start_time": "2024-07-16T22:55:39.321Z"
   },
   {
    "duration": 287,
    "start_time": "2024-07-16T22:55:39.416Z"
   },
   {
    "duration": 858,
    "start_time": "2024-07-16T22:55:39.710Z"
   },
   {
    "duration": 120,
    "start_time": "2024-07-16T22:55:40.572Z"
   },
   {
    "duration": 13,
    "start_time": "2024-07-16T22:55:40.695Z"
   },
   {
    "duration": 53,
    "start_time": "2024-07-16T22:55:40.712Z"
   },
   {
    "duration": 4,
    "start_time": "2024-07-16T22:55:40.768Z"
   },
   {
    "duration": 33,
    "start_time": "2024-07-16T22:55:40.776Z"
   },
   {
    "duration": 3,
    "start_time": "2024-07-16T22:55:40.813Z"
   },
   {
    "duration": 6797,
    "start_time": "2024-07-16T22:55:40.820Z"
   },
   {
    "duration": 342,
    "start_time": "2024-07-16T22:58:43.591Z"
   },
   {
    "duration": 1231,
    "start_time": "2024-07-16T22:58:51.481Z"
   },
   {
    "duration": 821,
    "start_time": "2024-07-16T22:58:52.716Z"
   },
   {
    "duration": 170,
    "start_time": "2024-07-16T22:58:53.540Z"
   },
   {
    "duration": 7,
    "start_time": "2024-07-16T22:58:53.716Z"
   },
   {
    "duration": 39,
    "start_time": "2024-07-16T22:58:53.728Z"
   },
   {
    "duration": 449,
    "start_time": "2024-07-16T22:58:53.771Z"
   },
   {
    "duration": 968,
    "start_time": "2024-07-16T22:58:54.222Z"
   },
   {
    "duration": 44,
    "start_time": "2024-07-16T22:58:55.193Z"
   },
   {
    "duration": 15,
    "start_time": "2024-07-16T22:58:55.240Z"
   },
   {
    "duration": 138,
    "start_time": "2024-07-16T22:58:55.258Z"
   },
   {
    "duration": 106,
    "start_time": "2024-07-16T22:58:55.412Z"
   },
   {
    "duration": 59,
    "start_time": "2024-07-16T22:58:55.521Z"
   },
   {
    "duration": 82,
    "start_time": "2024-07-16T22:58:55.609Z"
   },
   {
    "duration": 53,
    "start_time": "2024-07-16T22:58:55.709Z"
   },
   {
    "duration": 6117,
    "start_time": "2024-07-16T22:58:55.765Z"
   },
   {
    "duration": 64,
    "start_time": "2024-07-16T22:59:01.885Z"
   },
   {
    "duration": 70,
    "start_time": "2024-07-16T22:59:01.953Z"
   },
   {
    "duration": 50,
    "start_time": "2024-07-16T22:59:02.026Z"
   },
   {
    "duration": 53,
    "start_time": "2024-07-16T22:59:02.108Z"
   },
   {
    "duration": 102,
    "start_time": "2024-07-16T22:59:02.163Z"
   },
   {
    "duration": 288,
    "start_time": "2024-07-16T22:59:02.268Z"
   },
   {
    "duration": 948,
    "start_time": "2024-07-16T22:59:02.559Z"
   },
   {
    "duration": 119,
    "start_time": "2024-07-16T22:59:03.511Z"
   },
   {
    "duration": 5,
    "start_time": "2024-07-16T22:59:03.635Z"
   },
   {
    "duration": 105,
    "start_time": "2024-07-16T22:59:03.646Z"
   },
   {
    "duration": 1238,
    "start_time": "2024-07-16T23:00:00.882Z"
   },
   {
    "duration": 853,
    "start_time": "2024-07-16T23:00:02.125Z"
   },
   {
    "duration": 160,
    "start_time": "2024-07-16T23:00:02.981Z"
   },
   {
    "duration": 11,
    "start_time": "2024-07-16T23:00:03.146Z"
   },
   {
    "duration": 50,
    "start_time": "2024-07-16T23:00:03.161Z"
   },
   {
    "duration": 436,
    "start_time": "2024-07-16T23:00:03.215Z"
   },
   {
    "duration": 944,
    "start_time": "2024-07-16T23:00:03.654Z"
   },
   {
    "duration": 44,
    "start_time": "2024-07-16T23:00:04.611Z"
   },
   {
    "duration": 16,
    "start_time": "2024-07-16T23:00:04.658Z"
   },
   {
    "duration": 108,
    "start_time": "2024-07-16T23:00:04.712Z"
   },
   {
    "duration": 104,
    "start_time": "2024-07-16T23:00:04.823Z"
   },
   {
    "duration": 82,
    "start_time": "2024-07-16T23:00:04.933Z"
   },
   {
    "duration": 90,
    "start_time": "2024-07-16T23:00:05.019Z"
   },
   {
    "duration": 60,
    "start_time": "2024-07-16T23:00:05.112Z"
   },
   {
    "duration": 6091,
    "start_time": "2024-07-16T23:00:05.175Z"
   },
   {
    "duration": 61,
    "start_time": "2024-07-16T23:00:11.269Z"
   },
   {
    "duration": 51,
    "start_time": "2024-07-16T23:00:11.333Z"
   },
   {
    "duration": 52,
    "start_time": "2024-07-16T23:00:11.410Z"
   },
   {
    "duration": 77,
    "start_time": "2024-07-16T23:00:11.465Z"
   },
   {
    "duration": 95,
    "start_time": "2024-07-16T23:00:11.545Z"
   },
   {
    "duration": 276,
    "start_time": "2024-07-16T23:00:11.644Z"
   },
   {
    "duration": 869,
    "start_time": "2024-07-16T23:00:11.923Z"
   },
   {
    "duration": 98,
    "start_time": "2024-07-16T23:00:12.796Z"
   },
   {
    "duration": 5,
    "start_time": "2024-07-16T23:00:12.909Z"
   },
   {
    "duration": 53,
    "start_time": "2024-07-16T23:00:12.920Z"
   },
   {
    "duration": 1330,
    "start_time": "2024-07-17T11:31:00.280Z"
   },
   {
    "duration": 1037,
    "start_time": "2024-07-17T11:31:01.614Z"
   },
   {
    "duration": 183,
    "start_time": "2024-07-17T11:31:02.654Z"
   },
   {
    "duration": 7,
    "start_time": "2024-07-17T11:31:02.843Z"
   },
   {
    "duration": 26,
    "start_time": "2024-07-17T11:31:02.855Z"
   },
   {
    "duration": 531,
    "start_time": "2024-07-17T11:31:02.885Z"
   },
   {
    "duration": 1053,
    "start_time": "2024-07-17T11:31:03.420Z"
   },
   {
    "duration": 55,
    "start_time": "2024-07-17T11:31:04.476Z"
   },
   {
    "duration": 22,
    "start_time": "2024-07-17T11:31:04.537Z"
   },
   {
    "duration": 135,
    "start_time": "2024-07-17T11:31:04.567Z"
   },
   {
    "duration": 138,
    "start_time": "2024-07-17T11:31:04.705Z"
   },
   {
    "duration": 61,
    "start_time": "2024-07-17T11:31:04.847Z"
   },
   {
    "duration": 106,
    "start_time": "2024-07-17T11:31:04.932Z"
   },
   {
    "duration": 89,
    "start_time": "2024-07-17T11:31:05.042Z"
   },
   {
    "duration": 6436,
    "start_time": "2024-07-17T11:31:05.134Z"
   },
   {
    "duration": 85,
    "start_time": "2024-07-17T11:31:11.578Z"
   },
   {
    "duration": 69,
    "start_time": "2024-07-17T11:31:11.667Z"
   },
   {
    "duration": 69,
    "start_time": "2024-07-17T11:31:11.740Z"
   },
   {
    "duration": 95,
    "start_time": "2024-07-17T11:31:11.815Z"
   },
   {
    "duration": 156,
    "start_time": "2024-07-17T11:31:11.914Z"
   },
   {
    "duration": 299,
    "start_time": "2024-07-17T11:31:12.074Z"
   },
   {
    "duration": 918,
    "start_time": "2024-07-17T11:31:12.378Z"
   },
   {
    "duration": 139,
    "start_time": "2024-07-17T11:31:13.300Z"
   },
   {
    "duration": 5,
    "start_time": "2024-07-17T11:31:13.444Z"
   },
   {
    "duration": 87,
    "start_time": "2024-07-17T11:31:13.453Z"
   },
   {
    "duration": 9463,
    "start_time": "2024-07-17T11:31:13.544Z"
   },
   {
    "duration": 10242,
    "start_time": "2024-07-17T11:32:24.293Z"
   },
   {
    "duration": 106,
    "start_time": "2024-07-17T11:32:48.227Z"
   },
   {
    "duration": 119,
    "start_time": "2024-07-17T11:34:32.318Z"
   },
   {
    "duration": 32,
    "start_time": "2024-07-17T11:37:06.484Z"
   },
   {
    "duration": 34,
    "start_time": "2024-07-17T11:37:57.080Z"
   },
   {
    "duration": 7,
    "start_time": "2024-07-17T11:40:00.206Z"
   },
   {
    "duration": 83,
    "start_time": "2024-07-17T11:40:37.958Z"
   },
   {
    "duration": 6,
    "start_time": "2024-07-17T11:41:42.444Z"
   },
   {
    "duration": 119,
    "start_time": "2024-07-17T11:41:57.526Z"
   },
   {
    "duration": 9936,
    "start_time": "2024-07-17T11:46:48.037Z"
   },
   {
    "duration": 9752,
    "start_time": "2024-07-17T11:47:28.094Z"
   },
   {
    "duration": 12,
    "start_time": "2024-07-17T11:56:55.732Z"
   },
   {
    "duration": 137,
    "start_time": "2024-07-17T11:57:10.318Z"
   },
   {
    "duration": 203,
    "start_time": "2024-07-17T11:57:35.197Z"
   },
   {
    "duration": 93,
    "start_time": "2024-07-17T11:58:41.344Z"
   },
   {
    "duration": 157,
    "start_time": "2024-07-17T11:59:08.036Z"
   },
   {
    "duration": 9864,
    "start_time": "2024-07-17T12:00:26.784Z"
   },
   {
    "duration": 15373,
    "start_time": "2024-07-17T12:02:33.045Z"
   },
   {
    "duration": 9717,
    "start_time": "2024-07-17T12:02:48.430Z"
   },
   {
    "duration": 1201440,
    "start_time": "2024-07-17T12:04:46.625Z"
   },
   {
    "duration": 59,
    "start_time": "2024-07-17T12:35:53.302Z"
   },
   {
    "duration": 16,
    "start_time": "2024-07-17T12:36:40.339Z"
   },
   {
    "duration": 344,
    "start_time": "2024-07-17T12:36:48.777Z"
   },
   {
    "duration": 883,
    "start_time": "2024-07-17T12:37:06.551Z"
   },
   {
    "duration": 1658,
    "start_time": "2024-07-17T12:41:13.804Z"
   },
   {
    "duration": 1220,
    "start_time": "2024-07-17T12:41:15.467Z"
   },
   {
    "duration": 261,
    "start_time": "2024-07-17T12:41:16.691Z"
   },
   {
    "duration": 9,
    "start_time": "2024-07-17T12:41:16.957Z"
   },
   {
    "duration": 28,
    "start_time": "2024-07-17T12:41:16.977Z"
   },
   {
    "duration": 623,
    "start_time": "2024-07-17T12:41:17.038Z"
   },
   {
    "duration": 1350,
    "start_time": "2024-07-17T12:41:17.666Z"
   },
   {
    "duration": 56,
    "start_time": "2024-07-17T12:41:19.019Z"
   },
   {
    "duration": 20,
    "start_time": "2024-07-17T12:41:19.078Z"
   },
   {
    "duration": 190,
    "start_time": "2024-07-17T12:41:19.101Z"
   },
   {
    "duration": 191,
    "start_time": "2024-07-17T12:41:19.295Z"
   },
   {
    "duration": 110,
    "start_time": "2024-07-17T12:41:19.489Z"
   },
   {
    "duration": 110,
    "start_time": "2024-07-17T12:41:19.612Z"
   },
   {
    "duration": 100,
    "start_time": "2024-07-17T12:41:19.739Z"
   },
   {
    "duration": 7801,
    "start_time": "2024-07-17T12:41:19.850Z"
   },
   {
    "duration": 99,
    "start_time": "2024-07-17T12:41:27.655Z"
   },
   {
    "duration": 97,
    "start_time": "2024-07-17T12:41:27.758Z"
   },
   {
    "duration": 95,
    "start_time": "2024-07-17T12:41:27.860Z"
   },
   {
    "duration": 101,
    "start_time": "2024-07-17T12:41:27.958Z"
   },
   {
    "duration": 155,
    "start_time": "2024-07-17T12:41:28.063Z"
   },
   {
    "duration": 365,
    "start_time": "2024-07-17T12:41:28.230Z"
   },
   {
    "duration": 1122,
    "start_time": "2024-07-17T12:41:28.610Z"
   },
   {
    "duration": 177,
    "start_time": "2024-07-17T12:41:29.746Z"
   },
   {
    "duration": 7,
    "start_time": "2024-07-17T12:41:29.935Z"
   },
   {
    "duration": 78,
    "start_time": "2024-07-17T12:41:29.953Z"
   },
   {
    "duration": 126,
    "start_time": "2024-07-17T12:41:30.044Z"
   },
   {
    "duration": 2051,
    "start_time": "2024-07-17T12:41:30.187Z"
   },
   {
    "duration": 130883,
    "start_time": "2024-07-17T12:41:32.250Z"
   },
   {
    "duration": 88245,
    "start_time": "2024-07-17T12:43:43.137Z"
   },
   {
    "duration": 138240,
    "start_time": "2024-07-17T12:48:13.202Z"
   },
   {
    "duration": 2104,
    "start_time": "2024-07-17T12:53:43.474Z"
   },
   {
    "duration": 139204,
    "start_time": "2024-07-17T12:57:40.907Z"
   },
   {
    "duration": 1512,
    "start_time": "2024-07-17T13:01:27.166Z"
   },
   {
    "duration": 1075,
    "start_time": "2024-07-17T13:01:28.682Z"
   },
   {
    "duration": 152,
    "start_time": "2024-07-17T13:01:29.761Z"
   },
   {
    "duration": 7,
    "start_time": "2024-07-17T13:01:29.932Z"
   },
   {
    "duration": 21,
    "start_time": "2024-07-17T13:01:29.944Z"
   },
   {
    "duration": 524,
    "start_time": "2024-07-17T13:01:29.968Z"
   },
   {
    "duration": 1360,
    "start_time": "2024-07-17T13:01:30.495Z"
   },
   {
    "duration": 43,
    "start_time": "2024-07-17T13:01:31.860Z"
   },
   {
    "duration": 23,
    "start_time": "2024-07-17T13:01:31.909Z"
   },
   {
    "duration": 183,
    "start_time": "2024-07-17T13:01:31.939Z"
   },
   {
    "duration": 162,
    "start_time": "2024-07-17T13:01:32.131Z"
   },
   {
    "duration": 74,
    "start_time": "2024-07-17T13:01:32.296Z"
   },
   {
    "duration": 101,
    "start_time": "2024-07-17T13:01:32.374Z"
   },
   {
    "duration": 64,
    "start_time": "2024-07-17T13:01:32.479Z"
   },
   {
    "duration": 6163,
    "start_time": "2024-07-17T13:01:32.547Z"
   },
   {
    "duration": 85,
    "start_time": "2024-07-17T13:01:38.714Z"
   },
   {
    "duration": 82,
    "start_time": "2024-07-17T13:01:38.802Z"
   },
   {
    "duration": 82,
    "start_time": "2024-07-17T13:01:38.887Z"
   },
   {
    "duration": 107,
    "start_time": "2024-07-17T13:01:38.973Z"
   },
   {
    "duration": 122,
    "start_time": "2024-07-17T13:01:39.083Z"
   },
   {
    "duration": 287,
    "start_time": "2024-07-17T13:01:39.208Z"
   },
   {
    "duration": 935,
    "start_time": "2024-07-17T13:01:39.498Z"
   },
   {
    "duration": 137,
    "start_time": "2024-07-17T13:01:40.437Z"
   },
   {
    "duration": 4,
    "start_time": "2024-07-17T13:01:40.578Z"
   },
   {
    "duration": 79,
    "start_time": "2024-07-17T13:01:40.585Z"
   },
   {
    "duration": 165,
    "start_time": "2024-07-17T13:01:40.668Z"
   },
   {
    "duration": 77177,
    "start_time": "2024-07-17T13:01:40.841Z"
   },
   {
    "duration": 5,
    "start_time": "2024-07-17T13:02:58.031Z"
   },
   {
    "duration": 5,
    "start_time": "2024-07-17T13:02:58.040Z"
   },
   {
    "duration": 110765,
    "start_time": "2024-07-17T13:18:11.106Z"
   },
   {
    "duration": 576,
    "start_time": "2024-07-17T13:20:01.875Z"
   },
   {
    "duration": 9795,
    "start_time": "2024-07-17T13:20:20.060Z"
   },
   {
    "duration": 115586,
    "start_time": "2024-07-17T13:22:23.365Z"
   },
   {
    "duration": 128257,
    "start_time": "2024-07-17T13:26:14.897Z"
   },
   {
    "duration": 52,
    "start_time": "2024-07-17T13:32:51.183Z"
   },
   {
    "duration": 103,
    "start_time": "2024-07-17T13:34:30.086Z"
   },
   {
    "duration": 127,
    "start_time": "2024-07-17T13:44:13.660Z"
   },
   {
    "duration": 9,
    "start_time": "2024-07-17T13:47:12.651Z"
   },
   {
    "duration": 12,
    "start_time": "2024-07-17T13:47:51.081Z"
   },
   {
    "duration": 1744,
    "start_time": "2024-07-17T13:48:16.293Z"
   },
   {
    "duration": 4663,
    "start_time": "2024-07-17T13:50:14.020Z"
   },
   {
    "duration": 174,
    "start_time": "2024-07-17T15:38:23.612Z"
   },
   {
    "duration": 28,
    "start_time": "2024-07-17T15:39:33.513Z"
   },
   {
    "duration": 4,
    "start_time": "2024-07-17T15:39:40.822Z"
   },
   {
    "duration": 882,
    "start_time": "2024-07-17T15:41:30.094Z"
   },
   {
    "duration": 6,
    "start_time": "2024-07-17T15:42:29.106Z"
   },
   {
    "duration": 28,
    "start_time": "2024-07-17T15:42:47.156Z"
   },
   {
    "duration": 25,
    "start_time": "2024-07-17T15:43:09.180Z"
   },
   {
    "duration": 7,
    "start_time": "2024-07-17T15:43:16.479Z"
   },
   {
    "duration": 20,
    "start_time": "2024-07-17T15:44:23.479Z"
   },
   {
    "duration": 363,
    "start_time": "2024-07-17T15:45:15.896Z"
   },
   {
    "duration": 6,
    "start_time": "2024-07-17T15:48:00.856Z"
   },
   {
    "duration": 97,
    "start_time": "2024-07-17T15:48:21.363Z"
   },
   {
    "duration": 3036,
    "start_time": "2024-07-17T15:48:39.903Z"
   },
   {
    "duration": 7799,
    "start_time": "2024-07-17T15:49:10.664Z"
   },
   {
    "duration": 8223,
    "start_time": "2024-07-17T15:52:25.190Z"
   },
   {
    "duration": 8114,
    "start_time": "2024-07-17T15:53:07.394Z"
   },
   {
    "duration": 8,
    "start_time": "2024-07-17T16:00:14.202Z"
   },
   {
    "duration": 9214,
    "start_time": "2024-07-17T16:00:27.648Z"
   },
   {
    "duration": 55707,
    "start_time": "2024-07-17T16:05:20.460Z"
   },
   {
    "duration": 0,
    "start_time": "2024-07-17T16:19:08.656Z"
   },
   {
    "duration": 1304,
    "start_time": "2024-07-17T16:19:15.194Z"
   },
   {
    "duration": 758,
    "start_time": "2024-07-17T16:19:16.501Z"
   },
   {
    "duration": 195,
    "start_time": "2024-07-17T16:19:17.263Z"
   },
   {
    "duration": 6,
    "start_time": "2024-07-17T16:19:17.463Z"
   },
   {
    "duration": 24,
    "start_time": "2024-07-17T16:19:17.472Z"
   },
   {
    "duration": 416,
    "start_time": "2024-07-17T16:19:17.532Z"
   },
   {
    "duration": 901,
    "start_time": "2024-07-17T16:19:17.951Z"
   },
   {
    "duration": 40,
    "start_time": "2024-07-17T16:19:18.854Z"
   },
   {
    "duration": 34,
    "start_time": "2024-07-17T16:19:18.898Z"
   },
   {
    "duration": 105,
    "start_time": "2024-07-17T16:19:18.938Z"
   },
   {
    "duration": 106,
    "start_time": "2024-07-17T16:19:19.047Z"
   },
   {
    "duration": 54,
    "start_time": "2024-07-17T16:19:19.156Z"
   },
   {
    "duration": 75,
    "start_time": "2024-07-17T16:19:19.232Z"
   },
   {
    "duration": 69,
    "start_time": "2024-07-17T16:19:19.310Z"
   },
   {
    "duration": 6219,
    "start_time": "2024-07-17T16:19:19.382Z"
   },
   {
    "duration": 58,
    "start_time": "2024-07-17T16:19:25.603Z"
   },
   {
    "duration": 49,
    "start_time": "2024-07-17T16:19:25.665Z"
   },
   {
    "duration": 50,
    "start_time": "2024-07-17T16:19:25.732Z"
   },
   {
    "duration": 87,
    "start_time": "2024-07-17T16:19:25.785Z"
   },
   {
    "duration": 97,
    "start_time": "2024-07-17T16:19:25.874Z"
   },
   {
    "duration": 281,
    "start_time": "2024-07-17T16:19:25.974Z"
   },
   {
    "duration": 860,
    "start_time": "2024-07-17T16:19:26.258Z"
   },
   {
    "duration": 83,
    "start_time": "2024-07-17T16:19:27.121Z"
   },
   {
    "duration": 4,
    "start_time": "2024-07-17T16:19:27.207Z"
   },
   {
    "duration": 52,
    "start_time": "2024-07-17T16:19:27.231Z"
   },
   {
    "duration": 88,
    "start_time": "2024-07-17T16:19:27.286Z"
   },
   {
    "duration": 258,
    "start_time": "2024-07-17T16:19:27.376Z"
   },
   {
    "duration": 99992,
    "start_time": "2024-07-17T16:19:27.646Z"
   },
   {
    "duration": 1413,
    "start_time": "2024-07-17T16:21:07.643Z"
   },
   {
    "duration": 91211,
    "start_time": "2024-07-17T16:21:09.060Z"
   },
   {
    "duration": 4539,
    "start_time": "2024-07-17T16:22:40.274Z"
   },
   {
    "duration": 716822,
    "start_time": "2024-07-17T16:22:44.816Z"
   },
   {
    "duration": 12756547,
    "start_time": "2024-07-17T16:50:39.479Z"
   },
   {
    "duration": 31,
    "start_time": "2024-07-17T20:33:41.894Z"
   },
   {
    "duration": 33,
    "start_time": "2024-07-17T20:33:48.948Z"
   },
   {
    "duration": 150,
    "start_time": "2024-07-17T20:33:55.060Z"
   },
   {
    "duration": 1096465,
    "start_time": "2024-07-17T20:34:02.366Z"
   },
   {
    "duration": 6570000,
    "start_time": "2024-07-17T20:55:20.751Z"
   },
   {
    "duration": 1840,
    "start_time": "2024-07-18T01:59:25.028Z"
   },
   {
    "duration": 1204,
    "start_time": "2024-07-18T01:59:26.872Z"
   },
   {
    "duration": 202,
    "start_time": "2024-07-18T01:59:28.080Z"
   },
   {
    "duration": 25,
    "start_time": "2024-07-18T01:59:28.288Z"
   },
   {
    "duration": 24,
    "start_time": "2024-07-18T01:59:28.319Z"
   },
   {
    "duration": 448,
    "start_time": "2024-07-18T01:59:28.346Z"
   },
   {
    "duration": 961,
    "start_time": "2024-07-18T01:59:28.798Z"
   },
   {
    "duration": 51,
    "start_time": "2024-07-18T01:59:29.762Z"
   },
   {
    "duration": 14,
    "start_time": "2024-07-18T01:59:29.818Z"
   },
   {
    "duration": 114,
    "start_time": "2024-07-18T01:59:29.835Z"
   },
   {
    "duration": 109,
    "start_time": "2024-07-18T01:59:29.952Z"
   },
   {
    "duration": 74,
    "start_time": "2024-07-18T01:59:30.064Z"
   },
   {
    "duration": 88,
    "start_time": "2024-07-18T01:59:30.142Z"
   },
   {
    "duration": 49,
    "start_time": "2024-07-18T01:59:30.237Z"
   },
   {
    "duration": 6234,
    "start_time": "2024-07-18T01:59:30.290Z"
   },
   {
    "duration": 91,
    "start_time": "2024-07-18T01:59:36.528Z"
   },
   {
    "duration": 74,
    "start_time": "2024-07-18T01:59:36.622Z"
   },
   {
    "duration": 82,
    "start_time": "2024-07-18T01:59:36.700Z"
   },
   {
    "duration": 70,
    "start_time": "2024-07-18T01:59:36.785Z"
   },
   {
    "duration": 102,
    "start_time": "2024-07-18T01:59:36.858Z"
   },
   {
    "duration": 277,
    "start_time": "2024-07-18T01:59:36.963Z"
   },
   {
    "duration": 856,
    "start_time": "2024-07-18T01:59:37.243Z"
   },
   {
    "duration": 87,
    "start_time": "2024-07-18T01:59:38.112Z"
   },
   {
    "duration": 4,
    "start_time": "2024-07-18T01:59:38.213Z"
   },
   {
    "duration": 50,
    "start_time": "2024-07-18T01:59:38.220Z"
   },
   {
    "duration": 9043,
    "start_time": "2024-07-18T01:59:38.272Z"
   },
   {
    "duration": 208,
    "start_time": "2024-07-18T01:59:47.333Z"
   },
   {
    "duration": 11358,
    "start_time": "2024-07-18T01:59:47.545Z"
   },
   {
    "duration": 0,
    "start_time": "2024-07-18T01:59:58.912Z"
   },
   {
    "duration": 0,
    "start_time": "2024-07-18T01:59:58.915Z"
   },
   {
    "duration": 1,
    "start_time": "2024-07-18T01:59:58.917Z"
   },
   {
    "duration": 0,
    "start_time": "2024-07-18T01:59:58.919Z"
   },
   {
    "duration": 0,
    "start_time": "2024-07-18T01:59:58.922Z"
   },
   {
    "duration": 0,
    "start_time": "2024-07-18T01:59:58.925Z"
   },
   {
    "duration": 0,
    "start_time": "2024-07-18T01:59:58.927Z"
   },
   {
    "duration": 0,
    "start_time": "2024-07-18T01:59:58.929Z"
   },
   {
    "duration": 0,
    "start_time": "2024-07-18T01:59:58.932Z"
   },
   {
    "duration": 1491,
    "start_time": "2024-07-18T02:02:54.518Z"
   },
   {
    "duration": 762,
    "start_time": "2024-07-18T02:02:56.013Z"
   },
   {
    "duration": 175,
    "start_time": "2024-07-18T02:02:56.778Z"
   },
   {
    "duration": 7,
    "start_time": "2024-07-18T02:02:56.957Z"
   },
   {
    "duration": 46,
    "start_time": "2024-07-18T02:02:56.968Z"
   },
   {
    "duration": 416,
    "start_time": "2024-07-18T02:02:57.018Z"
   },
   {
    "duration": 874,
    "start_time": "2024-07-18T02:02:57.438Z"
   },
   {
    "duration": 39,
    "start_time": "2024-07-18T02:02:58.315Z"
   },
   {
    "duration": 16,
    "start_time": "2024-07-18T02:02:58.357Z"
   },
   {
    "duration": 120,
    "start_time": "2024-07-18T02:02:58.379Z"
   },
   {
    "duration": 104,
    "start_time": "2024-07-18T02:02:58.513Z"
   },
   {
    "duration": 57,
    "start_time": "2024-07-18T02:02:58.620Z"
   },
   {
    "duration": 94,
    "start_time": "2024-07-18T02:02:58.680Z"
   },
   {
    "duration": 60,
    "start_time": "2024-07-18T02:02:58.778Z"
   },
   {
    "duration": 6313,
    "start_time": "2024-07-18T02:02:58.841Z"
   },
   {
    "duration": 63,
    "start_time": "2024-07-18T02:03:05.157Z"
   },
   {
    "duration": 50,
    "start_time": "2024-07-18T02:03:05.223Z"
   },
   {
    "duration": 71,
    "start_time": "2024-07-18T02:03:05.276Z"
   },
   {
    "duration": 68,
    "start_time": "2024-07-18T02:03:05.350Z"
   },
   {
    "duration": 91,
    "start_time": "2024-07-18T02:03:05.422Z"
   },
   {
    "duration": 267,
    "start_time": "2024-07-18T02:03:05.516Z"
   },
   {
    "duration": 832,
    "start_time": "2024-07-18T02:03:05.786Z"
   },
   {
    "duration": 100,
    "start_time": "2024-07-18T02:03:06.621Z"
   },
   {
    "duration": 4,
    "start_time": "2024-07-18T02:03:06.725Z"
   },
   {
    "duration": 50,
    "start_time": "2024-07-18T02:03:06.733Z"
   },
   {
    "duration": 8330,
    "start_time": "2024-07-18T02:03:06.812Z"
   },
   {
    "duration": 282,
    "start_time": "2024-07-18T02:03:15.144Z"
   },
   {
    "duration": 972010,
    "start_time": "2024-07-18T02:03:15.436Z"
   },
   {
    "duration": 13087,
    "start_time": "2024-07-18T02:19:27.450Z"
   },
   {
    "duration": 870880,
    "start_time": "2024-07-18T02:19:40.541Z"
   },
   {
    "duration": 39808,
    "start_time": "2024-07-18T02:34:11.424Z"
   },
   {
    "duration": 1452,
    "start_time": "2024-07-18T03:45:08.988Z"
   },
   {
    "duration": 769,
    "start_time": "2024-07-18T03:45:10.443Z"
   },
   {
    "duration": 155,
    "start_time": "2024-07-18T03:45:11.215Z"
   },
   {
    "duration": 5,
    "start_time": "2024-07-18T03:45:11.373Z"
   },
   {
    "duration": 41,
    "start_time": "2024-07-18T03:45:11.383Z"
   },
   {
    "duration": 423,
    "start_time": "2024-07-18T03:45:11.426Z"
   },
   {
    "duration": 914,
    "start_time": "2024-07-18T03:45:11.852Z"
   },
   {
    "duration": 47,
    "start_time": "2024-07-18T03:45:12.770Z"
   },
   {
    "duration": 15,
    "start_time": "2024-07-18T03:45:12.820Z"
   },
   {
    "duration": 125,
    "start_time": "2024-07-18T03:45:12.838Z"
   },
   {
    "duration": 114,
    "start_time": "2024-07-18T03:45:12.966Z"
   },
   {
    "duration": 75,
    "start_time": "2024-07-18T03:45:13.083Z"
   },
   {
    "duration": 92,
    "start_time": "2024-07-18T03:45:13.161Z"
   },
   {
    "duration": 67,
    "start_time": "2024-07-18T03:45:13.259Z"
   },
   {
    "duration": 5806,
    "start_time": "2024-07-18T03:45:13.329Z"
   },
   {
    "duration": 49,
    "start_time": "2024-07-18T03:45:19.139Z"
   },
   {
    "duration": 67,
    "start_time": "2024-07-18T03:45:19.192Z"
   },
   {
    "duration": 72,
    "start_time": "2024-07-18T03:45:19.262Z"
   },
   {
    "duration": 75,
    "start_time": "2024-07-18T03:45:19.350Z"
   },
   {
    "duration": 90,
    "start_time": "2024-07-18T03:45:19.427Z"
   },
   {
    "duration": 270,
    "start_time": "2024-07-18T03:45:19.520Z"
   },
   {
    "duration": 869,
    "start_time": "2024-07-18T03:45:19.793Z"
   },
   {
    "duration": 93,
    "start_time": "2024-07-18T03:45:20.665Z"
   },
   {
    "duration": 4,
    "start_time": "2024-07-18T03:45:20.761Z"
   },
   {
    "duration": 75,
    "start_time": "2024-07-18T03:45:20.768Z"
   },
   {
    "duration": 8300,
    "start_time": "2024-07-18T03:45:20.846Z"
   },
   {
    "duration": 269,
    "start_time": "2024-07-18T03:45:29.149Z"
   },
   {
    "duration": 972216,
    "start_time": "2024-07-18T03:45:29.421Z"
   },
   {
    "duration": 14202,
    "start_time": "2024-07-18T04:01:41.642Z"
   },
   {
    "duration": 870513,
    "start_time": "2024-07-18T04:01:55.848Z"
   },
   {
    "duration": 40198,
    "start_time": "2024-07-18T04:16:26.365Z"
   },
   {
    "duration": 5434718,
    "start_time": "2024-07-18T04:17:06.566Z"
   },
   {
    "duration": 9,
    "start_time": "2024-07-18T05:47:41.288Z"
   },
   {
    "duration": 0,
    "start_time": "2024-07-18T05:47:41.300Z"
   },
   {
    "duration": 0,
    "start_time": "2024-07-18T05:47:41.302Z"
   },
   {
    "duration": 0,
    "start_time": "2024-07-18T05:47:41.305Z"
   },
   {
    "duration": 0,
    "start_time": "2024-07-18T05:47:41.307Z"
   },
   {
    "duration": 9,
    "start_time": "2024-07-18T11:12:41.033Z"
   },
   {
    "duration": 490,
    "start_time": "2024-07-18T11:15:26.048Z"
   },
   {
    "duration": 216058,
    "start_time": "2024-07-18T11:15:37.843Z"
   },
   {
    "duration": 32,
    "start_time": "2024-07-18T11:26:23.933Z"
   },
   {
    "duration": 6,
    "start_time": "2024-07-18T11:27:00.037Z"
   },
   {
    "duration": 261822,
    "start_time": "2024-07-18T11:27:10.164Z"
   },
   {
    "duration": 62209,
    "start_time": "2024-07-18T11:41:04.793Z"
   },
   {
    "duration": 8885,
    "start_time": "2024-07-18T11:42:26.934Z"
   },
   {
    "duration": 11,
    "start_time": "2024-07-18T11:44:42.456Z"
   },
   {
    "duration": 12,
    "start_time": "2024-07-18T11:44:54.372Z"
   },
   {
    "duration": 13,
    "start_time": "2024-07-18T11:46:22.574Z"
   },
   {
    "duration": 13,
    "start_time": "2024-07-18T11:46:37.849Z"
   },
   {
    "duration": 13,
    "start_time": "2024-07-18T11:46:56.152Z"
   },
   {
    "duration": 68144,
    "start_time": "2024-07-18T11:47:39.990Z"
   },
   {
    "duration": 7,
    "start_time": "2024-07-18T11:52:51.218Z"
   },
   {
    "duration": 65251,
    "start_time": "2024-07-18T11:53:04.371Z"
   },
   {
    "duration": 34895,
    "start_time": "2024-07-18T11:58:23.425Z"
   },
   {
    "duration": 5555141,
    "start_time": "2024-07-18T12:07:35.443Z"
   },
   {
    "duration": 210701,
    "start_time": "2024-07-18T13:48:23.688Z"
   },
   {
    "duration": 18261364,
    "start_time": "2024-07-18T14:12:26.878Z"
   },
   {
    "duration": 0,
    "start_time": "2024-07-18T21:00:09.653Z"
   },
   {
    "duration": 0,
    "start_time": "2024-07-18T21:00:09.659Z"
   },
   {
    "duration": 0,
    "start_time": "2024-07-18T21:00:09.667Z"
   },
   {
    "duration": 36910,
    "start_time": "2024-07-18T21:00:25.322Z"
   },
   {
    "duration": 39981,
    "start_time": "2024-07-18T21:02:25.821Z"
   },
   {
    "duration": 0,
    "start_time": "2024-07-18T21:03:05.813Z"
   },
   {
    "duration": 0,
    "start_time": "2024-07-18T21:03:05.815Z"
   },
   {
    "duration": 30717,
    "start_time": "2024-07-18T21:03:15.611Z"
   },
   {
    "duration": 20275446,
    "start_time": "2024-07-18T21:15:58.901Z"
   },
   {
    "duration": 970238,
    "start_time": "2024-07-19T02:53:54.414Z"
   },
   {
    "duration": 947711,
    "start_time": "2024-07-19T10:08:35.514Z"
   },
   {
    "duration": 36,
    "start_time": "2024-07-19T10:39:47.363Z"
   },
   {
    "duration": 47165,
    "start_time": "2024-07-19T10:40:02.291Z"
   },
   {
    "duration": 9,
    "start_time": "2024-07-19T10:55:57.987Z"
   },
   {
    "duration": 75206,
    "start_time": "2024-07-19T10:56:31.166Z"
   },
   {
    "duration": 0,
    "start_time": "2024-07-19T11:00:41.319Z"
   },
   {
    "duration": 8457,
    "start_time": "2024-07-19T11:00:45.488Z"
   },
   {
    "duration": 8293,
    "start_time": "2024-07-19T11:03:31.254Z"
   },
   {
    "duration": 8299,
    "start_time": "2024-07-19T11:05:41.419Z"
   },
   {
    "duration": 9,
    "start_time": "2024-07-19T11:06:13.326Z"
   },
   {
    "duration": 1417,
    "start_time": "2024-07-19T11:18:07.184Z"
   },
   {
    "duration": 798,
    "start_time": "2024-07-19T11:18:08.605Z"
   },
   {
    "duration": 150,
    "start_time": "2024-07-19T11:18:09.406Z"
   },
   {
    "duration": 6,
    "start_time": "2024-07-19T11:18:09.560Z"
   },
   {
    "duration": 50,
    "start_time": "2024-07-19T11:18:09.570Z"
   },
   {
    "duration": 411,
    "start_time": "2024-07-19T11:18:09.623Z"
   },
   {
    "duration": 921,
    "start_time": "2024-07-19T11:18:10.036Z"
   },
   {
    "duration": 34,
    "start_time": "2024-07-19T11:18:10.966Z"
   },
   {
    "duration": 23,
    "start_time": "2024-07-19T11:18:11.002Z"
   },
   {
    "duration": 116,
    "start_time": "2024-07-19T11:18:11.033Z"
   },
   {
    "duration": 105,
    "start_time": "2024-07-19T11:18:11.152Z"
   },
   {
    "duration": 67,
    "start_time": "2024-07-19T11:18:11.260Z"
   },
   {
    "duration": 96,
    "start_time": "2024-07-19T11:18:11.330Z"
   },
   {
    "duration": 52,
    "start_time": "2024-07-19T11:18:11.429Z"
   },
   {
    "duration": 5945,
    "start_time": "2024-07-19T11:18:11.484Z"
   },
   {
    "duration": 49,
    "start_time": "2024-07-19T11:18:17.433Z"
   },
   {
    "duration": 72,
    "start_time": "2024-07-19T11:18:17.485Z"
   },
   {
    "duration": 67,
    "start_time": "2024-07-19T11:18:17.561Z"
   },
   {
    "duration": 52,
    "start_time": "2024-07-19T11:18:17.632Z"
   },
   {
    "duration": 106,
    "start_time": "2024-07-19T11:18:17.688Z"
   },
   {
    "duration": 281,
    "start_time": "2024-07-19T11:18:17.797Z"
   },
   {
    "duration": 839,
    "start_time": "2024-07-19T11:18:18.081Z"
   },
   {
    "duration": 98,
    "start_time": "2024-07-19T11:18:18.923Z"
   },
   {
    "duration": 4,
    "start_time": "2024-07-19T11:18:19.024Z"
   },
   {
    "duration": 57,
    "start_time": "2024-07-19T11:18:19.031Z"
   },
   {
    "duration": 101,
    "start_time": "2024-07-19T11:18:19.113Z"
   },
   {
    "duration": 8,
    "start_time": "2024-07-19T11:18:19.217Z"
   },
   {
    "duration": 101300,
    "start_time": "2024-07-19T11:18:19.233Z"
   },
   {
    "duration": 1137,
    "start_time": "2024-07-19T11:20:00.535Z"
   },
   {
    "duration": 94648,
    "start_time": "2024-07-19T11:20:01.675Z"
   },
   {
    "duration": 3624,
    "start_time": "2024-07-19T11:21:36.327Z"
   },
   {
    "duration": 665640,
    "start_time": "2024-07-19T11:21:39.954Z"
   },
   {
    "duration": 23565,
    "start_time": "2024-07-19T11:32:45.597Z"
   },
   {
    "duration": 23374,
    "start_time": "2024-07-19T11:33:09.165Z"
   },
   {
    "duration": 703748,
    "start_time": "2024-07-19T11:33:32.542Z"
   },
   {
    "duration": 0,
    "start_time": "2024-07-19T11:45:16.293Z"
   },
   {
    "duration": 2986,
    "start_time": "2024-07-19T11:45:31.914Z"
   },
   {
    "duration": 717155,
    "start_time": "2024-07-19T11:48:55.064Z"
   },
   {
    "duration": 24,
    "start_time": "2024-07-19T12:02:41.415Z"
   },
   {
    "duration": 23,
    "start_time": "2024-07-19T12:02:49.462Z"
   },
   {
    "duration": 653063,
    "start_time": "2024-07-19T12:04:13.434Z"
   },
   {
    "duration": 29,
    "start_time": "2024-07-19T12:18:13.828Z"
   },
   {
    "duration": 770,
    "start_time": "2024-07-19T12:18:21.849Z"
   },
   {
    "duration": 1759,
    "start_time": "2024-07-19T12:18:25.780Z"
   },
   {
    "duration": 22,
    "start_time": "2024-07-19T12:18:58.785Z"
   },
   {
    "duration": 713,
    "start_time": "2024-07-19T12:19:30.880Z"
   },
   {
    "duration": 679,
    "start_time": "2024-07-19T12:19:37.879Z"
   },
   {
    "duration": 27,
    "start_time": "2024-07-19T12:21:07.823Z"
   },
   {
    "duration": 21,
    "start_time": "2024-07-19T12:21:14.343Z"
   },
   {
    "duration": 189,
    "start_time": "2024-07-19T12:24:06.945Z"
   },
   {
    "duration": 325,
    "start_time": "2024-07-19T12:25:23.541Z"
   },
   {
    "duration": 1441,
    "start_time": "2024-07-19T12:25:31.669Z"
   },
   {
    "duration": 860,
    "start_time": "2024-07-19T12:25:33.190Z"
   },
   {
    "duration": 142,
    "start_time": "2024-07-19T12:25:34.161Z"
   },
   {
    "duration": 5,
    "start_time": "2024-07-19T12:25:36.113Z"
   },
   {
    "duration": 23,
    "start_time": "2024-07-19T12:25:36.828Z"
   },
   {
    "duration": 394,
    "start_time": "2024-07-19T12:25:38.738Z"
   },
   {
    "duration": 910,
    "start_time": "2024-07-19T12:25:39.806Z"
   },
   {
    "duration": 39,
    "start_time": "2024-07-19T12:25:42.289Z"
   },
   {
    "duration": 17,
    "start_time": "2024-07-19T12:25:43.411Z"
   },
   {
    "duration": 97,
    "start_time": "2024-07-19T12:25:44.386Z"
   },
   {
    "duration": 91,
    "start_time": "2024-07-19T12:25:46.464Z"
   },
   {
    "duration": 55,
    "start_time": "2024-07-19T12:25:48.042Z"
   },
   {
    "duration": 77,
    "start_time": "2024-07-19T12:25:49.280Z"
   },
   {
    "duration": 50,
    "start_time": "2024-07-19T12:25:50.694Z"
   },
   {
    "duration": 5969,
    "start_time": "2024-07-19T12:25:51.831Z"
   },
   {
    "duration": 50,
    "start_time": "2024-07-19T12:25:57.804Z"
   },
   {
    "duration": 71,
    "start_time": "2024-07-19T12:25:57.857Z"
   },
   {
    "duration": 49,
    "start_time": "2024-07-19T12:25:57.932Z"
   },
   {
    "duration": 77,
    "start_time": "2024-07-19T12:25:57.985Z"
   },
   {
    "duration": 84,
    "start_time": "2024-07-19T12:25:58.745Z"
   },
   {
    "duration": 253,
    "start_time": "2024-07-19T12:26:01.064Z"
   },
   {
    "duration": 663,
    "start_time": "2024-07-19T12:26:06.572Z"
   },
   {
    "duration": 1694,
    "start_time": "2024-07-19T12:26:09.133Z"
   },
   {
    "duration": 20,
    "start_time": "2024-07-19T12:26:11.193Z"
   },
   {
    "duration": 933,
    "start_time": "2024-07-19T12:26:21.669Z"
   },
   {
    "duration": 80,
    "start_time": "2024-07-19T12:26:26.251Z"
   },
   {
    "duration": 4,
    "start_time": "2024-07-19T12:26:29.084Z"
   },
   {
    "duration": 189,
    "start_time": "2024-07-19T12:26:30.517Z"
   },
   {
    "duration": 52,
    "start_time": "2024-07-19T12:26:31.921Z"
   },
   {
    "duration": 316,
    "start_time": "2024-07-19T12:37:16.461Z"
   },
   {
    "duration": 1497,
    "start_time": "2024-07-19T12:37:32.822Z"
   },
   {
    "duration": 859,
    "start_time": "2024-07-19T12:37:34.322Z"
   },
   {
    "duration": 150,
    "start_time": "2024-07-19T12:37:35.184Z"
   },
   {
    "duration": 6,
    "start_time": "2024-07-19T12:37:35.340Z"
   },
   {
    "duration": 21,
    "start_time": "2024-07-19T12:37:35.349Z"
   },
   {
    "duration": 439,
    "start_time": "2024-07-19T12:37:35.374Z"
   },
   {
    "duration": 881,
    "start_time": "2024-07-19T12:37:35.816Z"
   },
   {
    "duration": 41,
    "start_time": "2024-07-19T12:37:36.700Z"
   },
   {
    "duration": 18,
    "start_time": "2024-07-19T12:37:36.744Z"
   },
   {
    "duration": 128,
    "start_time": "2024-07-19T12:37:36.768Z"
   },
   {
    "duration": 124,
    "start_time": "2024-07-19T12:37:36.900Z"
   },
   {
    "duration": 55,
    "start_time": "2024-07-19T12:37:37.027Z"
   },
   {
    "duration": 95,
    "start_time": "2024-07-19T12:37:37.085Z"
   },
   {
    "duration": 64,
    "start_time": "2024-07-19T12:37:37.182Z"
   },
   {
    "duration": 5979,
    "start_time": "2024-07-19T12:37:37.251Z"
   },
   {
    "duration": 50,
    "start_time": "2024-07-19T12:37:43.235Z"
   },
   {
    "duration": 75,
    "start_time": "2024-07-19T12:37:43.288Z"
   },
   {
    "duration": 65,
    "start_time": "2024-07-19T12:37:43.368Z"
   },
   {
    "duration": 53,
    "start_time": "2024-07-19T12:37:43.437Z"
   },
   {
    "duration": 103,
    "start_time": "2024-07-19T12:37:43.492Z"
   },
   {
    "duration": 30,
    "start_time": "2024-07-19T12:37:43.598Z"
   },
   {
    "duration": 289,
    "start_time": "2024-07-19T12:37:43.631Z"
   },
   {
    "duration": 3,
    "start_time": "2024-07-19T12:41:56.708Z"
   },
   {
    "duration": 4,
    "start_time": "2024-07-19T12:43:35.415Z"
   },
   {
    "duration": 134,
    "start_time": "2024-07-19T12:43:37.180Z"
   },
   {
    "duration": 864,
    "start_time": "2024-07-19T12:43:56.856Z"
   },
   {
    "duration": 426,
    "start_time": "2024-07-19T12:51:29.809Z"
   },
   {
    "duration": 52,
    "start_time": "2024-07-19T12:51:36.842Z"
   },
   {
    "duration": 150,
    "start_time": "2024-07-19T12:52:12.474Z"
   },
   {
    "duration": 5,
    "start_time": "2024-07-19T12:52:53.811Z"
   },
   {
    "duration": 614,
    "start_time": "2024-07-19T12:52:54.648Z"
   },
   {
    "duration": 1399,
    "start_time": "2024-07-19T12:53:29.513Z"
   },
   {
    "duration": 786,
    "start_time": "2024-07-19T12:53:30.916Z"
   },
   {
    "duration": 156,
    "start_time": "2024-07-19T12:53:31.705Z"
   },
   {
    "duration": 5,
    "start_time": "2024-07-19T12:53:31.866Z"
   },
   {
    "duration": 40,
    "start_time": "2024-07-19T12:53:31.874Z"
   },
   {
    "duration": 428,
    "start_time": "2024-07-19T12:53:31.918Z"
   },
   {
    "duration": 929,
    "start_time": "2024-07-19T12:53:32.350Z"
   },
   {
    "duration": 51,
    "start_time": "2024-07-19T12:53:33.282Z"
   },
   {
    "duration": 14,
    "start_time": "2024-07-19T12:53:33.336Z"
   },
   {
    "duration": 132,
    "start_time": "2024-07-19T12:53:33.355Z"
   },
   {
    "duration": 106,
    "start_time": "2024-07-19T12:53:33.490Z"
   },
   {
    "duration": 66,
    "start_time": "2024-07-19T12:53:33.599Z"
   },
   {
    "duration": 92,
    "start_time": "2024-07-19T12:53:33.668Z"
   },
   {
    "duration": 71,
    "start_time": "2024-07-19T12:53:33.764Z"
   },
   {
    "duration": 5961,
    "start_time": "2024-07-19T12:53:33.839Z"
   },
   {
    "duration": 54,
    "start_time": "2024-07-19T12:53:39.805Z"
   },
   {
    "duration": 66,
    "start_time": "2024-07-19T12:53:39.862Z"
   },
   {
    "duration": 51,
    "start_time": "2024-07-19T12:53:39.932Z"
   },
   {
    "duration": 73,
    "start_time": "2024-07-19T12:53:39.986Z"
   },
   {
    "duration": 93,
    "start_time": "2024-07-19T12:53:40.061Z"
   },
   {
    "duration": 15,
    "start_time": "2024-07-19T12:53:40.157Z"
   },
   {
    "duration": 284,
    "start_time": "2024-07-19T12:53:40.175Z"
   },
   {
    "duration": 4,
    "start_time": "2024-07-19T12:53:40.462Z"
   },
   {
    "duration": 34,
    "start_time": "2024-07-19T12:53:45.109Z"
   },
   {
    "duration": 3,
    "start_time": "2024-07-19T12:53:50.674Z"
   },
   {
    "duration": 151,
    "start_time": "2024-07-19T12:53:52.497Z"
   },
   {
    "duration": 3,
    "start_time": "2024-07-19T12:53:58.605Z"
   },
   {
    "duration": 1231,
    "start_time": "2024-07-19T12:53:59.815Z"
   },
   {
    "duration": 219,
    "start_time": "2024-07-19T12:54:54.831Z"
   },
   {
    "duration": 7,
    "start_time": "2024-07-19T12:55:26.282Z"
   },
   {
    "duration": 7,
    "start_time": "2024-07-19T12:55:58.484Z"
   },
   {
    "duration": 3,
    "start_time": "2024-07-19T12:56:11.188Z"
   },
   {
    "duration": 632,
    "start_time": "2024-07-19T12:56:11.658Z"
   },
   {
    "duration": 620,
    "start_time": "2024-07-19T12:58:25.794Z"
   },
   {
    "duration": 1420,
    "start_time": "2024-07-19T12:58:42.500Z"
   },
   {
    "duration": 770,
    "start_time": "2024-07-19T12:58:44.025Z"
   },
   {
    "duration": 152,
    "start_time": "2024-07-19T12:58:44.798Z"
   },
   {
    "duration": 5,
    "start_time": "2024-07-19T12:58:44.953Z"
   },
   {
    "duration": 50,
    "start_time": "2024-07-19T12:58:44.962Z"
   },
   {
    "duration": 417,
    "start_time": "2024-07-19T12:58:45.016Z"
   },
   {
    "duration": 899,
    "start_time": "2024-07-19T12:58:45.437Z"
   },
   {
    "duration": 39,
    "start_time": "2024-07-19T12:58:46.339Z"
   },
   {
    "duration": 38,
    "start_time": "2024-07-19T12:58:46.383Z"
   },
   {
    "duration": 105,
    "start_time": "2024-07-19T12:58:46.424Z"
   },
   {
    "duration": 108,
    "start_time": "2024-07-19T12:58:46.532Z"
   },
   {
    "duration": 73,
    "start_time": "2024-07-19T12:58:46.644Z"
   },
   {
    "duration": 93,
    "start_time": "2024-07-19T12:58:46.720Z"
   },
   {
    "duration": 50,
    "start_time": "2024-07-19T12:58:47.154Z"
   },
   {
    "duration": 5749,
    "start_time": "2024-07-19T12:58:47.625Z"
   },
   {
    "duration": 61,
    "start_time": "2024-07-19T12:58:53.377Z"
   },
   {
    "duration": 71,
    "start_time": "2024-07-19T12:58:53.441Z"
   },
   {
    "duration": 52,
    "start_time": "2024-07-19T12:58:53.517Z"
   },
   {
    "duration": 70,
    "start_time": "2024-07-19T12:58:53.572Z"
   },
   {
    "duration": 95,
    "start_time": "2024-07-19T12:58:53.645Z"
   },
   {
    "duration": 15,
    "start_time": "2024-07-19T12:58:53.743Z"
   },
   {
    "duration": 284,
    "start_time": "2024-07-19T12:58:53.761Z"
   },
   {
    "duration": 3,
    "start_time": "2024-07-19T12:58:57.997Z"
   },
   {
    "duration": 146,
    "start_time": "2024-07-19T12:59:10.018Z"
   },
   {
    "duration": 4,
    "start_time": "2024-07-19T12:59:26.266Z"
   },
   {
    "duration": 1250,
    "start_time": "2024-07-19T12:59:39.125Z"
   },
   {
    "duration": 879,
    "start_time": "2024-07-19T13:00:13.631Z"
   },
   {
    "duration": 76,
    "start_time": "2024-07-19T13:00:39.265Z"
   },
   {
    "duration": 647,
    "start_time": "2024-07-19T13:00:42.007Z"
   },
   {
    "duration": 1414,
    "start_time": "2024-07-19T13:01:48.128Z"
   },
   {
    "duration": 786,
    "start_time": "2024-07-19T13:01:49.547Z"
   },
   {
    "duration": 151,
    "start_time": "2024-07-19T13:01:50.337Z"
   },
   {
    "duration": 24,
    "start_time": "2024-07-19T13:01:50.492Z"
   },
   {
    "duration": 19,
    "start_time": "2024-07-19T13:01:50.519Z"
   },
   {
    "duration": 440,
    "start_time": "2024-07-19T13:01:50.541Z"
   },
   {
    "duration": 936,
    "start_time": "2024-07-19T13:01:50.984Z"
   },
   {
    "duration": 42,
    "start_time": "2024-07-19T13:01:51.923Z"
   },
   {
    "duration": 14,
    "start_time": "2024-07-19T13:01:51.968Z"
   },
   {
    "duration": 105,
    "start_time": "2024-07-19T13:01:52.011Z"
   },
   {
    "duration": 98,
    "start_time": "2024-07-19T13:01:52.119Z"
   },
   {
    "duration": 56,
    "start_time": "2024-07-19T13:01:52.220Z"
   },
   {
    "duration": 104,
    "start_time": "2024-07-19T13:01:52.279Z"
   },
   {
    "duration": 69,
    "start_time": "2024-07-19T13:01:52.386Z"
   },
   {
    "duration": 5902,
    "start_time": "2024-07-19T13:01:52.475Z"
   },
   {
    "duration": 59,
    "start_time": "2024-07-19T13:01:58.380Z"
   },
   {
    "duration": 51,
    "start_time": "2024-07-19T13:01:58.442Z"
   },
   {
    "duration": 50,
    "start_time": "2024-07-19T13:01:58.513Z"
   },
   {
    "duration": 73,
    "start_time": "2024-07-19T13:01:58.565Z"
   },
   {
    "duration": 94,
    "start_time": "2024-07-19T13:01:58.641Z"
   },
   {
    "duration": 14,
    "start_time": "2024-07-19T13:01:58.738Z"
   },
   {
    "duration": 285,
    "start_time": "2024-07-19T13:01:58.757Z"
   },
   {
    "duration": 706,
    "start_time": "2024-07-19T13:02:43.086Z"
   },
   {
    "duration": 1720,
    "start_time": "2024-07-19T13:02:51.343Z"
   },
   {
    "duration": 21,
    "start_time": "2024-07-19T13:02:53.067Z"
   },
   {
    "duration": 844,
    "start_time": "2024-07-19T13:03:01.901Z"
   },
   {
    "duration": 90,
    "start_time": "2024-07-19T13:03:40.453Z"
   },
   {
    "duration": 444,
    "start_time": "2024-07-19T13:03:45.238Z"
   },
   {
    "duration": 26,
    "start_time": "2024-07-19T13:04:20.530Z"
   },
   {
    "duration": 4,
    "start_time": "2024-07-19T13:04:39.699Z"
   },
   {
    "duration": 166,
    "start_time": "2024-07-19T13:04:49.286Z"
   },
   {
    "duration": 51,
    "start_time": "2024-07-19T13:05:01.994Z"
   },
   {
    "duration": 1620,
    "start_time": "2024-07-19T13:05:26.121Z"
   },
   {
    "duration": 1237,
    "start_time": "2024-07-19T13:05:27.746Z"
   },
   {
    "duration": 224,
    "start_time": "2024-07-19T13:05:28.988Z"
   },
   {
    "duration": 6,
    "start_time": "2024-07-19T13:05:29.218Z"
   },
   {
    "duration": 26,
    "start_time": "2024-07-19T13:05:29.228Z"
   },
   {
    "duration": 591,
    "start_time": "2024-07-19T13:05:29.258Z"
   },
   {
    "duration": 1116,
    "start_time": "2024-07-19T13:05:29.853Z"
   },
   {
    "duration": 41,
    "start_time": "2024-07-19T13:05:30.974Z"
   },
   {
    "duration": 17,
    "start_time": "2024-07-19T13:05:31.018Z"
   },
   {
    "duration": 135,
    "start_time": "2024-07-19T13:05:31.039Z"
   },
   {
    "duration": 106,
    "start_time": "2024-07-19T13:05:31.177Z"
   },
   {
    "duration": 71,
    "start_time": "2024-07-19T13:05:31.286Z"
   },
   {
    "duration": 105,
    "start_time": "2024-07-19T13:05:31.361Z"
   },
   {
    "duration": 85,
    "start_time": "2024-07-19T13:05:31.470Z"
   },
   {
    "duration": 7036,
    "start_time": "2024-07-19T13:05:31.559Z"
   },
   {
    "duration": 54,
    "start_time": "2024-07-19T13:05:38.601Z"
   },
   {
    "duration": 75,
    "start_time": "2024-07-19T13:05:38.661Z"
   },
   {
    "duration": 71,
    "start_time": "2024-07-19T13:05:38.743Z"
   },
   {
    "duration": 52,
    "start_time": "2024-07-19T13:05:38.817Z"
   },
   {
    "duration": 103,
    "start_time": "2024-07-19T13:05:38.872Z"
   },
   {
    "duration": 36,
    "start_time": "2024-07-19T13:05:38.978Z"
   },
   {
    "duration": 290,
    "start_time": "2024-07-19T13:05:39.017Z"
   },
   {
    "duration": 5,
    "start_time": "2024-07-19T13:05:47.197Z"
   },
   {
    "duration": 666,
    "start_time": "2024-07-19T13:05:50.536Z"
   },
   {
    "duration": 1745,
    "start_time": "2024-07-19T13:05:53.341Z"
   },
   {
    "duration": 22,
    "start_time": "2024-07-19T13:05:55.438Z"
   },
   {
    "duration": 233,
    "start_time": "2024-07-19T13:06:04.927Z"
   },
   {
    "duration": 329,
    "start_time": "2024-07-19T13:08:36.890Z"
   },
   {
    "duration": 4,
    "start_time": "2024-07-19T13:08:42.135Z"
   },
   {
    "duration": 25,
    "start_time": "2024-07-19T13:08:42.721Z"
   },
   {
    "duration": 1510,
    "start_time": "2024-07-19T13:09:10.455Z"
   },
   {
    "duration": 872,
    "start_time": "2024-07-19T13:09:11.969Z"
   },
   {
    "duration": 186,
    "start_time": "2024-07-19T13:09:12.844Z"
   },
   {
    "duration": 14,
    "start_time": "2024-07-19T13:09:13.041Z"
   },
   {
    "duration": 25,
    "start_time": "2024-07-19T13:09:13.058Z"
   },
   {
    "duration": 477,
    "start_time": "2024-07-19T13:09:13.086Z"
   },
   {
    "duration": 997,
    "start_time": "2024-07-19T13:09:13.569Z"
   },
   {
    "duration": 53,
    "start_time": "2024-07-19T13:09:14.570Z"
   },
   {
    "duration": 16,
    "start_time": "2024-07-19T13:09:14.627Z"
   },
   {
    "duration": 142,
    "start_time": "2024-07-19T13:09:14.650Z"
   },
   {
    "duration": 122,
    "start_time": "2024-07-19T13:09:14.796Z"
   },
   {
    "duration": 65,
    "start_time": "2024-07-19T13:09:14.922Z"
   },
   {
    "duration": 104,
    "start_time": "2024-07-19T13:09:14.991Z"
   },
   {
    "duration": 51,
    "start_time": "2024-07-19T13:09:15.113Z"
   },
   {
    "duration": 6209,
    "start_time": "2024-07-19T13:09:15.168Z"
   },
   {
    "duration": 61,
    "start_time": "2024-07-19T13:09:21.380Z"
   },
   {
    "duration": 80,
    "start_time": "2024-07-19T13:09:21.446Z"
   },
   {
    "duration": 93,
    "start_time": "2024-07-19T13:09:21.529Z"
   },
   {
    "duration": 52,
    "start_time": "2024-07-19T13:09:21.625Z"
   },
   {
    "duration": 102,
    "start_time": "2024-07-19T13:09:21.681Z"
   },
   {
    "duration": 29,
    "start_time": "2024-07-19T13:09:21.787Z"
   },
   {
    "duration": 294,
    "start_time": "2024-07-19T13:09:21.819Z"
   },
   {
    "duration": 4,
    "start_time": "2024-07-19T13:09:22.119Z"
   },
   {
    "duration": 529,
    "start_time": "2024-07-19T13:09:26.702Z"
   },
   {
    "duration": 17,
    "start_time": "2024-07-19T13:10:49.796Z"
   },
   {
    "duration": 9,
    "start_time": "2024-07-19T13:11:32.110Z"
   },
   {
    "duration": 11,
    "start_time": "2024-07-19T13:11:38.718Z"
   },
   {
    "duration": 12,
    "start_time": "2024-07-19T13:12:12.801Z"
   },
   {
    "duration": 11,
    "start_time": "2024-07-19T13:12:47.177Z"
   },
   {
    "duration": 17,
    "start_time": "2024-07-19T13:13:29.796Z"
   },
   {
    "duration": 8,
    "start_time": "2024-07-19T13:14:18.551Z"
   },
   {
    "duration": 14,
    "start_time": "2024-07-19T13:14:28.317Z"
   },
   {
    "duration": 26,
    "start_time": "2024-07-19T13:14:37.406Z"
   },
   {
    "duration": 11,
    "start_time": "2024-07-19T13:14:59.339Z"
   },
   {
    "duration": 18,
    "start_time": "2024-07-19T13:15:20.145Z"
   },
   {
    "duration": 69,
    "start_time": "2024-07-19T13:15:32.144Z"
   },
   {
    "duration": 36,
    "start_time": "2024-07-19T13:15:45.518Z"
   },
   {
    "duration": 12,
    "start_time": "2024-07-19T13:15:56.507Z"
   },
   {
    "duration": 40,
    "start_time": "2024-07-19T13:17:26.924Z"
   },
   {
    "duration": 9,
    "start_time": "2024-07-19T13:17:32.825Z"
   },
   {
    "duration": 11,
    "start_time": "2024-07-19T13:17:33.429Z"
   },
   {
    "duration": 11,
    "start_time": "2024-07-19T13:18:21.375Z"
   },
   {
    "duration": 97,
    "start_time": "2024-07-19T13:18:41.977Z"
   },
   {
    "duration": 31,
    "start_time": "2024-07-19T13:18:56.383Z"
   },
   {
    "duration": 12,
    "start_time": "2024-07-19T13:19:09.208Z"
   },
   {
    "duration": 14,
    "start_time": "2024-07-19T13:19:16.208Z"
   },
   {
    "duration": 17,
    "start_time": "2024-07-19T13:19:29.561Z"
   },
   {
    "duration": 39,
    "start_time": "2024-07-19T13:21:55.135Z"
   },
   {
    "duration": 94,
    "start_time": "2024-07-19T13:23:49.754Z"
   },
   {
    "duration": 10,
    "start_time": "2024-07-19T13:25:37.217Z"
   },
   {
    "duration": 34,
    "start_time": "2024-07-19T13:25:53.215Z"
   },
   {
    "duration": 33,
    "start_time": "2024-07-19T13:26:09.060Z"
   },
   {
    "duration": 25,
    "start_time": "2024-07-19T13:27:59.330Z"
   },
   {
    "duration": 21,
    "start_time": "2024-07-19T13:28:20.118Z"
   },
   {
    "duration": 22,
    "start_time": "2024-07-19T13:29:05.634Z"
   },
   {
    "duration": 22,
    "start_time": "2024-07-19T13:29:16.915Z"
   },
   {
    "duration": 35,
    "start_time": "2024-07-19T13:30:55.886Z"
   },
   {
    "duration": 52,
    "start_time": "2024-07-19T13:31:06.913Z"
   },
   {
    "duration": 66,
    "start_time": "2024-07-19T13:31:11.883Z"
   },
   {
    "duration": 32,
    "start_time": "2024-07-19T13:31:32.198Z"
   },
   {
    "duration": 70,
    "start_time": "2024-07-19T13:31:51.979Z"
   },
   {
    "duration": 65,
    "start_time": "2024-07-19T13:34:40.173Z"
   },
   {
    "duration": 5,
    "start_time": "2024-07-19T13:35:07.882Z"
   },
   {
    "duration": 43,
    "start_time": "2024-07-19T13:35:14.808Z"
   },
   {
    "duration": 18,
    "start_time": "2024-07-19T13:35:48.871Z"
   },
   {
    "duration": 45,
    "start_time": "2024-07-19T13:38:29.421Z"
   },
   {
    "duration": 45,
    "start_time": "2024-07-19T13:38:54.047Z"
   },
   {
    "duration": 13,
    "start_time": "2024-07-19T13:39:38.855Z"
   },
   {
    "duration": 12,
    "start_time": "2024-07-19T13:40:11.249Z"
   },
   {
    "duration": 13,
    "start_time": "2024-07-19T13:40:23.592Z"
   },
   {
    "duration": 13,
    "start_time": "2024-07-19T13:40:45.497Z"
   },
   {
    "duration": 5,
    "start_time": "2024-07-19T13:42:57.657Z"
   },
   {
    "duration": 13,
    "start_time": "2024-07-19T13:44:25.835Z"
   },
   {
    "duration": 13,
    "start_time": "2024-07-19T13:46:03.642Z"
   },
   {
    "duration": 15,
    "start_time": "2024-07-19T13:46:20.665Z"
   },
   {
    "duration": 15,
    "start_time": "2024-07-19T13:46:33.481Z"
   },
   {
    "duration": 49,
    "start_time": "2024-07-19T13:46:50.753Z"
   },
   {
    "duration": 1437,
    "start_time": "2024-07-19T13:47:47.501Z"
   },
   {
    "duration": 763,
    "start_time": "2024-07-19T13:47:48.942Z"
   },
   {
    "duration": 165,
    "start_time": "2024-07-19T13:47:49.712Z"
   },
   {
    "duration": 5,
    "start_time": "2024-07-19T13:47:52.461Z"
   },
   {
    "duration": 21,
    "start_time": "2024-07-19T13:47:54.355Z"
   },
   {
    "duration": 407,
    "start_time": "2024-07-19T13:47:58.637Z"
   },
   {
    "duration": 908,
    "start_time": "2024-07-19T13:48:00.039Z"
   },
   {
    "duration": 43,
    "start_time": "2024-07-19T13:48:04.298Z"
   },
   {
    "duration": 14,
    "start_time": "2024-07-19T13:48:06.729Z"
   },
   {
    "duration": 97,
    "start_time": "2024-07-19T13:48:11.237Z"
   },
   {
    "duration": 76,
    "start_time": "2024-07-19T13:48:18.161Z"
   },
   {
    "duration": 37,
    "start_time": "2024-07-19T13:48:24.120Z"
   },
   {
    "duration": 111,
    "start_time": "2024-07-19T13:48:27.792Z"
   },
   {
    "duration": 6,
    "start_time": "2024-07-19T13:48:42.706Z"
   },
   {
    "duration": 12,
    "start_time": "2024-07-19T13:48:53.539Z"
   },
   {
    "duration": 7,
    "start_time": "2024-07-19T13:49:15.986Z"
   },
   {
    "duration": 16,
    "start_time": "2024-07-19T13:49:51.700Z"
   },
   {
    "duration": 72,
    "start_time": "2024-07-19T13:50:08.176Z"
   },
   {
    "duration": 38,
    "start_time": "2024-07-19T14:03:35.380Z"
   },
   {
    "duration": 43,
    "start_time": "2024-07-19T14:08:07.021Z"
   },
   {
    "duration": 12,
    "start_time": "2024-07-19T14:10:37.953Z"
   },
   {
    "duration": 39,
    "start_time": "2024-07-19T14:11:22.263Z"
   },
   {
    "duration": 13,
    "start_time": "2024-07-19T14:11:41.551Z"
   },
   {
    "duration": 7,
    "start_time": "2024-07-19T14:14:06.811Z"
   },
   {
    "duration": 9,
    "start_time": "2024-07-19T14:14:21.584Z"
   },
   {
    "duration": 24,
    "start_time": "2024-07-19T14:14:24.898Z"
   },
   {
    "duration": 13,
    "start_time": "2024-07-19T14:14:43.660Z"
   },
   {
    "duration": 12,
    "start_time": "2024-07-19T14:15:20.727Z"
   },
   {
    "duration": 27,
    "start_time": "2024-07-19T14:15:39.208Z"
   },
   {
    "duration": 11,
    "start_time": "2024-07-19T14:16:20.303Z"
   },
   {
    "duration": 11,
    "start_time": "2024-07-19T14:16:26.185Z"
   },
   {
    "duration": 11,
    "start_time": "2024-07-19T14:16:33.107Z"
   },
   {
    "duration": 47,
    "start_time": "2024-07-19T14:18:52.813Z"
   },
   {
    "duration": 38,
    "start_time": "2024-07-19T14:19:06.416Z"
   },
   {
    "duration": 16,
    "start_time": "2024-07-19T14:21:02.131Z"
   },
   {
    "duration": 16,
    "start_time": "2024-07-19T14:21:10.603Z"
   },
   {
    "duration": 14,
    "start_time": "2024-07-19T14:21:48.580Z"
   },
   {
    "duration": 19,
    "start_time": "2024-07-19T14:24:15.252Z"
   },
   {
    "duration": 15,
    "start_time": "2024-07-19T14:24:27.922Z"
   },
   {
    "duration": 17,
    "start_time": "2024-07-19T14:28:02.704Z"
   },
   {
    "duration": 17,
    "start_time": "2024-07-19T14:29:07.573Z"
   },
   {
    "duration": 8,
    "start_time": "2024-07-19T14:29:38.737Z"
   },
   {
    "duration": 55,
    "start_time": "2024-07-19T14:29:43.243Z"
   },
   {
    "duration": 50,
    "start_time": "2024-07-19T14:30:02.517Z"
   },
   {
    "duration": 48,
    "start_time": "2024-07-19T14:30:08.203Z"
   },
   {
    "duration": 45,
    "start_time": "2024-07-19T14:31:05.516Z"
   },
   {
    "duration": 80,
    "start_time": "2024-07-19T14:32:36.244Z"
   },
   {
    "duration": 69,
    "start_time": "2024-07-19T14:33:12.432Z"
   },
   {
    "duration": 64,
    "start_time": "2024-07-19T14:33:40.001Z"
   },
   {
    "duration": 8,
    "start_time": "2024-07-19T14:34:01.846Z"
   },
   {
    "duration": 64,
    "start_time": "2024-07-19T14:34:15.600Z"
   },
   {
    "duration": 5703,
    "start_time": "2024-07-19T14:34:41.809Z"
   },
   {
    "duration": 19,
    "start_time": "2024-07-19T14:35:38.245Z"
   },
   {
    "duration": 53,
    "start_time": "2024-07-19T14:35:46.015Z"
   },
   {
    "duration": 47,
    "start_time": "2024-07-19T14:36:28.788Z"
   },
   {
    "duration": 46,
    "start_time": "2024-07-19T14:36:52.822Z"
   },
   {
    "duration": 54,
    "start_time": "2024-07-19T14:38:38.460Z"
   },
   {
    "duration": 80,
    "start_time": "2024-07-19T14:38:39.839Z"
   },
   {
    "duration": 24,
    "start_time": "2024-07-19T14:38:51.862Z"
   },
   {
    "duration": 202,
    "start_time": "2024-07-19T14:39:08.249Z"
   },
   {
    "duration": 15,
    "start_time": "2024-07-19T14:39:17.294Z"
   },
   {
    "duration": 4,
    "start_time": "2024-07-19T14:40:11.228Z"
   },
   {
    "duration": 419,
    "start_time": "2024-07-19T14:40:14.001Z"
   },
   {
    "duration": 5,
    "start_time": "2024-07-19T14:41:18.669Z"
   },
   {
    "duration": 435,
    "start_time": "2024-07-19T14:41:21.578Z"
   },
   {
    "duration": 1092,
    "start_time": "2024-07-19T14:41:32.489Z"
   },
   {
    "duration": 28,
    "start_time": "2024-07-19T14:41:36.008Z"
   },
   {
    "duration": 453,
    "start_time": "2024-07-19T14:42:37.844Z"
   },
   {
    "duration": 33,
    "start_time": "2024-07-19T14:43:07.566Z"
   },
   {
    "duration": 20,
    "start_time": "2024-07-19T14:43:09.381Z"
   },
   {
    "duration": 4,
    "start_time": "2024-07-19T14:43:14.520Z"
   },
   {
    "duration": 634,
    "start_time": "2024-07-19T14:43:15.133Z"
   },
   {
    "duration": 1345,
    "start_time": "2024-07-19T14:44:03.178Z"
   },
   {
    "duration": 35,
    "start_time": "2024-07-19T14:44:24.362Z"
   },
   {
    "duration": 14,
    "start_time": "2024-07-19T14:46:06.853Z"
   },
   {
    "duration": 1456,
    "start_time": "2024-07-19T14:46:23.688Z"
   },
   {
    "duration": 772,
    "start_time": "2024-07-19T14:46:25.147Z"
   },
   {
    "duration": 149,
    "start_time": "2024-07-19T14:46:25.922Z"
   },
   {
    "duration": 5,
    "start_time": "2024-07-19T14:46:26.076Z"
   },
   {
    "duration": 44,
    "start_time": "2024-07-19T14:46:26.084Z"
   },
   {
    "duration": 427,
    "start_time": "2024-07-19T14:46:26.131Z"
   },
   {
    "duration": 892,
    "start_time": "2024-07-19T14:46:26.561Z"
   },
   {
    "duration": 39,
    "start_time": "2024-07-19T14:46:27.456Z"
   },
   {
    "duration": 15,
    "start_time": "2024-07-19T14:46:27.514Z"
   },
   {
    "duration": 115,
    "start_time": "2024-07-19T14:46:27.536Z"
   },
   {
    "duration": 93,
    "start_time": "2024-07-19T14:46:27.655Z"
   },
   {
    "duration": 35,
    "start_time": "2024-07-19T14:46:27.751Z"
   },
   {
    "duration": 92,
    "start_time": "2024-07-19T14:46:27.790Z"
   },
   {
    "duration": 8,
    "start_time": "2024-07-19T14:46:27.886Z"
   },
   {
    "duration": 13,
    "start_time": "2024-07-19T14:46:27.913Z"
   },
   {
    "duration": 14,
    "start_time": "2024-07-19T14:46:27.928Z"
   },
   {
    "duration": 74,
    "start_time": "2024-07-19T14:46:27.946Z"
   },
   {
    "duration": 12,
    "start_time": "2024-07-19T14:46:28.188Z"
   },
   {
    "duration": 38,
    "start_time": "2024-07-19T14:46:28.361Z"
   },
   {
    "duration": 11,
    "start_time": "2024-07-19T14:46:28.527Z"
   },
   {
    "duration": 14,
    "start_time": "2024-07-19T14:46:28.698Z"
   },
   {
    "duration": 35,
    "start_time": "2024-07-19T14:46:28.868Z"
   },
   {
    "duration": 78,
    "start_time": "2024-07-19T14:46:30.128Z"
   },
   {
    "duration": 68,
    "start_time": "2024-07-19T14:46:31.814Z"
   },
   {
    "duration": 5,
    "start_time": "2024-07-19T14:46:31.983Z"
   },
   {
    "duration": 44,
    "start_time": "2024-07-19T14:46:32.640Z"
   },
   {
    "duration": 5246,
    "start_time": "2024-07-19T14:46:34.142Z"
   },
   {
    "duration": 26,
    "start_time": "2024-07-19T14:46:39.391Z"
   },
   {
    "duration": 5151,
    "start_time": "2024-07-19T14:46:46.696Z"
   },
   {
    "duration": 18,
    "start_time": "2024-07-19T14:46:51.850Z"
   },
   {
    "duration": 45,
    "start_time": "2024-07-19T14:46:56.390Z"
   },
   {
    "duration": 44,
    "start_time": "2024-07-19T14:46:59.927Z"
   },
   {
    "duration": 54,
    "start_time": "2024-07-19T14:47:01.479Z"
   },
   {
    "duration": 49,
    "start_time": "2024-07-19T14:47:03.607Z"
   },
   {
    "duration": 73,
    "start_time": "2024-07-19T14:47:04.934Z"
   },
   {
    "duration": 23,
    "start_time": "2024-07-19T14:47:09.302Z"
   },
   {
    "duration": 195,
    "start_time": "2024-07-19T14:47:17.709Z"
   },
   {
    "duration": 4,
    "start_time": "2024-07-19T14:47:24.318Z"
   },
   {
    "duration": 605,
    "start_time": "2024-07-19T14:47:26.951Z"
   },
   {
    "duration": 1386,
    "start_time": "2024-07-19T14:47:39.364Z"
   },
   {
    "duration": 32,
    "start_time": "2024-07-19T14:47:45.133Z"
   },
   {
    "duration": 158,
    "start_time": "2024-07-19T14:48:03.024Z"
   },
   {
    "duration": 329,
    "start_time": "2024-07-19T14:48:48.207Z"
   },
   {
    "duration": 1468,
    "start_time": "2024-07-19T14:48:58.030Z"
   },
   {
    "duration": 818,
    "start_time": "2024-07-19T14:48:59.502Z"
   },
   {
    "duration": 172,
    "start_time": "2024-07-19T14:49:00.324Z"
   },
   {
    "duration": 13,
    "start_time": "2024-07-19T14:49:00.500Z"
   },
   {
    "duration": 21,
    "start_time": "2024-07-19T14:49:00.516Z"
   },
   {
    "duration": 459,
    "start_time": "2024-07-19T14:49:00.540Z"
   },
   {
    "duration": 920,
    "start_time": "2024-07-19T14:49:01.002Z"
   },
   {
    "duration": 38,
    "start_time": "2024-07-19T14:49:01.925Z"
   },
   {
    "duration": 17,
    "start_time": "2024-07-19T14:49:01.966Z"
   },
   {
    "duration": 124,
    "start_time": "2024-07-19T14:49:01.989Z"
   },
   {
    "duration": 73,
    "start_time": "2024-07-19T14:49:02.116Z"
   },
   {
    "duration": 53,
    "start_time": "2024-07-19T14:49:02.192Z"
   },
   {
    "duration": 99,
    "start_time": "2024-07-19T14:49:02.248Z"
   },
   {
    "duration": 6,
    "start_time": "2024-07-19T14:49:02.349Z"
   },
   {
    "duration": 12,
    "start_time": "2024-07-19T14:49:02.358Z"
   },
   {
    "duration": 44,
    "start_time": "2024-07-19T14:49:02.373Z"
   },
   {
    "duration": 45,
    "start_time": "2024-07-19T14:49:02.420Z"
   },
   {
    "duration": 43,
    "start_time": "2024-07-19T14:49:02.470Z"
   },
   {
    "duration": 44,
    "start_time": "2024-07-19T14:49:02.516Z"
   },
   {
    "duration": 12,
    "start_time": "2024-07-19T14:49:02.564Z"
   },
   {
    "duration": 18,
    "start_time": "2024-07-19T14:49:02.611Z"
   },
   {
    "duration": 37,
    "start_time": "2024-07-19T14:49:02.692Z"
   },
   {
    "duration": 92,
    "start_time": "2024-07-19T14:49:02.951Z"
   },
   {
    "duration": 63,
    "start_time": "2024-07-19T14:49:04.346Z"
   },
   {
    "duration": 5,
    "start_time": "2024-07-19T14:49:04.506Z"
   },
   {
    "duration": 47,
    "start_time": "2024-07-19T14:49:05.045Z"
   },
   {
    "duration": 5146,
    "start_time": "2024-07-19T14:49:05.406Z"
   },
   {
    "duration": 18,
    "start_time": "2024-07-19T14:49:10.555Z"
   },
   {
    "duration": 65,
    "start_time": "2024-07-19T14:49:10.577Z"
   },
   {
    "duration": 48,
    "start_time": "2024-07-19T14:49:10.646Z"
   },
   {
    "duration": 45,
    "start_time": "2024-07-19T14:49:10.714Z"
   },
   {
    "duration": 71,
    "start_time": "2024-07-19T14:49:10.763Z"
   },
   {
    "duration": 77,
    "start_time": "2024-07-19T14:49:10.837Z"
   },
   {
    "duration": 23,
    "start_time": "2024-07-19T14:49:11.064Z"
   },
   {
    "duration": 201,
    "start_time": "2024-07-19T14:49:11.372Z"
   },
   {
    "duration": 4,
    "start_time": "2024-07-19T14:49:13.129Z"
   },
   {
    "duration": 621,
    "start_time": "2024-07-19T14:49:16.478Z"
   },
   {
    "duration": 1323,
    "start_time": "2024-07-19T14:49:18.633Z"
   },
   {
    "duration": 415,
    "start_time": "2024-07-19T14:51:34.126Z"
   },
   {
    "duration": 26,
    "start_time": "2024-07-19T14:51:46.792Z"
   },
   {
    "duration": 400,
    "start_time": "2024-07-19T14:53:20.498Z"
   },
   {
    "duration": 184,
    "start_time": "2024-07-19T14:53:38.400Z"
   },
   {
    "duration": 7,
    "start_time": "2024-07-19T14:53:55.779Z"
   },
   {
    "duration": 53,
    "start_time": "2024-07-19T14:54:25.547Z"
   },
   {
    "duration": 8,
    "start_time": "2024-07-19T14:56:40.978Z"
   },
   {
    "duration": 1201,
    "start_time": "2024-07-19T14:56:48.767Z"
   },
   {
    "duration": 9,
    "start_time": "2024-07-19T14:57:40.291Z"
   },
   {
    "duration": 23,
    "start_time": "2024-07-19T14:57:45.344Z"
   },
   {
    "duration": 27,
    "start_time": "2024-07-19T14:57:56.846Z"
   },
   {
    "duration": 12,
    "start_time": "2024-07-19T14:58:14.659Z"
   },
   {
    "duration": 65,
    "start_time": "2024-07-19T14:58:51.563Z"
   },
   {
    "duration": 6,
    "start_time": "2024-07-19T14:58:53.577Z"
   },
   {
    "duration": 16,
    "start_time": "2024-07-19T14:59:19.835Z"
   },
   {
    "duration": 11,
    "start_time": "2024-07-19T14:59:22.800Z"
   },
   {
    "duration": 30,
    "start_time": "2024-07-19T14:59:31.484Z"
   },
   {
    "duration": 1442,
    "start_time": "2024-07-19T15:00:01.701Z"
   },
   {
    "duration": 796,
    "start_time": "2024-07-19T15:00:03.147Z"
   },
   {
    "duration": 156,
    "start_time": "2024-07-19T15:00:03.947Z"
   },
   {
    "duration": 8,
    "start_time": "2024-07-19T15:00:04.115Z"
   },
   {
    "duration": 20,
    "start_time": "2024-07-19T15:00:04.127Z"
   },
   {
    "duration": 469,
    "start_time": "2024-07-19T15:00:04.150Z"
   },
   {
    "duration": 909,
    "start_time": "2024-07-19T15:00:04.623Z"
   },
   {
    "duration": 39,
    "start_time": "2024-07-19T15:00:05.536Z"
   },
   {
    "duration": 14,
    "start_time": "2024-07-19T15:00:06.488Z"
   },
   {
    "duration": 96,
    "start_time": "2024-07-19T15:00:06.943Z"
   },
   {
    "duration": 73,
    "start_time": "2024-07-19T15:00:09.032Z"
   },
   {
    "duration": 35,
    "start_time": "2024-07-19T15:00:11.014Z"
   },
   {
    "duration": 75,
    "start_time": "2024-07-19T15:00:12.020Z"
   },
   {
    "duration": 5,
    "start_time": "2024-07-19T15:00:13.585Z"
   },
   {
    "duration": 13,
    "start_time": "2024-07-19T15:00:18.337Z"
   },
   {
    "duration": 14,
    "start_time": "2024-07-19T15:00:23.888Z"
   },
   {
    "duration": 55,
    "start_time": "2024-07-19T15:00:35.459Z"
   },
   {
    "duration": 14,
    "start_time": "2024-07-19T15:01:43.588Z"
   },
   {
    "duration": 48,
    "start_time": "2024-07-19T15:01:58.286Z"
   },
   {
    "duration": 16,
    "start_time": "2024-07-19T15:02:15.025Z"
   },
   {
    "duration": 19,
    "start_time": "2024-07-19T15:02:17.052Z"
   },
   {
    "duration": 41,
    "start_time": "2024-07-19T15:02:25.113Z"
   },
   {
    "duration": 78,
    "start_time": "2024-07-19T15:02:49.797Z"
   },
   {
    "duration": 81,
    "start_time": "2024-07-19T15:02:59.297Z"
   },
   {
    "duration": 6,
    "start_time": "2024-07-19T15:03:01.095Z"
   },
   {
    "duration": 68,
    "start_time": "2024-07-19T15:03:10.320Z"
   },
   {
    "duration": 5420,
    "start_time": "2024-07-19T15:03:49.621Z"
   },
   {
    "duration": 20,
    "start_time": "2024-07-19T15:03:55.047Z"
   },
   {
    "duration": 60,
    "start_time": "2024-07-19T15:04:00.918Z"
   },
   {
    "duration": 63,
    "start_time": "2024-07-19T15:04:17.182Z"
   },
   {
    "duration": 59,
    "start_time": "2024-07-19T15:04:29.096Z"
   },
   {
    "duration": 50,
    "start_time": "2024-07-19T15:04:35.282Z"
   },
   {
    "duration": 75,
    "start_time": "2024-07-19T15:04:35.927Z"
   },
   {
    "duration": 30,
    "start_time": "2024-07-19T15:04:39.746Z"
   },
   {
    "duration": 260,
    "start_time": "2024-07-19T15:04:45.454Z"
   },
   {
    "duration": 4,
    "start_time": "2024-07-19T15:04:50.474Z"
   },
   {
    "duration": 67,
    "start_time": "2024-07-19T15:04:52.300Z"
   },
   {
    "duration": 551,
    "start_time": "2024-07-19T15:05:07.842Z"
   },
   {
    "duration": 5717,
    "start_time": "2024-07-19T15:06:32.534Z"
   },
   {
    "duration": 16,
    "start_time": "2024-07-19T15:08:01.227Z"
   },
   {
    "duration": 38,
    "start_time": "2024-07-19T15:08:32.703Z"
   },
   {
    "duration": 12,
    "start_time": "2024-07-19T15:14:18.575Z"
   },
   {
    "duration": 11,
    "start_time": "2024-07-19T15:14:32.021Z"
   },
   {
    "duration": 12,
    "start_time": "2024-07-19T15:15:44.455Z"
   },
   {
    "duration": 1189,
    "start_time": "2024-07-19T15:19:18.289Z"
   },
   {
    "duration": 1496,
    "start_time": "2024-07-19T15:19:44.330Z"
   },
   {
    "duration": 830,
    "start_time": "2024-07-19T15:19:45.830Z"
   },
   {
    "duration": 186,
    "start_time": "2024-07-19T15:19:46.664Z"
   },
   {
    "duration": 6,
    "start_time": "2024-07-19T15:19:53.473Z"
   },
   {
    "duration": 40,
    "start_time": "2024-07-19T15:19:54.954Z"
   },
   {
    "duration": 427,
    "start_time": "2024-07-19T15:19:59.891Z"
   },
   {
    "duration": 1047,
    "start_time": "2024-07-19T15:20:00.684Z"
   },
   {
    "duration": 59,
    "start_time": "2024-07-19T15:20:04.310Z"
   },
   {
    "duration": 21,
    "start_time": "2024-07-19T15:20:04.933Z"
   },
   {
    "duration": 127,
    "start_time": "2024-07-19T15:20:05.390Z"
   },
   {
    "duration": 75,
    "start_time": "2024-07-19T15:20:23.077Z"
   },
   {
    "duration": 37,
    "start_time": "2024-07-19T15:20:25.791Z"
   },
   {
    "duration": 13,
    "start_time": "2024-07-19T15:25:26.722Z"
   },
   {
    "duration": 41,
    "start_time": "2024-07-19T15:27:24.230Z"
   },
   {
    "duration": 383,
    "start_time": "2024-07-19T15:28:31.506Z"
   },
   {
    "duration": 2100,
    "start_time": "2024-07-19T15:30:14.894Z"
   },
   {
    "duration": 1596,
    "start_time": "2024-07-19T15:30:33.016Z"
   },
   {
    "duration": 855,
    "start_time": "2024-07-19T15:30:34.616Z"
   },
   {
    "duration": 165,
    "start_time": "2024-07-19T15:30:35.474Z"
   },
   {
    "duration": 6,
    "start_time": "2024-07-19T15:30:35.643Z"
   },
   {
    "duration": 76,
    "start_time": "2024-07-19T15:30:35.654Z"
   },
   {
    "duration": 468,
    "start_time": "2024-07-19T15:30:40.752Z"
   },
   {
    "duration": 995,
    "start_time": "2024-07-19T15:30:41.813Z"
   },
   {
    "duration": 45,
    "start_time": "2024-07-19T15:30:44.067Z"
   },
   {
    "duration": 14,
    "start_time": "2024-07-19T15:30:46.613Z"
   },
   {
    "duration": 86,
    "start_time": "2024-07-19T15:31:00.533Z"
   },
   {
    "duration": 88,
    "start_time": "2024-07-19T15:31:07.313Z"
   },
   {
    "duration": 38,
    "start_time": "2024-07-19T15:31:11.234Z"
   },
   {
    "duration": 82,
    "start_time": "2024-07-19T15:31:15.375Z"
   },
   {
    "duration": 6,
    "start_time": "2024-07-19T15:31:22.780Z"
   },
   {
    "duration": 14,
    "start_time": "2024-07-19T15:31:26.117Z"
   },
   {
    "duration": 16,
    "start_time": "2024-07-19T15:31:33.448Z"
   },
   {
    "duration": 44,
    "start_time": "2024-07-19T15:31:51.245Z"
   },
   {
    "duration": 14,
    "start_time": "2024-07-19T15:31:59.606Z"
   },
   {
    "duration": 40,
    "start_time": "2024-07-19T15:32:02.229Z"
   },
   {
    "duration": 15,
    "start_time": "2024-07-19T15:32:03.613Z"
   },
   {
    "duration": 15,
    "start_time": "2024-07-19T15:32:05.217Z"
   },
   {
    "duration": 39,
    "start_time": "2024-07-19T15:32:05.947Z"
   },
   {
    "duration": 14,
    "start_time": "2024-07-19T15:32:11.803Z"
   },
   {
    "duration": 55,
    "start_time": "2024-07-19T15:32:19.714Z"
   },
   {
    "duration": 5,
    "start_time": "2024-07-19T15:32:20.906Z"
   },
   {
    "duration": 31,
    "start_time": "2024-07-19T15:32:21.604Z"
   },
   {
    "duration": 338,
    "start_time": "2024-07-19T15:32:40.398Z"
   },
   {
    "duration": 44,
    "start_time": "2024-07-19T15:34:59.836Z"
   },
   {
    "duration": 50,
    "start_time": "2024-07-19T15:35:04.434Z"
   },
   {
    "duration": 62,
    "start_time": "2024-07-19T15:35:25.775Z"
   },
   {
    "duration": 5400,
    "start_time": "2024-07-19T15:36:02.558Z"
   },
   {
    "duration": 25,
    "start_time": "2024-07-19T15:36:10.430Z"
   },
   {
    "duration": 69,
    "start_time": "2024-07-19T15:36:17.817Z"
   },
   {
    "duration": 74,
    "start_time": "2024-07-19T15:36:21.687Z"
   },
   {
    "duration": 68,
    "start_time": "2024-07-19T15:36:26.620Z"
   },
   {
    "duration": 71,
    "start_time": "2024-07-19T15:36:30.176Z"
   },
   {
    "duration": 74,
    "start_time": "2024-07-19T15:36:31.125Z"
   },
   {
    "duration": 30,
    "start_time": "2024-07-19T15:36:34.136Z"
   },
   {
    "duration": 1080,
    "start_time": "2024-07-19T15:36:35.204Z"
   },
   {
    "duration": 168,
    "start_time": "2024-07-19T15:36:52.083Z"
   },
   {
    "duration": 4,
    "start_time": "2024-07-19T15:36:59.677Z"
   },
   {
    "duration": 504,
    "start_time": "2024-07-19T15:37:01.347Z"
   },
   {
    "duration": 1115,
    "start_time": "2024-07-19T15:37:15.722Z"
   },
   {
    "duration": 158,
    "start_time": "2024-07-19T15:37:28.938Z"
   },
   {
    "duration": 23390,
    "start_time": "2024-07-19T15:37:35.123Z"
   },
   {
    "duration": 34,
    "start_time": "2024-07-19T15:38:45.613Z"
   },
   {
    "duration": 55,
    "start_time": "2024-07-19T15:39:02.517Z"
   },
   {
    "duration": 661,
    "start_time": "2024-07-19T15:45:28.528Z"
   },
   {
    "duration": 86,
    "start_time": "2024-07-19T15:45:33.870Z"
   },
   {
    "duration": 5,
    "start_time": "2024-07-19T15:57:14.423Z"
   },
   {
    "duration": 78,
    "start_time": "2024-07-19T15:57:15.066Z"
   },
   {
    "duration": 55,
    "start_time": "2024-07-19T15:59:25.046Z"
   },
   {
    "duration": 135,
    "start_time": "2024-07-19T16:01:30.667Z"
   },
   {
    "duration": 4,
    "start_time": "2024-07-19T16:02:32.089Z"
   },
   {
    "duration": 545,
    "start_time": "2024-07-19T16:02:32.936Z"
   },
   {
    "duration": 33,
    "start_time": "2024-07-19T16:03:57.833Z"
   },
   {
    "duration": 37,
    "start_time": "2024-07-19T16:06:23.097Z"
   },
   {
    "duration": 36,
    "start_time": "2024-07-19T16:06:50.514Z"
   },
   {
    "duration": 107,
    "start_time": "2024-07-19T16:09:35.155Z"
   },
   {
    "duration": 588,
    "start_time": "2024-07-19T16:09:46.366Z"
   },
   {
    "duration": 40,
    "start_time": "2024-07-19T16:10:00.868Z"
   },
   {
    "duration": 711,
    "start_time": "2024-07-19T16:11:09.882Z"
   },
   {
    "duration": 73,
    "start_time": "2024-07-19T16:11:37.261Z"
   },
   {
    "duration": 145,
    "start_time": "2024-07-19T16:11:50.164Z"
   },
   {
    "duration": 45,
    "start_time": "2024-07-19T16:11:57.387Z"
   },
   {
    "duration": 1552,
    "start_time": "2024-07-19T16:12:36.102Z"
   },
   {
    "duration": 894,
    "start_time": "2024-07-19T16:12:37.658Z"
   },
   {
    "duration": 167,
    "start_time": "2024-07-19T16:12:38.556Z"
   },
   {
    "duration": 6,
    "start_time": "2024-07-19T16:12:38.728Z"
   },
   {
    "duration": 36,
    "start_time": "2024-07-19T16:12:38.737Z"
   },
   {
    "duration": 537,
    "start_time": "2024-07-19T16:12:38.777Z"
   },
   {
    "duration": 933,
    "start_time": "2024-07-19T16:12:39.320Z"
   },
   {
    "duration": 59,
    "start_time": "2024-07-19T16:12:40.258Z"
   },
   {
    "duration": 18,
    "start_time": "2024-07-19T16:12:40.324Z"
   },
   {
    "duration": 145,
    "start_time": "2024-07-19T16:12:40.346Z"
   },
   {
    "duration": 84,
    "start_time": "2024-07-19T16:12:40.495Z"
   },
   {
    "duration": 54,
    "start_time": "2024-07-19T16:12:40.582Z"
   },
   {
    "duration": 89,
    "start_time": "2024-07-19T16:12:40.639Z"
   },
   {
    "duration": 10,
    "start_time": "2024-07-19T16:12:40.731Z"
   },
   {
    "duration": 14,
    "start_time": "2024-07-19T16:12:40.744Z"
   },
   {
    "duration": 15,
    "start_time": "2024-07-19T16:12:40.764Z"
   },
   {
    "duration": 46,
    "start_time": "2024-07-19T16:12:40.814Z"
   },
   {
    "duration": 13,
    "start_time": "2024-07-19T16:12:41.006Z"
   },
   {
    "duration": 38,
    "start_time": "2024-07-19T16:12:41.696Z"
   },
   {
    "duration": 11,
    "start_time": "2024-07-19T16:12:42.031Z"
   },
   {
    "duration": 15,
    "start_time": "2024-07-19T16:12:42.210Z"
   },
   {
    "duration": 34,
    "start_time": "2024-07-19T16:12:42.350Z"
   },
   {
    "duration": 16,
    "start_time": "2024-07-19T16:12:42.660Z"
   },
   {
    "duration": 68,
    "start_time": "2024-07-19T16:12:43.515Z"
   },
   {
    "duration": 10,
    "start_time": "2024-07-19T16:12:43.714Z"
   },
   {
    "duration": 333,
    "start_time": "2024-07-19T16:12:44.025Z"
   },
   {
    "duration": 60,
    "start_time": "2024-07-19T16:12:44.362Z"
   },
   {
    "duration": 43,
    "start_time": "2024-07-19T16:12:44.425Z"
   },
   {
    "duration": 55,
    "start_time": "2024-07-19T16:12:45.693Z"
   },
   {
    "duration": 5336,
    "start_time": "2024-07-19T16:12:46.926Z"
   },
   {
    "duration": 27,
    "start_time": "2024-07-19T16:12:52.266Z"
   },
   {
    "duration": 47,
    "start_time": "2024-07-19T16:12:54.051Z"
   },
   {
    "duration": 89,
    "start_time": "2024-07-19T16:12:55.327Z"
   },
   {
    "duration": 70,
    "start_time": "2024-07-19T16:12:55.965Z"
   },
   {
    "duration": 80,
    "start_time": "2024-07-19T16:12:56.481Z"
   },
   {
    "duration": 110,
    "start_time": "2024-07-19T16:12:56.913Z"
   },
   {
    "duration": 33,
    "start_time": "2024-07-19T16:12:57.939Z"
   },
   {
    "duration": 230,
    "start_time": "2024-07-19T16:12:58.541Z"
   },
   {
    "duration": 5,
    "start_time": "2024-07-19T16:13:00.813Z"
   },
   {
    "duration": 667,
    "start_time": "2024-07-19T16:13:01.371Z"
   },
   {
    "duration": 897,
    "start_time": "2024-07-19T16:13:02.781Z"
   },
   {
    "duration": 99,
    "start_time": "2024-07-19T16:13:03.686Z"
   },
   {
    "duration": 218,
    "start_time": "2024-07-19T16:13:05.205Z"
   },
   {
    "duration": 66,
    "start_time": "2024-07-19T16:13:13.476Z"
   },
   {
    "duration": 21750,
    "start_time": "2024-07-19T16:13:19.078Z"
   },
   {
    "duration": 60,
    "start_time": "2024-07-19T16:13:45.071Z"
   },
   {
    "duration": 99,
    "start_time": "2024-07-19T16:14:10.313Z"
   },
   {
    "duration": 83461,
    "start_time": "2024-07-19T16:21:33.202Z"
   },
   {
    "duration": 884,
    "start_time": "2024-07-19T16:23:12.466Z"
   },
   {
    "duration": 974,
    "start_time": "2024-07-19T16:23:34.738Z"
   },
   {
    "duration": 870,
    "start_time": "2024-07-19T16:23:42.885Z"
   },
   {
    "duration": 78926,
    "start_time": "2024-07-19T16:24:15.792Z"
   },
   {
    "duration": 3379,
    "start_time": "2024-07-19T16:26:02.942Z"
   },
   {
    "duration": 3141,
    "start_time": "2024-07-19T16:26:20.131Z"
   },
   {
    "duration": 562066,
    "start_time": "2024-07-19T16:26:54.645Z"
   },
   {
    "duration": 28,
    "start_time": "2024-07-19T16:38:55.770Z"
   },
   {
    "duration": 41,
    "start_time": "2024-07-19T16:40:16.490Z"
   },
   {
    "duration": 3584,
    "start_time": "2024-07-19T16:41:48.909Z"
   },
   {
    "duration": 1849,
    "start_time": "2024-07-19T16:42:54.510Z"
   },
   {
    "duration": 1410,
    "start_time": "2024-07-19T17:21:22.769Z"
   },
   {
    "duration": 803,
    "start_time": "2024-07-19T17:21:24.183Z"
   },
   {
    "duration": 154,
    "start_time": "2024-07-19T17:21:24.989Z"
   },
   {
    "duration": 5,
    "start_time": "2024-07-19T17:21:25.148Z"
   },
   {
    "duration": 66,
    "start_time": "2024-07-19T17:21:25.156Z"
   },
   {
    "duration": 444,
    "start_time": "2024-07-19T17:21:25.225Z"
   },
   {
    "duration": 928,
    "start_time": "2024-07-19T17:21:25.673Z"
   },
   {
    "duration": 47,
    "start_time": "2024-07-19T17:21:26.604Z"
   },
   {
    "duration": 13,
    "start_time": "2024-07-19T17:21:26.653Z"
   },
   {
    "duration": 131,
    "start_time": "2024-07-19T17:21:26.673Z"
   },
   {
    "duration": 76,
    "start_time": "2024-07-19T17:21:26.807Z"
   },
   {
    "duration": 52,
    "start_time": "2024-07-19T17:21:26.887Z"
   },
   {
    "duration": 89,
    "start_time": "2024-07-19T17:21:26.942Z"
   },
   {
    "duration": 6,
    "start_time": "2024-07-19T17:21:27.034Z"
   },
   {
    "duration": 13,
    "start_time": "2024-07-19T17:21:27.044Z"
   },
   {
    "duration": 13,
    "start_time": "2024-07-19T17:21:27.060Z"
   },
   {
    "duration": 37,
    "start_time": "2024-07-19T17:21:27.114Z"
   },
   {
    "duration": 13,
    "start_time": "2024-07-19T17:21:27.154Z"
   },
   {
    "duration": 77,
    "start_time": "2024-07-19T17:21:27.170Z"
   },
   {
    "duration": 12,
    "start_time": "2024-07-19T17:21:27.250Z"
   },
   {
    "duration": 15,
    "start_time": "2024-07-19T17:21:27.265Z"
   },
   {
    "duration": 37,
    "start_time": "2024-07-19T17:21:27.313Z"
   },
   {
    "duration": 16,
    "start_time": "2024-07-19T17:21:27.353Z"
   },
   {
    "duration": 87,
    "start_time": "2024-07-19T17:21:27.373Z"
   },
   {
    "duration": 6,
    "start_time": "2024-07-19T17:21:27.463Z"
   },
   {
    "duration": 328,
    "start_time": "2024-07-19T17:21:27.472Z"
   },
   {
    "duration": 51,
    "start_time": "2024-07-19T17:21:27.804Z"
   },
   {
    "duration": 55,
    "start_time": "2024-07-19T17:21:27.864Z"
   },
   {
    "duration": 46,
    "start_time": "2024-07-19T17:21:27.921Z"
   },
   {
    "duration": 5294,
    "start_time": "2024-07-19T17:21:27.970Z"
   },
   {
    "duration": 19,
    "start_time": "2024-07-19T17:21:33.268Z"
   },
   {
    "duration": 74,
    "start_time": "2024-07-19T17:21:33.291Z"
   },
   {
    "duration": 65,
    "start_time": "2024-07-19T17:21:33.369Z"
   },
   {
    "duration": 48,
    "start_time": "2024-07-19T17:21:33.438Z"
   },
   {
    "duration": 68,
    "start_time": "2024-07-19T17:21:33.489Z"
   },
   {
    "duration": 76,
    "start_time": "2024-07-19T17:21:33.560Z"
   },
   {
    "duration": 187,
    "start_time": "2024-07-19T17:21:33.639Z"
   },
   {
    "duration": 4,
    "start_time": "2024-07-19T17:21:33.829Z"
   },
   {
    "duration": 564,
    "start_time": "2024-07-19T17:21:33.837Z"
   },
   {
    "duration": 9,
    "start_time": "2024-07-19T17:21:34.404Z"
   },
   {
    "duration": 4,
    "start_time": "2024-07-19T17:21:34.418Z"
   },
   {
    "duration": 178,
    "start_time": "2024-07-19T17:21:34.426Z"
   },
   {
    "duration": 4,
    "start_time": "2024-07-19T17:21:34.611Z"
   },
   {
    "duration": 19100,
    "start_time": "2024-07-19T17:21:34.619Z"
   },
   {
    "duration": 125,
    "start_time": "2024-07-19T17:21:53.722Z"
   },
   {
    "duration": 566,
    "start_time": "2024-07-19T17:21:53.850Z"
   },
   {
    "duration": 0,
    "start_time": "2024-07-19T17:21:54.418Z"
   },
   {
    "duration": 0,
    "start_time": "2024-07-19T17:21:54.420Z"
   },
   {
    "duration": 0,
    "start_time": "2024-07-19T17:21:54.422Z"
   },
   {
    "duration": 0,
    "start_time": "2024-07-19T17:21:54.424Z"
   },
   {
    "duration": 0,
    "start_time": "2024-07-19T17:21:54.427Z"
   },
   {
    "duration": 0,
    "start_time": "2024-07-19T17:21:54.429Z"
   },
   {
    "duration": 0,
    "start_time": "2024-07-19T17:21:54.431Z"
   },
   {
    "duration": 0,
    "start_time": "2024-07-19T17:21:54.433Z"
   },
   {
    "duration": 0,
    "start_time": "2024-07-19T17:21:54.436Z"
   },
   {
    "duration": 30,
    "start_time": "2024-07-19T17:35:29.082Z"
   },
   {
    "duration": 98,
    "start_time": "2024-07-19T17:36:07.386Z"
   },
   {
    "duration": 11,
    "start_time": "2024-07-19T17:39:16.191Z"
   },
   {
    "duration": 30,
    "start_time": "2024-07-19T17:39:53.727Z"
   },
   {
    "duration": 26,
    "start_time": "2024-07-19T17:47:20.276Z"
   },
   {
    "duration": 4,
    "start_time": "2024-07-19T17:47:24.873Z"
   },
   {
    "duration": 1112,
    "start_time": "2024-07-19T17:47:26.008Z"
   },
   {
    "duration": 49,
    "start_time": "2024-07-19T17:48:17.922Z"
   },
   {
    "duration": 708,
    "start_time": "2024-07-19T17:48:51.440Z"
   },
   {
    "duration": 167,
    "start_time": "2024-07-19T17:49:17.494Z"
   },
   {
    "duration": 53,
    "start_time": "2024-07-19T17:49:33.101Z"
   },
   {
    "duration": 54,
    "start_time": "2024-07-19T17:49:41.500Z"
   },
   {
    "duration": 207,
    "start_time": "2024-07-19T17:50:46.641Z"
   },
   {
    "duration": 166,
    "start_time": "2024-07-19T17:51:24.805Z"
   },
   {
    "duration": 175,
    "start_time": "2024-07-19T17:51:50.861Z"
   },
   {
    "duration": 169,
    "start_time": "2024-07-19T17:52:26.243Z"
   },
   {
    "duration": 54,
    "start_time": "2024-07-19T17:56:50.319Z"
   },
   {
    "duration": 26,
    "start_time": "2024-07-19T17:59:04.718Z"
   },
   {
    "duration": 377,
    "start_time": "2024-07-19T18:02:05.859Z"
   },
   {
    "duration": 56,
    "start_time": "2024-07-19T18:02:40.948Z"
   },
   {
    "duration": 386,
    "start_time": "2024-07-19T18:02:45.883Z"
   },
   {
    "duration": 1999,
    "start_time": "2024-07-19T18:05:57.896Z"
   },
   {
    "duration": 309,
    "start_time": "2024-07-19T18:07:41.971Z"
   },
   {
    "duration": 1468,
    "start_time": "2024-07-19T18:07:47.213Z"
   },
   {
    "duration": 835,
    "start_time": "2024-07-19T18:07:49.302Z"
   },
   {
    "duration": 143,
    "start_time": "2024-07-19T18:07:50.255Z"
   },
   {
    "duration": 6,
    "start_time": "2024-07-19T18:07:52.343Z"
   },
   {
    "duration": 34,
    "start_time": "2024-07-19T18:07:52.477Z"
   },
   {
    "duration": 428,
    "start_time": "2024-07-19T18:07:52.796Z"
   },
   {
    "duration": 914,
    "start_time": "2024-07-19T18:07:53.230Z"
   },
   {
    "duration": 37,
    "start_time": "2024-07-19T18:07:54.147Z"
   },
   {
    "duration": 14,
    "start_time": "2024-07-19T18:07:54.212Z"
   },
   {
    "duration": 102,
    "start_time": "2024-07-19T18:07:54.230Z"
   },
   {
    "duration": 90,
    "start_time": "2024-07-19T18:07:54.336Z"
   },
   {
    "duration": 41,
    "start_time": "2024-07-19T18:07:54.429Z"
   },
   {
    "duration": 96,
    "start_time": "2024-07-19T18:07:54.475Z"
   },
   {
    "duration": 7,
    "start_time": "2024-07-19T18:07:54.573Z"
   },
   {
    "duration": 13,
    "start_time": "2024-07-19T18:07:54.648Z"
   },
   {
    "duration": 15,
    "start_time": "2024-07-19T18:07:54.780Z"
   },
   {
    "duration": 41,
    "start_time": "2024-07-19T18:07:54.929Z"
   },
   {
    "duration": 12,
    "start_time": "2024-07-19T18:07:55.356Z"
   },
   {
    "duration": 38,
    "start_time": "2024-07-19T18:07:55.516Z"
   },
   {
    "duration": 10,
    "start_time": "2024-07-19T18:07:55.677Z"
   },
   {
    "duration": 14,
    "start_time": "2024-07-19T18:07:55.837Z"
   },
   {
    "duration": 34,
    "start_time": "2024-07-19T18:07:56.003Z"
   },
   {
    "duration": 15,
    "start_time": "2024-07-19T18:07:56.740Z"
   },
   {
    "duration": 55,
    "start_time": "2024-07-19T18:07:58.020Z"
   },
   {
    "duration": 5,
    "start_time": "2024-07-19T18:07:58.203Z"
   },
   {
    "duration": 307,
    "start_time": "2024-07-19T18:07:58.364Z"
   },
   {
    "duration": 54,
    "start_time": "2024-07-19T18:07:58.674Z"
   },
   {
    "duration": 37,
    "start_time": "2024-07-19T18:07:58.731Z"
   },
   {
    "duration": 45,
    "start_time": "2024-07-19T18:07:59.538Z"
   },
   {
    "duration": 5184,
    "start_time": "2024-07-19T18:07:59.872Z"
   },
   {
    "duration": 17,
    "start_time": "2024-07-19T18:08:05.060Z"
   },
   {
    "duration": 64,
    "start_time": "2024-07-19T18:08:05.081Z"
   },
   {
    "duration": 64,
    "start_time": "2024-07-19T18:08:05.149Z"
   },
   {
    "duration": 44,
    "start_time": "2024-07-19T18:08:05.216Z"
   },
   {
    "duration": 67,
    "start_time": "2024-07-19T18:08:05.263Z"
   },
   {
    "duration": 64,
    "start_time": "2024-07-19T18:08:05.333Z"
   },
   {
    "duration": 169,
    "start_time": "2024-07-19T18:08:08.541Z"
   },
   {
    "duration": 3,
    "start_time": "2024-07-19T18:08:12.373Z"
   },
   {
    "duration": 49,
    "start_time": "2024-07-19T18:08:14.193Z"
   },
   {
    "duration": 380,
    "start_time": "2024-07-19T18:08:16.074Z"
   },
   {
    "duration": 1657,
    "start_time": "2024-07-19T18:08:18.749Z"
   },
   {
    "duration": 1607,
    "start_time": "2024-07-19T18:09:20.600Z"
   },
   {
    "duration": 347,
    "start_time": "2024-07-19T18:09:33.936Z"
   },
   {
    "duration": 1440,
    "start_time": "2024-07-19T18:10:10.153Z"
   },
   {
    "duration": 822,
    "start_time": "2024-07-19T18:10:11.596Z"
   },
   {
    "duration": 150,
    "start_time": "2024-07-19T18:10:12.421Z"
   },
   {
    "duration": 6,
    "start_time": "2024-07-19T18:10:12.575Z"
   },
   {
    "duration": 56,
    "start_time": "2024-07-19T18:10:12.584Z"
   },
   {
    "duration": 430,
    "start_time": "2024-07-19T18:10:12.643Z"
   },
   {
    "duration": 925,
    "start_time": "2024-07-19T18:10:13.076Z"
   },
   {
    "duration": 44,
    "start_time": "2024-07-19T18:10:14.004Z"
   },
   {
    "duration": 13,
    "start_time": "2024-07-19T18:10:14.052Z"
   },
   {
    "duration": 106,
    "start_time": "2024-07-19T18:10:14.074Z"
   },
   {
    "duration": 88,
    "start_time": "2024-07-19T18:10:14.183Z"
   },
   {
    "duration": 48,
    "start_time": "2024-07-19T18:10:14.274Z"
   },
   {
    "duration": 70,
    "start_time": "2024-07-19T18:10:14.324Z"
   },
   {
    "duration": 6,
    "start_time": "2024-07-19T18:10:14.413Z"
   },
   {
    "duration": 15,
    "start_time": "2024-07-19T18:10:14.423Z"
   },
   {
    "duration": 16,
    "start_time": "2024-07-19T18:10:14.442Z"
   },
   {
    "duration": 90,
    "start_time": "2024-07-19T18:10:14.461Z"
   },
   {
    "duration": 12,
    "start_time": "2024-07-19T18:10:14.556Z"
   },
   {
    "duration": 61,
    "start_time": "2024-07-19T18:10:14.571Z"
   },
   {
    "duration": 10,
    "start_time": "2024-07-19T18:10:14.635Z"
   },
   {
    "duration": 15,
    "start_time": "2024-07-19T18:10:14.651Z"
   },
   {
    "duration": 32,
    "start_time": "2024-07-19T18:10:14.930Z"
   },
   {
    "duration": 14,
    "start_time": "2024-07-19T18:10:15.235Z"
   },
   {
    "duration": 54,
    "start_time": "2024-07-19T18:10:15.757Z"
   },
   {
    "duration": 5,
    "start_time": "2024-07-19T18:10:15.994Z"
   },
   {
    "duration": 309,
    "start_time": "2024-07-19T18:10:16.189Z"
   },
   {
    "duration": 48,
    "start_time": "2024-07-19T18:10:16.501Z"
   },
   {
    "duration": 61,
    "start_time": "2024-07-19T18:10:16.551Z"
   },
   {
    "duration": 45,
    "start_time": "2024-07-19T18:10:17.553Z"
   },
   {
    "duration": 5335,
    "start_time": "2024-07-19T18:10:18.285Z"
   },
   {
    "duration": 19,
    "start_time": "2024-07-19T18:10:23.625Z"
   },
   {
    "duration": 67,
    "start_time": "2024-07-19T18:10:23.646Z"
   },
   {
    "duration": 47,
    "start_time": "2024-07-19T18:10:23.720Z"
   },
   {
    "duration": 70,
    "start_time": "2024-07-19T18:10:23.770Z"
   },
   {
    "duration": 44,
    "start_time": "2024-07-19T18:10:23.843Z"
   },
   {
    "duration": 79,
    "start_time": "2024-07-19T18:10:23.890Z"
   },
   {
    "duration": 195,
    "start_time": "2024-07-19T18:10:23.972Z"
   },
   {
    "duration": 5,
    "start_time": "2024-07-19T18:10:24.169Z"
   },
   {
    "duration": 49,
    "start_time": "2024-07-19T18:10:26.977Z"
   },
   {
    "duration": 374,
    "start_time": "2024-07-19T18:10:29.707Z"
   },
   {
    "duration": 747,
    "start_time": "2024-07-19T18:10:35.730Z"
   },
   {
    "duration": 1531,
    "start_time": "2024-07-19T18:12:11.403Z"
   },
   {
    "duration": 870,
    "start_time": "2024-07-19T18:12:12.937Z"
   },
   {
    "duration": 157,
    "start_time": "2024-07-19T18:12:13.809Z"
   },
   {
    "duration": 7,
    "start_time": "2024-07-19T18:12:13.970Z"
   },
   {
    "duration": 66,
    "start_time": "2024-07-19T18:12:13.980Z"
   },
   {
    "duration": 435,
    "start_time": "2024-07-19T18:12:14.050Z"
   },
   {
    "duration": 938,
    "start_time": "2024-07-19T18:12:14.488Z"
   },
   {
    "duration": 44,
    "start_time": "2024-07-19T18:12:15.429Z"
   },
   {
    "duration": 36,
    "start_time": "2024-07-19T18:12:15.478Z"
   },
   {
    "duration": 97,
    "start_time": "2024-07-19T18:12:15.519Z"
   },
   {
    "duration": 73,
    "start_time": "2024-07-19T18:12:15.619Z"
   },
   {
    "duration": 36,
    "start_time": "2024-07-19T18:12:15.712Z"
   },
   {
    "duration": 94,
    "start_time": "2024-07-19T18:12:15.751Z"
   },
   {
    "duration": 7,
    "start_time": "2024-07-19T18:12:15.848Z"
   },
   {
    "duration": 15,
    "start_time": "2024-07-19T18:12:15.859Z"
   },
   {
    "duration": 14,
    "start_time": "2024-07-19T18:12:15.912Z"
   },
   {
    "duration": 40,
    "start_time": "2024-07-19T18:12:15.929Z"
   },
   {
    "duration": 44,
    "start_time": "2024-07-19T18:12:15.973Z"
   },
   {
    "duration": 39,
    "start_time": "2024-07-19T18:12:16.020Z"
   },
   {
    "duration": 11,
    "start_time": "2024-07-19T18:12:16.063Z"
   },
   {
    "duration": 12,
    "start_time": "2024-07-19T18:12:16.113Z"
   },
   {
    "duration": 33,
    "start_time": "2024-07-19T18:12:16.128Z"
   },
   {
    "duration": 13,
    "start_time": "2024-07-19T18:12:16.164Z"
   },
   {
    "duration": 56,
    "start_time": "2024-07-19T18:12:16.639Z"
   },
   {
    "duration": 5,
    "start_time": "2024-07-19T18:12:16.809Z"
   },
   {
    "duration": 304,
    "start_time": "2024-07-19T18:12:16.990Z"
   },
   {
    "duration": 50,
    "start_time": "2024-07-19T18:12:17.298Z"
   },
   {
    "duration": 37,
    "start_time": "2024-07-19T18:12:17.351Z"
   },
   {
    "duration": 48,
    "start_time": "2024-07-19T18:12:17.575Z"
   },
   {
    "duration": 5232,
    "start_time": "2024-07-19T18:12:17.819Z"
   },
   {
    "duration": 18,
    "start_time": "2024-07-19T18:12:23.055Z"
   },
   {
    "duration": 76,
    "start_time": "2024-07-19T18:12:23.076Z"
   },
   {
    "duration": 60,
    "start_time": "2024-07-19T18:12:23.156Z"
   },
   {
    "duration": 47,
    "start_time": "2024-07-19T18:12:23.220Z"
   },
   {
    "duration": 72,
    "start_time": "2024-07-19T18:12:23.270Z"
   },
   {
    "duration": 73,
    "start_time": "2024-07-19T18:12:23.344Z"
   },
   {
    "duration": 195,
    "start_time": "2024-07-19T18:12:23.420Z"
   },
   {
    "duration": 8,
    "start_time": "2024-07-19T18:12:23.620Z"
   },
   {
    "duration": 51,
    "start_time": "2024-07-19T18:12:33.282Z"
   },
   {
    "duration": 387,
    "start_time": "2024-07-19T18:12:36.297Z"
   },
   {
    "duration": 796,
    "start_time": "2024-07-19T18:12:44.668Z"
   },
   {
    "duration": 6,
    "start_time": "2024-07-19T18:13:40.365Z"
   },
   {
    "duration": 46,
    "start_time": "2024-07-19T18:14:07.366Z"
   },
   {
    "duration": 378,
    "start_time": "2024-07-19T18:14:17.221Z"
   },
   {
    "duration": 6,
    "start_time": "2024-07-19T18:14:31.295Z"
   },
   {
    "duration": 8,
    "start_time": "2024-07-19T18:14:45.029Z"
   },
   {
    "duration": 1419,
    "start_time": "2024-07-19T18:17:26.775Z"
   },
   {
    "duration": 861,
    "start_time": "2024-07-19T18:17:28.341Z"
   },
   {
    "duration": 150,
    "start_time": "2024-07-19T18:17:29.205Z"
   },
   {
    "duration": 6,
    "start_time": "2024-07-19T18:17:29.359Z"
   },
   {
    "duration": 71,
    "start_time": "2024-07-19T18:17:29.371Z"
   },
   {
    "duration": 454,
    "start_time": "2024-07-19T18:17:29.446Z"
   },
   {
    "duration": 963,
    "start_time": "2024-07-19T18:17:29.904Z"
   },
   {
    "duration": 49,
    "start_time": "2024-07-19T18:17:30.871Z"
   },
   {
    "duration": 21,
    "start_time": "2024-07-19T18:17:30.923Z"
   },
   {
    "duration": 109,
    "start_time": "2024-07-19T18:17:30.948Z"
   },
   {
    "duration": 87,
    "start_time": "2024-07-19T18:17:31.060Z"
   },
   {
    "duration": 36,
    "start_time": "2024-07-19T18:17:31.152Z"
   },
   {
    "duration": 95,
    "start_time": "2024-07-19T18:17:31.190Z"
   },
   {
    "duration": 6,
    "start_time": "2024-07-19T18:17:31.288Z"
   },
   {
    "duration": 26,
    "start_time": "2024-07-19T18:17:31.298Z"
   },
   {
    "duration": 14,
    "start_time": "2024-07-19T18:17:31.327Z"
   },
   {
    "duration": 41,
    "start_time": "2024-07-19T18:17:31.421Z"
   },
   {
    "duration": 12,
    "start_time": "2024-07-19T18:17:31.839Z"
   },
   {
    "duration": 46,
    "start_time": "2024-07-19T18:17:31.996Z"
   },
   {
    "duration": 10,
    "start_time": "2024-07-19T18:17:32.119Z"
   },
   {
    "duration": 13,
    "start_time": "2024-07-19T18:17:32.293Z"
   },
   {
    "duration": 36,
    "start_time": "2024-07-19T18:17:32.430Z"
   },
   {
    "duration": 13,
    "start_time": "2024-07-19T18:17:32.694Z"
   },
   {
    "duration": 56,
    "start_time": "2024-07-19T18:17:33.279Z"
   },
   {
    "duration": 6,
    "start_time": "2024-07-19T18:17:33.437Z"
   },
   {
    "duration": 327,
    "start_time": "2024-07-19T18:17:33.575Z"
   },
   {
    "duration": 45,
    "start_time": "2024-07-19T18:17:33.914Z"
   },
   {
    "duration": 57,
    "start_time": "2024-07-19T18:17:33.962Z"
   },
   {
    "duration": 46,
    "start_time": "2024-07-19T18:17:34.133Z"
   },
   {
    "duration": 5020,
    "start_time": "2024-07-19T18:17:34.420Z"
   },
   {
    "duration": 18,
    "start_time": "2024-07-19T18:17:39.444Z"
   },
   {
    "duration": 62,
    "start_time": "2024-07-19T18:17:39.465Z"
   },
   {
    "duration": 45,
    "start_time": "2024-07-19T18:17:39.531Z"
   },
   {
    "duration": 67,
    "start_time": "2024-07-19T18:17:39.579Z"
   },
   {
    "duration": 66,
    "start_time": "2024-07-19T18:17:39.649Z"
   },
   {
    "duration": 62,
    "start_time": "2024-07-19T18:17:39.718Z"
   },
   {
    "duration": 186,
    "start_time": "2024-07-19T18:17:39.782Z"
   },
   {
    "duration": 7,
    "start_time": "2024-07-19T18:17:39.971Z"
   },
   {
    "duration": 4,
    "start_time": "2024-07-19T18:17:46.484Z"
   },
   {
    "duration": 46,
    "start_time": "2024-07-19T18:17:50.870Z"
   },
   {
    "duration": 370,
    "start_time": "2024-07-19T18:17:53.510Z"
   },
   {
    "duration": 8,
    "start_time": "2024-07-19T18:17:55.052Z"
   },
   {
    "duration": 610,
    "start_time": "2024-07-19T18:18:00.291Z"
   },
   {
    "duration": 23,
    "start_time": "2024-07-19T18:19:50.887Z"
   },
   {
    "duration": 25,
    "start_time": "2024-07-19T18:20:08.313Z"
   },
   {
    "duration": 42,
    "start_time": "2024-07-19T18:20:39.528Z"
   },
   {
    "duration": 458,
    "start_time": "2024-07-19T18:23:28.234Z"
   },
   {
    "duration": 72,
    "start_time": "2024-07-19T18:23:44.506Z"
   },
   {
    "duration": 62,
    "start_time": "2024-07-19T18:24:04.605Z"
   },
   {
    "duration": 61,
    "start_time": "2024-07-19T18:24:11.038Z"
   },
   {
    "duration": 59,
    "start_time": "2024-07-19T18:24:29.497Z"
   },
   {
    "duration": 31,
    "start_time": "2024-07-19T18:25:20.185Z"
   },
   {
    "duration": 127,
    "start_time": "2024-07-19T18:25:49.235Z"
   },
   {
    "duration": 1543,
    "start_time": "2024-07-19T18:26:20.653Z"
   },
   {
    "duration": 5,
    "start_time": "2024-07-19T18:27:08.995Z"
   },
   {
    "duration": 46,
    "start_time": "2024-07-19T18:27:31.626Z"
   },
   {
    "duration": 354,
    "start_time": "2024-07-19T18:27:34.036Z"
   },
   {
    "duration": 10,
    "start_time": "2024-07-19T18:27:35.498Z"
   },
   {
    "duration": 74,
    "start_time": "2024-07-19T18:27:36.304Z"
   },
   {
    "duration": 969,
    "start_time": "2024-07-19T18:27:39.594Z"
   },
   {
    "duration": 352,
    "start_time": "2024-07-19T18:27:44.926Z"
   },
   {
    "duration": 40,
    "start_time": "2024-07-19T18:29:02.425Z"
   },
   {
    "duration": 1422,
    "start_time": "2024-07-19T18:29:17.961Z"
   },
   {
    "duration": 817,
    "start_time": "2024-07-19T18:29:19.387Z"
   },
   {
    "duration": 157,
    "start_time": "2024-07-19T18:29:20.212Z"
   },
   {
    "duration": 6,
    "start_time": "2024-07-19T18:29:20.374Z"
   },
   {
    "duration": 63,
    "start_time": "2024-07-19T18:29:20.384Z"
   },
   {
    "duration": 454,
    "start_time": "2024-07-19T18:29:20.450Z"
   },
   {
    "duration": 947,
    "start_time": "2024-07-19T18:29:20.913Z"
   },
   {
    "duration": 50,
    "start_time": "2024-07-19T18:29:21.863Z"
   },
   {
    "duration": 20,
    "start_time": "2024-07-19T18:29:21.917Z"
   },
   {
    "duration": 102,
    "start_time": "2024-07-19T18:29:21.945Z"
   },
   {
    "duration": 94,
    "start_time": "2024-07-19T18:29:22.050Z"
   },
   {
    "duration": 38,
    "start_time": "2024-07-19T18:29:22.147Z"
   },
   {
    "duration": 87,
    "start_time": "2024-07-19T18:29:22.188Z"
   },
   {
    "duration": 6,
    "start_time": "2024-07-19T18:29:22.279Z"
   },
   {
    "duration": 30,
    "start_time": "2024-07-19T18:29:22.289Z"
   },
   {
    "duration": 15,
    "start_time": "2024-07-19T18:29:22.322Z"
   },
   {
    "duration": 77,
    "start_time": "2024-07-19T18:29:22.341Z"
   },
   {
    "duration": 13,
    "start_time": "2024-07-19T18:29:22.423Z"
   },
   {
    "duration": 49,
    "start_time": "2024-07-19T18:29:22.439Z"
   },
   {
    "duration": 11,
    "start_time": "2024-07-19T18:29:22.515Z"
   },
   {
    "duration": 18,
    "start_time": "2024-07-19T18:29:22.661Z"
   },
   {
    "duration": 35,
    "start_time": "2024-07-19T18:29:22.779Z"
   },
   {
    "duration": 15,
    "start_time": "2024-07-19T18:29:23.069Z"
   },
   {
    "duration": 70,
    "start_time": "2024-07-19T18:29:23.529Z"
   },
   {
    "duration": 6,
    "start_time": "2024-07-19T18:29:23.685Z"
   },
   {
    "duration": 341,
    "start_time": "2024-07-19T18:29:23.855Z"
   },
   {
    "duration": 51,
    "start_time": "2024-07-19T18:29:24.200Z"
   },
   {
    "duration": 61,
    "start_time": "2024-07-19T18:29:24.254Z"
   },
   {
    "duration": 45,
    "start_time": "2024-07-19T18:29:24.659Z"
   },
   {
    "duration": 5262,
    "start_time": "2024-07-19T18:29:24.950Z"
   },
   {
    "duration": 25,
    "start_time": "2024-07-19T18:29:30.217Z"
   },
   {
    "duration": 66,
    "start_time": "2024-07-19T18:29:30.246Z"
   },
   {
    "duration": 45,
    "start_time": "2024-07-19T18:29:30.317Z"
   },
   {
    "duration": 70,
    "start_time": "2024-07-19T18:29:30.368Z"
   },
   {
    "duration": 75,
    "start_time": "2024-07-19T18:29:30.445Z"
   },
   {
    "duration": 88,
    "start_time": "2024-07-19T18:29:30.524Z"
   },
   {
    "duration": 190,
    "start_time": "2024-07-19T18:29:30.615Z"
   },
   {
    "duration": 6,
    "start_time": "2024-07-19T18:29:30.814Z"
   },
   {
    "duration": 3,
    "start_time": "2024-07-19T18:29:40.523Z"
   },
   {
    "duration": 48,
    "start_time": "2024-07-19T18:29:41.991Z"
   },
   {
    "duration": 365,
    "start_time": "2024-07-19T18:29:46.229Z"
   },
   {
    "duration": 9,
    "start_time": "2024-07-19T18:30:01.820Z"
   },
   {
    "duration": 77,
    "start_time": "2024-07-19T18:30:19.300Z"
   },
   {
    "duration": 979,
    "start_time": "2024-07-19T18:30:44.173Z"
   },
   {
    "duration": 4,
    "start_time": "2024-07-19T18:33:27.541Z"
   },
   {
    "duration": 825,
    "start_time": "2024-07-19T18:33:29.568Z"
   },
   {
    "duration": 5,
    "start_time": "2024-07-19T18:33:48.852Z"
   },
   {
    "duration": 141,
    "start_time": "2024-07-19T18:33:49.415Z"
   },
   {
    "duration": 13686,
    "start_time": "2024-07-19T18:34:31.047Z"
   },
   {
    "duration": 44,
    "start_time": "2024-07-19T18:35:00.826Z"
   },
   {
    "duration": 571893,
    "start_time": "2024-07-19T18:35:29.837Z"
   },
   {
    "duration": 5082,
    "start_time": "2024-07-19T18:45:01.734Z"
   },
   {
    "duration": 21522,
    "start_time": "2024-07-19T18:45:06.819Z"
   },
   {
    "duration": 0,
    "start_time": "2024-07-19T18:45:28.344Z"
   },
   {
    "duration": 1450,
    "start_time": "2024-07-19T18:52:05.129Z"
   },
   {
    "duration": 773,
    "start_time": "2024-07-19T18:52:06.582Z"
   },
   {
    "duration": 164,
    "start_time": "2024-07-19T18:52:07.358Z"
   },
   {
    "duration": 5,
    "start_time": "2024-07-19T18:52:07.526Z"
   },
   {
    "duration": 34,
    "start_time": "2024-07-19T18:52:07.536Z"
   },
   {
    "duration": 432,
    "start_time": "2024-07-19T18:52:07.573Z"
   },
   {
    "duration": 888,
    "start_time": "2024-07-19T18:52:08.012Z"
   },
   {
    "duration": 43,
    "start_time": "2024-07-19T18:52:08.903Z"
   },
   {
    "duration": 14,
    "start_time": "2024-07-19T18:52:08.949Z"
   },
   {
    "duration": 112,
    "start_time": "2024-07-19T18:52:08.968Z"
   },
   {
    "duration": 86,
    "start_time": "2024-07-19T18:52:09.082Z"
   },
   {
    "duration": 54,
    "start_time": "2024-07-19T18:52:09.171Z"
   },
   {
    "duration": 88,
    "start_time": "2024-07-19T18:52:09.227Z"
   },
   {
    "duration": 6,
    "start_time": "2024-07-19T18:52:09.317Z"
   },
   {
    "duration": 12,
    "start_time": "2024-07-19T18:52:09.326Z"
   },
   {
    "duration": 16,
    "start_time": "2024-07-19T18:52:09.341Z"
   },
   {
    "duration": 84,
    "start_time": "2024-07-19T18:52:09.362Z"
   },
   {
    "duration": 11,
    "start_time": "2024-07-19T18:52:09.452Z"
   },
   {
    "duration": 63,
    "start_time": "2024-07-19T18:52:09.466Z"
   },
   {
    "duration": 10,
    "start_time": "2024-07-19T18:52:09.532Z"
   },
   {
    "duration": 15,
    "start_time": "2024-07-19T18:52:09.544Z"
   },
   {
    "duration": 35,
    "start_time": "2024-07-19T18:52:09.626Z"
   },
   {
    "duration": 14,
    "start_time": "2024-07-19T18:52:09.908Z"
   },
   {
    "duration": 64,
    "start_time": "2024-07-19T18:52:10.336Z"
   },
   {
    "duration": 5,
    "start_time": "2024-07-19T18:52:10.497Z"
   },
   {
    "duration": 311,
    "start_time": "2024-07-19T18:52:11.533Z"
   },
   {
    "duration": 48,
    "start_time": "2024-07-19T18:52:11.849Z"
   },
   {
    "duration": 36,
    "start_time": "2024-07-19T18:52:11.927Z"
   },
   {
    "duration": 48,
    "start_time": "2024-07-19T18:52:13.440Z"
   },
   {
    "duration": 5247,
    "start_time": "2024-07-19T18:52:15.142Z"
   },
   {
    "duration": 26,
    "start_time": "2024-07-19T18:52:20.393Z"
   },
   {
    "duration": 48,
    "start_time": "2024-07-19T18:52:23.659Z"
   },
   {
    "duration": 48,
    "start_time": "2024-07-19T18:52:24.033Z"
   },
   {
    "duration": 49,
    "start_time": "2024-07-19T18:52:24.361Z"
   },
   {
    "duration": 47,
    "start_time": "2024-07-19T18:52:24.673Z"
   },
   {
    "duration": 81,
    "start_time": "2024-07-19T18:52:24.833Z"
   },
   {
    "duration": 171,
    "start_time": "2024-07-19T18:52:25.174Z"
   },
   {
    "duration": 6,
    "start_time": "2024-07-19T18:52:26.198Z"
   },
   {
    "duration": 4,
    "start_time": "2024-07-19T18:52:28.378Z"
   },
   {
    "duration": 548,
    "start_time": "2024-07-19T18:52:30.797Z"
   },
   {
    "duration": 3,
    "start_time": "2024-07-19T18:52:32.602Z"
   },
   {
    "duration": 8,
    "start_time": "2024-07-19T18:52:34.424Z"
   },
   {
    "duration": 433,
    "start_time": "2024-07-19T18:52:36.418Z"
   },
   {
    "duration": 27,
    "start_time": "2024-07-19T18:52:56.368Z"
   },
   {
    "duration": 85,
    "start_time": "2024-07-19T18:53:14.089Z"
   },
   {
    "duration": 3,
    "start_time": "2024-07-19T18:53:17.151Z"
   },
   {
    "duration": 125,
    "start_time": "2024-07-19T18:53:17.803Z"
   },
   {
    "duration": 40,
    "start_time": "2024-07-19T18:53:46.459Z"
   },
   {
    "duration": 46,
    "start_time": "2024-07-19T18:57:02.879Z"
   },
   {
    "duration": 40,
    "start_time": "2024-07-19T18:57:28.080Z"
   },
   {
    "duration": 12,
    "start_time": "2024-07-19T18:59:59.005Z"
   },
   {
    "duration": 112,
    "start_time": "2024-07-19T19:00:03.321Z"
   },
   {
    "duration": 46,
    "start_time": "2024-07-19T19:00:18.634Z"
   },
   {
    "duration": 15,
    "start_time": "2024-07-19T19:00:28.159Z"
   },
   {
    "duration": 1427,
    "start_time": "2024-07-19T19:01:11.759Z"
   },
   {
    "duration": 1031,
    "start_time": "2024-07-19T19:01:13.190Z"
   },
   {
    "duration": 236,
    "start_time": "2024-07-19T19:01:14.229Z"
   },
   {
    "duration": 6,
    "start_time": "2024-07-19T19:01:14.469Z"
   },
   {
    "duration": 60,
    "start_time": "2024-07-19T19:01:14.480Z"
   },
   {
    "duration": 441,
    "start_time": "2024-07-19T19:01:14.543Z"
   },
   {
    "duration": 950,
    "start_time": "2024-07-19T19:01:14.987Z"
   },
   {
    "duration": 40,
    "start_time": "2024-07-19T19:01:15.940Z"
   },
   {
    "duration": 35,
    "start_time": "2024-07-19T19:01:15.984Z"
   },
   {
    "duration": 120,
    "start_time": "2024-07-19T19:01:16.023Z"
   },
   {
    "duration": 112,
    "start_time": "2024-07-19T19:01:16.147Z"
   },
   {
    "duration": 52,
    "start_time": "2024-07-19T19:01:16.264Z"
   },
   {
    "duration": 75,
    "start_time": "2024-07-19T19:01:16.319Z"
   },
   {
    "duration": 6,
    "start_time": "2024-07-19T19:01:16.416Z"
   },
   {
    "duration": 14,
    "start_time": "2024-07-19T19:01:16.425Z"
   },
   {
    "duration": 17,
    "start_time": "2024-07-19T19:01:16.442Z"
   },
   {
    "duration": 81,
    "start_time": "2024-07-19T19:01:16.463Z"
   },
   {
    "duration": 13,
    "start_time": "2024-07-19T19:01:16.548Z"
   },
   {
    "duration": 70,
    "start_time": "2024-07-19T19:01:16.565Z"
   },
   {
    "duration": 13,
    "start_time": "2024-07-19T19:01:16.638Z"
   },
   {
    "duration": 15,
    "start_time": "2024-07-19T19:01:16.654Z"
   },
   {
    "duration": 64,
    "start_time": "2024-07-19T19:01:16.675Z"
   },
   {
    "duration": 14,
    "start_time": "2024-07-19T19:01:16.744Z"
   },
   {
    "duration": 69,
    "start_time": "2024-07-19T19:01:16.771Z"
   },
   {
    "duration": 7,
    "start_time": "2024-07-19T19:01:16.843Z"
   },
   {
    "duration": 359,
    "start_time": "2024-07-19T19:01:16.854Z"
   },
   {
    "duration": 43,
    "start_time": "2024-07-19T19:01:17.216Z"
   },
   {
    "duration": 65,
    "start_time": "2024-07-19T19:01:17.263Z"
   },
   {
    "duration": 62,
    "start_time": "2024-07-19T19:01:17.332Z"
   },
   {
    "duration": 5978,
    "start_time": "2024-07-19T19:01:17.398Z"
   },
   {
    "duration": 33,
    "start_time": "2024-07-19T19:01:23.380Z"
   },
   {
    "duration": 62,
    "start_time": "2024-07-19T19:01:23.416Z"
   },
   {
    "duration": 69,
    "start_time": "2024-07-19T19:01:23.481Z"
   },
   {
    "duration": 67,
    "start_time": "2024-07-19T19:01:23.554Z"
   },
   {
    "duration": 62,
    "start_time": "2024-07-19T19:01:23.624Z"
   },
   {
    "duration": 107,
    "start_time": "2024-07-19T19:01:23.689Z"
   },
   {
    "duration": 194,
    "start_time": "2024-07-19T19:01:23.799Z"
   },
   {
    "duration": 16,
    "start_time": "2024-07-19T19:01:23.997Z"
   },
   {
    "duration": 5,
    "start_time": "2024-07-19T19:01:24.018Z"
   },
   {
    "duration": 528,
    "start_time": "2024-07-19T19:01:24.027Z"
   },
   {
    "duration": 4,
    "start_time": "2024-07-19T19:01:24.566Z"
   },
   {
    "duration": 9,
    "start_time": "2024-07-19T19:01:24.573Z"
   },
   {
    "duration": 53,
    "start_time": "2024-07-19T19:01:24.586Z"
   },
   {
    "duration": 109,
    "start_time": "2024-07-19T19:01:24.642Z"
   },
   {
    "duration": 4,
    "start_time": "2024-07-19T19:01:24.756Z"
   },
   {
    "duration": 136,
    "start_time": "2024-07-19T19:01:24.763Z"
   },
   {
    "duration": 17,
    "start_time": "2024-07-19T19:01:24.902Z"
   },
   {
    "duration": 102,
    "start_time": "2024-07-19T19:01:24.924Z"
   },
   {
    "duration": 196,
    "start_time": "2024-07-19T19:01:25.029Z"
   },
   {
    "duration": 13,
    "start_time": "2024-07-19T19:01:25.228Z"
   },
   {
    "duration": 69836,
    "start_time": "2024-07-19T19:01:25.244Z"
   },
   {
    "duration": 807,
    "start_time": "2024-07-19T19:02:35.083Z"
   },
   {
    "duration": 62019,
    "start_time": "2024-07-19T19:02:35.893Z"
   },
   {
    "duration": 2430,
    "start_time": "2024-07-19T19:03:37.914Z"
   },
   {
    "duration": 19194,
    "start_time": "2024-07-19T19:03:40.347Z"
   },
   {
    "duration": 0,
    "start_time": "2024-07-19T19:03:59.545Z"
   },
   {
    "duration": 0,
    "start_time": "2024-07-19T19:03:59.548Z"
   },
   {
    "duration": 0,
    "start_time": "2024-07-19T19:03:59.550Z"
   },
   {
    "duration": 0,
    "start_time": "2024-07-19T19:03:59.553Z"
   },
   {
    "duration": 1,
    "start_time": "2024-07-19T19:03:59.555Z"
   },
   {
    "duration": 6,
    "start_time": "2024-07-19T19:04:28.183Z"
   },
   {
    "duration": 711,
    "start_time": "2024-07-19T19:04:29.934Z"
   },
   {
    "duration": 157,
    "start_time": "2024-07-19T19:04:30.932Z"
   },
   {
    "duration": 5,
    "start_time": "2024-07-19T19:04:32.418Z"
   },
   {
    "duration": 33,
    "start_time": "2024-07-19T19:04:33.258Z"
   },
   {
    "duration": 389,
    "start_time": "2024-07-19T19:04:34.926Z"
   },
   {
    "duration": 794,
    "start_time": "2024-07-19T19:04:35.431Z"
   },
   {
    "duration": 45,
    "start_time": "2024-07-19T19:04:37.622Z"
   },
   {
    "duration": 15,
    "start_time": "2024-07-19T19:04:37.951Z"
   },
   {
    "duration": 95,
    "start_time": "2024-07-19T19:04:39.026Z"
   },
   {
    "duration": 77,
    "start_time": "2024-07-19T19:04:40.621Z"
   },
   {
    "duration": 34,
    "start_time": "2024-07-19T19:04:42.244Z"
   },
   {
    "duration": 73,
    "start_time": "2024-07-19T19:04:43.035Z"
   },
   {
    "duration": 5,
    "start_time": "2024-07-19T19:04:43.844Z"
   },
   {
    "duration": 13,
    "start_time": "2024-07-19T19:04:45.385Z"
   },
   {
    "duration": 14,
    "start_time": "2024-07-19T19:04:45.605Z"
   },
   {
    "duration": 48,
    "start_time": "2024-07-19T19:04:45.984Z"
   },
   {
    "duration": 11,
    "start_time": "2024-07-19T19:04:46.655Z"
   },
   {
    "duration": 37,
    "start_time": "2024-07-19T19:04:47.293Z"
   },
   {
    "duration": 11,
    "start_time": "2024-07-19T19:04:48.037Z"
   },
   {
    "duration": 15,
    "start_time": "2024-07-19T19:04:48.723Z"
   },
   {
    "duration": 39,
    "start_time": "2024-07-19T19:04:49.272Z"
   },
   {
    "duration": 15,
    "start_time": "2024-07-19T19:04:51.126Z"
   },
   {
    "duration": 59,
    "start_time": "2024-07-19T19:04:53.636Z"
   },
   {
    "duration": 6,
    "start_time": "2024-07-19T19:04:54.134Z"
   },
   {
    "duration": 323,
    "start_time": "2024-07-19T19:04:54.605Z"
   },
   {
    "duration": 44,
    "start_time": "2024-07-19T19:04:55.364Z"
   },
   {
    "duration": 39,
    "start_time": "2024-07-19T19:04:56.333Z"
   },
   {
    "duration": 46,
    "start_time": "2024-07-19T19:04:56.813Z"
   },
   {
    "duration": 5270,
    "start_time": "2024-07-19T19:04:58.167Z"
   },
   {
    "duration": 18,
    "start_time": "2024-07-19T19:05:03.442Z"
   },
   {
    "duration": 73,
    "start_time": "2024-07-19T19:05:03.464Z"
   },
   {
    "duration": 45,
    "start_time": "2024-07-19T19:05:03.544Z"
   },
   {
    "duration": 45,
    "start_time": "2024-07-19T19:05:04.726Z"
   },
   {
    "duration": 47,
    "start_time": "2024-07-19T19:05:07.868Z"
   },
   {
    "duration": 72,
    "start_time": "2024-07-19T19:05:08.613Z"
   },
   {
    "duration": 188,
    "start_time": "2024-07-19T19:05:13.359Z"
   },
   {
    "duration": 5,
    "start_time": "2024-07-19T19:05:16.710Z"
   },
   {
    "duration": 3,
    "start_time": "2024-07-19T19:05:18.088Z"
   },
   {
    "duration": 497,
    "start_time": "2024-07-19T19:05:19.673Z"
   },
   {
    "duration": 3,
    "start_time": "2024-07-19T19:05:22.989Z"
   },
   {
    "duration": 9,
    "start_time": "2024-07-19T19:05:23.721Z"
   },
   {
    "duration": 26,
    "start_time": "2024-07-19T19:05:24.749Z"
   },
   {
    "duration": 67,
    "start_time": "2024-07-19T19:05:26.498Z"
   },
   {
    "duration": 3,
    "start_time": "2024-07-19T19:05:28.861Z"
   },
   {
    "duration": 118,
    "start_time": "2024-07-19T19:05:29.766Z"
   },
   {
    "duration": 44,
    "start_time": "2024-07-19T19:06:20.877Z"
   },
   {
    "duration": 5,
    "start_time": "2024-07-19T19:06:24.582Z"
   },
   {
    "duration": 4,
    "start_time": "2024-07-19T19:06:25.924Z"
   },
   {
    "duration": 602,
    "start_time": "2024-07-19T19:06:29.633Z"
   },
   {
    "duration": 4,
    "start_time": "2024-07-19T19:06:36.298Z"
   },
   {
    "duration": 8,
    "start_time": "2024-07-19T19:06:37.698Z"
   },
   {
    "duration": 28,
    "start_time": "2024-07-19T19:06:40.599Z"
   },
   {
    "duration": 72,
    "start_time": "2024-07-19T19:06:49.455Z"
   },
   {
    "duration": 4,
    "start_time": "2024-07-19T19:06:51.815Z"
   },
   {
    "duration": 118,
    "start_time": "2024-07-19T19:06:52.409Z"
   },
   {
    "duration": 12,
    "start_time": "2024-07-19T19:06:53.380Z"
   },
   {
    "duration": 68,
    "start_time": "2024-07-19T19:06:54.650Z"
   },
   {
    "duration": 100,
    "start_time": "2024-07-19T19:07:01.813Z"
   },
   {
    "duration": 8,
    "start_time": "2024-07-19T19:07:02.765Z"
   },
   {
    "duration": 7,
    "start_time": "2024-07-19T19:08:31.193Z"
   },
   {
    "duration": 86,
    "start_time": "2024-07-19T19:08:41.868Z"
   },
   {
    "duration": 740,
    "start_time": "2024-07-19T19:09:43.544Z"
   },
   {
    "duration": 3,
    "start_time": "2024-07-19T19:09:49.571Z"
   },
   {
    "duration": 4,
    "start_time": "2024-07-19T19:09:59.989Z"
   },
   {
    "duration": 76,
    "start_time": "2024-07-19T19:10:34.939Z"
   },
   {
    "duration": 3,
    "start_time": "2024-07-19T19:10:38.890Z"
   },
   {
    "duration": 45,
    "start_time": "2024-07-19T19:10:39.606Z"
   },
   {
    "duration": 12,
    "start_time": "2024-07-19T19:10:51.048Z"
   },
   {
    "duration": 60,
    "start_time": "2024-07-19T19:10:57.395Z"
   },
   {
    "duration": 70,
    "start_time": "2024-07-19T19:11:04.743Z"
   },
   {
    "duration": 9,
    "start_time": "2024-07-19T19:11:05.894Z"
   },
   {
    "duration": 342,
    "start_time": "2024-07-19T19:12:54.727Z"
   },
   {
    "duration": 36,
    "start_time": "2024-07-19T19:14:59.413Z"
   },
   {
    "duration": 26,
    "start_time": "2024-07-19T19:19:24.265Z"
   },
   {
    "duration": 4,
    "start_time": "2024-07-19T19:19:28.563Z"
   },
   {
    "duration": 63,
    "start_time": "2024-07-19T19:19:29.698Z"
   },
   {
    "duration": 48,
    "start_time": "2024-07-19T19:19:37.043Z"
   },
   {
    "duration": 383,
    "start_time": "2024-07-19T19:19:46.955Z"
   },
   {
    "duration": 9,
    "start_time": "2024-07-19T19:19:55.795Z"
   },
   {
    "duration": 66,
    "start_time": "2024-07-19T19:20:29.885Z"
   },
   {
    "duration": 22,
    "start_time": "2024-07-19T19:20:49.012Z"
   },
   {
    "duration": 1121,
    "start_time": "2024-07-19T19:21:25.493Z"
   },
   {
    "duration": 4,
    "start_time": "2024-07-19T19:21:32.907Z"
   },
   {
    "duration": 141,
    "start_time": "2024-07-19T19:21:37.795Z"
   },
   {
    "duration": 12,
    "start_time": "2024-07-19T19:21:50.429Z"
   },
   {
    "duration": 1411,
    "start_time": "2024-07-19T19:22:18.185Z"
   },
   {
    "duration": 862,
    "start_time": "2024-07-19T19:22:19.602Z"
   },
   {
    "duration": 155,
    "start_time": "2024-07-19T19:22:20.467Z"
   },
   {
    "duration": 6,
    "start_time": "2024-07-19T19:22:20.624Z"
   },
   {
    "duration": 33,
    "start_time": "2024-07-19T19:22:20.636Z"
   },
   {
    "duration": 596,
    "start_time": "2024-07-19T19:22:20.672Z"
   },
   {
    "duration": 922,
    "start_time": "2024-07-19T19:22:21.271Z"
   },
   {
    "duration": 47,
    "start_time": "2024-07-19T19:22:22.197Z"
   },
   {
    "duration": 14,
    "start_time": "2024-07-19T19:22:22.248Z"
   },
   {
    "duration": 125,
    "start_time": "2024-07-19T19:22:22.265Z"
   },
   {
    "duration": 81,
    "start_time": "2024-07-19T19:22:22.394Z"
   },
   {
    "duration": 53,
    "start_time": "2024-07-19T19:22:22.480Z"
   },
   {
    "duration": 88,
    "start_time": "2024-07-19T19:22:22.536Z"
   },
   {
    "duration": 5,
    "start_time": "2024-07-19T19:22:22.631Z"
   },
   {
    "duration": 13,
    "start_time": "2024-07-19T19:22:22.639Z"
   },
   {
    "duration": 14,
    "start_time": "2024-07-19T19:22:22.655Z"
   },
   {
    "duration": 46,
    "start_time": "2024-07-19T19:22:22.712Z"
   },
   {
    "duration": 13,
    "start_time": "2024-07-19T19:22:22.761Z"
   },
   {
    "duration": 68,
    "start_time": "2024-07-19T19:22:22.777Z"
   },
   {
    "duration": 11,
    "start_time": "2024-07-19T19:22:22.848Z"
   },
   {
    "duration": 16,
    "start_time": "2024-07-19T19:22:22.861Z"
   },
   {
    "duration": 66,
    "start_time": "2024-07-19T19:22:22.880Z"
   },
   {
    "duration": 14,
    "start_time": "2024-07-19T19:22:22.949Z"
   },
   {
    "duration": 98,
    "start_time": "2024-07-19T19:22:22.966Z"
   },
   {
    "duration": 7,
    "start_time": "2024-07-19T19:22:23.068Z"
   },
   {
    "duration": 355,
    "start_time": "2024-07-19T19:22:23.078Z"
   },
   {
    "duration": 41,
    "start_time": "2024-07-19T19:22:23.436Z"
   },
   {
    "duration": 59,
    "start_time": "2024-07-19T19:22:23.480Z"
   },
   {
    "duration": 46,
    "start_time": "2024-07-19T19:22:23.542Z"
   },
   {
    "duration": 5225,
    "start_time": "2024-07-19T19:22:23.590Z"
   },
   {
    "duration": 19,
    "start_time": "2024-07-19T19:22:28.819Z"
   },
   {
    "duration": 71,
    "start_time": "2024-07-19T19:22:28.841Z"
   },
   {
    "duration": 45,
    "start_time": "2024-07-19T19:22:28.916Z"
   },
   {
    "duration": 63,
    "start_time": "2024-07-19T19:22:28.964Z"
   },
   {
    "duration": 45,
    "start_time": "2024-07-19T19:22:29.030Z"
   },
   {
    "duration": 92,
    "start_time": "2024-07-19T19:22:29.078Z"
   },
   {
    "duration": 230,
    "start_time": "2024-07-19T19:22:29.172Z"
   },
   {
    "duration": 11,
    "start_time": "2024-07-19T19:22:29.405Z"
   },
   {
    "duration": 4,
    "start_time": "2024-07-19T19:22:29.419Z"
   },
   {
    "duration": 47,
    "start_time": "2024-07-19T19:22:29.426Z"
   },
   {
    "duration": 403,
    "start_time": "2024-07-19T19:22:29.511Z"
   },
   {
    "duration": 9,
    "start_time": "2024-07-19T19:22:29.917Z"
   },
   {
    "duration": 84,
    "start_time": "2024-07-19T19:22:29.930Z"
   },
   {
    "duration": 22,
    "start_time": "2024-07-19T19:22:30.017Z"
   },
   {
    "duration": 1101,
    "start_time": "2024-07-19T19:22:30.042Z"
   },
   {
    "duration": 4,
    "start_time": "2024-07-19T19:22:31.146Z"
   },
   {
    "duration": 159,
    "start_time": "2024-07-19T19:22:31.154Z"
   },
   {
    "duration": 16208,
    "start_time": "2024-07-19T19:22:31.316Z"
   },
   {
    "duration": 188,
    "start_time": "2024-07-19T19:22:47.527Z"
   },
   {
    "duration": 447364,
    "start_time": "2024-07-19T19:22:47.719Z"
   },
   {
    "duration": 0,
    "start_time": "2024-07-19T19:30:15.086Z"
   },
   {
    "duration": 0,
    "start_time": "2024-07-19T19:30:15.089Z"
   },
   {
    "duration": 0,
    "start_time": "2024-07-19T19:30:15.091Z"
   },
   {
    "duration": 0,
    "start_time": "2024-07-19T19:30:15.094Z"
   },
   {
    "duration": 0,
    "start_time": "2024-07-19T19:30:15.114Z"
   },
   {
    "duration": 0,
    "start_time": "2024-07-19T19:30:15.116Z"
   },
   {
    "duration": 0,
    "start_time": "2024-07-19T19:30:15.117Z"
   },
   {
    "duration": 0,
    "start_time": "2024-07-19T19:30:15.120Z"
   },
   {
    "duration": 0,
    "start_time": "2024-07-19T19:30:15.122Z"
   },
   {
    "duration": 0,
    "start_time": "2024-07-19T19:30:15.124Z"
   },
   {
    "duration": 1378,
    "start_time": "2024-07-19T19:32:59.092Z"
   },
   {
    "duration": 797,
    "start_time": "2024-07-19T19:33:00.474Z"
   },
   {
    "duration": 161,
    "start_time": "2024-07-19T19:33:01.276Z"
   },
   {
    "duration": 6,
    "start_time": "2024-07-19T19:33:01.442Z"
   },
   {
    "duration": 34,
    "start_time": "2024-07-19T19:33:01.452Z"
   },
   {
    "duration": 440,
    "start_time": "2024-07-19T19:33:01.516Z"
   },
   {
    "duration": 922,
    "start_time": "2024-07-19T19:33:01.959Z"
   },
   {
    "duration": 50,
    "start_time": "2024-07-19T19:33:02.886Z"
   },
   {
    "duration": 15,
    "start_time": "2024-07-19T19:33:02.939Z"
   },
   {
    "duration": 131,
    "start_time": "2024-07-19T19:33:02.958Z"
   },
   {
    "duration": 92,
    "start_time": "2024-07-19T19:33:03.092Z"
   },
   {
    "duration": 63,
    "start_time": "2024-07-19T19:33:03.186Z"
   },
   {
    "duration": 106,
    "start_time": "2024-07-19T19:33:03.253Z"
   },
   {
    "duration": 7,
    "start_time": "2024-07-19T19:33:03.363Z"
   },
   {
    "duration": 14,
    "start_time": "2024-07-19T19:33:03.375Z"
   },
   {
    "duration": 16,
    "start_time": "2024-07-19T19:33:03.414Z"
   },
   {
    "duration": 43,
    "start_time": "2024-07-19T19:33:03.433Z"
   },
   {
    "duration": 12,
    "start_time": "2024-07-19T19:33:03.696Z"
   },
   {
    "duration": 38,
    "start_time": "2024-07-19T19:33:03.837Z"
   },
   {
    "duration": 13,
    "start_time": "2024-07-19T19:33:04.002Z"
   },
   {
    "duration": 15,
    "start_time": "2024-07-19T19:33:04.163Z"
   },
   {
    "duration": 35,
    "start_time": "2024-07-19T19:33:04.325Z"
   },
   {
    "duration": 14,
    "start_time": "2024-07-19T19:33:04.626Z"
   },
   {
    "duration": 60,
    "start_time": "2024-07-19T19:33:06.114Z"
   },
   {
    "duration": 5,
    "start_time": "2024-07-19T19:33:06.261Z"
   },
   {
    "duration": 331,
    "start_time": "2024-07-19T19:33:06.399Z"
   },
   {
    "duration": 42,
    "start_time": "2024-07-19T19:33:07.057Z"
   },
   {
    "duration": 35,
    "start_time": "2024-07-19T19:33:07.234Z"
   },
   {
    "duration": 45,
    "start_time": "2024-07-19T19:33:08.345Z"
   },
   {
    "duration": 5327,
    "start_time": "2024-07-19T19:33:08.711Z"
   },
   {
    "duration": 18,
    "start_time": "2024-07-19T19:33:14.044Z"
   },
   {
    "duration": 65,
    "start_time": "2024-07-19T19:33:14.065Z"
   },
   {
    "duration": 57,
    "start_time": "2024-07-19T19:33:14.134Z"
   },
   {
    "duration": 51,
    "start_time": "2024-07-19T19:33:14.214Z"
   },
   {
    "duration": 66,
    "start_time": "2024-07-19T19:33:14.268Z"
   },
   {
    "duration": 87,
    "start_time": "2024-07-19T19:33:14.337Z"
   },
   {
    "duration": 231,
    "start_time": "2024-07-19T19:33:14.428Z"
   },
   {
    "duration": 6,
    "start_time": "2024-07-19T19:33:18.623Z"
   },
   {
    "duration": 21,
    "start_time": "2024-07-19T19:33:21.422Z"
   },
   {
    "duration": 5,
    "start_time": "2024-07-19T19:33:40.247Z"
   },
   {
    "duration": 726,
    "start_time": "2024-07-19T19:33:42.522Z"
   },
   {
    "duration": 3,
    "start_time": "2024-07-19T19:33:46.356Z"
   },
   {
    "duration": 19,
    "start_time": "2024-07-19T19:33:47.692Z"
   },
   {
    "duration": 75,
    "start_time": "2024-07-19T19:34:02.049Z"
   },
   {
    "duration": 3,
    "start_time": "2024-07-19T19:34:05.579Z"
   },
   {
    "duration": 803,
    "start_time": "2024-07-19T19:34:06.015Z"
   },
   {
    "duration": 3,
    "start_time": "2024-07-19T19:34:26.704Z"
   },
   {
    "duration": 38,
    "start_time": "2024-07-19T19:34:29.582Z"
   },
   {
    "duration": 1384,
    "start_time": "2024-07-19T19:35:56.457Z"
   },
   {
    "duration": 792,
    "start_time": "2024-07-19T19:35:57.845Z"
   },
   {
    "duration": 156,
    "start_time": "2024-07-19T19:35:58.640Z"
   },
   {
    "duration": 13,
    "start_time": "2024-07-19T19:35:58.799Z"
   },
   {
    "duration": 43,
    "start_time": "2024-07-19T19:35:58.815Z"
   },
   {
    "duration": 443,
    "start_time": "2024-07-19T19:35:58.862Z"
   },
   {
    "duration": 925,
    "start_time": "2024-07-19T19:35:59.308Z"
   },
   {
    "duration": 46,
    "start_time": "2024-07-19T19:36:00.236Z"
   },
   {
    "duration": 31,
    "start_time": "2024-07-19T19:36:00.285Z"
   },
   {
    "duration": 112,
    "start_time": "2024-07-19T19:36:00.323Z"
   },
   {
    "duration": 90,
    "start_time": "2024-07-19T19:36:00.439Z"
   },
   {
    "duration": 36,
    "start_time": "2024-07-19T19:36:00.532Z"
   },
   {
    "duration": 96,
    "start_time": "2024-07-19T19:36:00.571Z"
   },
   {
    "duration": 8,
    "start_time": "2024-07-19T19:36:00.670Z"
   },
   {
    "duration": 33,
    "start_time": "2024-07-19T19:36:00.681Z"
   },
   {
    "duration": 14,
    "start_time": "2024-07-19T19:36:00.716Z"
   },
   {
    "duration": 46,
    "start_time": "2024-07-19T19:36:00.733Z"
   },
   {
    "duration": 11,
    "start_time": "2024-07-19T19:36:00.814Z"
   },
   {
    "duration": 38,
    "start_time": "2024-07-19T19:36:00.829Z"
   },
   {
    "duration": 10,
    "start_time": "2024-07-19T19:36:00.937Z"
   },
   {
    "duration": 16,
    "start_time": "2024-07-19T19:36:01.102Z"
   },
   {
    "duration": 39,
    "start_time": "2024-07-19T19:36:01.236Z"
   },
   {
    "duration": 14,
    "start_time": "2024-07-19T19:36:01.534Z"
   },
   {
    "duration": 57,
    "start_time": "2024-07-19T19:36:02.004Z"
   },
   {
    "duration": 6,
    "start_time": "2024-07-19T19:36:02.167Z"
   },
   {
    "duration": 307,
    "start_time": "2024-07-19T19:36:05.144Z"
   },
   {
    "duration": 59,
    "start_time": "2024-07-19T19:36:05.455Z"
   },
   {
    "duration": 39,
    "start_time": "2024-07-19T19:36:05.610Z"
   },
   {
    "duration": 44,
    "start_time": "2024-07-19T19:36:06.599Z"
   },
   {
    "duration": 5258,
    "start_time": "2024-07-19T19:36:06.963Z"
   },
   {
    "duration": 18,
    "start_time": "2024-07-19T19:36:12.225Z"
   },
   {
    "duration": 66,
    "start_time": "2024-07-19T19:36:12.246Z"
   },
   {
    "duration": 45,
    "start_time": "2024-07-19T19:36:12.317Z"
   },
   {
    "duration": 62,
    "start_time": "2024-07-19T19:36:12.365Z"
   },
   {
    "duration": 46,
    "start_time": "2024-07-19T19:36:12.431Z"
   },
   {
    "duration": 97,
    "start_time": "2024-07-19T19:36:12.479Z"
   },
   {
    "duration": 211,
    "start_time": "2024-07-19T19:36:13.681Z"
   },
   {
    "duration": 6,
    "start_time": "2024-07-19T19:36:14.800Z"
   },
   {
    "duration": 3,
    "start_time": "2024-07-19T19:36:28.764Z"
   },
   {
    "duration": 719,
    "start_time": "2024-07-19T19:36:30.118Z"
   },
   {
    "duration": 3,
    "start_time": "2024-07-19T19:36:35.224Z"
   },
   {
    "duration": 26,
    "start_time": "2024-07-19T19:36:35.725Z"
   },
   {
    "duration": 73,
    "start_time": "2024-07-19T19:37:30.381Z"
   },
   {
    "duration": 4,
    "start_time": "2024-07-19T19:37:32.203Z"
   },
   {
    "duration": 49,
    "start_time": "2024-07-19T19:37:33.740Z"
   },
   {
    "duration": 55,
    "start_time": "2024-07-19T19:37:40.029Z"
   },
   {
    "duration": 10,
    "start_time": "2024-07-19T19:37:41.987Z"
   },
   {
    "duration": 415,
    "start_time": "2024-07-19T19:39:09.582Z"
   },
   {
    "duration": 5,
    "start_time": "2024-07-19T19:39:23.736Z"
   },
   {
    "duration": 10,
    "start_time": "2024-07-19T19:39:24.789Z"
   },
   {
    "duration": 346,
    "start_time": "2024-07-19T19:40:24.587Z"
   },
   {
    "duration": 1591,
    "start_time": "2024-07-19T19:40:40.396Z"
   },
   {
    "duration": 349,
    "start_time": "2024-07-19T19:43:22.013Z"
   },
   {
    "duration": 27,
    "start_time": "2024-07-19T19:43:30.537Z"
   },
   {
    "duration": 23,
    "start_time": "2024-07-19T19:44:30.644Z"
   },
   {
    "duration": 27,
    "start_time": "2024-07-19T19:44:55.374Z"
   },
   {
    "duration": 25,
    "start_time": "2024-07-19T19:45:12.741Z"
   },
   {
    "duration": 26,
    "start_time": "2024-07-19T19:45:40.602Z"
   },
   {
    "duration": 4,
    "start_time": "2024-07-19T19:47:39.121Z"
   },
   {
    "duration": 28,
    "start_time": "2024-07-19T19:47:40.819Z"
   },
   {
    "duration": 4,
    "start_time": "2024-07-19T19:50:22.214Z"
   },
   {
    "duration": 26,
    "start_time": "2024-07-19T19:50:23.668Z"
   },
   {
    "duration": 27,
    "start_time": "2024-07-19T19:50:35.338Z"
   },
   {
    "duration": 308,
    "start_time": "2024-07-19T19:51:30.099Z"
   },
   {
    "duration": 4,
    "start_time": "2024-07-19T19:51:41.501Z"
   },
   {
    "duration": 311,
    "start_time": "2024-07-19T19:51:42.624Z"
   },
   {
    "duration": 1541,
    "start_time": "2024-07-19T19:52:20.386Z"
   },
   {
    "duration": 756,
    "start_time": "2024-07-19T19:52:21.931Z"
   },
   {
    "duration": 153,
    "start_time": "2024-07-19T19:52:22.690Z"
   },
   {
    "duration": 6,
    "start_time": "2024-07-19T19:52:22.847Z"
   },
   {
    "duration": 58,
    "start_time": "2024-07-19T19:52:22.856Z"
   },
   {
    "duration": 464,
    "start_time": "2024-07-19T19:52:22.917Z"
   },
   {
    "duration": 934,
    "start_time": "2024-07-19T19:52:23.384Z"
   },
   {
    "duration": 41,
    "start_time": "2024-07-19T19:52:24.321Z"
   },
   {
    "duration": 14,
    "start_time": "2024-07-19T19:52:24.365Z"
   },
   {
    "duration": 110,
    "start_time": "2024-07-19T19:52:24.414Z"
   },
   {
    "duration": 87,
    "start_time": "2024-07-19T19:52:24.527Z"
   },
   {
    "duration": 35,
    "start_time": "2024-07-19T19:52:24.617Z"
   },
   {
    "duration": 102,
    "start_time": "2024-07-19T19:52:24.655Z"
   },
   {
    "duration": 6,
    "start_time": "2024-07-19T19:52:24.760Z"
   },
   {
    "duration": 12,
    "start_time": "2024-07-19T19:52:24.770Z"
   },
   {
    "duration": 14,
    "start_time": "2024-07-19T19:52:24.812Z"
   },
   {
    "duration": 44,
    "start_time": "2024-07-19T19:52:24.829Z"
   },
   {
    "duration": 40,
    "start_time": "2024-07-19T19:52:24.878Z"
   },
   {
    "duration": 40,
    "start_time": "2024-07-19T19:52:24.921Z"
   },
   {
    "duration": 11,
    "start_time": "2024-07-19T19:52:24.964Z"
   },
   {
    "duration": 47,
    "start_time": "2024-07-19T19:52:24.977Z"
   },
   {
    "duration": 35,
    "start_time": "2024-07-19T19:52:25.027Z"
   },
   {
    "duration": 14,
    "start_time": "2024-07-19T19:52:25.292Z"
   },
   {
    "duration": 58,
    "start_time": "2024-07-19T19:52:25.742Z"
   },
   {
    "duration": 6,
    "start_time": "2024-07-19T19:52:25.897Z"
   },
   {
    "duration": 313,
    "start_time": "2024-07-19T19:52:26.084Z"
   },
   {
    "duration": 50,
    "start_time": "2024-07-19T19:52:26.400Z"
   },
   {
    "duration": 59,
    "start_time": "2024-07-19T19:52:26.453Z"
   },
   {
    "duration": 45,
    "start_time": "2024-07-19T19:52:26.811Z"
   },
   {
    "duration": 5170,
    "start_time": "2024-07-19T19:52:27.693Z"
   },
   {
    "duration": 18,
    "start_time": "2024-07-19T19:52:32.866Z"
   },
   {
    "duration": 57,
    "start_time": "2024-07-19T19:52:32.887Z"
   },
   {
    "duration": 71,
    "start_time": "2024-07-19T19:52:32.948Z"
   },
   {
    "duration": 50,
    "start_time": "2024-07-19T19:52:33.026Z"
   },
   {
    "duration": 58,
    "start_time": "2024-07-19T19:52:33.079Z"
   },
   {
    "duration": 86,
    "start_time": "2024-07-19T19:52:33.141Z"
   },
   {
    "duration": 224,
    "start_time": "2024-07-19T19:52:33.230Z"
   },
   {
    "duration": 5,
    "start_time": "2024-07-19T19:52:34.585Z"
   },
   {
    "duration": 729,
    "start_time": "2024-07-19T19:52:39.591Z"
   },
   {
    "duration": 567,
    "start_time": "2024-07-19T19:52:49.020Z"
   },
   {
    "duration": 79,
    "start_time": "2024-07-19T19:55:23.848Z"
   },
   {
    "duration": 3,
    "start_time": "2024-07-19T19:55:28.617Z"
   },
   {
    "duration": 52,
    "start_time": "2024-07-19T19:55:29.174Z"
   },
   {
    "duration": 51,
    "start_time": "2024-07-19T19:55:44.818Z"
   },
   {
    "duration": 8,
    "start_time": "2024-07-19T19:55:47.828Z"
   },
   {
    "duration": 420,
    "start_time": "2024-07-19T19:57:43.879Z"
   },
   {
    "duration": 4,
    "start_time": "2024-07-19T19:57:50.275Z"
   },
   {
    "duration": 350,
    "start_time": "2024-07-19T19:57:52.777Z"
   },
   {
    "duration": 990,
    "start_time": "2024-07-19T20:01:21.239Z"
   },
   {
    "duration": 4,
    "start_time": "2024-07-19T20:01:43.091Z"
   },
   {
    "duration": 388,
    "start_time": "2024-07-19T20:01:44.527Z"
   },
   {
    "duration": 22,
    "start_time": "2024-07-19T20:02:07.705Z"
   },
   {
    "duration": 1418,
    "start_time": "2024-07-19T20:02:24.672Z"
   },
   {
    "duration": 787,
    "start_time": "2024-07-19T20:02:26.094Z"
   },
   {
    "duration": 167,
    "start_time": "2024-07-19T20:02:26.884Z"
   },
   {
    "duration": 6,
    "start_time": "2024-07-19T20:02:27.056Z"
   },
   {
    "duration": 63,
    "start_time": "2024-07-19T20:02:27.066Z"
   },
   {
    "duration": 439,
    "start_time": "2024-07-19T20:02:27.132Z"
   },
   {
    "duration": 928,
    "start_time": "2024-07-19T20:02:27.574Z"
   },
   {
    "duration": 53,
    "start_time": "2024-07-19T20:02:28.504Z"
   },
   {
    "duration": 19,
    "start_time": "2024-07-19T20:02:28.560Z"
   },
   {
    "duration": 125,
    "start_time": "2024-07-19T20:02:28.587Z"
   },
   {
    "duration": 71,
    "start_time": "2024-07-19T20:02:28.715Z"
   },
   {
    "duration": 61,
    "start_time": "2024-07-19T20:02:28.791Z"
   },
   {
    "duration": 95,
    "start_time": "2024-07-19T20:02:28.855Z"
   },
   {
    "duration": 6,
    "start_time": "2024-07-19T20:02:28.953Z"
   },
   {
    "duration": 12,
    "start_time": "2024-07-19T20:02:28.963Z"
   },
   {
    "duration": 46,
    "start_time": "2024-07-19T20:02:28.978Z"
   },
   {
    "duration": 44,
    "start_time": "2024-07-19T20:02:29.029Z"
   },
   {
    "duration": 41,
    "start_time": "2024-07-19T20:02:29.075Z"
   },
   {
    "duration": 45,
    "start_time": "2024-07-19T20:02:29.121Z"
   },
   {
    "duration": 12,
    "start_time": "2024-07-19T20:02:29.679Z"
   },
   {
    "duration": 15,
    "start_time": "2024-07-19T20:02:29.695Z"
   },
   {
    "duration": 38,
    "start_time": "2024-07-19T20:02:29.772Z"
   },
   {
    "duration": 16,
    "start_time": "2024-07-19T20:02:30.140Z"
   },
   {
    "duration": 73,
    "start_time": "2024-07-19T20:02:31.908Z"
   },
   {
    "duration": 7,
    "start_time": "2024-07-19T20:02:32.606Z"
   },
   {
    "duration": 437,
    "start_time": "2024-07-19T20:02:33.252Z"
   },
   {
    "duration": 65,
    "start_time": "2024-07-19T20:02:33.693Z"
   },
   {
    "duration": 37,
    "start_time": "2024-07-19T20:02:34.184Z"
   },
   {
    "duration": 60,
    "start_time": "2024-07-19T20:02:34.530Z"
   },
   {
    "duration": 5145,
    "start_time": "2024-07-19T20:02:34.895Z"
   },
   {
    "duration": 19,
    "start_time": "2024-07-19T20:02:40.043Z"
   },
   {
    "duration": 75,
    "start_time": "2024-07-19T20:02:40.065Z"
   },
   {
    "duration": 47,
    "start_time": "2024-07-19T20:02:40.145Z"
   },
   {
    "duration": 61,
    "start_time": "2024-07-19T20:02:40.194Z"
   },
   {
    "duration": 76,
    "start_time": "2024-07-19T20:02:40.258Z"
   },
   {
    "duration": 88,
    "start_time": "2024-07-19T20:02:40.337Z"
   },
   {
    "duration": 212,
    "start_time": "2024-07-19T20:02:45.492Z"
   },
   {
    "duration": 6,
    "start_time": "2024-07-19T20:02:46.099Z"
   },
   {
    "duration": 4,
    "start_time": "2024-07-19T20:02:51.954Z"
   },
   {
    "duration": 601,
    "start_time": "2024-07-19T20:02:54.200Z"
   },
   {
    "duration": 25,
    "start_time": "2024-07-19T20:03:24.013Z"
   },
   {
    "duration": 3,
    "start_time": "2024-07-19T20:03:37.685Z"
   },
   {
    "duration": 73,
    "start_time": "2024-07-19T20:03:39.483Z"
   },
   {
    "duration": 4,
    "start_time": "2024-07-19T20:03:42.324Z"
   },
   {
    "duration": 127,
    "start_time": "2024-07-19T20:03:44.044Z"
   },
   {
    "duration": 138,
    "start_time": "2024-07-19T20:03:52.977Z"
   },
   {
    "duration": 9,
    "start_time": "2024-07-19T20:03:56.020Z"
   },
   {
    "duration": 61175,
    "start_time": "2024-07-19T20:04:24.484Z"
   },
   {
    "duration": 0,
    "start_time": "2024-07-19T20:05:25.662Z"
   },
   {
    "duration": 10,
    "start_time": "2024-07-19T20:21:32.106Z"
   },
   {
    "duration": 33,
    "start_time": "2024-07-19T20:30:26.205Z"
   },
   {
    "duration": 45,
    "start_time": "2024-07-19T20:30:49.058Z"
   },
   {
    "duration": 1354,
    "start_time": "2024-07-19T20:33:28.052Z"
   },
   {
    "duration": 782,
    "start_time": "2024-07-19T20:33:29.412Z"
   },
   {
    "duration": 152,
    "start_time": "2024-07-19T20:33:30.197Z"
   },
   {
    "duration": 5,
    "start_time": "2024-07-19T20:33:30.355Z"
   },
   {
    "duration": 66,
    "start_time": "2024-07-19T20:33:30.363Z"
   },
   {
    "duration": 442,
    "start_time": "2024-07-19T20:33:30.432Z"
   },
   {
    "duration": 972,
    "start_time": "2024-07-19T20:33:30.876Z"
   },
   {
    "duration": 62,
    "start_time": "2024-07-19T20:33:31.851Z"
   },
   {
    "duration": 17,
    "start_time": "2024-07-19T20:33:31.916Z"
   },
   {
    "duration": 119,
    "start_time": "2024-07-19T20:33:31.938Z"
   },
   {
    "duration": 94,
    "start_time": "2024-07-19T20:33:32.061Z"
   },
   {
    "duration": 36,
    "start_time": "2024-07-19T20:33:32.159Z"
   },
   {
    "duration": 92,
    "start_time": "2024-07-19T20:33:32.198Z"
   },
   {
    "duration": 22,
    "start_time": "2024-07-19T20:33:32.293Z"
   },
   {
    "duration": 13,
    "start_time": "2024-07-19T20:33:32.318Z"
   },
   {
    "duration": 15,
    "start_time": "2024-07-19T20:33:32.334Z"
   },
   {
    "duration": 89,
    "start_time": "2024-07-19T20:33:32.353Z"
   },
   {
    "duration": 11,
    "start_time": "2024-07-19T20:33:32.446Z"
   },
   {
    "duration": 63,
    "start_time": "2024-07-19T20:33:32.459Z"
   },
   {
    "duration": 10,
    "start_time": "2024-07-19T20:33:32.535Z"
   },
   {
    "duration": 15,
    "start_time": "2024-07-19T20:33:32.700Z"
   },
   {
    "duration": 41,
    "start_time": "2024-07-19T20:33:32.870Z"
   },
   {
    "duration": 15,
    "start_time": "2024-07-19T20:33:33.172Z"
   },
   {
    "duration": 62,
    "start_time": "2024-07-19T20:33:33.671Z"
   },
   {
    "duration": 6,
    "start_time": "2024-07-19T20:33:33.828Z"
   },
   {
    "duration": 299,
    "start_time": "2024-07-19T20:33:34.366Z"
   },
   {
    "duration": 42,
    "start_time": "2024-07-19T20:33:34.913Z"
   },
   {
    "duration": 36,
    "start_time": "2024-07-19T20:33:35.095Z"
   },
   {
    "duration": 44,
    "start_time": "2024-07-19T20:33:35.599Z"
   },
   {
    "duration": 5272,
    "start_time": "2024-07-19T20:33:35.933Z"
   },
   {
    "duration": 18,
    "start_time": "2024-07-19T20:33:41.214Z"
   },
   {
    "duration": 45,
    "start_time": "2024-07-19T20:33:41.236Z"
   },
   {
    "duration": 69,
    "start_time": "2024-07-19T20:33:41.285Z"
   },
   {
    "duration": 69,
    "start_time": "2024-07-19T20:33:41.357Z"
   },
   {
    "duration": 50,
    "start_time": "2024-07-19T20:33:41.428Z"
   },
   {
    "duration": 101,
    "start_time": "2024-07-19T20:33:41.482Z"
   },
   {
    "duration": 24,
    "start_time": "2024-07-19T20:33:41.696Z"
   },
   {
    "duration": 206,
    "start_time": "2024-07-19T20:33:57.648Z"
   },
   {
    "duration": 6,
    "start_time": "2024-07-19T20:33:58.125Z"
   },
   {
    "duration": 4,
    "start_time": "2024-07-19T20:34:00.341Z"
   },
   {
    "duration": 593,
    "start_time": "2024-07-19T20:34:03.539Z"
   },
   {
    "duration": 23,
    "start_time": "2024-07-19T20:34:05.775Z"
   },
   {
    "duration": 14,
    "start_time": "2024-07-19T20:35:09.669Z"
   },
   {
    "duration": 23,
    "start_time": "2024-07-19T20:35:54.475Z"
   },
   {
    "duration": 14,
    "start_time": "2024-07-19T20:36:16.190Z"
   },
   {
    "duration": 1450,
    "start_time": "2024-07-19T20:36:31.199Z"
   },
   {
    "duration": 803,
    "start_time": "2024-07-19T20:36:32.653Z"
   },
   {
    "duration": 168,
    "start_time": "2024-07-19T20:36:33.460Z"
   },
   {
    "duration": 6,
    "start_time": "2024-07-19T20:36:33.631Z"
   },
   {
    "duration": 36,
    "start_time": "2024-07-19T20:36:33.641Z"
   },
   {
    "duration": 483,
    "start_time": "2024-07-19T20:36:33.680Z"
   },
   {
    "duration": 950,
    "start_time": "2024-07-19T20:36:34.166Z"
   },
   {
    "duration": 48,
    "start_time": "2024-07-19T20:36:35.120Z"
   },
   {
    "duration": 17,
    "start_time": "2024-07-19T20:36:35.171Z"
   },
   {
    "duration": 109,
    "start_time": "2024-07-19T20:36:35.216Z"
   },
   {
    "duration": 87,
    "start_time": "2024-07-19T20:36:35.328Z"
   },
   {
    "duration": 35,
    "start_time": "2024-07-19T20:36:35.418Z"
   },
   {
    "duration": 97,
    "start_time": "2024-07-19T20:36:35.456Z"
   },
   {
    "duration": 6,
    "start_time": "2024-07-19T20:36:35.556Z"
   },
   {
    "duration": 14,
    "start_time": "2024-07-19T20:36:35.565Z"
   },
   {
    "duration": 15,
    "start_time": "2024-07-19T20:36:35.611Z"
   },
   {
    "duration": 44,
    "start_time": "2024-07-19T20:36:35.629Z"
   },
   {
    "duration": 42,
    "start_time": "2024-07-19T20:36:35.676Z"
   },
   {
    "duration": 39,
    "start_time": "2024-07-19T20:36:35.721Z"
   },
   {
    "duration": 11,
    "start_time": "2024-07-19T20:36:35.763Z"
   },
   {
    "duration": 47,
    "start_time": "2024-07-19T20:36:35.777Z"
   },
   {
    "duration": 35,
    "start_time": "2024-07-19T20:36:35.827Z"
   },
   {
    "duration": 46,
    "start_time": "2024-07-19T20:36:35.866Z"
   },
   {
    "duration": 56,
    "start_time": "2024-07-19T20:36:35.915Z"
   },
   {
    "duration": 7,
    "start_time": "2024-07-19T20:36:35.974Z"
   },
   {
    "duration": 315,
    "start_time": "2024-07-19T20:36:36.013Z"
   },
   {
    "duration": 42,
    "start_time": "2024-07-19T20:36:36.332Z"
   },
   {
    "duration": 60,
    "start_time": "2024-07-19T20:36:36.382Z"
   },
   {
    "duration": 67,
    "start_time": "2024-07-19T20:36:36.445Z"
   },
   {
    "duration": 5383,
    "start_time": "2024-07-19T20:36:36.515Z"
   },
   {
    "duration": 26,
    "start_time": "2024-07-19T20:36:41.901Z"
   },
   {
    "duration": 45,
    "start_time": "2024-07-19T20:36:41.929Z"
   },
   {
    "duration": 69,
    "start_time": "2024-07-19T20:36:41.978Z"
   },
   {
    "duration": 62,
    "start_time": "2024-07-19T20:36:42.050Z"
   },
   {
    "duration": 46,
    "start_time": "2024-07-19T20:36:42.116Z"
   },
   {
    "duration": 89,
    "start_time": "2024-07-19T20:36:42.165Z"
   },
   {
    "duration": 25,
    "start_time": "2024-07-19T20:36:42.256Z"
   },
   {
    "duration": 237,
    "start_time": "2024-07-19T20:36:42.285Z"
   },
   {
    "duration": 6,
    "start_time": "2024-07-19T20:36:42.525Z"
   },
   {
    "duration": 4,
    "start_time": "2024-07-19T20:36:42.535Z"
   },
   {
    "duration": 636,
    "start_time": "2024-07-19T20:36:42.543Z"
   },
   {
    "duration": 52,
    "start_time": "2024-07-19T20:36:43.182Z"
   },
   {
    "duration": 4,
    "start_time": "2024-07-19T20:36:43.237Z"
   },
   {
    "duration": 104,
    "start_time": "2024-07-19T20:36:43.243Z"
   },
   {
    "duration": 4,
    "start_time": "2024-07-19T20:36:43.350Z"
   },
   {
    "duration": 140,
    "start_time": "2024-07-19T20:36:43.358Z"
   },
   {
    "duration": 71,
    "start_time": "2024-07-19T20:36:43.501Z"
   },
   {
    "duration": 14,
    "start_time": "2024-07-19T20:36:43.615Z"
   },
   {
    "duration": 74790,
    "start_time": "2024-07-19T20:36:43.631Z"
   },
   {
    "duration": 889,
    "start_time": "2024-07-19T20:37:58.425Z"
   },
   {
    "duration": 69337,
    "start_time": "2024-07-19T20:37:59.317Z"
   },
   {
    "duration": 2632,
    "start_time": "2024-07-19T20:39:08.657Z"
   },
   {
    "duration": 1379,
    "start_time": "2024-07-19T20:40:15.055Z"
   },
   {
    "duration": 787,
    "start_time": "2024-07-19T20:40:16.438Z"
   },
   {
    "duration": 155,
    "start_time": "2024-07-19T20:40:17.228Z"
   },
   {
    "duration": 6,
    "start_time": "2024-07-19T20:40:17.387Z"
   },
   {
    "duration": 48,
    "start_time": "2024-07-19T20:40:17.396Z"
   },
   {
    "duration": 435,
    "start_time": "2024-07-19T20:40:17.448Z"
   },
   {
    "duration": 904,
    "start_time": "2024-07-19T20:40:17.886Z"
   },
   {
    "duration": 52,
    "start_time": "2024-07-19T20:40:18.794Z"
   },
   {
    "duration": 14,
    "start_time": "2024-07-19T20:40:18.849Z"
   },
   {
    "duration": 120,
    "start_time": "2024-07-19T20:40:18.869Z"
   },
   {
    "duration": 89,
    "start_time": "2024-07-19T20:40:18.993Z"
   },
   {
    "duration": 61,
    "start_time": "2024-07-19T20:40:19.085Z"
   },
   {
    "duration": 91,
    "start_time": "2024-07-19T20:40:19.149Z"
   },
   {
    "duration": 6,
    "start_time": "2024-07-19T20:40:19.243Z"
   },
   {
    "duration": 13,
    "start_time": "2024-07-19T20:40:19.253Z"
   },
   {
    "duration": 50,
    "start_time": "2024-07-19T20:40:19.269Z"
   },
   {
    "duration": 46,
    "start_time": "2024-07-19T20:40:19.322Z"
   },
   {
    "duration": 12,
    "start_time": "2024-07-19T20:40:19.371Z"
   },
   {
    "duration": 47,
    "start_time": "2024-07-19T20:40:19.413Z"
   },
   {
    "duration": 19,
    "start_time": "2024-07-19T20:40:19.463Z"
   },
   {
    "duration": 38,
    "start_time": "2024-07-19T20:40:19.488Z"
   },
   {
    "duration": 38,
    "start_time": "2024-07-19T20:40:19.647Z"
   },
   {
    "duration": 14,
    "start_time": "2024-07-19T20:40:19.944Z"
   },
   {
    "duration": 60,
    "start_time": "2024-07-19T20:40:27.801Z"
   },
   {
    "duration": 6,
    "start_time": "2024-07-19T20:40:27.993Z"
   },
   {
    "duration": 301,
    "start_time": "2024-07-19T20:40:28.233Z"
   },
   {
    "duration": 42,
    "start_time": "2024-07-19T20:40:28.537Z"
   },
   {
    "duration": 36,
    "start_time": "2024-07-19T20:40:28.649Z"
   },
   {
    "duration": 46,
    "start_time": "2024-07-19T20:40:29.471Z"
   },
   {
    "duration": 5209,
    "start_time": "2024-07-19T20:40:30.504Z"
   },
   {
    "duration": 18,
    "start_time": "2024-07-19T20:40:35.717Z"
   },
   {
    "duration": 44,
    "start_time": "2024-07-19T20:40:35.739Z"
   },
   {
    "duration": 45,
    "start_time": "2024-07-19T20:40:35.814Z"
   },
   {
    "duration": 44,
    "start_time": "2024-07-19T20:40:39.767Z"
   },
   {
    "duration": 46,
    "start_time": "2024-07-19T20:40:40.625Z"
   },
   {
    "duration": 72,
    "start_time": "2024-07-19T20:40:41.121Z"
   },
   {
    "duration": 26,
    "start_time": "2024-07-19T20:40:43.718Z"
   },
   {
    "duration": 206,
    "start_time": "2024-07-19T20:40:47.903Z"
   },
   {
    "duration": 4,
    "start_time": "2024-07-19T20:40:53.334Z"
   },
   {
    "duration": 5,
    "start_time": "2024-07-19T20:41:12.679Z"
   },
   {
    "duration": 551,
    "start_time": "2024-07-19T20:41:16.582Z"
   },
   {
    "duration": 22,
    "start_time": "2024-07-19T20:41:19.319Z"
   },
   {
    "duration": 4,
    "start_time": "2024-07-19T20:42:05.158Z"
   },
   {
    "duration": 301,
    "start_time": "2024-07-19T20:42:07.598Z"
   },
   {
    "duration": 26,
    "start_time": "2024-07-19T20:42:10.181Z"
   },
   {
    "duration": 3,
    "start_time": "2024-07-19T20:42:12.280Z"
   },
   {
    "duration": 83,
    "start_time": "2024-07-19T20:42:13.106Z"
   },
   {
    "duration": 4,
    "start_time": "2024-07-19T20:42:16.862Z"
   },
   {
    "duration": 4,
    "start_time": "2024-07-19T20:42:56.183Z"
   },
   {
    "duration": 164,
    "start_time": "2024-07-19T20:42:57.526Z"
   },
   {
    "duration": 62,
    "start_time": "2024-07-19T20:43:11.781Z"
   },
   {
    "duration": 12,
    "start_time": "2024-07-19T20:43:15.244Z"
   },
   {
    "duration": 514986,
    "start_time": "2024-07-19T20:44:01.541Z"
   },
   {
    "duration": 14,
    "start_time": "2024-07-19T20:55:02.197Z"
   },
   {
    "duration": 20,
    "start_time": "2024-07-19T20:55:09.706Z"
   },
   {
    "duration": 31,
    "start_time": "2024-07-19T20:55:36.567Z"
   },
   {
    "duration": 1474,
    "start_time": "2024-07-19T20:56:25.598Z"
   },
   {
    "duration": 772,
    "start_time": "2024-07-19T20:56:27.076Z"
   },
   {
    "duration": 162,
    "start_time": "2024-07-19T20:56:27.850Z"
   },
   {
    "duration": 5,
    "start_time": "2024-07-19T20:56:29.825Z"
   },
   {
    "duration": 36,
    "start_time": "2024-07-19T20:56:30.560Z"
   },
   {
    "duration": 410,
    "start_time": "2024-07-19T20:56:32.335Z"
   },
   {
    "duration": 965,
    "start_time": "2024-07-19T20:56:32.748Z"
   },
   {
    "duration": 50,
    "start_time": "2024-07-19T20:56:34.982Z"
   },
   {
    "duration": 14,
    "start_time": "2024-07-19T20:56:36.124Z"
   },
   {
    "duration": 102,
    "start_time": "2024-07-19T20:56:36.769Z"
   },
   {
    "duration": 69,
    "start_time": "2024-07-19T20:56:38.574Z"
   },
   {
    "duration": 35,
    "start_time": "2024-07-19T20:56:40.510Z"
   },
   {
    "duration": 76,
    "start_time": "2024-07-19T20:56:41.257Z"
   },
   {
    "duration": 6,
    "start_time": "2024-07-19T20:56:42.168Z"
   },
   {
    "duration": 13,
    "start_time": "2024-07-19T20:56:44.626Z"
   },
   {
    "duration": 45,
    "start_time": "2024-07-19T20:56:46.034Z"
   },
   {
    "duration": 11,
    "start_time": "2024-07-19T20:56:53.306Z"
   },
   {
    "duration": 38,
    "start_time": "2024-07-19T20:56:53.832Z"
   },
   {
    "duration": 10,
    "start_time": "2024-07-19T20:56:54.840Z"
   },
   {
    "duration": 13,
    "start_time": "2024-07-19T20:56:56.125Z"
   },
   {
    "duration": 37,
    "start_time": "2024-07-19T20:56:56.912Z"
   },
   {
    "duration": 16,
    "start_time": "2024-07-19T20:57:03.506Z"
   },
   {
    "duration": 57,
    "start_time": "2024-07-19T20:57:06.562Z"
   },
   {
    "duration": 5,
    "start_time": "2024-07-19T20:57:07.420Z"
   },
   {
    "duration": 305,
    "start_time": "2024-07-19T20:57:08.029Z"
   },
   {
    "duration": 50,
    "start_time": "2024-07-19T20:57:09.401Z"
   },
   {
    "duration": 42,
    "start_time": "2024-07-19T20:57:11.578Z"
   },
   {
    "duration": 70,
    "start_time": "2024-07-19T20:57:12.826Z"
   },
   {
    "duration": 44,
    "start_time": "2024-07-19T20:57:22.634Z"
   },
   {
    "duration": 42,
    "start_time": "2024-07-19T20:57:48.424Z"
   },
   {
    "duration": 4871,
    "start_time": "2024-07-19T20:58:02.731Z"
   },
   {
    "duration": 18,
    "start_time": "2024-07-19T20:58:07.612Z"
   },
   {
    "duration": 49,
    "start_time": "2024-07-19T20:58:59.613Z"
   },
   {
    "duration": 44,
    "start_time": "2024-07-19T20:59:14.149Z"
   },
   {
    "duration": 51,
    "start_time": "2024-07-19T20:59:59.175Z"
   },
   {
    "duration": 42,
    "start_time": "2024-07-19T21:00:06.392Z"
   },
   {
    "duration": 40,
    "start_time": "2024-07-19T21:00:48.935Z"
   },
   {
    "duration": 65,
    "start_time": "2024-07-19T21:05:32.191Z"
   },
   {
    "duration": 59,
    "start_time": "2024-07-19T21:05:39.443Z"
   },
   {
    "duration": 57,
    "start_time": "2024-07-19T21:05:45.645Z"
   },
   {
    "duration": 25,
    "start_time": "2024-07-19T21:05:54.244Z"
   },
   {
    "duration": 150,
    "start_time": "2024-07-19T21:06:57.796Z"
   },
   {
    "duration": 6,
    "start_time": "2024-07-19T21:06:58.270Z"
   },
   {
    "duration": 9,
    "start_time": "2024-07-19T21:08:51.629Z"
   },
   {
    "duration": 5,
    "start_time": "2024-07-19T21:10:21.623Z"
   },
   {
    "duration": 36,
    "start_time": "2024-07-19T21:10:31.443Z"
   },
   {
    "duration": 29,
    "start_time": "2024-07-19T21:10:44.303Z"
   },
   {
    "duration": 424,
    "start_time": "2024-07-19T21:11:24.754Z"
   },
   {
    "duration": 33,
    "start_time": "2024-07-19T21:11:31.047Z"
   },
   {
    "duration": 31,
    "start_time": "2024-07-19T21:12:52.337Z"
   },
   {
    "duration": 32,
    "start_time": "2024-07-19T21:13:06.415Z"
   },
   {
    "duration": 36,
    "start_time": "2024-07-19T21:13:19.932Z"
   },
   {
    "duration": 32,
    "start_time": "2024-07-19T21:13:27.045Z"
   },
   {
    "duration": 31,
    "start_time": "2024-07-19T21:13:32.567Z"
   },
   {
    "duration": 1456,
    "start_time": "2024-07-19T21:24:43.511Z"
   },
   {
    "duration": 783,
    "start_time": "2024-07-19T21:24:44.971Z"
   },
   {
    "duration": 154,
    "start_time": "2024-07-19T21:24:45.758Z"
   },
   {
    "duration": 6,
    "start_time": "2024-07-19T21:24:45.917Z"
   },
   {
    "duration": 35,
    "start_time": "2024-07-19T21:24:45.926Z"
   },
   {
    "duration": 451,
    "start_time": "2024-07-19T21:24:45.964Z"
   },
   {
    "duration": 901,
    "start_time": "2024-07-19T21:24:46.417Z"
   },
   {
    "duration": 41,
    "start_time": "2024-07-19T21:24:47.321Z"
   },
   {
    "duration": 15,
    "start_time": "2024-07-19T21:24:47.364Z"
   },
   {
    "duration": 131,
    "start_time": "2024-07-19T21:24:47.383Z"
   },
   {
    "duration": 73,
    "start_time": "2024-07-19T21:24:47.517Z"
   },
   {
    "duration": 47,
    "start_time": "2024-07-19T21:24:47.593Z"
   },
   {
    "duration": 101,
    "start_time": "2024-07-19T21:24:47.643Z"
   },
   {
    "duration": 6,
    "start_time": "2024-07-19T21:24:47.747Z"
   },
   {
    "duration": 13,
    "start_time": "2024-07-19T21:24:47.756Z"
   },
   {
    "duration": 77,
    "start_time": "2024-07-19T21:24:47.771Z"
   },
   {
    "duration": 12,
    "start_time": "2024-07-19T21:24:47.853Z"
   },
   {
    "duration": 66,
    "start_time": "2024-07-19T21:24:47.868Z"
   },
   {
    "duration": 18,
    "start_time": "2024-07-19T21:24:47.954Z"
   },
   {
    "duration": 14,
    "start_time": "2024-07-19T21:24:48.106Z"
   },
   {
    "duration": 37,
    "start_time": "2024-07-19T21:24:48.248Z"
   },
   {
    "duration": 16,
    "start_time": "2024-07-19T21:24:48.582Z"
   },
   {
    "duration": 56,
    "start_time": "2024-07-19T21:24:49.046Z"
   },
   {
    "duration": 5,
    "start_time": "2024-07-19T21:24:49.197Z"
   },
   {
    "duration": 316,
    "start_time": "2024-07-19T21:24:49.367Z"
   },
   {
    "duration": 55,
    "start_time": "2024-07-19T21:24:49.688Z"
   },
   {
    "duration": 38,
    "start_time": "2024-07-19T21:24:49.747Z"
   },
   {
    "duration": 54,
    "start_time": "2024-07-19T21:24:49.857Z"
   },
   {
    "duration": 44,
    "start_time": "2024-07-19T21:24:50.206Z"
   },
   {
    "duration": 5257,
    "start_time": "2024-07-19T21:24:50.612Z"
   },
   {
    "duration": 19,
    "start_time": "2024-07-19T21:24:55.873Z"
   },
   {
    "duration": 58,
    "start_time": "2024-07-19T21:24:55.913Z"
   },
   {
    "duration": 109,
    "start_time": "2024-07-19T21:24:55.975Z"
   },
   {
    "duration": 72,
    "start_time": "2024-07-19T21:24:56.087Z"
   },
   {
    "duration": 71,
    "start_time": "2024-07-19T21:24:56.163Z"
   },
   {
    "duration": 75,
    "start_time": "2024-07-19T21:24:56.238Z"
   },
   {
    "duration": 105,
    "start_time": "2024-07-19T21:24:56.316Z"
   },
   {
    "duration": 106,
    "start_time": "2024-07-19T21:24:56.423Z"
   },
   {
    "duration": 33,
    "start_time": "2024-07-19T21:24:56.534Z"
   },
   {
    "duration": 4,
    "start_time": "2024-07-19T21:25:06.937Z"
   },
   {
    "duration": 28,
    "start_time": "2024-07-19T21:26:10.026Z"
   },
   {
    "duration": 32,
    "start_time": "2024-07-19T21:26:12.623Z"
   },
   {
    "duration": 22,
    "start_time": "2024-07-19T21:26:24.777Z"
   },
   {
    "duration": 33,
    "start_time": "2024-07-19T21:26:31.596Z"
   },
   {
    "duration": 30,
    "start_time": "2024-07-19T21:26:42.493Z"
   },
   {
    "duration": 28,
    "start_time": "2024-07-19T21:26:59.424Z"
   },
   {
    "duration": 1616,
    "start_time": "2024-07-19T21:27:48.460Z"
   },
   {
    "duration": 1419,
    "start_time": "2024-07-19T21:29:49.161Z"
   },
   {
    "duration": 764,
    "start_time": "2024-07-19T21:29:50.585Z"
   },
   {
    "duration": 163,
    "start_time": "2024-07-19T21:29:51.352Z"
   },
   {
    "duration": 10,
    "start_time": "2024-07-19T21:29:51.519Z"
   },
   {
    "duration": 35,
    "start_time": "2024-07-19T21:29:51.533Z"
   },
   {
    "duration": 451,
    "start_time": "2024-07-19T21:29:51.571Z"
   },
   {
    "duration": 920,
    "start_time": "2024-07-19T21:29:52.025Z"
   },
   {
    "duration": 48,
    "start_time": "2024-07-19T21:29:52.948Z"
   },
   {
    "duration": 32,
    "start_time": "2024-07-19T21:29:52.998Z"
   },
   {
    "duration": 122,
    "start_time": "2024-07-19T21:29:53.036Z"
   },
   {
    "duration": 96,
    "start_time": "2024-07-19T21:29:53.162Z"
   },
   {
    "duration": 51,
    "start_time": "2024-07-19T21:29:53.262Z"
   },
   {
    "duration": 95,
    "start_time": "2024-07-19T21:29:53.320Z"
   },
   {
    "duration": 6,
    "start_time": "2024-07-19T21:29:53.419Z"
   },
   {
    "duration": 14,
    "start_time": "2024-07-19T21:29:53.429Z"
   },
   {
    "duration": 85,
    "start_time": "2024-07-19T21:29:53.445Z"
   },
   {
    "duration": 11,
    "start_time": "2024-07-19T21:29:53.536Z"
   },
   {
    "duration": 37,
    "start_time": "2024-07-19T21:29:53.550Z"
   },
   {
    "duration": 33,
    "start_time": "2024-07-19T21:29:53.590Z"
   },
   {
    "duration": 17,
    "start_time": "2024-07-19T21:29:53.709Z"
   },
   {
    "duration": 44,
    "start_time": "2024-07-19T21:29:53.869Z"
   },
   {
    "duration": 15,
    "start_time": "2024-07-19T21:29:54.303Z"
   },
   {
    "duration": 60,
    "start_time": "2024-07-19T21:29:54.824Z"
   },
   {
    "duration": 6,
    "start_time": "2024-07-19T21:29:54.987Z"
   },
   {
    "duration": 295,
    "start_time": "2024-07-19T21:29:55.290Z"
   },
   {
    "duration": 52,
    "start_time": "2024-07-19T21:29:55.588Z"
   },
   {
    "duration": 37,
    "start_time": "2024-07-19T21:29:55.643Z"
   },
   {
    "duration": 61,
    "start_time": "2024-07-19T21:29:55.779Z"
   },
   {
    "duration": 45,
    "start_time": "2024-07-19T21:29:56.115Z"
   },
   {
    "duration": 5555,
    "start_time": "2024-07-19T21:29:57.042Z"
   },
   {
    "duration": 18,
    "start_time": "2024-07-19T21:30:02.612Z"
   },
   {
    "duration": 53,
    "start_time": "2024-07-19T21:30:02.634Z"
   },
   {
    "duration": 65,
    "start_time": "2024-07-19T21:30:02.714Z"
   },
   {
    "duration": 67,
    "start_time": "2024-07-19T21:30:02.783Z"
   },
   {
    "duration": 60,
    "start_time": "2024-07-19T21:30:02.852Z"
   },
   {
    "duration": 42,
    "start_time": "2024-07-19T21:30:07.332Z"
   },
   {
    "duration": 70,
    "start_time": "2024-07-19T21:30:10.620Z"
   },
   {
    "duration": 60,
    "start_time": "2024-07-19T21:30:11.408Z"
   },
   {
    "duration": 25,
    "start_time": "2024-07-19T21:30:15.316Z"
   },
   {
    "duration": 3,
    "start_time": "2024-07-19T21:30:22.604Z"
   },
   {
    "duration": 33,
    "start_time": "2024-07-19T21:30:34.626Z"
   },
   {
    "duration": 10,
    "start_time": "2024-07-19T21:31:02.334Z"
   },
   {
    "duration": 34,
    "start_time": "2024-07-19T21:32:42.144Z"
   },
   {
    "duration": 27,
    "start_time": "2024-07-19T21:34:08.741Z"
   },
   {
    "duration": 16,
    "start_time": "2024-07-19T21:34:26.575Z"
   },
   {
    "duration": 7,
    "start_time": "2024-07-19T21:35:41.242Z"
   },
   {
    "duration": 118,
    "start_time": "2024-07-19T21:36:16.231Z"
   },
   {
    "duration": 37,
    "start_time": "2024-07-19T21:36:32.778Z"
   },
   {
    "duration": 19,
    "start_time": "2024-07-19T21:36:42.510Z"
   },
   {
    "duration": 282,
    "start_time": "2024-07-19T21:37:05.450Z"
   },
   {
    "duration": 20,
    "start_time": "2024-07-19T21:37:09.673Z"
   },
   {
    "duration": 14,
    "start_time": "2024-07-19T21:37:16.090Z"
   },
   {
    "duration": 56,
    "start_time": "2024-07-19T21:37:45.398Z"
   },
   {
    "duration": 4,
    "start_time": "2024-07-19T21:37:47.845Z"
   },
   {
    "duration": 143,
    "start_time": "2024-07-19T21:37:50.321Z"
   },
   {
    "duration": 42,
    "start_time": "2024-07-19T21:38:02.101Z"
   },
   {
    "duration": 11,
    "start_time": "2024-07-19T21:38:04.394Z"
   },
   {
    "duration": 3,
    "start_time": "2024-07-19T21:38:43.684Z"
   },
   {
    "duration": 18,
    "start_time": "2024-07-19T21:38:46.710Z"
   },
   {
    "duration": 1548,
    "start_time": "2024-07-19T21:40:23.632Z"
   },
   {
    "duration": 773,
    "start_time": "2024-07-19T21:40:25.184Z"
   },
   {
    "duration": 159,
    "start_time": "2024-07-19T21:40:25.961Z"
   },
   {
    "duration": 6,
    "start_time": "2024-07-19T21:40:26.124Z"
   },
   {
    "duration": 35,
    "start_time": "2024-07-19T21:40:26.133Z"
   },
   {
    "duration": 468,
    "start_time": "2024-07-19T21:40:26.171Z"
   },
   {
    "duration": 956,
    "start_time": "2024-07-19T21:40:26.643Z"
   },
   {
    "duration": 57,
    "start_time": "2024-07-19T21:40:27.602Z"
   },
   {
    "duration": 14,
    "start_time": "2024-07-19T21:40:27.662Z"
   },
   {
    "duration": 117,
    "start_time": "2024-07-19T21:40:27.682Z"
   },
   {
    "duration": 72,
    "start_time": "2024-07-19T21:40:27.811Z"
   },
   {
    "duration": 55,
    "start_time": "2024-07-19T21:40:27.887Z"
   },
   {
    "duration": 83,
    "start_time": "2024-07-19T21:40:27.945Z"
   },
   {
    "duration": 6,
    "start_time": "2024-07-19T21:40:28.030Z"
   },
   {
    "duration": 13,
    "start_time": "2024-07-19T21:40:28.039Z"
   },
   {
    "duration": 84,
    "start_time": "2024-07-19T21:40:28.056Z"
   },
   {
    "duration": 11,
    "start_time": "2024-07-19T21:40:28.142Z"
   },
   {
    "duration": 62,
    "start_time": "2024-07-19T21:40:28.156Z"
   },
   {
    "duration": 10,
    "start_time": "2024-07-19T21:40:28.220Z"
   },
   {
    "duration": 15,
    "start_time": "2024-07-19T21:40:28.234Z"
   },
   {
    "duration": 72,
    "start_time": "2024-07-19T21:40:28.251Z"
   },
   {
    "duration": 22,
    "start_time": "2024-07-19T21:40:28.326Z"
   },
   {
    "duration": 86,
    "start_time": "2024-07-19T21:40:28.351Z"
   },
   {
    "duration": 7,
    "start_time": "2024-07-19T21:40:28.445Z"
   },
   {
    "duration": 386,
    "start_time": "2024-07-19T21:40:28.455Z"
   },
   {
    "duration": 48,
    "start_time": "2024-07-19T21:40:28.847Z"
   },
   {
    "duration": 50,
    "start_time": "2024-07-19T21:40:28.912Z"
   },
   {
    "duration": 64,
    "start_time": "2024-07-19T21:40:28.973Z"
   },
   {
    "duration": 44,
    "start_time": "2024-07-19T21:40:29.041Z"
   },
   {
    "duration": 5222,
    "start_time": "2024-07-19T21:40:29.088Z"
   },
   {
    "duration": 19,
    "start_time": "2024-07-19T21:40:34.314Z"
   },
   {
    "duration": 85,
    "start_time": "2024-07-19T21:40:34.337Z"
   },
   {
    "duration": 64,
    "start_time": "2024-07-19T21:40:34.428Z"
   },
   {
    "duration": 68,
    "start_time": "2024-07-19T21:40:34.496Z"
   },
   {
    "duration": 66,
    "start_time": "2024-07-19T21:40:34.567Z"
   },
   {
    "duration": 44,
    "start_time": "2024-07-19T21:40:34.637Z"
   },
   {
    "duration": 98,
    "start_time": "2024-07-19T21:40:34.684Z"
   },
   {
    "duration": 75,
    "start_time": "2024-07-19T21:40:34.789Z"
   },
   {
    "duration": 43,
    "start_time": "2024-07-19T21:40:34.871Z"
   },
   {
    "duration": 10,
    "start_time": "2024-07-19T21:40:34.917Z"
   },
   {
    "duration": 45,
    "start_time": "2024-07-19T21:40:34.929Z"
   },
   {
    "duration": 38,
    "start_time": "2024-07-19T21:40:34.978Z"
   },
   {
    "duration": 32,
    "start_time": "2024-07-19T21:40:35.020Z"
   },
   {
    "duration": 12,
    "start_time": "2024-07-19T21:40:35.055Z"
   },
   {
    "duration": 44,
    "start_time": "2024-07-19T21:40:35.070Z"
   },
   {
    "duration": 155,
    "start_time": "2024-07-19T21:40:35.117Z"
   },
   {
    "duration": 18,
    "start_time": "2024-07-19T21:40:35.277Z"
   },
   {
    "duration": 5,
    "start_time": "2024-07-19T21:40:35.311Z"
   },
   {
    "duration": 21,
    "start_time": "2024-07-19T21:40:35.320Z"
   },
   {
    "duration": 415,
    "start_time": "2024-07-19T21:40:35.344Z"
   },
   {
    "duration": 814,
    "start_time": "2024-07-19T21:40:35.762Z"
   },
   {
    "duration": 5,
    "start_time": "2024-07-19T21:40:36.580Z"
   },
   {
    "duration": 208,
    "start_time": "2024-07-19T21:40:36.588Z"
   },
   {
    "duration": 11528,
    "start_time": "2024-07-19T21:40:36.800Z"
   },
   {
    "duration": 199,
    "start_time": "2024-07-19T21:40:48.331Z"
   },
   {
    "duration": 202479,
    "start_time": "2024-07-19T21:40:48.535Z"
   },
   {
    "duration": 0,
    "start_time": "2024-07-19T21:44:11.017Z"
   },
   {
    "duration": 0,
    "start_time": "2024-07-19T21:44:11.019Z"
   },
   {
    "duration": 0,
    "start_time": "2024-07-19T21:44:11.020Z"
   },
   {
    "duration": 0,
    "start_time": "2024-07-19T21:44:11.022Z"
   },
   {
    "duration": 0,
    "start_time": "2024-07-19T21:44:11.024Z"
   },
   {
    "duration": 0,
    "start_time": "2024-07-19T21:44:11.026Z"
   },
   {
    "duration": 0,
    "start_time": "2024-07-19T21:44:11.028Z"
   },
   {
    "duration": 0,
    "start_time": "2024-07-19T21:44:11.030Z"
   },
   {
    "duration": 0,
    "start_time": "2024-07-19T21:44:11.033Z"
   },
   {
    "duration": 1334,
    "start_time": "2024-07-19T21:45:05.164Z"
   },
   {
    "duration": 794,
    "start_time": "2024-07-19T21:45:06.501Z"
   },
   {
    "duration": 152,
    "start_time": "2024-07-19T21:45:07.300Z"
   },
   {
    "duration": 5,
    "start_time": "2024-07-19T21:45:07.456Z"
   },
   {
    "duration": 59,
    "start_time": "2024-07-19T21:45:07.464Z"
   },
   {
    "duration": 423,
    "start_time": "2024-07-19T21:45:07.526Z"
   },
   {
    "duration": 902,
    "start_time": "2024-07-19T21:45:07.953Z"
   },
   {
    "duration": 56,
    "start_time": "2024-07-19T21:45:08.859Z"
   },
   {
    "duration": 16,
    "start_time": "2024-07-19T21:45:08.919Z"
   },
   {
    "duration": 116,
    "start_time": "2024-07-19T21:45:08.940Z"
   },
   {
    "duration": 92,
    "start_time": "2024-07-19T21:45:09.059Z"
   },
   {
    "duration": 35,
    "start_time": "2024-07-19T21:45:09.154Z"
   },
   {
    "duration": 91,
    "start_time": "2024-07-19T21:45:09.192Z"
   },
   {
    "duration": 6,
    "start_time": "2024-07-19T21:45:09.286Z"
   },
   {
    "duration": 13,
    "start_time": "2024-07-19T21:45:09.313Z"
   },
   {
    "duration": 44,
    "start_time": "2024-07-19T21:45:09.329Z"
   },
   {
    "duration": 42,
    "start_time": "2024-07-19T21:45:09.377Z"
   },
   {
    "duration": 38,
    "start_time": "2024-07-19T21:45:09.444Z"
   },
   {
    "duration": 10,
    "start_time": "2024-07-19T21:45:09.600Z"
   },
   {
    "duration": 14,
    "start_time": "2024-07-19T21:45:09.741Z"
   },
   {
    "duration": 37,
    "start_time": "2024-07-19T21:45:09.904Z"
   },
   {
    "duration": 14,
    "start_time": "2024-07-19T21:45:10.216Z"
   },
   {
    "duration": 57,
    "start_time": "2024-07-19T21:45:10.680Z"
   },
   {
    "duration": 5,
    "start_time": "2024-07-19T21:45:10.832Z"
   },
   {
    "duration": 316,
    "start_time": "2024-07-19T21:45:10.997Z"
   },
   {
    "duration": 43,
    "start_time": "2024-07-19T21:45:11.317Z"
   },
   {
    "duration": 55,
    "start_time": "2024-07-19T21:45:11.364Z"
   },
   {
    "duration": 64,
    "start_time": "2024-07-19T21:45:11.458Z"
   },
   {
    "duration": 42,
    "start_time": "2024-07-19T21:45:11.772Z"
   },
   {
    "duration": 4857,
    "start_time": "2024-07-19T21:45:12.095Z"
   },
   {
    "duration": 17,
    "start_time": "2024-07-19T21:45:16.955Z"
   },
   {
    "duration": 68,
    "start_time": "2024-07-19T21:45:16.975Z"
   },
   {
    "duration": 43,
    "start_time": "2024-07-19T21:45:17.047Z"
   },
   {
    "duration": 52,
    "start_time": "2024-07-19T21:45:17.113Z"
   },
   {
    "duration": 54,
    "start_time": "2024-07-19T21:45:17.167Z"
   },
   {
    "duration": 42,
    "start_time": "2024-07-19T21:45:17.224Z"
   },
   {
    "duration": 97,
    "start_time": "2024-07-19T21:45:17.270Z"
   },
   {
    "duration": 67,
    "start_time": "2024-07-19T21:45:17.370Z"
   },
   {
    "duration": 26,
    "start_time": "2024-07-19T21:45:17.442Z"
   },
   {
    "duration": 22,
    "start_time": "2024-07-19T21:45:33.290Z"
   },
   {
    "duration": 28,
    "start_time": "2024-07-19T21:48:29.540Z"
   },
   {
    "duration": 47,
    "start_time": "2024-07-19T21:48:38.099Z"
   },
   {
    "duration": 87,
    "start_time": "2024-07-19T21:49:11.480Z"
   },
   {
    "duration": 1457,
    "start_time": "2024-07-19T21:50:58.900Z"
   },
   {
    "duration": 765,
    "start_time": "2024-07-19T21:51:00.360Z"
   },
   {
    "duration": 151,
    "start_time": "2024-07-19T21:51:01.128Z"
   },
   {
    "duration": 5,
    "start_time": "2024-07-19T21:51:01.283Z"
   },
   {
    "duration": 52,
    "start_time": "2024-07-19T21:51:01.293Z"
   },
   {
    "duration": 430,
    "start_time": "2024-07-19T21:51:01.349Z"
   },
   {
    "duration": 944,
    "start_time": "2024-07-19T21:51:01.781Z"
   },
   {
    "duration": 44,
    "start_time": "2024-07-19T21:51:02.728Z"
   },
   {
    "duration": 38,
    "start_time": "2024-07-19T21:51:02.775Z"
   },
   {
    "duration": 108,
    "start_time": "2024-07-19T21:51:02.816Z"
   },
   {
    "duration": 89,
    "start_time": "2024-07-19T21:51:02.926Z"
   },
   {
    "duration": 44,
    "start_time": "2024-07-19T21:51:03.021Z"
   },
   {
    "duration": 105,
    "start_time": "2024-07-19T21:51:03.069Z"
   },
   {
    "duration": 6,
    "start_time": "2024-07-19T21:51:03.182Z"
   },
   {
    "duration": 30,
    "start_time": "2024-07-19T21:51:03.191Z"
   },
   {
    "duration": 45,
    "start_time": "2024-07-19T21:51:03.227Z"
   },
   {
    "duration": 44,
    "start_time": "2024-07-19T21:51:03.275Z"
   },
   {
    "duration": 40,
    "start_time": "2024-07-19T21:51:03.323Z"
   },
   {
    "duration": 11,
    "start_time": "2024-07-19T21:51:03.365Z"
   },
   {
    "duration": 17,
    "start_time": "2024-07-19T21:51:03.413Z"
   },
   {
    "duration": 35,
    "start_time": "2024-07-19T21:51:03.433Z"
   },
   {
    "duration": 42,
    "start_time": "2024-07-19T21:51:03.472Z"
   },
   {
    "duration": 59,
    "start_time": "2024-07-19T21:51:03.518Z"
   },
   {
    "duration": 33,
    "start_time": "2024-07-19T21:51:03.580Z"
   },
   {
    "duration": 324,
    "start_time": "2024-07-19T21:51:03.616Z"
   },
   {
    "duration": 43,
    "start_time": "2024-07-19T21:51:03.944Z"
   },
   {
    "duration": 40,
    "start_time": "2024-07-19T21:51:04.014Z"
   },
   {
    "duration": 72,
    "start_time": "2024-07-19T21:51:04.058Z"
   },
   {
    "duration": 43,
    "start_time": "2024-07-19T21:51:04.133Z"
   },
   {
    "duration": 4855,
    "start_time": "2024-07-19T21:51:04.179Z"
   },
   {
    "duration": 18,
    "start_time": "2024-07-19T21:51:09.038Z"
   },
   {
    "duration": 79,
    "start_time": "2024-07-19T21:51:09.059Z"
   },
   {
    "duration": 42,
    "start_time": "2024-07-19T21:51:09.141Z"
   },
   {
    "duration": 66,
    "start_time": "2024-07-19T21:51:09.186Z"
   },
   {
    "duration": 66,
    "start_time": "2024-07-19T21:51:09.255Z"
   },
   {
    "duration": 50,
    "start_time": "2024-07-19T21:51:09.324Z"
   },
   {
    "duration": 98,
    "start_time": "2024-07-19T21:51:09.377Z"
   },
   {
    "duration": 64,
    "start_time": "2024-07-19T21:51:09.478Z"
   },
   {
    "duration": 21,
    "start_time": "2024-07-19T21:51:09.545Z"
   },
   {
    "duration": 93,
    "start_time": "2024-07-19T21:51:09.569Z"
   },
   {
    "duration": 4,
    "start_time": "2024-07-19T21:51:09.672Z"
   },
   {
    "duration": 4,
    "start_time": "2024-07-19T21:51:09.680Z"
   },
   {
    "duration": 32,
    "start_time": "2024-07-19T21:51:09.713Z"
   },
   {
    "duration": 10,
    "start_time": "2024-07-19T21:51:09.748Z"
   },
   {
    "duration": 53,
    "start_time": "2024-07-19T21:51:09.761Z"
   },
   {
    "duration": 9,
    "start_time": "2024-07-19T21:51:09.816Z"
   },
   {
    "duration": 10,
    "start_time": "2024-07-19T21:51:09.828Z"
   },
   {
    "duration": 175,
    "start_time": "2024-07-19T21:51:09.841Z"
   },
   {
    "duration": 19,
    "start_time": "2024-07-19T21:51:10.019Z"
   },
   {
    "duration": 4,
    "start_time": "2024-07-19T21:51:10.041Z"
   },
   {
    "duration": 19,
    "start_time": "2024-07-19T21:51:10.048Z"
   },
   {
    "duration": 421,
    "start_time": "2024-07-19T21:51:10.070Z"
   },
   {
    "duration": 769,
    "start_time": "2024-07-19T21:51:10.494Z"
   },
   {
    "duration": 5,
    "start_time": "2024-07-19T21:51:11.266Z"
   },
   {
    "duration": 171,
    "start_time": "2024-07-19T21:51:11.275Z"
   },
   {
    "duration": 11372,
    "start_time": "2024-07-19T21:51:11.449Z"
   },
   {
    "duration": 202,
    "start_time": "2024-07-19T21:51:22.824Z"
   },
   {
    "duration": 1419,
    "start_time": "2024-07-19T21:52:18.026Z"
   },
   {
    "duration": 782,
    "start_time": "2024-07-19T21:52:19.449Z"
   },
   {
    "duration": 169,
    "start_time": "2024-07-19T21:52:20.234Z"
   },
   {
    "duration": 6,
    "start_time": "2024-07-19T21:52:20.414Z"
   },
   {
    "duration": 34,
    "start_time": "2024-07-19T21:52:20.426Z"
   },
   {
    "duration": 441,
    "start_time": "2024-07-19T21:52:20.464Z"
   },
   {
    "duration": 1221,
    "start_time": "2024-07-19T21:52:20.912Z"
   },
   {
    "duration": 45,
    "start_time": "2024-07-19T21:52:22.136Z"
   },
   {
    "duration": 36,
    "start_time": "2024-07-19T21:52:22.185Z"
   },
   {
    "duration": 106,
    "start_time": "2024-07-19T21:52:22.224Z"
   },
   {
    "duration": 99,
    "start_time": "2024-07-19T21:52:22.333Z"
   },
   {
    "duration": 37,
    "start_time": "2024-07-19T21:52:22.435Z"
   },
   {
    "duration": 109,
    "start_time": "2024-07-19T21:52:22.475Z"
   },
   {
    "duration": 22,
    "start_time": "2024-07-19T21:52:22.590Z"
   },
   {
    "duration": 13,
    "start_time": "2024-07-19T21:52:22.615Z"
   },
   {
    "duration": 44,
    "start_time": "2024-07-19T21:52:22.631Z"
   },
   {
    "duration": 40,
    "start_time": "2024-07-19T21:52:22.678Z"
   },
   {
    "duration": 40,
    "start_time": "2024-07-19T21:52:22.721Z"
   },
   {
    "duration": 11,
    "start_time": "2024-07-19T21:52:22.765Z"
   },
   {
    "duration": 47,
    "start_time": "2024-07-19T21:52:22.778Z"
   },
   {
    "duration": 37,
    "start_time": "2024-07-19T21:52:22.828Z"
   },
   {
    "duration": 44,
    "start_time": "2024-07-19T21:52:22.868Z"
   },
   {
    "duration": 55,
    "start_time": "2024-07-19T21:52:22.915Z"
   },
   {
    "duration": 6,
    "start_time": "2024-07-19T21:52:22.973Z"
   },
   {
    "duration": 326,
    "start_time": "2024-07-19T21:52:23.011Z"
   },
   {
    "duration": 43,
    "start_time": "2024-07-19T21:52:23.340Z"
   },
   {
    "duration": 58,
    "start_time": "2024-07-19T21:52:23.388Z"
   },
   {
    "duration": 70,
    "start_time": "2024-07-19T21:52:23.451Z"
   },
   {
    "duration": 44,
    "start_time": "2024-07-19T21:52:23.524Z"
   },
   {
    "duration": 5006,
    "start_time": "2024-07-19T21:52:23.572Z"
   },
   {
    "duration": 17,
    "start_time": "2024-07-19T21:52:28.581Z"
   },
   {
    "duration": 52,
    "start_time": "2024-07-19T21:52:28.612Z"
   },
   {
    "duration": 63,
    "start_time": "2024-07-19T21:52:28.667Z"
   },
   {
    "duration": 49,
    "start_time": "2024-07-19T21:52:28.733Z"
   },
   {
    "duration": 63,
    "start_time": "2024-07-19T21:52:28.785Z"
   },
   {
    "duration": 42,
    "start_time": "2024-07-19T21:52:28.852Z"
   },
   {
    "duration": 72,
    "start_time": "2024-07-19T21:52:28.914Z"
   },
   {
    "duration": 86,
    "start_time": "2024-07-19T21:52:28.989Z"
   },
   {
    "duration": 41,
    "start_time": "2024-07-19T21:52:29.078Z"
   },
   {
    "duration": 65,
    "start_time": "2024-07-19T21:52:29.123Z"
   },
   {
    "duration": 3,
    "start_time": "2024-07-19T21:52:29.218Z"
   },
   {
    "duration": 4,
    "start_time": "2024-07-19T21:52:29.225Z"
   },
   {
    "duration": 29,
    "start_time": "2024-07-19T21:52:29.233Z"
   },
   {
    "duration": 49,
    "start_time": "2024-07-19T21:52:29.265Z"
   },
   {
    "duration": 27,
    "start_time": "2024-07-19T21:52:29.317Z"
   },
   {
    "duration": 9,
    "start_time": "2024-07-19T21:52:29.347Z"
   },
   {
    "duration": 8,
    "start_time": "2024-07-19T21:52:29.360Z"
   },
   {
    "duration": 183,
    "start_time": "2024-07-19T21:52:29.371Z"
   },
   {
    "duration": 18,
    "start_time": "2024-07-19T21:52:29.558Z"
   },
   {
    "duration": 5,
    "start_time": "2024-07-19T21:52:29.579Z"
   },
   {
    "duration": 40,
    "start_time": "2024-07-19T21:52:29.587Z"
   },
   {
    "duration": 415,
    "start_time": "2024-07-19T21:52:29.630Z"
   },
   {
    "duration": 767,
    "start_time": "2024-07-19T21:52:30.049Z"
   },
   {
    "duration": 3,
    "start_time": "2024-07-19T21:52:30.820Z"
   },
   {
    "duration": 171,
    "start_time": "2024-07-19T21:52:30.826Z"
   },
   {
    "duration": 12321,
    "start_time": "2024-07-19T21:52:31.001Z"
   },
   {
    "duration": 193,
    "start_time": "2024-07-19T21:52:43.325Z"
   },
   {
    "duration": 335471,
    "start_time": "2024-07-19T21:52:43.521Z"
   },
   {
    "duration": 10564,
    "start_time": "2024-07-19T21:58:18.995Z"
   },
   {
    "duration": 127628,
    "start_time": "2024-07-19T21:58:29.563Z"
   },
   {
    "duration": 0,
    "start_time": "2024-07-19T22:00:37.195Z"
   },
   {
    "duration": 0,
    "start_time": "2024-07-19T22:00:37.197Z"
   },
   {
    "duration": 0,
    "start_time": "2024-07-19T22:00:37.199Z"
   },
   {
    "duration": 0,
    "start_time": "2024-07-19T22:00:37.213Z"
   },
   {
    "duration": 0,
    "start_time": "2024-07-19T22:00:37.216Z"
   },
   {
    "duration": 1543,
    "start_time": "2024-07-19T22:01:22.702Z"
   },
   {
    "duration": 29,
    "start_time": "2024-07-19T22:02:52.411Z"
   },
   {
    "duration": 28,
    "start_time": "2024-07-19T22:03:19.433Z"
   },
   {
    "duration": 28,
    "start_time": "2024-07-19T22:03:24.530Z"
   },
   {
    "duration": 10,
    "start_time": "2024-07-19T22:03:45.090Z"
   },
   {
    "duration": 4656,
    "start_time": "2024-07-19T22:04:18.339Z"
   },
   {
    "duration": 303,
    "start_time": "2024-07-19T22:05:33.984Z"
   },
   {
    "duration": 1693,
    "start_time": "2024-07-19T22:06:35.148Z"
   },
   {
    "duration": 796,
    "start_time": "2024-07-19T22:06:36.844Z"
   },
   {
    "duration": 150,
    "start_time": "2024-07-19T22:06:37.644Z"
   },
   {
    "duration": 6,
    "start_time": "2024-07-19T22:06:37.817Z"
   },
   {
    "duration": 37,
    "start_time": "2024-07-19T22:06:37.827Z"
   },
   {
    "duration": 448,
    "start_time": "2024-07-19T22:06:37.867Z"
   },
   {
    "duration": 954,
    "start_time": "2024-07-19T22:06:38.319Z"
   },
   {
    "duration": 53,
    "start_time": "2024-07-19T22:06:39.276Z"
   },
   {
    "duration": 15,
    "start_time": "2024-07-19T22:06:39.333Z"
   },
   {
    "duration": 150,
    "start_time": "2024-07-19T22:06:39.352Z"
   },
   {
    "duration": 87,
    "start_time": "2024-07-19T22:06:39.505Z"
   },
   {
    "duration": 49,
    "start_time": "2024-07-19T22:06:39.596Z"
   },
   {
    "duration": 101,
    "start_time": "2024-07-19T22:06:39.649Z"
   },
   {
    "duration": 7,
    "start_time": "2024-07-19T22:06:39.754Z"
   },
   {
    "duration": 20,
    "start_time": "2024-07-19T22:06:40.967Z"
   },
   {
    "duration": 329,
    "start_time": "2024-07-19T22:06:41.464Z"
   },
   {
    "duration": 340,
    "start_time": "2024-07-19T22:07:01.996Z"
   },
   {
    "duration": 46,
    "start_time": "2024-07-19T22:07:30.452Z"
   },
   {
    "duration": 310,
    "start_time": "2024-07-19T22:07:31.175Z"
   },
   {
    "duration": 37,
    "start_time": "2024-07-19T22:07:40.996Z"
   },
   {
    "duration": 278,
    "start_time": "2024-07-19T22:07:43.749Z"
   },
   {
    "duration": 1149,
    "start_time": "2024-07-19T22:09:18.914Z"
   },
   {
    "duration": 38,
    "start_time": "2024-07-19T22:09:27.112Z"
   },
   {
    "duration": 30,
    "start_time": "2024-07-19T22:11:52.786Z"
   },
   {
    "duration": 328,
    "start_time": "2024-07-19T22:12:14.738Z"
   },
   {
    "duration": 1750,
    "start_time": "2024-07-19T22:13:21.489Z"
   },
   {
    "duration": 781,
    "start_time": "2024-07-19T22:13:23.242Z"
   },
   {
    "duration": 152,
    "start_time": "2024-07-19T22:13:24.026Z"
   },
   {
    "duration": 6,
    "start_time": "2024-07-19T22:13:24.182Z"
   },
   {
    "duration": 35,
    "start_time": "2024-07-19T22:13:24.212Z"
   },
   {
    "duration": 457,
    "start_time": "2024-07-19T22:13:24.249Z"
   },
   {
    "duration": 932,
    "start_time": "2024-07-19T22:13:24.708Z"
   },
   {
    "duration": 40,
    "start_time": "2024-07-19T22:13:25.643Z"
   },
   {
    "duration": 28,
    "start_time": "2024-07-19T22:13:25.686Z"
   },
   {
    "duration": 120,
    "start_time": "2024-07-19T22:13:25.722Z"
   },
   {
    "duration": 93,
    "start_time": "2024-07-19T22:13:25.845Z"
   },
   {
    "duration": 38,
    "start_time": "2024-07-19T22:13:25.944Z"
   },
   {
    "duration": 103,
    "start_time": "2024-07-19T22:13:25.985Z"
   },
   {
    "duration": 20,
    "start_time": "2024-07-19T22:13:26.091Z"
   },
   {
    "duration": 12,
    "start_time": "2024-07-19T22:13:26.115Z"
   },
   {
    "duration": 389,
    "start_time": "2024-07-19T22:13:26.130Z"
   },
   {
    "duration": 44,
    "start_time": "2024-07-19T22:13:26.522Z"
   },
   {
    "duration": 392,
    "start_time": "2024-07-19T22:13:26.568Z"
   },
   {
    "duration": 14,
    "start_time": "2024-07-19T22:13:26.964Z"
   },
   {
    "duration": 61,
    "start_time": "2024-07-19T22:13:26.981Z"
   },
   {
    "duration": 12,
    "start_time": "2024-07-19T22:13:27.045Z"
   },
   {
    "duration": 54,
    "start_time": "2024-07-19T22:13:27.060Z"
   },
   {
    "duration": 39,
    "start_time": "2024-07-19T22:13:27.117Z"
   },
   {
    "duration": 14,
    "start_time": "2024-07-19T22:13:27.159Z"
   },
   {
    "duration": 85,
    "start_time": "2024-07-19T22:13:27.177Z"
   },
   {
    "duration": 5,
    "start_time": "2024-07-19T22:13:27.265Z"
   },
   {
    "duration": 318,
    "start_time": "2024-07-19T22:13:27.273Z"
   },
   {
    "duration": 40,
    "start_time": "2024-07-19T22:13:27.612Z"
   },
   {
    "duration": 34,
    "start_time": "2024-07-19T22:13:27.655Z"
   },
   {
    "duration": 51,
    "start_time": "2024-07-19T22:13:27.712Z"
   },
   {
    "duration": 60,
    "start_time": "2024-07-19T22:13:27.765Z"
   },
   {
    "duration": 4608,
    "start_time": "2024-07-19T22:13:27.828Z"
   },
   {
    "duration": 19,
    "start_time": "2024-07-19T22:13:32.440Z"
   },
   {
    "duration": 72,
    "start_time": "2024-07-19T22:13:32.462Z"
   },
   {
    "duration": 41,
    "start_time": "2024-07-19T22:13:32.537Z"
   },
   {
    "duration": 63,
    "start_time": "2024-07-19T22:13:32.581Z"
   },
   {
    "duration": 65,
    "start_time": "2024-07-19T22:13:32.647Z"
   },
   {
    "duration": 41,
    "start_time": "2024-07-19T22:13:32.715Z"
   },
   {
    "duration": 84,
    "start_time": "2024-07-19T22:13:32.759Z"
   },
   {
    "duration": 70,
    "start_time": "2024-07-19T22:13:32.846Z"
   },
   {
    "duration": 20,
    "start_time": "2024-07-19T22:13:32.920Z"
   },
   {
    "duration": 96,
    "start_time": "2024-07-19T22:13:32.944Z"
   },
   {
    "duration": 70,
    "start_time": "2024-07-19T22:13:33.044Z"
   },
   {
    "duration": 9,
    "start_time": "2024-07-19T22:13:33.118Z"
   },
   {
    "duration": 6,
    "start_time": "2024-07-19T22:13:33.130Z"
   },
   {
    "duration": 31,
    "start_time": "2024-07-19T22:13:33.139Z"
   },
   {
    "duration": 46,
    "start_time": "2024-07-19T22:13:33.173Z"
   },
   {
    "duration": 27,
    "start_time": "2024-07-19T22:13:33.223Z"
   },
   {
    "duration": 9,
    "start_time": "2024-07-19T22:13:33.253Z"
   },
   {
    "duration": 8,
    "start_time": "2024-07-19T22:13:33.265Z"
   },
   {
    "duration": 173,
    "start_time": "2024-07-19T22:13:33.314Z"
   },
   {
    "duration": 33,
    "start_time": "2024-07-19T22:13:33.490Z"
   },
   {
    "duration": 6,
    "start_time": "2024-07-19T22:13:33.529Z"
   },
   {
    "duration": 19,
    "start_time": "2024-07-19T22:13:33.538Z"
   },
   {
    "duration": 471,
    "start_time": "2024-07-19T22:13:33.560Z"
   },
   {
    "duration": 0,
    "start_time": "2024-07-19T22:13:34.033Z"
   },
   {
    "duration": 0,
    "start_time": "2024-07-19T22:13:34.036Z"
   },
   {
    "duration": 0,
    "start_time": "2024-07-19T22:13:34.038Z"
   },
   {
    "duration": 0,
    "start_time": "2024-07-19T22:13:34.041Z"
   },
   {
    "duration": 0,
    "start_time": "2024-07-19T22:13:34.044Z"
   },
   {
    "duration": 0,
    "start_time": "2024-07-19T22:13:34.047Z"
   },
   {
    "duration": 0,
    "start_time": "2024-07-19T22:13:34.049Z"
   },
   {
    "duration": 0,
    "start_time": "2024-07-19T22:13:34.050Z"
   },
   {
    "duration": 0,
    "start_time": "2024-07-19T22:13:34.052Z"
   },
   {
    "duration": 0,
    "start_time": "2024-07-19T22:13:34.053Z"
   },
   {
    "duration": 0,
    "start_time": "2024-07-19T22:13:34.055Z"
   },
   {
    "duration": 0,
    "start_time": "2024-07-19T22:13:34.058Z"
   },
   {
    "duration": 0,
    "start_time": "2024-07-19T22:13:34.060Z"
   },
   {
    "duration": 0,
    "start_time": "2024-07-19T22:13:34.061Z"
   },
   {
    "duration": 121,
    "start_time": "2024-07-19T22:14:46.517Z"
   },
   {
    "duration": 35,
    "start_time": "2024-07-19T22:15:10.181Z"
   },
   {
    "duration": 7,
    "start_time": "2024-07-19T22:15:28.113Z"
   },
   {
    "duration": 504,
    "start_time": "2024-07-19T22:15:37.540Z"
   },
   {
    "duration": 428,
    "start_time": "2024-07-19T22:15:54.284Z"
   },
   {
    "duration": 1702,
    "start_time": "2024-07-19T22:21:48.541Z"
   },
   {
    "duration": 766,
    "start_time": "2024-07-19T22:21:50.246Z"
   },
   {
    "duration": 158,
    "start_time": "2024-07-19T22:21:51.014Z"
   },
   {
    "duration": 6,
    "start_time": "2024-07-19T22:21:51.176Z"
   },
   {
    "duration": 55,
    "start_time": "2024-07-19T22:21:51.185Z"
   },
   {
    "duration": 427,
    "start_time": "2024-07-19T22:21:51.244Z"
   },
   {
    "duration": 935,
    "start_time": "2024-07-19T22:21:51.674Z"
   },
   {
    "duration": 47,
    "start_time": "2024-07-19T22:21:52.611Z"
   },
   {
    "duration": 14,
    "start_time": "2024-07-19T22:21:52.662Z"
   },
   {
    "duration": 129,
    "start_time": "2024-07-19T22:21:52.683Z"
   },
   {
    "duration": 71,
    "start_time": "2024-07-19T22:21:52.814Z"
   },
   {
    "duration": 51,
    "start_time": "2024-07-19T22:21:52.888Z"
   },
   {
    "duration": 105,
    "start_time": "2024-07-19T22:21:52.942Z"
   },
   {
    "duration": 6,
    "start_time": "2024-07-19T22:21:53.050Z"
   },
   {
    "duration": 12,
    "start_time": "2024-07-19T22:21:53.059Z"
   },
   {
    "duration": 413,
    "start_time": "2024-07-19T22:21:53.074Z"
   },
   {
    "duration": 59,
    "start_time": "2024-07-19T22:21:53.490Z"
   },
   {
    "duration": 356,
    "start_time": "2024-07-19T22:21:53.551Z"
   },
   {
    "duration": 14,
    "start_time": "2024-07-19T22:21:53.913Z"
   },
   {
    "duration": 38,
    "start_time": "2024-07-19T22:21:53.931Z"
   },
   {
    "duration": 48,
    "start_time": "2024-07-19T22:21:53.972Z"
   },
   {
    "duration": 14,
    "start_time": "2024-07-19T22:21:54.023Z"
   },
   {
    "duration": 42,
    "start_time": "2024-07-19T22:21:54.039Z"
   },
   {
    "duration": 16,
    "start_time": "2024-07-19T22:21:54.112Z"
   },
   {
    "duration": 83,
    "start_time": "2024-07-19T22:21:54.131Z"
   },
   {
    "duration": 5,
    "start_time": "2024-07-19T22:21:54.217Z"
   },
   {
    "duration": 323,
    "start_time": "2024-07-19T22:21:54.225Z"
   },
   {
    "duration": 41,
    "start_time": "2024-07-19T22:21:54.557Z"
   },
   {
    "duration": 37,
    "start_time": "2024-07-19T22:21:54.613Z"
   },
   {
    "duration": 77,
    "start_time": "2024-07-19T22:21:54.652Z"
   },
   {
    "duration": 45,
    "start_time": "2024-07-19T22:21:54.732Z"
   },
   {
    "duration": 4715,
    "start_time": "2024-07-19T22:21:54.779Z"
   },
   {
    "duration": 24,
    "start_time": "2024-07-19T22:21:59.497Z"
   },
   {
    "duration": 47,
    "start_time": "2024-07-19T22:21:59.524Z"
   },
   {
    "duration": 62,
    "start_time": "2024-07-19T22:21:59.573Z"
   },
   {
    "duration": 41,
    "start_time": "2024-07-19T22:21:59.638Z"
   },
   {
    "duration": 73,
    "start_time": "2024-07-19T22:21:59.682Z"
   },
   {
    "duration": 58,
    "start_time": "2024-07-19T22:21:59.758Z"
   },
   {
    "duration": 65,
    "start_time": "2024-07-19T22:21:59.819Z"
   },
   {
    "duration": 78,
    "start_time": "2024-07-19T22:21:59.887Z"
   },
   {
    "duration": 22,
    "start_time": "2024-07-19T22:21:59.968Z"
   },
   {
    "duration": 66,
    "start_time": "2024-07-19T22:21:59.993Z"
   },
   {
    "duration": 87,
    "start_time": "2024-07-19T22:22:00.062Z"
   },
   {
    "duration": 4,
    "start_time": "2024-07-19T22:22:00.152Z"
   },
   {
    "duration": 5,
    "start_time": "2024-07-19T22:22:00.158Z"
   },
   {
    "duration": 59,
    "start_time": "2024-07-19T22:22:00.166Z"
   },
   {
    "duration": 9,
    "start_time": "2024-07-19T22:22:00.228Z"
   },
   {
    "duration": 27,
    "start_time": "2024-07-19T22:22:00.240Z"
   },
   {
    "duration": 44,
    "start_time": "2024-07-19T22:22:00.270Z"
   },
   {
    "duration": 9,
    "start_time": "2024-07-19T22:22:00.317Z"
   },
   {
    "duration": 162,
    "start_time": "2024-07-19T22:22:00.329Z"
   },
   {
    "duration": 26,
    "start_time": "2024-07-19T22:22:00.494Z"
   },
   {
    "duration": 3,
    "start_time": "2024-07-19T22:22:00.523Z"
   },
   {
    "duration": 19,
    "start_time": "2024-07-19T22:22:00.529Z"
   },
   {
    "duration": 509,
    "start_time": "2024-07-19T22:22:00.551Z"
   },
   {
    "duration": 368,
    "start_time": "2024-07-19T22:22:01.064Z"
   },
   {
    "duration": 748,
    "start_time": "2024-07-19T22:22:01.435Z"
   },
   {
    "duration": 4,
    "start_time": "2024-07-19T22:22:02.186Z"
   },
   {
    "duration": 169,
    "start_time": "2024-07-19T22:22:02.193Z"
   },
   {
    "duration": 10970,
    "start_time": "2024-07-19T22:22:02.365Z"
   },
   {
    "duration": 202,
    "start_time": "2024-07-19T22:22:13.340Z"
   },
   {
    "duration": 323726,
    "start_time": "2024-07-19T22:22:13.551Z"
   },
   {
    "duration": 10133,
    "start_time": "2024-07-19T22:27:37.280Z"
   },
   {
    "duration": 480618,
    "start_time": "2024-07-19T22:27:47.416Z"
   },
   {
    "duration": 78,
    "start_time": "2024-07-19T22:35:48.037Z"
   },
   {
    "duration": 2344,
    "start_time": "2024-07-19T22:35:48.118Z"
   },
   {
    "duration": 1007172,
    "start_time": "2024-07-19T22:35:50.465Z"
   },
   {
    "duration": 495,
    "start_time": "2024-07-19T22:52:37.640Z"
   },
   {
    "duration": 0,
    "start_time": "2024-07-19T22:52:38.138Z"
   },
   {
    "duration": 577393,
    "start_time": "2024-07-19T23:02:36.982Z"
   },
   {
    "duration": 1659,
    "start_time": "2024-07-19T23:29:34.759Z"
   },
   {
    "duration": 782,
    "start_time": "2024-07-19T23:29:36.421Z"
   },
   {
    "duration": 169,
    "start_time": "2024-07-19T23:29:37.206Z"
   },
   {
    "duration": 6,
    "start_time": "2024-07-19T23:29:37.379Z"
   },
   {
    "duration": 53,
    "start_time": "2024-07-19T23:29:37.392Z"
   },
   {
    "duration": 441,
    "start_time": "2024-07-19T23:29:37.448Z"
   },
   {
    "duration": 951,
    "start_time": "2024-07-19T23:29:37.893Z"
   },
   {
    "duration": 43,
    "start_time": "2024-07-19T23:29:38.847Z"
   },
   {
    "duration": 14,
    "start_time": "2024-07-19T23:29:38.912Z"
   },
   {
    "duration": 115,
    "start_time": "2024-07-19T23:29:38.930Z"
   },
   {
    "duration": 92,
    "start_time": "2024-07-19T23:29:39.051Z"
   },
   {
    "duration": 48,
    "start_time": "2024-07-19T23:29:39.147Z"
   },
   {
    "duration": 79,
    "start_time": "2024-07-19T23:29:39.214Z"
   },
   {
    "duration": 6,
    "start_time": "2024-07-19T23:29:39.311Z"
   },
   {
    "duration": 13,
    "start_time": "2024-07-19T23:29:39.321Z"
   },
   {
    "duration": 388,
    "start_time": "2024-07-19T23:29:39.337Z"
   },
   {
    "duration": 42,
    "start_time": "2024-07-19T23:29:39.727Z"
   },
   {
    "duration": 366,
    "start_time": "2024-07-19T23:29:39.772Z"
   },
   {
    "duration": 13,
    "start_time": "2024-07-19T23:29:40.141Z"
   },
   {
    "duration": 76,
    "start_time": "2024-07-19T23:29:40.157Z"
   },
   {
    "duration": 10,
    "start_time": "2024-07-19T23:29:40.236Z"
   },
   {
    "duration": 14,
    "start_time": "2024-07-19T23:29:40.249Z"
   },
   {
    "duration": 79,
    "start_time": "2024-07-19T23:29:40.266Z"
   },
   {
    "duration": 15,
    "start_time": "2024-07-19T23:29:40.348Z"
   },
   {
    "duration": 82,
    "start_time": "2024-07-19T23:29:40.366Z"
   },
   {
    "duration": 6,
    "start_time": "2024-07-19T23:29:40.451Z"
   },
   {
    "duration": 305,
    "start_time": "2024-07-19T23:29:40.462Z"
   },
   {
    "duration": 53,
    "start_time": "2024-07-19T23:29:40.770Z"
   },
   {
    "duration": 37,
    "start_time": "2024-07-19T23:29:40.825Z"
   },
   {
    "duration": 73,
    "start_time": "2024-07-19T23:29:40.865Z"
   },
   {
    "duration": 45,
    "start_time": "2024-07-19T23:29:40.940Z"
   },
   {
    "duration": 4632,
    "start_time": "2024-07-19T23:29:40.988Z"
   },
   {
    "duration": 20,
    "start_time": "2024-07-19T23:29:45.623Z"
   },
   {
    "duration": 74,
    "start_time": "2024-07-19T23:29:45.646Z"
   },
   {
    "duration": 41,
    "start_time": "2024-07-19T23:29:45.723Z"
   },
   {
    "duration": 62,
    "start_time": "2024-07-19T23:29:45.767Z"
   },
   {
    "duration": 41,
    "start_time": "2024-07-19T23:29:45.832Z"
   },
   {
    "duration": 59,
    "start_time": "2024-07-19T23:29:45.876Z"
   },
   {
    "duration": 88,
    "start_time": "2024-07-19T23:29:45.938Z"
   },
   {
    "duration": 54,
    "start_time": "2024-07-19T23:29:46.030Z"
   },
   {
    "duration": 21,
    "start_time": "2024-07-19T23:29:46.111Z"
   },
   {
    "duration": 49,
    "start_time": "2024-07-19T23:29:46.135Z"
   },
   {
    "duration": 85,
    "start_time": "2024-07-19T23:29:46.187Z"
   },
   {
    "duration": 4,
    "start_time": "2024-07-19T23:29:46.275Z"
   },
   {
    "duration": 31,
    "start_time": "2024-07-19T23:29:46.282Z"
   },
   {
    "duration": 29,
    "start_time": "2024-07-19T23:29:46.317Z"
   },
   {
    "duration": 10,
    "start_time": "2024-07-19T23:29:46.349Z"
   },
   {
    "duration": 58,
    "start_time": "2024-07-19T23:29:46.362Z"
   },
   {
    "duration": 10,
    "start_time": "2024-07-19T23:29:46.423Z"
   },
   {
    "duration": 7,
    "start_time": "2024-07-19T23:29:46.437Z"
   },
   {
    "duration": 180,
    "start_time": "2024-07-19T23:29:46.447Z"
   },
   {
    "duration": 22,
    "start_time": "2024-07-19T23:29:46.630Z"
   },
   {
    "duration": 4,
    "start_time": "2024-07-19T23:29:46.655Z"
   },
   {
    "duration": 53,
    "start_time": "2024-07-19T23:29:46.663Z"
   },
   {
    "duration": 441,
    "start_time": "2024-07-19T23:29:46.720Z"
   },
   {
    "duration": 372,
    "start_time": "2024-07-19T23:29:47.164Z"
   },
   {
    "duration": 749,
    "start_time": "2024-07-19T23:29:47.539Z"
   },
   {
    "duration": 5,
    "start_time": "2024-07-19T23:29:48.291Z"
   },
   {
    "duration": 135,
    "start_time": "2024-07-19T23:29:48.313Z"
   },
   {
    "duration": 11167,
    "start_time": "2024-07-19T23:29:48.452Z"
   },
   {
    "duration": 118,
    "start_time": "2024-07-19T23:29:59.623Z"
   },
   {
    "duration": 325934,
    "start_time": "2024-07-19T23:29:59.816Z"
   },
   {
    "duration": 10309,
    "start_time": "2024-07-19T23:35:25.753Z"
   },
   {
    "duration": 482573,
    "start_time": "2024-07-19T23:35:36.066Z"
   },
   {
    "duration": 76,
    "start_time": "2024-07-19T23:43:38.643Z"
   },
   {
    "duration": 13398,
    "start_time": "2024-07-19T23:43:38.722Z"
   },
   {
    "duration": 1125822,
    "start_time": "2024-07-19T23:43:52.123Z"
   },
   {
    "duration": 6674,
    "start_time": "2024-07-20T00:02:37.948Z"
   },
   {
    "duration": 6304,
    "start_time": "2024-07-20T00:02:44.625Z"
   },
   {
    "duration": 571,
    "start_time": "2024-07-20T00:38:59.242Z"
   },
   {
    "duration": 1175,
    "start_time": "2024-07-20T00:40:04.984Z"
   },
   {
    "duration": 485,
    "start_time": "2024-07-20T00:41:35.171Z"
   },
   {
    "duration": 1663,
    "start_time": "2024-07-20T00:41:56.919Z"
   },
   {
    "duration": 774,
    "start_time": "2024-07-20T00:41:59.935Z"
   },
   {
    "duration": 141,
    "start_time": "2024-07-20T00:42:06.284Z"
   },
   {
    "duration": 6,
    "start_time": "2024-07-20T00:42:11.662Z"
   },
   {
    "duration": 33,
    "start_time": "2024-07-20T00:42:14.187Z"
   },
   {
    "duration": 403,
    "start_time": "2024-07-20T00:42:24.468Z"
   },
   {
    "duration": 899,
    "start_time": "2024-07-20T00:42:29.393Z"
   },
   {
    "duration": 44,
    "start_time": "2024-07-20T00:42:43.091Z"
   },
   {
    "duration": 14,
    "start_time": "2024-07-20T00:42:50.826Z"
   },
   {
    "duration": 99,
    "start_time": "2024-07-20T00:42:56.337Z"
   },
   {
    "duration": 89,
    "start_time": "2024-07-20T00:43:14.213Z"
   },
   {
    "duration": 35,
    "start_time": "2024-07-20T00:43:40.665Z"
   },
   {
    "duration": 85,
    "start_time": "2024-07-20T00:43:43.874Z"
   },
   {
    "duration": 6,
    "start_time": "2024-07-20T00:43:46.260Z"
   },
   {
    "duration": 12,
    "start_time": "2024-07-20T00:43:50.246Z"
   },
   {
    "duration": 368,
    "start_time": "2024-07-20T00:43:54.146Z"
   },
   {
    "duration": 41,
    "start_time": "2024-07-20T00:43:54.799Z"
   },
   {
    "duration": 349,
    "start_time": "2024-07-20T00:44:00.568Z"
   },
   {
    "duration": 14,
    "start_time": "2024-07-20T00:44:13.312Z"
   },
   {
    "duration": 42,
    "start_time": "2024-07-20T00:44:15.989Z"
   },
   {
    "duration": 11,
    "start_time": "2024-07-20T00:44:16.792Z"
   },
   {
    "duration": 16,
    "start_time": "2024-07-20T00:44:18.812Z"
   },
   {
    "duration": 43,
    "start_time": "2024-07-20T00:44:19.850Z"
   },
   {
    "duration": 15,
    "start_time": "2024-07-20T00:44:24.464Z"
   },
   {
    "duration": 60,
    "start_time": "2024-07-20T00:44:29.159Z"
   },
   {
    "duration": 6,
    "start_time": "2024-07-20T00:44:29.517Z"
   },
   {
    "duration": 325,
    "start_time": "2024-07-20T00:44:29.887Z"
   },
   {
    "duration": 43,
    "start_time": "2024-07-20T00:44:30.215Z"
   },
   {
    "duration": 37,
    "start_time": "2024-07-20T00:44:31.308Z"
   },
   {
    "duration": 55,
    "start_time": "2024-07-20T00:44:32.736Z"
   },
   {
    "duration": 48,
    "start_time": "2024-07-20T00:44:35.527Z"
   },
   {
    "duration": 4880,
    "start_time": "2024-07-20T00:44:38.971Z"
   },
   {
    "duration": 18,
    "start_time": "2024-07-20T00:44:43.855Z"
   },
   {
    "duration": 71,
    "start_time": "2024-07-20T00:44:43.876Z"
   },
   {
    "duration": 43,
    "start_time": "2024-07-20T00:44:47.809Z"
   },
   {
    "duration": 45,
    "start_time": "2024-07-20T00:44:48.281Z"
   },
   {
    "duration": 51,
    "start_time": "2024-07-20T00:44:53.992Z"
   },
   {
    "duration": 70,
    "start_time": "2024-07-20T00:45:19.941Z"
   },
   {
    "duration": 58,
    "start_time": "2024-07-20T00:45:22.082Z"
   },
   {
    "duration": 23,
    "start_time": "2024-07-20T00:45:25.579Z"
   },
   {
    "duration": 55,
    "start_time": "2024-07-20T00:45:47.792Z"
   },
   {
    "duration": 58,
    "start_time": "2024-07-20T00:45:59.032Z"
   },
   {
    "duration": 70,
    "start_time": "2024-07-20T00:46:03.201Z"
   },
   {
    "duration": 22,
    "start_time": "2024-07-20T00:46:40.224Z"
   },
   {
    "duration": 52,
    "start_time": "2024-07-20T00:46:48.082Z"
   },
   {
    "duration": 64,
    "start_time": "2024-07-20T00:47:02.095Z"
   },
   {
    "duration": 71,
    "start_time": "2024-07-20T00:47:20.058Z"
   },
   {
    "duration": 6,
    "start_time": "2024-07-20T00:47:59.273Z"
   },
   {
    "duration": 6,
    "start_time": "2024-07-20T00:48:05.733Z"
   },
   {
    "duration": 6,
    "start_time": "2024-07-20T00:48:50.448Z"
   },
   {
    "duration": 6,
    "start_time": "2024-07-20T00:48:58.428Z"
   },
   {
    "duration": 5,
    "start_time": "2024-07-20T00:49:15.323Z"
   },
   {
    "duration": 41,
    "start_time": "2024-07-20T00:49:28.123Z"
   },
   {
    "duration": 1842,
    "start_time": "2024-07-20T00:49:40.163Z"
   },
   {
    "duration": 19,
    "start_time": "2024-07-20T00:50:02.183Z"
   },
   {
    "duration": 3,
    "start_time": "2024-07-20T00:50:21.130Z"
   },
   {
    "duration": 29,
    "start_time": "2024-07-20T00:50:25.002Z"
   },
   {
    "duration": 33,
    "start_time": "2024-07-20T00:50:57.095Z"
   },
   {
    "duration": 10,
    "start_time": "2024-07-20T00:50:58.468Z"
   },
   {
    "duration": 8,
    "start_time": "2024-07-20T00:50:59.292Z"
   },
   {
    "duration": 265,
    "start_time": "2024-07-20T00:51:16.813Z"
   },
   {
    "duration": 64,
    "start_time": "2024-07-20T00:51:31.770Z"
   },
   {
    "duration": 73,
    "start_time": "2024-07-20T00:52:13.151Z"
   },
   {
    "duration": 16,
    "start_time": "2024-07-20T00:52:16.749Z"
   },
   {
    "duration": 8,
    "start_time": "2024-07-20T00:55:36.670Z"
   },
   {
    "duration": 841,
    "start_time": "2024-07-20T00:55:38.028Z"
   },
   {
    "duration": 148,
    "start_time": "2024-07-20T00:55:39.105Z"
   },
   {
    "duration": 7,
    "start_time": "2024-07-20T00:55:40.722Z"
   },
   {
    "duration": 32,
    "start_time": "2024-07-20T00:55:41.678Z"
   },
   {
    "duration": 375,
    "start_time": "2024-07-20T00:55:44.058Z"
   },
   {
    "duration": 809,
    "start_time": "2024-07-20T00:55:45.293Z"
   },
   {
    "duration": 45,
    "start_time": "2024-07-20T00:55:47.557Z"
   },
   {
    "duration": 15,
    "start_time": "2024-07-20T00:55:49.230Z"
   },
   {
    "duration": 70,
    "start_time": "2024-07-20T00:55:54.335Z"
   },
   {
    "duration": 35,
    "start_time": "2024-07-20T00:55:55.674Z"
   },
   {
    "duration": 78,
    "start_time": "2024-07-20T00:55:56.133Z"
   },
   {
    "duration": 8,
    "start_time": "2024-07-20T00:55:56.387Z"
   },
   {
    "duration": 14,
    "start_time": "2024-07-20T00:55:57.213Z"
   },
   {
    "duration": 345,
    "start_time": "2024-07-20T00:55:57.645Z"
   },
   {
    "duration": 47,
    "start_time": "2024-07-20T00:55:58.307Z"
   },
   {
    "duration": 330,
    "start_time": "2024-07-20T00:55:58.819Z"
   },
   {
    "duration": 11,
    "start_time": "2024-07-20T00:56:00.651Z"
   },
   {
    "duration": 45,
    "start_time": "2024-07-20T00:56:01.575Z"
   },
   {
    "duration": 11,
    "start_time": "2024-07-20T00:56:02.374Z"
   },
   {
    "duration": 15,
    "start_time": "2024-07-20T00:56:06.522Z"
   },
   {
    "duration": 41,
    "start_time": "2024-07-20T00:56:06.766Z"
   },
   {
    "duration": 14,
    "start_time": "2024-07-20T00:56:08.735Z"
   },
   {
    "duration": 60,
    "start_time": "2024-07-20T00:56:10.682Z"
   },
   {
    "duration": 5,
    "start_time": "2024-07-20T00:56:11.456Z"
   },
   {
    "duration": 363,
    "start_time": "2024-07-20T00:56:12.044Z"
   },
   {
    "duration": 45,
    "start_time": "2024-07-20T00:56:12.415Z"
   },
   {
    "duration": 41,
    "start_time": "2024-07-20T00:56:12.735Z"
   },
   {
    "duration": 56,
    "start_time": "2024-07-20T00:56:13.154Z"
   },
   {
    "duration": 65,
    "start_time": "2024-07-20T00:56:14.867Z"
   },
   {
    "duration": 4762,
    "start_time": "2024-07-20T00:56:15.425Z"
   },
   {
    "duration": 27,
    "start_time": "2024-07-20T00:56:20.191Z"
   },
   {
    "duration": 54,
    "start_time": "2024-07-20T00:56:20.221Z"
   },
   {
    "duration": 74,
    "start_time": "2024-07-20T00:56:20.279Z"
   },
   {
    "duration": 59,
    "start_time": "2024-07-20T00:56:20.357Z"
   },
   {
    "duration": 42,
    "start_time": "2024-07-20T00:56:20.419Z"
   },
   {
    "duration": 42,
    "start_time": "2024-07-20T00:56:22.048Z"
   },
   {
    "duration": 68,
    "start_time": "2024-07-20T00:56:22.938Z"
   },
   {
    "duration": 61,
    "start_time": "2024-07-20T00:56:23.363Z"
   },
   {
    "duration": 22,
    "start_time": "2024-07-20T00:56:24.518Z"
   },
   {
    "duration": 48,
    "start_time": "2024-07-20T00:56:25.264Z"
   },
   {
    "duration": 66,
    "start_time": "2024-07-20T00:56:27.128Z"
   },
   {
    "duration": 41,
    "start_time": "2024-07-20T00:56:28.165Z"
   },
   {
    "duration": 200,
    "start_time": "2024-07-20T00:57:52.744Z"
   },
   {
    "duration": 20,
    "start_time": "2024-07-20T00:58:19.365Z"
   },
   {
    "duration": 7,
    "start_time": "2024-07-20T00:58:45.036Z"
   },
   {
    "duration": 743,
    "start_time": "2024-07-20T00:58:45.361Z"
   },
   {
    "duration": 157,
    "start_time": "2024-07-20T00:58:46.113Z"
   },
   {
    "duration": 6,
    "start_time": "2024-07-20T00:58:46.273Z"
   },
   {
    "duration": 51,
    "start_time": "2024-07-20T00:58:46.283Z"
   },
   {
    "duration": 364,
    "start_time": "2024-07-20T00:58:46.457Z"
   },
   {
    "duration": 841,
    "start_time": "2024-07-20T00:58:46.824Z"
   },
   {
    "duration": 57,
    "start_time": "2024-07-20T00:58:47.669Z"
   },
   {
    "duration": 15,
    "start_time": "2024-07-20T00:58:47.729Z"
   },
   {
    "duration": 86,
    "start_time": "2024-07-20T00:58:47.747Z"
   },
   {
    "duration": 36,
    "start_time": "2024-07-20T00:58:47.895Z"
   },
   {
    "duration": 72,
    "start_time": "2024-07-20T00:58:48.096Z"
   },
   {
    "duration": 6,
    "start_time": "2024-07-20T00:58:48.923Z"
   },
   {
    "duration": 13,
    "start_time": "2024-07-20T00:58:49.326Z"
   },
   {
    "duration": 332,
    "start_time": "2024-07-20T00:58:49.530Z"
   },
   {
    "duration": 43,
    "start_time": "2024-07-20T00:58:50.150Z"
   },
   {
    "duration": 339,
    "start_time": "2024-07-20T00:58:50.323Z"
   },
   {
    "duration": 12,
    "start_time": "2024-07-20T00:58:51.170Z"
   },
   {
    "duration": 39,
    "start_time": "2024-07-20T00:58:51.354Z"
   },
   {
    "duration": 10,
    "start_time": "2024-07-20T00:58:51.527Z"
   },
   {
    "duration": 15,
    "start_time": "2024-07-20T00:58:51.708Z"
   },
   {
    "duration": 43,
    "start_time": "2024-07-20T00:58:52.610Z"
   },
   {
    "duration": 14,
    "start_time": "2024-07-20T00:58:53.399Z"
   },
   {
    "duration": 63,
    "start_time": "2024-07-20T00:58:54.590Z"
   },
   {
    "duration": 7,
    "start_time": "2024-07-20T00:58:54.791Z"
   },
   {
    "duration": 309,
    "start_time": "2024-07-20T00:58:54.970Z"
   },
   {
    "duration": 43,
    "start_time": "2024-07-20T00:58:55.471Z"
   },
   {
    "duration": 37,
    "start_time": "2024-07-20T00:58:55.649Z"
   },
   {
    "duration": 61,
    "start_time": "2024-07-20T00:58:55.858Z"
   },
   {
    "duration": 44,
    "start_time": "2024-07-20T00:58:56.802Z"
   },
   {
    "duration": 4728,
    "start_time": "2024-07-20T00:58:58.702Z"
   },
   {
    "duration": 18,
    "start_time": "2024-07-20T00:59:03.433Z"
   },
   {
    "duration": 66,
    "start_time": "2024-07-20T00:59:04.893Z"
   },
   {
    "duration": 79,
    "start_time": "2024-07-20T00:59:06.632Z"
   },
   {
    "duration": 50,
    "start_time": "2024-07-20T00:59:07.330Z"
   },
   {
    "duration": 44,
    "start_time": "2024-07-20T00:59:08.237Z"
   },
   {
    "duration": 67,
    "start_time": "2024-07-20T00:59:09.090Z"
   },
   {
    "duration": 87,
    "start_time": "2024-07-20T00:59:10.621Z"
   },
   {
    "duration": 58,
    "start_time": "2024-07-20T00:59:27.733Z"
   },
   {
    "duration": 23,
    "start_time": "2024-07-20T00:59:30.504Z"
   },
   {
    "duration": 51,
    "start_time": "2024-07-20T00:59:31.935Z"
   },
   {
    "duration": 92,
    "start_time": "2024-07-20T00:59:34.205Z"
   },
   {
    "duration": 36,
    "start_time": "2024-07-20T01:00:13.584Z"
   },
   {
    "duration": 17,
    "start_time": "2024-07-20T01:00:14.529Z"
   },
   {
    "duration": 4,
    "start_time": "2024-07-20T01:00:21.069Z"
   },
   {
    "duration": 37,
    "start_time": "2024-07-20T01:00:23.025Z"
   },
   {
    "duration": 9,
    "start_time": "2024-07-20T01:00:24.096Z"
   },
   {
    "duration": 29,
    "start_time": "2024-07-20T01:00:25.738Z"
   },
   {
    "duration": 8,
    "start_time": "2024-07-20T01:00:26.541Z"
   },
   {
    "duration": 7,
    "start_time": "2024-07-20T01:00:27.495Z"
   },
   {
    "duration": 77,
    "start_time": "2024-07-20T01:00:54.774Z"
   },
   {
    "duration": 17,
    "start_time": "2024-07-20T01:01:05.702Z"
   },
   {
    "duration": 434,
    "start_time": "2024-07-20T01:01:16.089Z"
   },
   {
    "duration": 200,
    "start_time": "2024-07-20T01:01:38.147Z"
   },
   {
    "duration": 4,
    "start_time": "2024-07-20T01:02:56.087Z"
   },
   {
    "duration": 311,
    "start_time": "2024-07-20T01:03:04.587Z"
   },
   {
    "duration": 644,
    "start_time": "2024-07-20T01:03:10.261Z"
   },
   {
    "duration": 5,
    "start_time": "2024-07-20T01:03:13.584Z"
   },
   {
    "duration": 122,
    "start_time": "2024-07-20T01:03:15.421Z"
   },
   {
    "duration": 125,
    "start_time": "2024-07-20T01:03:43.954Z"
   },
   {
    "duration": 10355,
    "start_time": "2024-07-20T01:03:50.465Z"
   },
   {
    "duration": 35,
    "start_time": "2024-07-20T01:04:03.709Z"
   },
   {
    "duration": 8,
    "start_time": "2024-07-20T01:04:43.712Z"
   },
   {
    "duration": 20350,
    "start_time": "2024-07-20T01:07:45.266Z"
   },
   {
    "duration": 30811,
    "start_time": "2024-07-20T01:10:16.814Z"
   },
   {
    "duration": 20425,
    "start_time": "2024-07-20T01:10:57.792Z"
   },
   {
    "duration": 8137,
    "start_time": "2024-07-20T01:13:47.787Z"
   },
   {
    "duration": 1686,
    "start_time": "2024-07-20T01:20:42.545Z"
   },
   {
    "duration": 782,
    "start_time": "2024-07-20T01:20:44.235Z"
   },
   {
    "duration": 153,
    "start_time": "2024-07-20T01:20:45.020Z"
   },
   {
    "duration": 6,
    "start_time": "2024-07-20T01:20:45.177Z"
   },
   {
    "duration": 52,
    "start_time": "2024-07-20T01:20:45.187Z"
   },
   {
    "duration": 421,
    "start_time": "2024-07-20T01:20:45.241Z"
   },
   {
    "duration": 907,
    "start_time": "2024-07-20T01:20:45.665Z"
   },
   {
    "duration": 56,
    "start_time": "2024-07-20T01:20:46.576Z"
   },
   {
    "duration": 14,
    "start_time": "2024-07-20T01:20:46.635Z"
   },
   {
    "duration": 93,
    "start_time": "2024-07-20T01:20:46.655Z"
   },
   {
    "duration": 38,
    "start_time": "2024-07-20T01:20:46.751Z"
   },
   {
    "duration": 101,
    "start_time": "2024-07-20T01:20:46.792Z"
   },
   {
    "duration": 18,
    "start_time": "2024-07-20T01:20:46.899Z"
   },
   {
    "duration": 13,
    "start_time": "2024-07-20T01:20:46.922Z"
   },
   {
    "duration": 391,
    "start_time": "2024-07-20T01:20:46.939Z"
   },
   {
    "duration": 46,
    "start_time": "2024-07-20T01:20:47.334Z"
   },
   {
    "duration": 363,
    "start_time": "2024-07-20T01:20:47.383Z"
   },
   {
    "duration": 13,
    "start_time": "2024-07-20T01:20:47.749Z"
   },
   {
    "duration": 62,
    "start_time": "2024-07-20T01:20:47.764Z"
   },
   {
    "duration": 10,
    "start_time": "2024-07-20T01:20:47.829Z"
   },
   {
    "duration": 14,
    "start_time": "2024-07-20T01:20:47.842Z"
   },
   {
    "duration": 77,
    "start_time": "2024-07-20T01:20:47.859Z"
   },
   {
    "duration": 14,
    "start_time": "2024-07-20T01:20:47.939Z"
   },
   {
    "duration": 92,
    "start_time": "2024-07-20T01:20:47.956Z"
   },
   {
    "duration": 5,
    "start_time": "2024-07-20T01:20:48.051Z"
   },
   {
    "duration": 318,
    "start_time": "2024-07-20T01:20:48.059Z"
   },
   {
    "duration": 56,
    "start_time": "2024-07-20T01:20:48.380Z"
   },
   {
    "duration": 36,
    "start_time": "2024-07-20T01:20:48.446Z"
   },
   {
    "duration": 80,
    "start_time": "2024-07-20T01:20:48.485Z"
   },
   {
    "duration": 56,
    "start_time": "2024-07-20T01:20:48.568Z"
   },
   {
    "duration": 4885,
    "start_time": "2024-07-20T01:20:48.627Z"
   },
   {
    "duration": 18,
    "start_time": "2024-07-20T01:20:53.516Z"
   },
   {
    "duration": 50,
    "start_time": "2024-07-20T01:20:53.537Z"
   },
   {
    "duration": 65,
    "start_time": "2024-07-20T01:20:53.589Z"
   },
   {
    "duration": 69,
    "start_time": "2024-07-20T01:20:53.657Z"
   },
   {
    "duration": 43,
    "start_time": "2024-07-20T01:20:53.728Z"
   },
   {
    "duration": 60,
    "start_time": "2024-07-20T01:20:53.774Z"
   },
   {
    "duration": 81,
    "start_time": "2024-07-20T01:20:53.837Z"
   },
   {
    "duration": 58,
    "start_time": "2024-07-20T01:20:53.921Z"
   },
   {
    "duration": 43,
    "start_time": "2024-07-20T01:20:53.985Z"
   },
   {
    "duration": 50,
    "start_time": "2024-07-20T01:20:54.030Z"
   },
   {
    "duration": 110,
    "start_time": "2024-07-20T01:20:54.083Z"
   },
   {
    "duration": 52,
    "start_time": "2024-07-20T01:20:54.196Z"
   },
   {
    "duration": 14,
    "start_time": "2024-07-20T01:20:54.250Z"
   },
   {
    "duration": 3,
    "start_time": "2024-07-20T01:20:54.268Z"
   },
   {
    "duration": 64,
    "start_time": "2024-07-20T01:20:54.275Z"
   },
   {
    "duration": 8,
    "start_time": "2024-07-20T01:20:54.342Z"
   },
   {
    "duration": 60,
    "start_time": "2024-07-20T01:20:54.353Z"
   },
   {
    "duration": 10,
    "start_time": "2024-07-20T01:20:54.416Z"
   },
   {
    "duration": 9,
    "start_time": "2024-07-20T01:20:54.430Z"
   },
   {
    "duration": 119,
    "start_time": "2024-07-20T01:20:54.443Z"
   },
   {
    "duration": 17,
    "start_time": "2024-07-20T01:20:54.565Z"
   },
   {
    "duration": 464,
    "start_time": "2024-07-20T01:20:54.584Z"
   },
   {
    "duration": 341,
    "start_time": "2024-07-20T01:20:55.051Z"
   },
   {
    "duration": 665,
    "start_time": "2024-07-20T01:20:55.395Z"
   },
   {
    "duration": 3,
    "start_time": "2024-07-20T01:20:56.064Z"
   },
   {
    "duration": 153,
    "start_time": "2024-07-20T01:20:56.070Z"
   },
   {
    "duration": 20890,
    "start_time": "2024-07-20T01:20:56.226Z"
   },
   {
    "duration": 601,
    "start_time": "2024-07-20T01:21:17.118Z"
   },
   {
    "duration": 0,
    "start_time": "2024-07-20T01:21:17.722Z"
   },
   {
    "duration": 0,
    "start_time": "2024-07-20T01:21:17.724Z"
   },
   {
    "duration": 0,
    "start_time": "2024-07-20T01:21:17.725Z"
   },
   {
    "duration": 0,
    "start_time": "2024-07-20T01:21:17.727Z"
   },
   {
    "duration": 0,
    "start_time": "2024-07-20T01:21:17.729Z"
   },
   {
    "duration": 0,
    "start_time": "2024-07-20T01:21:17.731Z"
   },
   {
    "duration": 107251,
    "start_time": "2024-07-20T01:23:21.681Z"
   },
   {
    "duration": 8040,
    "start_time": "2024-07-20T01:25:30.778Z"
   },
   {
    "duration": 1699,
    "start_time": "2024-07-20T01:25:53.315Z"
   },
   {
    "duration": 772,
    "start_time": "2024-07-20T01:25:55.017Z"
   },
   {
    "duration": 150,
    "start_time": "2024-07-20T01:25:55.792Z"
   },
   {
    "duration": 6,
    "start_time": "2024-07-20T01:25:55.946Z"
   },
   {
    "duration": 62,
    "start_time": "2024-07-20T01:25:55.956Z"
   },
   {
    "duration": 415,
    "start_time": "2024-07-20T01:25:56.021Z"
   },
   {
    "duration": 895,
    "start_time": "2024-07-20T01:25:56.440Z"
   },
   {
    "duration": 49,
    "start_time": "2024-07-20T01:25:57.338Z"
   },
   {
    "duration": 32,
    "start_time": "2024-07-20T01:25:57.391Z"
   },
   {
    "duration": 85,
    "start_time": "2024-07-20T01:25:57.429Z"
   },
   {
    "duration": 36,
    "start_time": "2024-07-20T01:25:57.517Z"
   },
   {
    "duration": 103,
    "start_time": "2024-07-20T01:25:57.556Z"
   },
   {
    "duration": 5,
    "start_time": "2024-07-20T01:25:57.662Z"
   },
   {
    "duration": 12,
    "start_time": "2024-07-20T01:25:57.670Z"
   },
   {
    "duration": 395,
    "start_time": "2024-07-20T01:25:57.686Z"
   },
   {
    "duration": 62,
    "start_time": "2024-07-20T01:25:58.085Z"
   },
   {
    "duration": 362,
    "start_time": "2024-07-20T01:25:58.150Z"
   },
   {
    "duration": 13,
    "start_time": "2024-07-20T01:25:58.516Z"
   },
   {
    "duration": 40,
    "start_time": "2024-07-20T01:25:58.532Z"
   },
   {
    "duration": 45,
    "start_time": "2024-07-20T01:25:58.575Z"
   },
   {
    "duration": 15,
    "start_time": "2024-07-20T01:25:58.623Z"
   },
   {
    "duration": 74,
    "start_time": "2024-07-20T01:25:58.641Z"
   },
   {
    "duration": 14,
    "start_time": "2024-07-20T01:25:58.718Z"
   },
   {
    "duration": 85,
    "start_time": "2024-07-20T01:25:58.735Z"
   },
   {
    "duration": 5,
    "start_time": "2024-07-20T01:25:58.823Z"
   },
   {
    "duration": 338,
    "start_time": "2024-07-20T01:25:58.832Z"
   },
   {
    "duration": 52,
    "start_time": "2024-07-20T01:25:59.173Z"
   },
   {
    "duration": 36,
    "start_time": "2024-07-20T01:25:59.234Z"
   },
   {
    "duration": 70,
    "start_time": "2024-07-20T01:25:59.273Z"
   },
   {
    "duration": 44,
    "start_time": "2024-07-20T01:25:59.347Z"
   },
   {
    "duration": 4924,
    "start_time": "2024-07-20T01:25:59.413Z"
   },
   {
    "duration": 17,
    "start_time": "2024-07-20T01:26:04.343Z"
   },
   {
    "duration": 63,
    "start_time": "2024-07-20T01:26:04.364Z"
   },
   {
    "duration": 42,
    "start_time": "2024-07-20T01:26:04.429Z"
   },
   {
    "duration": 65,
    "start_time": "2024-07-20T01:26:04.474Z"
   },
   {
    "duration": 41,
    "start_time": "2024-07-20T01:26:04.542Z"
   },
   {
    "duration": 63,
    "start_time": "2024-07-20T01:26:04.586Z"
   },
   {
    "duration": 80,
    "start_time": "2024-07-20T01:26:04.652Z"
   },
   {
    "duration": 57,
    "start_time": "2024-07-20T01:26:04.735Z"
   },
   {
    "duration": 34,
    "start_time": "2024-07-20T01:26:04.795Z"
   },
   {
    "duration": 81,
    "start_time": "2024-07-20T01:26:04.832Z"
   },
   {
    "duration": 99,
    "start_time": "2024-07-20T01:26:04.916Z"
   },
   {
    "duration": 39,
    "start_time": "2024-07-20T01:26:05.018Z"
   },
   {
    "duration": 14,
    "start_time": "2024-07-20T01:26:05.059Z"
   },
   {
    "duration": 35,
    "start_time": "2024-07-20T01:26:05.077Z"
   },
   {
    "duration": 30,
    "start_time": "2024-07-20T01:26:05.116Z"
   },
   {
    "duration": 10,
    "start_time": "2024-07-20T01:26:05.149Z"
   },
   {
    "duration": 61,
    "start_time": "2024-07-20T01:26:05.162Z"
   },
   {
    "duration": 10,
    "start_time": "2024-07-20T01:26:05.226Z"
   },
   {
    "duration": 7,
    "start_time": "2024-07-20T01:26:05.239Z"
   },
   {
    "duration": 119,
    "start_time": "2024-07-20T01:26:05.250Z"
   },
   {
    "duration": 17,
    "start_time": "2024-07-20T01:26:05.373Z"
   },
   {
    "duration": 455,
    "start_time": "2024-07-20T01:26:05.393Z"
   },
   {
    "duration": 328,
    "start_time": "2024-07-20T01:26:05.852Z"
   },
   {
    "duration": 663,
    "start_time": "2024-07-20T01:26:06.183Z"
   },
   {
    "duration": 4,
    "start_time": "2024-07-20T01:26:06.849Z"
   },
   {
    "duration": 160,
    "start_time": "2024-07-20T01:26:06.855Z"
   },
   {
    "duration": 91210,
    "start_time": "2024-07-20T01:26:07.018Z"
   },
   {
    "duration": 8183,
    "start_time": "2024-07-20T01:27:38.236Z"
   },
   {
    "duration": 2534730,
    "start_time": "2024-07-20T01:27:46.425Z"
   },
   {
    "duration": 7292,
    "start_time": "2024-07-20T02:10:01.158Z"
   },
   {
    "duration": 1691,
    "start_time": "2024-07-20T02:45:35.209Z"
   },
   {
    "duration": 780,
    "start_time": "2024-07-20T02:45:36.903Z"
   },
   {
    "duration": 150,
    "start_time": "2024-07-20T02:45:37.686Z"
   },
   {
    "duration": 6,
    "start_time": "2024-07-20T02:45:37.840Z"
   },
   {
    "duration": 63,
    "start_time": "2024-07-20T02:45:37.849Z"
   },
   {
    "duration": 419,
    "start_time": "2024-07-20T02:45:37.915Z"
   },
   {
    "duration": 883,
    "start_time": "2024-07-20T02:45:38.339Z"
   },
   {
    "duration": 45,
    "start_time": "2024-07-20T02:45:39.225Z"
   },
   {
    "duration": 14,
    "start_time": "2024-07-20T02:45:39.273Z"
   },
   {
    "duration": 71,
    "start_time": "2024-07-20T02:45:39.314Z"
   },
   {
    "duration": 55,
    "start_time": "2024-07-20T02:45:39.388Z"
   },
   {
    "duration": 90,
    "start_time": "2024-07-20T02:45:39.448Z"
   },
   {
    "duration": 6,
    "start_time": "2024-07-20T02:45:39.541Z"
   },
   {
    "duration": 12,
    "start_time": "2024-07-20T02:45:39.550Z"
   },
   {
    "duration": 389,
    "start_time": "2024-07-20T02:45:39.565Z"
   },
   {
    "duration": 56,
    "start_time": "2024-07-20T02:45:39.957Z"
   },
   {
    "duration": 370,
    "start_time": "2024-07-20T02:45:40.016Z"
   },
   {
    "duration": 25,
    "start_time": "2024-07-20T02:45:40.390Z"
   },
   {
    "duration": 40,
    "start_time": "2024-07-20T02:45:40.417Z"
   },
   {
    "duration": 11,
    "start_time": "2024-07-20T02:45:40.460Z"
   },
   {
    "duration": 46,
    "start_time": "2024-07-20T02:45:40.476Z"
   },
   {
    "duration": 43,
    "start_time": "2024-07-20T02:45:40.526Z"
   },
   {
    "duration": 40,
    "start_time": "2024-07-20T02:45:40.572Z"
   },
   {
    "duration": 61,
    "start_time": "2024-07-20T02:45:40.616Z"
   },
   {
    "duration": 33,
    "start_time": "2024-07-20T02:45:40.680Z"
   },
   {
    "duration": 324,
    "start_time": "2024-07-20T02:45:40.716Z"
   },
   {
    "duration": 41,
    "start_time": "2024-07-20T02:45:41.044Z"
   },
   {
    "duration": 36,
    "start_time": "2024-07-20T02:45:41.112Z"
   },
   {
    "duration": 83,
    "start_time": "2024-07-20T02:45:41.152Z"
   },
   {
    "duration": 44,
    "start_time": "2024-07-20T02:45:41.237Z"
   },
   {
    "duration": 4833,
    "start_time": "2024-07-20T02:45:41.284Z"
   },
   {
    "duration": 17,
    "start_time": "2024-07-20T02:45:46.120Z"
   },
   {
    "duration": 74,
    "start_time": "2024-07-20T02:45:46.140Z"
   },
   {
    "duration": 42,
    "start_time": "2024-07-20T02:45:46.216Z"
   },
   {
    "duration": 66,
    "start_time": "2024-07-20T02:45:46.260Z"
   },
   {
    "duration": 43,
    "start_time": "2024-07-20T02:45:46.329Z"
   },
   {
    "duration": 63,
    "start_time": "2024-07-20T02:45:46.375Z"
   },
   {
    "duration": 91,
    "start_time": "2024-07-20T02:45:46.442Z"
   },
   {
    "duration": 57,
    "start_time": "2024-07-20T02:45:46.536Z"
   },
   {
    "duration": 22,
    "start_time": "2024-07-20T02:45:46.612Z"
   },
   {
    "duration": 50,
    "start_time": "2024-07-20T02:45:46.636Z"
   },
   {
    "duration": 83,
    "start_time": "2024-07-20T02:45:46.712Z"
   },
   {
    "duration": 37,
    "start_time": "2024-07-20T02:45:46.813Z"
   },
   {
    "duration": 14,
    "start_time": "2024-07-20T02:45:46.852Z"
   },
   {
    "duration": 4,
    "start_time": "2024-07-20T02:45:46.869Z"
   },
   {
    "duration": 63,
    "start_time": "2024-07-20T02:45:46.877Z"
   },
   {
    "duration": 9,
    "start_time": "2024-07-20T02:45:46.944Z"
   },
   {
    "duration": 61,
    "start_time": "2024-07-20T02:45:46.956Z"
   },
   {
    "duration": 9,
    "start_time": "2024-07-20T02:45:47.020Z"
   },
   {
    "duration": 9,
    "start_time": "2024-07-20T02:45:47.032Z"
   },
   {
    "duration": 109,
    "start_time": "2024-07-20T02:45:47.044Z"
   },
   {
    "duration": 17,
    "start_time": "2024-07-20T02:45:47.156Z"
   },
   {
    "duration": 460,
    "start_time": "2024-07-20T02:45:47.176Z"
   },
   {
    "duration": 336,
    "start_time": "2024-07-20T02:45:47.639Z"
   },
   {
    "duration": 652,
    "start_time": "2024-07-20T02:45:47.978Z"
   },
   {
    "duration": 4,
    "start_time": "2024-07-20T02:45:48.633Z"
   },
   {
    "duration": 152,
    "start_time": "2024-07-20T02:45:48.640Z"
   },
   {
    "duration": 89739,
    "start_time": "2024-07-20T02:45:48.795Z"
   },
   {
    "duration": 8283,
    "start_time": "2024-07-20T02:47:18.537Z"
   },
   {
    "duration": 2493237,
    "start_time": "2024-07-20T02:47:26.828Z"
   },
   {
    "duration": 7197,
    "start_time": "2024-07-20T03:29:00.068Z"
   },
   {
    "duration": 3670973,
    "start_time": "2024-07-20T03:29:07.269Z"
   },
   {
    "duration": 3862,
    "start_time": "2024-07-20T04:30:18.244Z"
   },
   {
    "duration": 6663526,
    "start_time": "2024-07-20T04:30:22.111Z"
   },
   {
    "duration": 502,
    "start_time": "2024-07-20T06:21:25.640Z"
   },
   {
    "duration": 1383,
    "start_time": "2024-07-20T11:15:02.550Z"
   },
   {
    "duration": 685,
    "start_time": "2024-07-20T11:47:50.434Z"
   },
   {
    "duration": 544,
    "start_time": "2024-07-20T11:48:45.604Z"
   },
   {
    "duration": 579,
    "start_time": "2024-07-20T11:49:06.787Z"
   },
   {
    "duration": 989,
    "start_time": "2024-07-20T13:08:24.693Z"
   },
   {
    "duration": 207,
    "start_time": "2024-07-20T13:08:47.350Z"
   },
   {
    "duration": 17882,
    "start_time": "2024-07-20T13:09:06.537Z"
   },
   {
    "duration": 8,
    "start_time": "2024-07-20T13:09:54.635Z"
   },
   {
    "duration": 696,
    "start_time": "2024-07-20T13:09:55.635Z"
   },
   {
    "duration": 153,
    "start_time": "2024-07-20T13:09:56.335Z"
   },
   {
    "duration": 6,
    "start_time": "2024-07-20T13:09:56.814Z"
   },
   {
    "duration": 31,
    "start_time": "2024-07-20T13:09:57.009Z"
   },
   {
    "duration": 352,
    "start_time": "2024-07-20T13:09:57.393Z"
   },
   {
    "duration": 792,
    "start_time": "2024-07-20T13:09:57.749Z"
   },
   {
    "duration": 41,
    "start_time": "2024-07-20T13:09:58.545Z"
   },
   {
    "duration": 38,
    "start_time": "2024-07-20T13:09:58.589Z"
   },
   {
    "duration": 97,
    "start_time": "2024-07-20T13:09:58.630Z"
   },
   {
    "duration": 604,
    "start_time": "2024-07-20T13:11:01.933Z"
   },
   {
    "duration": 6,
    "start_time": "2024-07-20T13:11:27.855Z"
   },
   {
    "duration": 28,
    "start_time": "2024-07-20T13:11:28.307Z"
   },
   {
    "duration": 212,
    "start_time": "2024-07-20T13:11:28.710Z"
   },
   {
    "duration": 419,
    "start_time": "2024-07-20T13:11:28.925Z"
   },
   {
    "duration": 626,
    "start_time": "2024-07-20T13:11:29.752Z"
   },
   {
    "duration": 0,
    "start_time": "2024-07-20T13:11:30.383Z"
   },
   {
    "duration": 67,
    "start_time": "2024-07-20T13:11:31.155Z"
   },
   {
    "duration": 613,
    "start_time": "2024-07-20T13:11:31.935Z"
   },
   {
    "duration": 13178,
    "start_time": "2024-07-20T13:11:33.529Z"
   },
   {
    "duration": 0,
    "start_time": "2024-07-20T13:11:46.710Z"
   },
   {
    "duration": 8,
    "start_time": "2024-07-20T13:12:23.293Z"
   },
   {
    "duration": 13152,
    "start_time": "2024-07-20T13:13:11.572Z"
   },
   {
    "duration": 31,
    "start_time": "2024-07-20T13:15:25.679Z"
   },
   {
    "duration": 340,
    "start_time": "2024-07-20T13:16:23.134Z"
   },
   {
    "duration": 1637,
    "start_time": "2024-07-20T13:17:10.792Z"
   },
   {
    "duration": 773,
    "start_time": "2024-07-20T13:17:12.433Z"
   },
   {
    "duration": 157,
    "start_time": "2024-07-20T13:17:13.208Z"
   },
   {
    "duration": 6,
    "start_time": "2024-07-20T13:17:13.368Z"
   },
   {
    "duration": 54,
    "start_time": "2024-07-20T13:17:13.377Z"
   },
   {
    "duration": 393,
    "start_time": "2024-07-20T13:17:15.333Z"
   },
   {
    "duration": 894,
    "start_time": "2024-07-20T13:17:15.730Z"
   },
   {
    "duration": 41,
    "start_time": "2024-07-20T13:17:17.894Z"
   },
   {
    "duration": 14,
    "start_time": "2024-07-20T13:17:18.108Z"
   },
   {
    "duration": 1622,
    "start_time": "2024-07-20T13:17:40.484Z"
   },
   {
    "duration": 753,
    "start_time": "2024-07-20T13:17:42.109Z"
   },
   {
    "duration": 166,
    "start_time": "2024-07-20T13:17:42.865Z"
   },
   {
    "duration": 6,
    "start_time": "2024-07-20T13:17:43.035Z"
   },
   {
    "duration": 32,
    "start_time": "2024-07-20T13:17:43.044Z"
   },
   {
    "duration": 416,
    "start_time": "2024-07-20T13:17:45.115Z"
   },
   {
    "duration": 876,
    "start_time": "2024-07-20T13:17:46.406Z"
   },
   {
    "duration": 465,
    "start_time": "2024-07-20T13:18:22.579Z"
   },
   {
    "duration": 1717,
    "start_time": "2024-07-20T13:21:56.921Z"
   },
   {
    "duration": 795,
    "start_time": "2024-07-20T13:21:58.642Z"
   },
   {
    "duration": 148,
    "start_time": "2024-07-20T13:21:59.443Z"
   },
   {
    "duration": 17,
    "start_time": "2024-07-20T13:21:59.595Z"
   },
   {
    "duration": 33,
    "start_time": "2024-07-20T13:21:59.617Z"
   },
   {
    "duration": 398,
    "start_time": "2024-07-20T13:22:02.360Z"
   },
   {
    "duration": 934,
    "start_time": "2024-07-20T13:22:02.763Z"
   },
   {
    "duration": 46,
    "start_time": "2024-07-20T13:22:05.143Z"
   },
   {
    "duration": 15,
    "start_time": "2024-07-20T13:22:05.431Z"
   },
   {
    "duration": 77,
    "start_time": "2024-07-20T13:22:11.327Z"
   },
   {
    "duration": 420,
    "start_time": "2024-07-20T13:22:12.048Z"
   },
   {
    "duration": 678,
    "start_time": "2024-07-20T13:22:24.400Z"
   },
   {
    "duration": 39,
    "start_time": "2024-07-20T13:24:40.338Z"
   },
   {
    "duration": 83,
    "start_time": "2024-07-20T13:24:42.756Z"
   },
   {
    "duration": 6,
    "start_time": "2024-07-20T13:24:47.435Z"
   },
   {
    "duration": 12,
    "start_time": "2024-07-20T13:24:51.433Z"
   },
   {
    "duration": 46,
    "start_time": "2024-07-20T13:25:10.221Z"
   },
   {
    "duration": 15,
    "start_time": "2024-07-20T13:25:14.497Z"
   },
   {
    "duration": 40,
    "start_time": "2024-07-20T13:25:14.932Z"
   },
   {
    "duration": 10,
    "start_time": "2024-07-20T13:25:15.392Z"
   },
   {
    "duration": 15,
    "start_time": "2024-07-20T13:25:15.945Z"
   },
   {
    "duration": 35,
    "start_time": "2024-07-20T13:25:16.594Z"
   },
   {
    "duration": 15,
    "start_time": "2024-07-20T13:25:20.318Z"
   },
   {
    "duration": 55,
    "start_time": "2024-07-20T13:25:41.098Z"
   },
   {
    "duration": 6,
    "start_time": "2024-07-20T13:25:42.030Z"
   },
   {
    "duration": 330,
    "start_time": "2024-07-20T13:25:42.776Z"
   },
   {
    "duration": 43,
    "start_time": "2024-07-20T13:25:44.400Z"
   },
   {
    "duration": 38,
    "start_time": "2024-07-20T13:25:45.800Z"
   },
   {
    "duration": 57,
    "start_time": "2024-07-20T13:25:50.517Z"
   },
   {
    "duration": 42,
    "start_time": "2024-07-20T13:25:53.747Z"
   },
   {
    "duration": 4821,
    "start_time": "2024-07-20T13:26:05.860Z"
   },
   {
    "duration": 17,
    "start_time": "2024-07-20T13:26:15.796Z"
   },
   {
    "duration": 51,
    "start_time": "2024-07-20T13:26:16.220Z"
   },
   {
    "duration": 78,
    "start_time": "2024-07-20T13:26:24.093Z"
   },
   {
    "duration": 49,
    "start_time": "2024-07-20T13:26:29.124Z"
   },
   {
    "duration": 51,
    "start_time": "2024-07-20T13:26:38.833Z"
   },
   {
    "duration": 42,
    "start_time": "2024-07-20T13:26:48.225Z"
   },
   {
    "duration": 71,
    "start_time": "2024-07-20T13:27:11.314Z"
   },
   {
    "duration": 56,
    "start_time": "2024-07-20T13:27:13.836Z"
   },
   {
    "duration": 72,
    "start_time": "2024-07-20T13:27:39.264Z"
   },
   {
    "duration": 109,
    "start_time": "2024-07-20T13:27:46.004Z"
   },
   {
    "duration": 6,
    "start_time": "2024-07-20T13:29:31.472Z"
   },
   {
    "duration": 24,
    "start_time": "2024-07-20T13:29:32.385Z"
   },
   {
    "duration": 57,
    "start_time": "2024-07-20T13:29:36.090Z"
   },
   {
    "duration": 97,
    "start_time": "2024-07-20T13:30:10.082Z"
   },
   {
    "duration": 88,
    "start_time": "2024-07-20T13:31:29.271Z"
   },
   {
    "duration": 103,
    "start_time": "2024-07-20T13:32:57.200Z"
   },
   {
    "duration": 41,
    "start_time": "2024-07-20T13:34:20.848Z"
   },
   {
    "duration": 5,
    "start_time": "2024-07-20T13:35:10.145Z"
   },
   {
    "duration": 34,
    "start_time": "2024-07-20T13:35:17.826Z"
   },
   {
    "duration": 9,
    "start_time": "2024-07-20T13:35:18.402Z"
   },
   {
    "duration": 31,
    "start_time": "2024-07-20T13:35:21.006Z"
   },
   {
    "duration": 9,
    "start_time": "2024-07-20T13:35:21.443Z"
   },
   {
    "duration": 15,
    "start_time": "2024-07-20T13:35:21.860Z"
   },
   {
    "duration": 202,
    "start_time": "2024-07-20T13:35:42.466Z"
   },
   {
    "duration": 26,
    "start_time": "2024-07-20T13:35:45.056Z"
   },
   {
    "duration": 349,
    "start_time": "2024-07-20T13:35:51.572Z"
   },
   {
    "duration": 758,
    "start_time": "2024-07-20T13:35:57.279Z"
   },
   {
    "duration": 4,
    "start_time": "2024-07-20T13:36:02.397Z"
   },
   {
    "duration": 133,
    "start_time": "2024-07-20T13:36:03.150Z"
   },
   {
    "duration": 23689,
    "start_time": "2024-07-20T13:36:07.434Z"
   },
   {
    "duration": 139,
    "start_time": "2024-07-20T13:36:38.074Z"
   },
   {
    "duration": 19,
    "start_time": "2024-07-20T13:49:47.032Z"
   },
   {
    "duration": 23,
    "start_time": "2024-07-20T13:49:48.683Z"
   },
   {
    "duration": 5,
    "start_time": "2024-07-20T13:49:59.217Z"
   },
   {
    "duration": 13,
    "start_time": "2024-07-20T13:50:04.864Z"
   },
   {
    "duration": 10,
    "start_time": "2024-07-20T13:50:05.648Z"
   },
   {
    "duration": 1727,
    "start_time": "2024-07-20T13:51:11.539Z"
   },
   {
    "duration": 812,
    "start_time": "2024-07-20T13:51:13.274Z"
   },
   {
    "duration": 163,
    "start_time": "2024-07-20T13:51:14.089Z"
   },
   {
    "duration": 7,
    "start_time": "2024-07-20T13:51:14.256Z"
   },
   {
    "duration": 65,
    "start_time": "2024-07-20T13:51:14.267Z"
   },
   {
    "duration": 459,
    "start_time": "2024-07-20T13:51:14.335Z"
   },
   {
    "duration": 958,
    "start_time": "2024-07-20T13:51:14.799Z"
   },
   {
    "duration": 54,
    "start_time": "2024-07-20T13:51:15.760Z"
   },
   {
    "duration": 15,
    "start_time": "2024-07-20T13:51:15.818Z"
   },
   {
    "duration": 100,
    "start_time": "2024-07-20T13:51:15.839Z"
   },
   {
    "duration": 46,
    "start_time": "2024-07-20T13:51:15.942Z"
   },
   {
    "duration": 103,
    "start_time": "2024-07-20T13:51:15.991Z"
   },
   {
    "duration": 19,
    "start_time": "2024-07-20T13:51:16.096Z"
   },
   {
    "duration": 15,
    "start_time": "2024-07-20T13:51:16.118Z"
   },
   {
    "duration": 79,
    "start_time": "2024-07-20T13:51:16.135Z"
   },
   {
    "duration": 14,
    "start_time": "2024-07-20T13:51:16.241Z"
   },
   {
    "duration": 47,
    "start_time": "2024-07-20T13:51:16.402Z"
   },
   {
    "duration": 13,
    "start_time": "2024-07-20T13:51:16.562Z"
   },
   {
    "duration": 17,
    "start_time": "2024-07-20T13:51:16.742Z"
   },
   {
    "duration": 40,
    "start_time": "2024-07-20T13:51:16.879Z"
   },
   {
    "duration": 14,
    "start_time": "2024-07-20T13:51:17.216Z"
   },
   {
    "duration": 64,
    "start_time": "2024-07-20T13:51:17.715Z"
   },
   {
    "duration": 6,
    "start_time": "2024-07-20T13:51:17.865Z"
   },
   {
    "duration": 325,
    "start_time": "2024-07-20T13:51:18.051Z"
   },
   {
    "duration": 67,
    "start_time": "2024-07-20T13:51:18.379Z"
   },
   {
    "duration": 40,
    "start_time": "2024-07-20T13:51:18.449Z"
   },
   {
    "duration": 67,
    "start_time": "2024-07-20T13:51:18.673Z"
   },
   {
    "duration": 55,
    "start_time": "2024-07-20T13:51:19.160Z"
   },
   {
    "duration": 4851,
    "start_time": "2024-07-20T13:51:19.541Z"
   },
   {
    "duration": 38,
    "start_time": "2024-07-20T13:51:24.395Z"
   },
   {
    "duration": 74,
    "start_time": "2024-07-20T13:51:24.439Z"
   },
   {
    "duration": 58,
    "start_time": "2024-07-20T13:51:24.518Z"
   },
   {
    "duration": 66,
    "start_time": "2024-07-20T13:51:24.579Z"
   },
   {
    "duration": 80,
    "start_time": "2024-07-20T13:51:24.649Z"
   },
   {
    "duration": 62,
    "start_time": "2024-07-20T13:51:24.734Z"
   },
   {
    "duration": 82,
    "start_time": "2024-07-20T13:51:24.799Z"
   },
   {
    "duration": 82,
    "start_time": "2024-07-20T13:51:24.884Z"
   },
   {
    "duration": 451,
    "start_time": "2024-07-20T13:51:24.972Z"
   },
   {
    "duration": 0,
    "start_time": "2024-07-20T13:51:25.426Z"
   },
   {
    "duration": 0,
    "start_time": "2024-07-20T13:51:25.428Z"
   },
   {
    "duration": 0,
    "start_time": "2024-07-20T13:51:25.430Z"
   },
   {
    "duration": 0,
    "start_time": "2024-07-20T13:51:25.434Z"
   },
   {
    "duration": 0,
    "start_time": "2024-07-20T13:51:25.436Z"
   },
   {
    "duration": 0,
    "start_time": "2024-07-20T13:51:25.438Z"
   },
   {
    "duration": 28,
    "start_time": "2024-07-20T13:51:25.783Z"
   },
   {
    "duration": 24,
    "start_time": "2024-07-20T13:51:26.079Z"
   },
   {
    "duration": 24,
    "start_time": "2024-07-20T13:51:36.338Z"
   },
   {
    "duration": 4,
    "start_time": "2024-07-20T13:51:58.355Z"
   },
   {
    "duration": 24,
    "start_time": "2024-07-20T13:52:00.591Z"
   },
   {
    "duration": 55,
    "start_time": "2024-07-20T13:52:01.239Z"
   },
   {
    "duration": 82,
    "start_time": "2024-07-20T13:52:02.591Z"
   },
   {
    "duration": 88,
    "start_time": "2024-07-20T13:52:03.248Z"
   },
   {
    "duration": 112,
    "start_time": "2024-07-20T13:52:03.643Z"
   },
   {
    "duration": 48,
    "start_time": "2024-07-20T13:52:03.836Z"
   },
   {
    "duration": 82,
    "start_time": "2024-07-20T13:52:04.407Z"
   },
   {
    "duration": 19,
    "start_time": "2024-07-20T13:52:05.265Z"
   },
   {
    "duration": 5,
    "start_time": "2024-07-20T13:52:08.708Z"
   },
   {
    "duration": 39,
    "start_time": "2024-07-20T13:52:10.932Z"
   },
   {
    "duration": 10,
    "start_time": "2024-07-20T13:52:11.836Z"
   },
   {
    "duration": 44,
    "start_time": "2024-07-20T13:52:13.064Z"
   },
   {
    "duration": 10,
    "start_time": "2024-07-20T13:52:13.747Z"
   },
   {
    "duration": 7,
    "start_time": "2024-07-20T13:52:14.421Z"
   },
   {
    "duration": 107,
    "start_time": "2024-07-20T13:52:16.047Z"
   },
   {
    "duration": 21,
    "start_time": "2024-07-20T13:52:16.566Z"
   },
   {
    "duration": 325,
    "start_time": "2024-07-20T13:52:19.202Z"
   },
   {
    "duration": 941,
    "start_time": "2024-07-20T13:52:21.193Z"
   },
   {
    "duration": 4,
    "start_time": "2024-07-20T13:52:23.855Z"
   },
   {
    "duration": 172,
    "start_time": "2024-07-20T13:52:24.193Z"
   },
   {
    "duration": 23022,
    "start_time": "2024-07-20T13:52:26.516Z"
   },
   {
    "duration": 61,
    "start_time": "2024-07-20T13:52:59.160Z"
   },
   {
    "duration": 5,
    "start_time": "2024-07-20T13:54:53.063Z"
   },
   {
    "duration": 9,
    "start_time": "2024-07-20T13:55:07.012Z"
   },
   {
    "duration": 114,
    "start_time": "2024-07-20T13:55:47.052Z"
   },
   {
    "duration": 30,
    "start_time": "2024-07-20T13:55:50.949Z"
   },
   {
    "duration": 2366,
    "start_time": "2024-07-20T13:55:53.394Z"
   },
   {
    "duration": 2013,
    "start_time": "2024-07-20T13:57:17.752Z"
   },
   {
    "duration": 1076,
    "start_time": "2024-07-20T13:57:19.773Z"
   },
   {
    "duration": 190,
    "start_time": "2024-07-20T13:57:20.852Z"
   },
   {
    "duration": 6,
    "start_time": "2024-07-20T13:57:21.050Z"
   },
   {
    "duration": 59,
    "start_time": "2024-07-20T13:57:21.060Z"
   },
   {
    "duration": 489,
    "start_time": "2024-07-20T13:57:21.123Z"
   },
   {
    "duration": 980,
    "start_time": "2024-07-20T13:57:21.615Z"
   },
   {
    "duration": 42,
    "start_time": "2024-07-20T13:57:22.598Z"
   },
   {
    "duration": 17,
    "start_time": "2024-07-20T13:57:22.643Z"
   },
   {
    "duration": 100,
    "start_time": "2024-07-20T13:57:22.667Z"
   },
   {
    "duration": 58,
    "start_time": "2024-07-20T13:57:22.770Z"
   },
   {
    "duration": 94,
    "start_time": "2024-07-20T13:57:22.831Z"
   },
   {
    "duration": 6,
    "start_time": "2024-07-20T13:57:22.928Z"
   },
   {
    "duration": 15,
    "start_time": "2024-07-20T13:57:22.937Z"
   },
   {
    "duration": 87,
    "start_time": "2024-07-20T13:57:22.956Z"
   },
   {
    "duration": 13,
    "start_time": "2024-07-20T13:57:23.125Z"
   },
   {
    "duration": 49,
    "start_time": "2024-07-20T13:57:23.299Z"
   },
   {
    "duration": 14,
    "start_time": "2024-07-20T13:57:23.439Z"
   },
   {
    "duration": 20,
    "start_time": "2024-07-20T13:57:23.606Z"
   },
   {
    "duration": 50,
    "start_time": "2024-07-20T13:57:24.016Z"
   },
   {
    "duration": 22,
    "start_time": "2024-07-20T13:57:24.201Z"
   },
   {
    "duration": 96,
    "start_time": "2024-07-20T13:57:24.699Z"
   },
   {
    "duration": 5,
    "start_time": "2024-07-20T13:57:24.834Z"
   },
   {
    "duration": 444,
    "start_time": "2024-07-20T13:57:24.996Z"
   },
   {
    "duration": 73,
    "start_time": "2024-07-20T13:57:25.444Z"
   },
   {
    "duration": 58,
    "start_time": "2024-07-20T13:57:25.521Z"
   },
   {
    "duration": 67,
    "start_time": "2024-07-20T13:57:25.624Z"
   },
   {
    "duration": 47,
    "start_time": "2024-07-20T13:57:25.965Z"
   },
   {
    "duration": 6328,
    "start_time": "2024-07-20T13:57:26.296Z"
   },
   {
    "duration": 20,
    "start_time": "2024-07-20T13:57:32.630Z"
   },
   {
    "duration": 78,
    "start_time": "2024-07-20T13:57:32.654Z"
   },
   {
    "duration": 86,
    "start_time": "2024-07-20T13:57:32.737Z"
   },
   {
    "duration": 63,
    "start_time": "2024-07-20T13:57:32.828Z"
   },
   {
    "duration": 78,
    "start_time": "2024-07-20T13:57:32.894Z"
   },
   {
    "duration": 95,
    "start_time": "2024-07-20T13:57:32.976Z"
   },
   {
    "duration": 82,
    "start_time": "2024-07-20T13:57:33.074Z"
   },
   {
    "duration": 69,
    "start_time": "2024-07-20T13:57:33.160Z"
   },
   {
    "duration": 3,
    "start_time": "2024-07-20T13:57:33.234Z"
   },
   {
    "duration": 22,
    "start_time": "2024-07-20T13:57:33.243Z"
   },
   {
    "duration": 99,
    "start_time": "2024-07-20T13:57:33.268Z"
   },
   {
    "duration": 15,
    "start_time": "2024-07-20T13:57:43.047Z"
   },
   {
    "duration": 13,
    "start_time": "2024-07-20T13:57:43.561Z"
   },
   {
    "duration": 8,
    "start_time": "2024-07-20T13:57:46.994Z"
   },
   {
    "duration": 31,
    "start_time": "2024-07-20T13:57:50.257Z"
   },
   {
    "duration": 10,
    "start_time": "2024-07-20T13:57:51.209Z"
   },
   {
    "duration": 28,
    "start_time": "2024-07-20T13:57:53.122Z"
   },
   {
    "duration": 10,
    "start_time": "2024-07-20T13:57:53.761Z"
   },
   {
    "duration": 7,
    "start_time": "2024-07-20T13:57:54.625Z"
   },
   {
    "duration": 72,
    "start_time": "2024-07-20T13:57:56.309Z"
   },
   {
    "duration": 15,
    "start_time": "2024-07-20T13:57:56.657Z"
   },
   {
    "duration": 343,
    "start_time": "2024-07-20T13:57:58.193Z"
   },
   {
    "duration": 730,
    "start_time": "2024-07-20T13:58:02.974Z"
   },
   {
    "duration": 5,
    "start_time": "2024-07-20T13:58:07.867Z"
   },
   {
    "duration": 131,
    "start_time": "2024-07-20T13:58:08.097Z"
   },
   {
    "duration": 19928,
    "start_time": "2024-07-20T13:58:11.423Z"
   },
   {
    "duration": 86,
    "start_time": "2024-07-20T13:58:42.440Z"
   },
   {
    "duration": 29,
    "start_time": "2024-07-20T13:59:27.849Z"
   },
   {
    "duration": 27,
    "start_time": "2024-07-20T14:00:01.402Z"
   },
   {
    "duration": 29,
    "start_time": "2024-07-20T14:00:07.009Z"
   },
   {
    "duration": 336,
    "start_time": "2024-07-20T14:00:12.064Z"
   },
   {
    "duration": 1901,
    "start_time": "2024-07-20T14:00:16.730Z"
   },
   {
    "duration": 4,
    "start_time": "2024-07-20T14:00:37.352Z"
   },
   {
    "duration": 155,
    "start_time": "2024-07-20T14:00:43.059Z"
   },
   {
    "duration": 24040,
    "start_time": "2024-07-20T14:00:46.985Z"
   },
   {
    "duration": 1791,
    "start_time": "2024-07-20T14:04:41.545Z"
   },
   {
    "duration": 837,
    "start_time": "2024-07-20T14:04:43.340Z"
   },
   {
    "duration": 156,
    "start_time": "2024-07-20T14:04:44.180Z"
   },
   {
    "duration": 7,
    "start_time": "2024-07-20T14:04:44.340Z"
   },
   {
    "duration": 69,
    "start_time": "2024-07-20T14:04:44.354Z"
   },
   {
    "duration": 471,
    "start_time": "2024-07-20T14:04:44.428Z"
   },
   {
    "duration": 968,
    "start_time": "2024-07-20T14:04:44.902Z"
   },
   {
    "duration": 52,
    "start_time": "2024-07-20T14:04:45.875Z"
   },
   {
    "duration": 18,
    "start_time": "2024-07-20T14:04:45.930Z"
   },
   {
    "duration": 100,
    "start_time": "2024-07-20T14:04:45.951Z"
   },
   {
    "duration": 36,
    "start_time": "2024-07-20T14:04:46.055Z"
   },
   {
    "duration": 75,
    "start_time": "2024-07-20T14:04:46.114Z"
   },
   {
    "duration": 23,
    "start_time": "2024-07-20T14:04:46.193Z"
   },
   {
    "duration": 13,
    "start_time": "2024-07-20T14:04:46.223Z"
   },
   {
    "duration": 79,
    "start_time": "2024-07-20T14:04:46.239Z"
   },
   {
    "duration": 13,
    "start_time": "2024-07-20T14:04:46.323Z"
   },
   {
    "duration": 40,
    "start_time": "2024-07-20T14:04:46.339Z"
   },
   {
    "duration": 37,
    "start_time": "2024-07-20T14:04:46.383Z"
   },
   {
    "duration": 15,
    "start_time": "2024-07-20T14:04:46.423Z"
   },
   {
    "duration": 70,
    "start_time": "2024-07-20T14:04:46.441Z"
   },
   {
    "duration": 16,
    "start_time": "2024-07-20T14:04:46.515Z"
   },
   {
    "duration": 97,
    "start_time": "2024-07-20T14:04:46.534Z"
   },
   {
    "duration": 6,
    "start_time": "2024-07-20T14:04:46.635Z"
   },
   {
    "duration": 350,
    "start_time": "2024-07-20T14:04:46.645Z"
   },
   {
    "duration": 59,
    "start_time": "2024-07-20T14:04:46.998Z"
   },
   {
    "duration": 55,
    "start_time": "2024-07-20T14:04:47.060Z"
   },
   {
    "duration": 55,
    "start_time": "2024-07-20T14:04:47.118Z"
   },
   {
    "duration": 73,
    "start_time": "2024-07-20T14:04:47.180Z"
   },
   {
    "duration": 4971,
    "start_time": "2024-07-20T14:04:47.258Z"
   },
   {
    "duration": 26,
    "start_time": "2024-07-20T14:04:52.234Z"
   },
   {
    "duration": 80,
    "start_time": "2024-07-20T14:04:52.264Z"
   },
   {
    "duration": 43,
    "start_time": "2024-07-20T14:04:52.347Z"
   },
   {
    "duration": 69,
    "start_time": "2024-07-20T14:04:52.393Z"
   },
   {
    "duration": 84,
    "start_time": "2024-07-20T14:04:52.465Z"
   },
   {
    "duration": 68,
    "start_time": "2024-07-20T14:04:52.552Z"
   },
   {
    "duration": 114,
    "start_time": "2024-07-20T14:04:52.623Z"
   },
   {
    "duration": 72,
    "start_time": "2024-07-20T14:04:52.740Z"
   },
   {
    "duration": 4,
    "start_time": "2024-07-20T14:04:52.815Z"
   },
   {
    "duration": 22,
    "start_time": "2024-07-20T14:04:52.822Z"
   },
   {
    "duration": 89,
    "start_time": "2024-07-20T14:04:52.848Z"
   },
   {
    "duration": 116,
    "start_time": "2024-07-20T14:04:52.951Z"
   },
   {
    "duration": 46,
    "start_time": "2024-07-20T14:04:53.070Z"
   },
   {
    "duration": 51,
    "start_time": "2024-07-20T14:04:53.126Z"
   },
   {
    "duration": 32,
    "start_time": "2024-07-20T14:04:53.180Z"
   },
   {
    "duration": 6,
    "start_time": "2024-07-20T14:04:53.219Z"
   },
   {
    "duration": 34,
    "start_time": "2024-07-20T14:04:53.229Z"
   },
   {
    "duration": 8,
    "start_time": "2024-07-20T14:04:53.269Z"
   },
   {
    "duration": 70,
    "start_time": "2024-07-20T14:04:53.281Z"
   },
   {
    "duration": 11,
    "start_time": "2024-07-20T14:04:53.355Z"
   },
   {
    "duration": 10,
    "start_time": "2024-07-20T14:04:53.369Z"
   },
   {
    "duration": 176,
    "start_time": "2024-07-20T14:04:53.383Z"
   },
   {
    "duration": 18,
    "start_time": "2024-07-20T14:04:53.564Z"
   },
   {
    "duration": 613,
    "start_time": "2024-07-20T14:04:53.588Z"
   },
   {
    "duration": 1215,
    "start_time": "2024-07-20T14:04:54.205Z"
   },
   {
    "duration": 5,
    "start_time": "2024-07-20T14:04:55.423Z"
   },
   {
    "duration": 189,
    "start_time": "2024-07-20T14:04:55.431Z"
   },
   {
    "duration": 1868,
    "start_time": "2024-07-20T14:07:48.667Z"
   },
   {
    "duration": 851,
    "start_time": "2024-07-20T14:07:50.539Z"
   },
   {
    "duration": 164,
    "start_time": "2024-07-20T14:07:51.397Z"
   },
   {
    "duration": 8,
    "start_time": "2024-07-20T14:07:51.564Z"
   },
   {
    "duration": 58,
    "start_time": "2024-07-20T14:07:51.578Z"
   },
   {
    "duration": 450,
    "start_time": "2024-07-20T14:07:51.640Z"
   },
   {
    "duration": 947,
    "start_time": "2024-07-20T14:07:52.093Z"
   },
   {
    "duration": 49,
    "start_time": "2024-07-20T14:07:53.046Z"
   },
   {
    "duration": 31,
    "start_time": "2024-07-20T14:07:53.097Z"
   },
   {
    "duration": 100,
    "start_time": "2024-07-20T14:07:53.132Z"
   },
   {
    "duration": 37,
    "start_time": "2024-07-20T14:07:53.235Z"
   },
   {
    "duration": 102,
    "start_time": "2024-07-20T14:07:53.276Z"
   },
   {
    "duration": 6,
    "start_time": "2024-07-20T14:07:53.381Z"
   },
   {
    "duration": 28,
    "start_time": "2024-07-20T14:07:53.394Z"
   },
   {
    "duration": 47,
    "start_time": "2024-07-20T14:07:53.426Z"
   },
   {
    "duration": 47,
    "start_time": "2024-07-20T14:07:53.477Z"
   },
   {
    "duration": 43,
    "start_time": "2024-07-20T14:07:53.528Z"
   },
   {
    "duration": 41,
    "start_time": "2024-07-20T14:07:53.576Z"
   },
   {
    "duration": 19,
    "start_time": "2024-07-20T14:07:53.621Z"
   },
   {
    "duration": 42,
    "start_time": "2024-07-20T14:07:53.643Z"
   },
   {
    "duration": 18,
    "start_time": "2024-07-20T14:07:53.712Z"
   },
   {
    "duration": 99,
    "start_time": "2024-07-20T14:07:53.733Z"
   },
   {
    "duration": 5,
    "start_time": "2024-07-20T14:07:53.836Z"
   },
   {
    "duration": 355,
    "start_time": "2024-07-20T14:07:53.845Z"
   },
   {
    "duration": 52,
    "start_time": "2024-07-20T14:07:54.212Z"
   },
   {
    "duration": 49,
    "start_time": "2024-07-20T14:07:54.268Z"
   },
   {
    "duration": 65,
    "start_time": "2024-07-20T14:07:54.320Z"
   },
   {
    "duration": 66,
    "start_time": "2024-07-20T14:07:54.388Z"
   },
   {
    "duration": 4889,
    "start_time": "2024-07-20T14:07:54.458Z"
   },
   {
    "duration": 19,
    "start_time": "2024-07-20T14:07:59.352Z"
   },
   {
    "duration": 73,
    "start_time": "2024-07-20T14:07:59.375Z"
   },
   {
    "duration": 69,
    "start_time": "2024-07-20T14:07:59.452Z"
   },
   {
    "duration": 51,
    "start_time": "2024-07-20T14:07:59.524Z"
   },
   {
    "duration": 80,
    "start_time": "2024-07-20T14:07:59.578Z"
   },
   {
    "duration": 55,
    "start_time": "2024-07-20T14:07:59.662Z"
   },
   {
    "duration": 113,
    "start_time": "2024-07-20T14:07:59.720Z"
   },
   {
    "duration": 59,
    "start_time": "2024-07-20T14:07:59.836Z"
   },
   {
    "duration": 4,
    "start_time": "2024-07-20T14:07:59.914Z"
   },
   {
    "duration": 28,
    "start_time": "2024-07-20T14:07:59.922Z"
   },
   {
    "duration": 84,
    "start_time": "2024-07-20T14:07:59.953Z"
   },
   {
    "duration": 24,
    "start_time": "2024-07-20T14:08:00.046Z"
   },
   {
    "duration": 46,
    "start_time": "2024-07-20T14:08:00.074Z"
   },
   {
    "duration": 15,
    "start_time": "2024-07-20T14:08:00.123Z"
   },
   {
    "duration": 4,
    "start_time": "2024-07-20T14:08:00.142Z"
   },
   {
    "duration": 62,
    "start_time": "2024-07-20T14:08:00.150Z"
   },
   {
    "duration": 11,
    "start_time": "2024-07-20T14:08:00.216Z"
   },
   {
    "duration": 38,
    "start_time": "2024-07-20T14:08:00.230Z"
   },
   {
    "duration": 44,
    "start_time": "2024-07-20T14:08:00.272Z"
   },
   {
    "duration": 11,
    "start_time": "2024-07-20T14:08:00.319Z"
   },
   {
    "duration": 114,
    "start_time": "2024-07-20T14:08:00.334Z"
   },
   {
    "duration": 17,
    "start_time": "2024-07-20T14:08:00.451Z"
   },
   {
    "duration": 363,
    "start_time": "2024-07-20T14:08:00.471Z"
   },
   {
    "duration": 704,
    "start_time": "2024-07-20T14:08:00.839Z"
   },
   {
    "duration": 4,
    "start_time": "2024-07-20T14:08:01.554Z"
   },
   {
    "duration": 157,
    "start_time": "2024-07-20T14:08:01.563Z"
   },
   {
    "duration": 22801,
    "start_time": "2024-07-20T14:08:01.724Z"
   },
   {
    "duration": 194,
    "start_time": "2024-07-20T14:08:24.528Z"
   },
   {
    "duration": 1747,
    "start_time": "2024-07-20T14:11:17.918Z"
   },
   {
    "duration": 823,
    "start_time": "2024-07-20T14:11:19.669Z"
   },
   {
    "duration": 149,
    "start_time": "2024-07-20T14:11:20.496Z"
   },
   {
    "duration": 10,
    "start_time": "2024-07-20T14:11:20.650Z"
   },
   {
    "duration": 66,
    "start_time": "2024-07-20T14:11:20.663Z"
   },
   {
    "duration": 495,
    "start_time": "2024-07-20T14:11:20.732Z"
   },
   {
    "duration": 942,
    "start_time": "2024-07-20T14:11:21.230Z"
   },
   {
    "duration": 51,
    "start_time": "2024-07-20T14:11:22.175Z"
   },
   {
    "duration": 15,
    "start_time": "2024-07-20T14:11:22.229Z"
   },
   {
    "duration": 102,
    "start_time": "2024-07-20T14:11:22.249Z"
   },
   {
    "duration": 37,
    "start_time": "2024-07-20T14:11:22.354Z"
   },
   {
    "duration": 73,
    "start_time": "2024-07-20T14:11:22.414Z"
   },
   {
    "duration": 25,
    "start_time": "2024-07-20T14:11:22.490Z"
   },
   {
    "duration": 13,
    "start_time": "2024-07-20T14:11:22.518Z"
   },
   {
    "duration": 46,
    "start_time": "2024-07-20T14:11:22.534Z"
   },
   {
    "duration": 12,
    "start_time": "2024-07-20T14:11:22.612Z"
   },
   {
    "duration": 40,
    "start_time": "2024-07-20T14:11:22.627Z"
   },
   {
    "duration": 46,
    "start_time": "2024-07-20T14:11:22.670Z"
   },
   {
    "duration": 15,
    "start_time": "2024-07-20T14:11:22.719Z"
   },
   {
    "duration": 36,
    "start_time": "2024-07-20T14:11:22.736Z"
   },
   {
    "duration": 49,
    "start_time": "2024-07-20T14:11:22.775Z"
   },
   {
    "duration": 57,
    "start_time": "2024-07-20T14:11:22.828Z"
   },
   {
    "duration": 31,
    "start_time": "2024-07-20T14:11:22.889Z"
   },
   {
    "duration": 421,
    "start_time": "2024-07-20T14:11:22.923Z"
   },
   {
    "duration": 46,
    "start_time": "2024-07-20T14:11:23.347Z"
   },
   {
    "duration": 42,
    "start_time": "2024-07-20T14:11:23.413Z"
   },
   {
    "duration": 88,
    "start_time": "2024-07-20T14:11:23.458Z"
   },
   {
    "duration": 59,
    "start_time": "2024-07-20T14:11:23.555Z"
   },
   {
    "duration": 5197,
    "start_time": "2024-07-20T14:11:23.617Z"
   },
   {
    "duration": 23,
    "start_time": "2024-07-20T14:11:28.817Z"
   },
   {
    "duration": 86,
    "start_time": "2024-07-20T14:11:28.842Z"
   },
   {
    "duration": 43,
    "start_time": "2024-07-20T14:11:28.932Z"
   },
   {
    "duration": 74,
    "start_time": "2024-07-20T14:11:28.980Z"
   },
   {
    "duration": 66,
    "start_time": "2024-07-20T14:11:29.057Z"
   },
   {
    "duration": 56,
    "start_time": "2024-07-20T14:11:29.127Z"
   },
   {
    "duration": 68,
    "start_time": "2024-07-20T14:11:29.211Z"
   },
   {
    "duration": 76,
    "start_time": "2024-07-20T14:11:29.282Z"
   },
   {
    "duration": 5,
    "start_time": "2024-07-20T14:11:29.363Z"
   },
   {
    "duration": 54,
    "start_time": "2024-07-20T14:11:29.373Z"
   },
   {
    "duration": 85,
    "start_time": "2024-07-20T14:11:29.430Z"
   },
   {
    "duration": 28,
    "start_time": "2024-07-20T14:11:29.518Z"
   },
   {
    "duration": 5,
    "start_time": "2024-07-20T14:11:29.551Z"
   },
   {
    "duration": 64,
    "start_time": "2024-07-20T14:11:29.560Z"
   },
   {
    "duration": 10,
    "start_time": "2024-07-20T14:11:29.628Z"
   },
   {
    "duration": 31,
    "start_time": "2024-07-20T14:11:29.640Z"
   },
   {
    "duration": 43,
    "start_time": "2024-07-20T14:11:29.673Z"
   },
   {
    "duration": 9,
    "start_time": "2024-07-20T14:11:29.721Z"
   },
   {
    "duration": 154,
    "start_time": "2024-07-20T14:11:29.733Z"
   },
   {
    "duration": 31,
    "start_time": "2024-07-20T14:11:29.892Z"
   },
   {
    "duration": 398,
    "start_time": "2024-07-20T14:11:29.929Z"
   },
   {
    "duration": 808,
    "start_time": "2024-07-20T14:11:30.330Z"
   },
   {
    "duration": 4,
    "start_time": "2024-07-20T14:11:31.142Z"
   },
   {
    "duration": 159,
    "start_time": "2024-07-20T14:11:31.149Z"
   },
   {
    "duration": 27104,
    "start_time": "2024-07-20T14:11:31.313Z"
   },
   {
    "duration": 302,
    "start_time": "2024-07-20T14:11:58.422Z"
   },
   {
    "duration": 724130,
    "start_time": "2024-07-20T14:11:58.730Z"
   },
   {
    "duration": 223,
    "start_time": "2024-07-20T14:24:02.863Z"
   },
   {
    "duration": 1040860,
    "start_time": "2024-07-20T14:24:03.089Z"
   },
   {
    "duration": 130,
    "start_time": "2024-07-20T14:41:23.953Z"
   },
   {
    "duration": 0,
    "start_time": "2024-07-20T15:23:21.443Z"
   },
   {
    "duration": 0,
    "start_time": "2024-07-20T15:23:21.446Z"
   },
   {
    "duration": 2197546,
    "start_time": "2024-07-20T15:28:14.776Z"
   },
   {
    "duration": 1263,
    "start_time": "2024-07-20T16:29:37.449Z"
   },
   {
    "duration": 1038175,
    "start_time": "2024-07-20T16:51:09.630Z"
   },
   {
    "duration": 16,
    "start_time": "2024-07-20T17:24:14.914Z"
   },
   {
    "duration": 1013,
    "start_time": "2024-07-20T17:24:50.083Z"
   },
   {
    "duration": 16,
    "start_time": "2024-07-20T17:25:31.181Z"
   },
   {
    "duration": 18,
    "start_time": "2024-07-20T17:25:49.177Z"
   },
   {
    "duration": 17,
    "start_time": "2024-07-20T17:26:54.618Z"
   },
   {
    "duration": 17,
    "start_time": "2024-07-20T17:27:15.775Z"
   },
   {
    "duration": 16,
    "start_time": "2024-07-20T17:38:31.696Z"
   },
   {
    "duration": 17,
    "start_time": "2024-07-20T17:38:45.622Z"
   },
   {
    "duration": 250,
    "start_time": "2024-07-20T17:39:01.044Z"
   },
   {
    "duration": 6,
    "start_time": "2024-07-20T17:39:52.035Z"
   },
   {
    "duration": 605,
    "start_time": "2024-07-20T17:40:12.348Z"
   },
   {
    "duration": 430,
    "start_time": "2024-07-20T17:41:29.928Z"
   },
   {
    "duration": 405,
    "start_time": "2024-07-20T17:41:58.484Z"
   },
   {
    "duration": 463,
    "start_time": "2024-07-20T17:43:10.908Z"
   },
   {
    "duration": 479,
    "start_time": "2024-07-20T17:44:21.467Z"
   },
   {
    "duration": 446,
    "start_time": "2024-07-20T17:44:50.622Z"
   },
   {
    "duration": 395,
    "start_time": "2024-07-20T17:45:15.204Z"
   },
   {
    "duration": 427,
    "start_time": "2024-07-20T17:46:14.923Z"
   },
   {
    "duration": 381,
    "start_time": "2024-07-20T17:46:31.702Z"
   },
   {
    "duration": 414,
    "start_time": "2024-07-20T17:46:46.634Z"
   },
   {
    "duration": 408,
    "start_time": "2024-07-20T17:47:18.043Z"
   },
   {
    "duration": 359,
    "start_time": "2024-07-20T17:47:44.887Z"
   },
   {
    "duration": 288,
    "start_time": "2024-07-20T17:49:09.466Z"
   },
   {
    "duration": 377,
    "start_time": "2024-07-20T17:49:42.948Z"
   },
   {
    "duration": 218,
    "start_time": "2024-07-20T17:50:09.440Z"
   },
   {
    "duration": 207,
    "start_time": "2024-07-20T17:51:54.636Z"
   },
   {
    "duration": 200,
    "start_time": "2024-07-20T17:52:22.431Z"
   },
   {
    "duration": 210,
    "start_time": "2024-07-20T17:52:44.017Z"
   },
   {
    "duration": 211,
    "start_time": "2024-07-20T17:55:08.601Z"
   },
   {
    "duration": 325,
    "start_time": "2024-07-20T17:56:14.380Z"
   },
   {
    "duration": 309,
    "start_time": "2024-07-20T17:56:40.454Z"
   },
   {
    "duration": 276,
    "start_time": "2024-07-20T17:58:01.011Z"
   },
   {
    "duration": 268,
    "start_time": "2024-07-20T17:59:42.666Z"
   },
   {
    "duration": 409,
    "start_time": "2024-07-20T18:00:00.338Z"
   },
   {
    "duration": 261,
    "start_time": "2024-07-20T18:00:17.451Z"
   },
   {
    "duration": 275,
    "start_time": "2024-07-20T18:00:55.653Z"
   },
   {
    "duration": 257,
    "start_time": "2024-07-20T18:02:41.720Z"
   },
   {
    "duration": 247,
    "start_time": "2024-07-20T18:02:57.500Z"
   },
   {
    "duration": 207,
    "start_time": "2024-07-20T18:03:42.194Z"
   },
   {
    "duration": 213,
    "start_time": "2024-07-20T18:03:49.045Z"
   },
   {
    "duration": 1684,
    "start_time": "2024-07-21T13:10:02.447Z"
   },
   {
    "duration": 766,
    "start_time": "2024-07-21T13:10:04.134Z"
   },
   {
    "duration": 152,
    "start_time": "2024-07-21T13:10:04.903Z"
   },
   {
    "duration": 5,
    "start_time": "2024-07-21T13:10:05.060Z"
   },
   {
    "duration": 60,
    "start_time": "2024-07-21T13:10:05.069Z"
   },
   {
    "duration": 424,
    "start_time": "2024-07-21T13:10:05.132Z"
   },
   {
    "duration": 908,
    "start_time": "2024-07-21T13:10:05.560Z"
   },
   {
    "duration": 55,
    "start_time": "2024-07-21T13:10:06.471Z"
   },
   {
    "duration": 15,
    "start_time": "2024-07-21T13:10:06.529Z"
   },
   {
    "duration": 95,
    "start_time": "2024-07-21T13:10:06.551Z"
   },
   {
    "duration": 36,
    "start_time": "2024-07-21T13:10:06.649Z"
   },
   {
    "duration": 99,
    "start_time": "2024-07-21T13:10:06.688Z"
   },
   {
    "duration": 22,
    "start_time": "2024-07-21T13:10:06.790Z"
   },
   {
    "duration": 13,
    "start_time": "2024-07-21T13:10:06.814Z"
   },
   {
    "duration": 42,
    "start_time": "2024-07-21T13:10:06.830Z"
   },
   {
    "duration": 43,
    "start_time": "2024-07-21T13:10:06.875Z"
   },
   {
    "duration": 37,
    "start_time": "2024-07-21T13:10:06.921Z"
   },
   {
    "duration": 10,
    "start_time": "2024-07-21T13:10:06.961Z"
   },
   {
    "duration": 46,
    "start_time": "2024-07-21T13:10:06.974Z"
   },
   {
    "duration": 34,
    "start_time": "2024-07-21T13:10:07.023Z"
   },
   {
    "duration": 14,
    "start_time": "2024-07-21T13:10:07.060Z"
   },
   {
    "duration": 87,
    "start_time": "2024-07-21T13:10:07.077Z"
   },
   {
    "duration": 7,
    "start_time": "2024-07-21T13:10:07.167Z"
   },
   {
    "duration": 336,
    "start_time": "2024-07-21T13:10:07.177Z"
   },
   {
    "duration": 41,
    "start_time": "2024-07-21T13:10:07.516Z"
   },
   {
    "duration": 56,
    "start_time": "2024-07-21T13:10:07.561Z"
   },
   {
    "duration": 53,
    "start_time": "2024-07-21T13:10:07.620Z"
   },
   {
    "duration": 63,
    "start_time": "2024-07-21T13:10:07.683Z"
   },
   {
    "duration": 4785,
    "start_time": "2024-07-21T13:10:07.749Z"
   },
   {
    "duration": 17,
    "start_time": "2024-07-21T13:10:12.537Z"
   },
   {
    "duration": 79,
    "start_time": "2024-07-21T13:10:12.557Z"
   },
   {
    "duration": 43,
    "start_time": "2024-07-21T13:10:12.640Z"
   },
   {
    "duration": 70,
    "start_time": "2024-07-21T13:10:12.686Z"
   },
   {
    "duration": 60,
    "start_time": "2024-07-21T13:10:12.759Z"
   },
   {
    "duration": 43,
    "start_time": "2024-07-21T13:10:12.823Z"
   },
   {
    "duration": 93,
    "start_time": "2024-07-21T13:10:12.869Z"
   },
   {
    "duration": 80,
    "start_time": "2024-07-21T13:10:12.965Z"
   },
   {
    "duration": 4,
    "start_time": "2024-07-21T13:10:13.048Z"
   },
   {
    "duration": 21,
    "start_time": "2024-07-21T13:10:13.055Z"
   },
   {
    "duration": 83,
    "start_time": "2024-07-21T13:10:13.079Z"
   },
   {
    "duration": 22,
    "start_time": "2024-07-21T13:10:13.165Z"
   },
   {
    "duration": 6,
    "start_time": "2024-07-21T13:10:13.212Z"
   },
   {
    "duration": 30,
    "start_time": "2024-07-21T13:10:13.221Z"
   },
   {
    "duration": 8,
    "start_time": "2024-07-21T13:10:13.254Z"
   },
   {
    "duration": 74,
    "start_time": "2024-07-21T13:10:13.265Z"
   },
   {
    "duration": 10,
    "start_time": "2024-07-21T13:10:13.341Z"
   },
   {
    "duration": 7,
    "start_time": "2024-07-21T13:10:13.354Z"
   },
   {
    "duration": 156,
    "start_time": "2024-07-21T13:10:13.365Z"
   },
   {
    "duration": 18,
    "start_time": "2024-07-21T13:10:13.525Z"
   },
   {
    "duration": 380,
    "start_time": "2024-07-21T13:10:13.546Z"
   },
   {
    "duration": 795,
    "start_time": "2024-07-21T13:10:13.929Z"
   },
   {
    "duration": 4,
    "start_time": "2024-07-21T13:10:14.728Z"
   },
   {
    "duration": 156,
    "start_time": "2024-07-21T13:10:14.735Z"
   },
   {
    "duration": 23023,
    "start_time": "2024-07-21T13:10:14.895Z"
   },
   {
    "duration": 207,
    "start_time": "2024-07-21T13:10:37.920Z"
   },
   {
    "duration": 678401,
    "start_time": "2024-07-21T13:10:38.212Z"
   },
   {
    "duration": 197,
    "start_time": "2024-07-21T13:21:56.616Z"
   },
   {
    "duration": 1024435,
    "start_time": "2024-07-21T13:21:56.816Z"
   },
   {
    "duration": 120,
    "start_time": "2024-07-21T13:39:01.256Z"
   },
   {
    "duration": 2298337,
    "start_time": "2024-07-21T13:39:01.380Z"
   },
   {
    "duration": 1301,
    "start_time": "2024-07-21T14:17:19.721Z"
   },
   {
    "duration": 17,
    "start_time": "2024-07-21T14:17:21.028Z"
   },
   {
    "duration": 6,
    "start_time": "2024-07-21T14:17:21.048Z"
   },
   {
    "duration": 313,
    "start_time": "2024-07-21T14:17:21.057Z"
   },
   {
    "duration": 241,
    "start_time": "2024-07-21T14:17:21.373Z"
   },
   {
    "duration": 230,
    "start_time": "2024-07-21T14:17:21.618Z"
   },
   {
    "duration": 1109,
    "start_time": "2024-07-21T15:33:02.577Z"
   },
   {
    "duration": 104,
    "start_time": "2024-07-21T15:33:28.198Z"
   },
   {
    "duration": 17,
    "start_time": "2024-07-21T15:33:39.546Z"
   },
   {
    "duration": 5,
    "start_time": "2024-07-21T15:33:45.117Z"
   },
   {
    "duration": 255,
    "start_time": "2024-07-21T15:33:47.369Z"
   },
   {
    "duration": 213,
    "start_time": "2024-07-21T15:33:48.554Z"
   },
   {
    "duration": 228,
    "start_time": "2024-07-21T15:33:48.903Z"
   },
   {
    "duration": 24800,
    "start_time": "2024-07-21T15:36:19.538Z"
   },
   {
    "duration": 1313,
    "start_time": "2024-07-21T15:45:42.327Z"
   },
   {
    "duration": 1291,
    "start_time": "2024-07-21T15:45:52.367Z"
   },
   {
    "duration": 1340,
    "start_time": "2024-07-21T15:46:02.698Z"
   },
   {
    "duration": 1722,
    "start_time": "2024-07-21T15:50:59.070Z"
   },
   {
    "duration": 821,
    "start_time": "2024-07-21T15:51:00.796Z"
   },
   {
    "duration": 153,
    "start_time": "2024-07-21T15:51:01.620Z"
   },
   {
    "duration": 6,
    "start_time": "2024-07-21T15:51:01.778Z"
   },
   {
    "duration": 54,
    "start_time": "2024-07-21T15:51:01.787Z"
   },
   {
    "duration": 470,
    "start_time": "2024-07-21T15:51:01.851Z"
   },
   {
    "duration": 989,
    "start_time": "2024-07-21T15:51:02.325Z"
   },
   {
    "duration": 46,
    "start_time": "2024-07-21T15:51:03.317Z"
   },
   {
    "duration": 14,
    "start_time": "2024-07-21T15:51:03.366Z"
   },
   {
    "duration": 100,
    "start_time": "2024-07-21T15:51:03.386Z"
   },
   {
    "duration": 60,
    "start_time": "2024-07-21T15:51:03.489Z"
   },
   {
    "duration": 110,
    "start_time": "2024-07-21T15:51:03.552Z"
   },
   {
    "duration": 7,
    "start_time": "2024-07-21T15:51:03.668Z"
   },
   {
    "duration": 36,
    "start_time": "2024-07-21T15:51:03.679Z"
   },
   {
    "duration": 58,
    "start_time": "2024-07-21T15:51:03.718Z"
   },
   {
    "duration": 34,
    "start_time": "2024-07-21T15:51:03.779Z"
   },
   {
    "duration": 42,
    "start_time": "2024-07-21T15:51:03.816Z"
   },
   {
    "duration": 13,
    "start_time": "2024-07-21T15:51:03.860Z"
   },
   {
    "duration": 44,
    "start_time": "2024-07-21T15:51:03.876Z"
   },
   {
    "duration": 55,
    "start_time": "2024-07-21T15:51:03.926Z"
   },
   {
    "duration": 28,
    "start_time": "2024-07-21T15:51:03.988Z"
   },
   {
    "duration": 92,
    "start_time": "2024-07-21T15:51:04.023Z"
   },
   {
    "duration": 14,
    "start_time": "2024-07-21T15:51:04.120Z"
   },
   {
    "duration": 375,
    "start_time": "2024-07-21T15:51:04.140Z"
   },
   {
    "duration": 44,
    "start_time": "2024-07-21T15:51:04.517Z"
   },
   {
    "duration": 63,
    "start_time": "2024-07-21T15:51:04.564Z"
   },
   {
    "duration": 63,
    "start_time": "2024-07-21T15:51:04.630Z"
   },
   {
    "duration": 43,
    "start_time": "2024-07-21T15:51:04.721Z"
   },
   {
    "duration": 5074,
    "start_time": "2024-07-21T15:51:04.767Z"
   },
   {
    "duration": 19,
    "start_time": "2024-07-21T15:51:09.844Z"
   },
   {
    "duration": 72,
    "start_time": "2024-07-21T15:51:09.869Z"
   },
   {
    "duration": 70,
    "start_time": "2024-07-21T15:51:09.944Z"
   },
   {
    "duration": 53,
    "start_time": "2024-07-21T15:51:10.017Z"
   },
   {
    "duration": 81,
    "start_time": "2024-07-21T15:51:10.073Z"
   },
   {
    "duration": 67,
    "start_time": "2024-07-21T15:51:10.158Z"
   },
   {
    "duration": 91,
    "start_time": "2024-07-21T15:51:10.232Z"
   },
   {
    "duration": 96,
    "start_time": "2024-07-21T15:51:10.326Z"
   },
   {
    "duration": 4,
    "start_time": "2024-07-21T15:51:10.425Z"
   },
   {
    "duration": 25,
    "start_time": "2024-07-21T15:51:10.432Z"
   },
   {
    "duration": 97,
    "start_time": "2024-07-21T15:51:10.461Z"
   },
   {
    "duration": 26,
    "start_time": "2024-07-21T15:51:10.564Z"
   },
   {
    "duration": 19,
    "start_time": "2024-07-21T15:51:10.595Z"
   },
   {
    "duration": 33,
    "start_time": "2024-07-21T15:51:10.617Z"
   },
   {
    "duration": 10,
    "start_time": "2024-07-21T15:51:10.653Z"
   },
   {
    "duration": 67,
    "start_time": "2024-07-21T15:51:10.667Z"
   },
   {
    "duration": 10,
    "start_time": "2024-07-21T15:51:10.738Z"
   },
   {
    "duration": 8,
    "start_time": "2024-07-21T15:51:10.752Z"
   },
   {
    "duration": 161,
    "start_time": "2024-07-21T15:51:10.763Z"
   },
   {
    "duration": 19,
    "start_time": "2024-07-21T15:51:10.928Z"
   },
   {
    "duration": 412,
    "start_time": "2024-07-21T15:51:10.951Z"
   },
   {
    "duration": 838,
    "start_time": "2024-07-21T15:51:11.367Z"
   },
   {
    "duration": 5,
    "start_time": "2024-07-21T15:51:12.212Z"
   },
   {
    "duration": 162,
    "start_time": "2024-07-21T15:51:12.221Z"
   },
   {
    "duration": 26733,
    "start_time": "2024-07-21T15:51:12.385Z"
   },
   {
    "duration": 207,
    "start_time": "2024-07-21T15:51:39.120Z"
   },
   {
    "duration": 701787,
    "start_time": "2024-07-21T15:51:39.334Z"
   },
   {
    "duration": 199,
    "start_time": "2024-07-21T16:03:21.125Z"
   },
   {
    "duration": 1100085,
    "start_time": "2024-07-21T16:03:21.327Z"
   },
   {
    "duration": 163,
    "start_time": "2024-07-21T16:21:41.416Z"
   },
   {
    "duration": 2845242,
    "start_time": "2024-07-21T16:21:41.583Z"
   },
   {
    "duration": 1300,
    "start_time": "2024-07-21T17:09:06.828Z"
   },
   {
    "duration": 17,
    "start_time": "2024-07-21T17:09:08.130Z"
   },
   {
    "duration": 5,
    "start_time": "2024-07-21T17:09:08.150Z"
   },
   {
    "duration": 334,
    "start_time": "2024-07-21T17:09:08.160Z"
   },
   {
    "duration": 255,
    "start_time": "2024-07-21T17:09:08.497Z"
   },
   {
    "duration": 240,
    "start_time": "2024-07-21T17:09:08.755Z"
   },
   {
    "duration": 590,
    "start_time": "2024-07-21T17:20:44.602Z"
   },
   {
    "duration": 23040,
    "start_time": "2024-07-21T17:20:54.474Z"
   },
   {
    "duration": 1719,
    "start_time": "2024-07-21T17:21:48.793Z"
   },
   {
    "duration": 751,
    "start_time": "2024-07-21T17:21:50.515Z"
   },
   {
    "duration": 155,
    "start_time": "2024-07-21T17:21:51.269Z"
   },
   {
    "duration": 6,
    "start_time": "2024-07-21T17:21:51.427Z"
   },
   {
    "duration": 39,
    "start_time": "2024-07-21T17:21:51.438Z"
   },
   {
    "duration": 445,
    "start_time": "2024-07-21T17:21:51.480Z"
   },
   {
    "duration": 908,
    "start_time": "2024-07-21T17:21:51.927Z"
   },
   {
    "duration": 43,
    "start_time": "2024-07-21T17:21:52.838Z"
   },
   {
    "duration": 30,
    "start_time": "2024-07-21T17:21:52.888Z"
   },
   {
    "duration": 91,
    "start_time": "2024-07-21T17:21:52.921Z"
   },
   {
    "duration": 40,
    "start_time": "2024-07-21T17:21:53.015Z"
   },
   {
    "duration": 105,
    "start_time": "2024-07-21T17:21:53.058Z"
   },
   {
    "duration": 6,
    "start_time": "2024-07-21T17:21:53.166Z"
   },
   {
    "duration": 34,
    "start_time": "2024-07-21T17:21:53.178Z"
   },
   {
    "duration": 50,
    "start_time": "2024-07-21T17:21:53.216Z"
   },
   {
    "duration": 12,
    "start_time": "2024-07-21T17:21:53.269Z"
   },
   {
    "duration": 38,
    "start_time": "2024-07-21T17:21:53.312Z"
   },
   {
    "duration": 14,
    "start_time": "2024-07-21T17:21:53.353Z"
   },
   {
    "duration": 49,
    "start_time": "2024-07-21T17:21:53.370Z"
   },
   {
    "duration": 37,
    "start_time": "2024-07-21T17:21:53.422Z"
   },
   {
    "duration": 14,
    "start_time": "2024-07-21T17:21:53.462Z"
   },
   {
    "duration": 86,
    "start_time": "2024-07-21T17:21:53.480Z"
   },
   {
    "duration": 5,
    "start_time": "2024-07-21T17:21:53.569Z"
   },
   {
    "duration": 358,
    "start_time": "2024-07-21T17:21:53.577Z"
   },
   {
    "duration": 42,
    "start_time": "2024-07-21T17:21:53.938Z"
   },
   {
    "duration": 62,
    "start_time": "2024-07-21T17:21:53.983Z"
   },
   {
    "duration": 76,
    "start_time": "2024-07-21T17:21:54.048Z"
   },
   {
    "duration": 43,
    "start_time": "2024-07-21T17:21:54.128Z"
   },
   {
    "duration": 4828,
    "start_time": "2024-07-21T17:21:54.174Z"
   },
   {
    "duration": 21,
    "start_time": "2024-07-21T17:21:59.005Z"
   },
   {
    "duration": 49,
    "start_time": "2024-07-21T17:21:59.029Z"
   },
   {
    "duration": 71,
    "start_time": "2024-07-21T17:21:59.081Z"
   },
   {
    "duration": 62,
    "start_time": "2024-07-21T17:21:59.155Z"
   },
   {
    "duration": 41,
    "start_time": "2024-07-21T17:21:59.220Z"
   },
   {
    "duration": 63,
    "start_time": "2024-07-21T17:21:59.264Z"
   },
   {
    "duration": 85,
    "start_time": "2024-07-21T17:21:59.330Z"
   },
   {
    "duration": 57,
    "start_time": "2024-07-21T17:21:59.419Z"
   },
   {
    "duration": 6,
    "start_time": "2024-07-21T17:21:59.478Z"
   },
   {
    "duration": 42,
    "start_time": "2024-07-21T17:21:59.487Z"
   },
   {
    "duration": 50,
    "start_time": "2024-07-21T17:21:59.533Z"
   },
   {
    "duration": 22,
    "start_time": "2024-07-21T17:21:59.619Z"
   },
   {
    "duration": 4,
    "start_time": "2024-07-21T17:21:59.644Z"
   },
   {
    "duration": 63,
    "start_time": "2024-07-21T17:21:59.651Z"
   },
   {
    "duration": 11,
    "start_time": "2024-07-21T17:21:59.719Z"
   },
   {
    "duration": 28,
    "start_time": "2024-07-21T17:21:59.735Z"
   },
   {
    "duration": 46,
    "start_time": "2024-07-21T17:21:59.766Z"
   },
   {
    "duration": 8,
    "start_time": "2024-07-21T17:21:59.815Z"
   },
   {
    "duration": 140,
    "start_time": "2024-07-21T17:21:59.826Z"
   },
   {
    "duration": 18,
    "start_time": "2024-07-21T17:21:59.969Z"
   },
   {
    "duration": 389,
    "start_time": "2024-07-21T17:21:59.990Z"
   },
   {
    "duration": 776,
    "start_time": "2024-07-21T17:22:00.382Z"
   },
   {
    "duration": 4,
    "start_time": "2024-07-21T17:22:01.161Z"
   },
   {
    "duration": 164,
    "start_time": "2024-07-21T17:22:01.168Z"
   },
   {
    "duration": 23176,
    "start_time": "2024-07-21T17:22:01.337Z"
   },
   {
    "duration": 213,
    "start_time": "2024-07-21T17:22:24.519Z"
   },
   {
    "duration": 721190,
    "start_time": "2024-07-21T17:22:24.739Z"
   },
   {
    "duration": 222,
    "start_time": "2024-07-21T17:34:25.932Z"
   },
   {
    "duration": 1496,
    "start_time": "2024-07-21T17:34:26.158Z"
   },
   {
    "duration": 0,
    "start_time": "2024-07-21T17:34:27.658Z"
   },
   {
    "duration": 0,
    "start_time": "2024-07-21T17:34:27.660Z"
   },
   {
    "duration": 0,
    "start_time": "2024-07-21T17:34:27.663Z"
   },
   {
    "duration": 0,
    "start_time": "2024-07-21T17:34:27.665Z"
   },
   {
    "duration": 0,
    "start_time": "2024-07-21T17:34:27.668Z"
   },
   {
    "duration": 0,
    "start_time": "2024-07-21T17:34:27.670Z"
   },
   {
    "duration": 0,
    "start_time": "2024-07-21T17:34:27.673Z"
   },
   {
    "duration": 0,
    "start_time": "2024-07-21T17:34:27.676Z"
   },
   {
    "duration": 4,
    "start_time": "2024-07-21T17:40:23.906Z"
   },
   {
    "duration": 9,
    "start_time": "2024-07-21T17:40:40.478Z"
   },
   {
    "duration": 7,
    "start_time": "2024-07-21T17:40:41.487Z"
   },
   {
    "duration": 16,
    "start_time": "2024-07-21T17:40:46.653Z"
   },
   {
    "duration": 20,
    "start_time": "2024-07-21T17:40:49.754Z"
   },
   {
    "duration": 368,
    "start_time": "2024-07-21T17:40:52.402Z"
   },
   {
    "duration": 777,
    "start_time": "2024-07-21T17:40:59.886Z"
   },
   {
    "duration": 3,
    "start_time": "2024-07-21T17:41:03.262Z"
   },
   {
    "duration": 160,
    "start_time": "2024-07-21T17:41:04.454Z"
   },
   {
    "duration": 23841,
    "start_time": "2024-07-21T17:41:08.680Z"
   },
   {
    "duration": 128,
    "start_time": "2024-07-21T17:41:38.707Z"
   },
   {
    "duration": 183,
    "start_time": "2024-07-21T17:41:49.073Z"
   },
   {
    "duration": 13,
    "start_time": "2024-07-21T17:45:28.181Z"
   },
   {
    "duration": 1686,
    "start_time": "2024-07-21T17:45:36.844Z"
   },
   {
    "duration": 797,
    "start_time": "2024-07-21T17:45:38.534Z"
   },
   {
    "duration": 149,
    "start_time": "2024-07-21T17:45:39.334Z"
   },
   {
    "duration": 6,
    "start_time": "2024-07-21T17:45:39.488Z"
   },
   {
    "duration": 33,
    "start_time": "2024-07-21T17:45:39.514Z"
   },
   {
    "duration": 446,
    "start_time": "2024-07-21T17:45:39.549Z"
   },
   {
    "duration": 917,
    "start_time": "2024-07-21T17:45:40.001Z"
   },
   {
    "duration": 48,
    "start_time": "2024-07-21T17:45:40.921Z"
   },
   {
    "duration": 39,
    "start_time": "2024-07-21T17:45:40.973Z"
   },
   {
    "duration": 95,
    "start_time": "2024-07-21T17:45:41.019Z"
   },
   {
    "duration": 44,
    "start_time": "2024-07-21T17:45:41.117Z"
   },
   {
    "duration": 115,
    "start_time": "2024-07-21T17:45:41.168Z"
   },
   {
    "duration": 8,
    "start_time": "2024-07-21T17:45:41.287Z"
   },
   {
    "duration": 28,
    "start_time": "2024-07-21T17:45:41.298Z"
   },
   {
    "duration": 47,
    "start_time": "2024-07-21T17:45:41.329Z"
   },
   {
    "duration": 34,
    "start_time": "2024-07-21T17:45:41.379Z"
   },
   {
    "duration": 52,
    "start_time": "2024-07-21T17:45:41.419Z"
   },
   {
    "duration": 42,
    "start_time": "2024-07-21T17:45:41.474Z"
   },
   {
    "duration": 18,
    "start_time": "2024-07-21T17:45:41.520Z"
   },
   {
    "duration": 47,
    "start_time": "2024-07-21T17:45:41.541Z"
   },
   {
    "duration": 33,
    "start_time": "2024-07-21T17:45:41.591Z"
   },
   {
    "duration": 82,
    "start_time": "2024-07-21T17:45:41.630Z"
   },
   {
    "duration": 6,
    "start_time": "2024-07-21T17:45:41.716Z"
   },
   {
    "duration": 394,
    "start_time": "2024-07-21T17:45:41.726Z"
   },
   {
    "duration": 44,
    "start_time": "2024-07-21T17:45:42.124Z"
   },
   {
    "duration": 64,
    "start_time": "2024-07-21T17:45:42.172Z"
   },
   {
    "duration": 74,
    "start_time": "2024-07-21T17:45:42.240Z"
   },
   {
    "duration": 56,
    "start_time": "2024-07-21T17:45:42.327Z"
   },
   {
    "duration": 4990,
    "start_time": "2024-07-21T17:45:42.386Z"
   },
   {
    "duration": 19,
    "start_time": "2024-07-21T17:45:47.379Z"
   },
   {
    "duration": 67,
    "start_time": "2024-07-21T17:45:47.413Z"
   },
   {
    "duration": 65,
    "start_time": "2024-07-21T17:45:47.483Z"
   },
   {
    "duration": 78,
    "start_time": "2024-07-21T17:45:47.551Z"
   },
   {
    "duration": 41,
    "start_time": "2024-07-21T17:45:47.632Z"
   },
   {
    "duration": 70,
    "start_time": "2024-07-21T17:45:47.676Z"
   },
   {
    "duration": 92,
    "start_time": "2024-07-21T17:45:47.749Z"
   },
   {
    "duration": 69,
    "start_time": "2024-07-21T17:45:47.845Z"
   },
   {
    "duration": 5,
    "start_time": "2024-07-21T17:45:47.918Z"
   },
   {
    "duration": 22,
    "start_time": "2024-07-21T17:45:47.928Z"
   },
   {
    "duration": 109,
    "start_time": "2024-07-21T17:45:47.956Z"
   },
   {
    "duration": 28,
    "start_time": "2024-07-21T17:45:48.068Z"
   },
   {
    "duration": 17,
    "start_time": "2024-07-21T17:45:48.099Z"
   },
   {
    "duration": 43,
    "start_time": "2024-07-21T17:45:48.119Z"
   },
   {
    "duration": 10,
    "start_time": "2024-07-21T17:45:48.165Z"
   },
   {
    "duration": 65,
    "start_time": "2024-07-21T17:45:48.178Z"
   },
   {
    "duration": 11,
    "start_time": "2024-07-21T17:45:48.246Z"
   },
   {
    "duration": 8,
    "start_time": "2024-07-21T17:45:48.260Z"
   },
   {
    "duration": 152,
    "start_time": "2024-07-21T17:45:48.272Z"
   },
   {
    "duration": 23,
    "start_time": "2024-07-21T17:45:48.428Z"
   },
   {
    "duration": 766,
    "start_time": "2024-07-21T17:45:48.455Z"
   },
   {
    "duration": 0,
    "start_time": "2024-07-21T17:45:49.224Z"
   },
   {
    "duration": 0,
    "start_time": "2024-07-21T17:45:49.226Z"
   },
   {
    "duration": 0,
    "start_time": "2024-07-21T17:45:49.228Z"
   },
   {
    "duration": 0,
    "start_time": "2024-07-21T17:45:49.230Z"
   },
   {
    "duration": 0,
    "start_time": "2024-07-21T17:45:49.232Z"
   },
   {
    "duration": 0,
    "start_time": "2024-07-21T17:45:49.234Z"
   },
   {
    "duration": 0,
    "start_time": "2024-07-21T17:45:49.238Z"
   },
   {
    "duration": 0,
    "start_time": "2024-07-21T17:45:49.239Z"
   },
   {
    "duration": 0,
    "start_time": "2024-07-21T17:45:49.241Z"
   },
   {
    "duration": 0,
    "start_time": "2024-07-21T17:45:49.242Z"
   },
   {
    "duration": 0,
    "start_time": "2024-07-21T17:45:49.245Z"
   },
   {
    "duration": 0,
    "start_time": "2024-07-21T17:45:49.247Z"
   },
   {
    "duration": 0,
    "start_time": "2024-07-21T17:45:49.248Z"
   },
   {
    "duration": 0,
    "start_time": "2024-07-21T17:45:49.250Z"
   },
   {
    "duration": 0,
    "start_time": "2024-07-21T17:45:49.252Z"
   },
   {
    "duration": 0,
    "start_time": "2024-07-21T17:45:49.254Z"
   },
   {
    "duration": 467,
    "start_time": "2024-07-21T17:46:20.252Z"
   },
   {
    "duration": 1815,
    "start_time": "2024-07-21T17:46:40.671Z"
   },
   {
    "duration": 902,
    "start_time": "2024-07-21T17:46:42.490Z"
   },
   {
    "duration": 163,
    "start_time": "2024-07-21T17:46:43.395Z"
   },
   {
    "duration": 7,
    "start_time": "2024-07-21T17:46:43.561Z"
   },
   {
    "duration": 64,
    "start_time": "2024-07-21T17:46:43.572Z"
   },
   {
    "duration": 448,
    "start_time": "2024-07-21T17:46:43.640Z"
   },
   {
    "duration": 962,
    "start_time": "2024-07-21T17:46:44.091Z"
   },
   {
    "duration": 56,
    "start_time": "2024-07-21T17:46:45.056Z"
   },
   {
    "duration": 18,
    "start_time": "2024-07-21T17:46:45.117Z"
   },
   {
    "duration": 102,
    "start_time": "2024-07-21T17:46:45.141Z"
   },
   {
    "duration": 37,
    "start_time": "2024-07-21T17:46:45.246Z"
   },
   {
    "duration": 113,
    "start_time": "2024-07-21T17:46:45.287Z"
   },
   {
    "duration": 6,
    "start_time": "2024-07-21T17:46:45.413Z"
   },
   {
    "duration": 13,
    "start_time": "2024-07-21T17:46:45.422Z"
   },
   {
    "duration": 80,
    "start_time": "2024-07-21T17:46:45.439Z"
   },
   {
    "duration": 13,
    "start_time": "2024-07-21T17:46:45.522Z"
   },
   {
    "duration": 75,
    "start_time": "2024-07-21T17:46:45.538Z"
   },
   {
    "duration": 13,
    "start_time": "2024-07-21T17:46:45.616Z"
   },
   {
    "duration": 16,
    "start_time": "2024-07-21T17:46:45.632Z"
   },
   {
    "duration": 73,
    "start_time": "2024-07-21T17:46:45.651Z"
   },
   {
    "duration": 16,
    "start_time": "2024-07-21T17:46:45.727Z"
   },
   {
    "duration": 82,
    "start_time": "2024-07-21T17:46:45.749Z"
   },
   {
    "duration": 5,
    "start_time": "2024-07-21T17:46:45.835Z"
   },
   {
    "duration": 364,
    "start_time": "2024-07-21T17:46:45.843Z"
   },
   {
    "duration": 54,
    "start_time": "2024-07-21T17:46:46.214Z"
   },
   {
    "duration": 54,
    "start_time": "2024-07-21T17:46:46.272Z"
   },
   {
    "duration": 57,
    "start_time": "2024-07-21T17:46:46.329Z"
   },
   {
    "duration": 43,
    "start_time": "2024-07-21T17:46:46.416Z"
   },
   {
    "duration": 5006,
    "start_time": "2024-07-21T17:46:46.462Z"
   },
   {
    "duration": 20,
    "start_time": "2024-07-21T17:46:51.472Z"
   },
   {
    "duration": 77,
    "start_time": "2024-07-21T17:46:51.495Z"
   },
   {
    "duration": 58,
    "start_time": "2024-07-21T17:46:51.575Z"
   },
   {
    "duration": 46,
    "start_time": "2024-07-21T17:46:51.636Z"
   },
   {
    "duration": 77,
    "start_time": "2024-07-21T17:46:51.685Z"
   },
   {
    "duration": 61,
    "start_time": "2024-07-21T17:46:51.766Z"
   },
   {
    "duration": 93,
    "start_time": "2024-07-21T17:46:51.830Z"
   },
   {
    "duration": 58,
    "start_time": "2024-07-21T17:46:51.928Z"
   },
   {
    "duration": 22,
    "start_time": "2024-07-21T17:46:51.990Z"
   },
   {
    "duration": 22,
    "start_time": "2024-07-21T17:46:52.016Z"
   },
   {
    "duration": 77,
    "start_time": "2024-07-21T17:46:52.041Z"
   },
   {
    "duration": 29,
    "start_time": "2024-07-21T17:46:52.121Z"
   },
   {
    "duration": 7,
    "start_time": "2024-07-21T17:46:52.155Z"
   },
   {
    "duration": 57,
    "start_time": "2024-07-21T17:46:52.166Z"
   },
   {
    "duration": 10,
    "start_time": "2024-07-21T17:46:52.228Z"
   },
   {
    "duration": 29,
    "start_time": "2024-07-21T17:46:52.244Z"
   },
   {
    "duration": 37,
    "start_time": "2024-07-21T17:46:52.276Z"
   },
   {
    "duration": 8,
    "start_time": "2024-07-21T17:46:52.316Z"
   },
   {
    "duration": 155,
    "start_time": "2024-07-21T17:46:52.327Z"
   },
   {
    "duration": 25,
    "start_time": "2024-07-21T17:46:52.488Z"
   },
   {
    "duration": 386,
    "start_time": "2024-07-21T17:46:52.516Z"
   },
   {
    "duration": 816,
    "start_time": "2024-07-21T17:46:52.911Z"
   },
   {
    "duration": 6,
    "start_time": "2024-07-21T17:46:53.731Z"
   },
   {
    "duration": 163,
    "start_time": "2024-07-21T17:46:53.741Z"
   },
   {
    "duration": 25706,
    "start_time": "2024-07-21T17:46:53.907Z"
   },
   {
    "duration": 233,
    "start_time": "2024-07-21T17:47:19.617Z"
   },
   {
    "duration": 761906,
    "start_time": "2024-07-21T17:47:19.854Z"
   },
   {
    "duration": 230,
    "start_time": "2024-07-21T18:00:01.762Z"
   },
   {
    "duration": 1459,
    "start_time": "2024-07-21T18:00:01.995Z"
   },
   {
    "duration": 0,
    "start_time": "2024-07-21T18:00:03.457Z"
   },
   {
    "duration": 0,
    "start_time": "2024-07-21T18:00:03.459Z"
   },
   {
    "duration": 0,
    "start_time": "2024-07-21T18:00:03.461Z"
   },
   {
    "duration": 0,
    "start_time": "2024-07-21T18:00:03.464Z"
   },
   {
    "duration": 0,
    "start_time": "2024-07-21T18:00:03.466Z"
   },
   {
    "duration": 0,
    "start_time": "2024-07-21T18:00:03.468Z"
   },
   {
    "duration": 0,
    "start_time": "2024-07-21T18:00:03.470Z"
   },
   {
    "duration": 0,
    "start_time": "2024-07-21T18:00:03.481Z"
   },
   {
    "duration": 4,
    "start_time": "2024-07-21T18:12:25.072Z"
   },
   {
    "duration": 28,
    "start_time": "2024-07-21T18:12:33.778Z"
   },
   {
    "duration": 1841,
    "start_time": "2024-07-21T18:12:40.429Z"
   },
   {
    "duration": 861,
    "start_time": "2024-07-21T18:12:42.273Z"
   },
   {
    "duration": 195,
    "start_time": "2024-07-21T18:12:43.138Z"
   },
   {
    "duration": 6,
    "start_time": "2024-07-21T18:12:43.338Z"
   },
   {
    "duration": 73,
    "start_time": "2024-07-21T18:12:43.347Z"
   },
   {
    "duration": 464,
    "start_time": "2024-07-21T18:12:43.423Z"
   },
   {
    "duration": 999,
    "start_time": "2024-07-21T18:12:43.891Z"
   },
   {
    "duration": 47,
    "start_time": "2024-07-21T18:12:44.894Z"
   },
   {
    "duration": 18,
    "start_time": "2024-07-21T18:12:44.944Z"
   },
   {
    "duration": 102,
    "start_time": "2024-07-21T18:12:44.968Z"
   },
   {
    "duration": 48,
    "start_time": "2024-07-21T18:12:45.078Z"
   },
   {
    "duration": 109,
    "start_time": "2024-07-21T18:12:45.130Z"
   },
   {
    "duration": 6,
    "start_time": "2024-07-21T18:12:45.242Z"
   },
   {
    "duration": 13,
    "start_time": "2024-07-21T18:12:45.251Z"
   },
   {
    "duration": 81,
    "start_time": "2024-07-21T18:12:45.267Z"
   },
   {
    "duration": 15,
    "start_time": "2024-07-21T18:12:45.352Z"
   },
   {
    "duration": 70,
    "start_time": "2024-07-21T18:12:45.370Z"
   },
   {
    "duration": 12,
    "start_time": "2024-07-21T18:12:45.444Z"
   },
   {
    "duration": 17,
    "start_time": "2024-07-21T18:12:45.459Z"
   },
   {
    "duration": 71,
    "start_time": "2024-07-21T18:12:45.479Z"
   },
   {
    "duration": 19,
    "start_time": "2024-07-21T18:12:45.554Z"
   },
   {
    "duration": 94,
    "start_time": "2024-07-21T18:12:45.578Z"
   },
   {
    "duration": 6,
    "start_time": "2024-07-21T18:12:45.675Z"
   },
   {
    "duration": 337,
    "start_time": "2024-07-21T18:12:45.685Z"
   },
   {
    "duration": 44,
    "start_time": "2024-07-21T18:12:46.028Z"
   },
   {
    "duration": 61,
    "start_time": "2024-07-21T18:12:46.075Z"
   },
   {
    "duration": 78,
    "start_time": "2024-07-21T18:12:46.139Z"
   },
   {
    "duration": 50,
    "start_time": "2024-07-21T18:12:46.228Z"
   },
   {
    "duration": 4922,
    "start_time": "2024-07-21T18:12:46.281Z"
   },
   {
    "duration": 20,
    "start_time": "2024-07-21T18:12:51.206Z"
   },
   {
    "duration": 56,
    "start_time": "2024-07-21T18:12:51.229Z"
   },
   {
    "duration": 66,
    "start_time": "2024-07-21T18:12:51.289Z"
   },
   {
    "duration": 62,
    "start_time": "2024-07-21T18:12:51.364Z"
   },
   {
    "duration": 45,
    "start_time": "2024-07-21T18:12:51.429Z"
   },
   {
    "duration": 73,
    "start_time": "2024-07-21T18:12:51.477Z"
   },
   {
    "duration": 84,
    "start_time": "2024-07-21T18:12:51.553Z"
   },
   {
    "duration": 73,
    "start_time": "2024-07-21T18:12:51.641Z"
   },
   {
    "duration": 4,
    "start_time": "2024-07-21T18:12:51.716Z"
   },
   {
    "duration": 24,
    "start_time": "2024-07-21T18:12:51.723Z"
   },
   {
    "duration": 96,
    "start_time": "2024-07-21T18:12:51.751Z"
   },
   {
    "duration": 29,
    "start_time": "2024-07-21T18:12:51.851Z"
   },
   {
    "duration": 7,
    "start_time": "2024-07-21T18:12:51.884Z"
   },
   {
    "duration": 36,
    "start_time": "2024-07-21T18:12:51.914Z"
   },
   {
    "duration": 10,
    "start_time": "2024-07-21T18:12:51.953Z"
   },
   {
    "duration": 63,
    "start_time": "2024-07-21T18:12:51.966Z"
   },
   {
    "duration": 10,
    "start_time": "2024-07-21T18:12:52.032Z"
   },
   {
    "duration": 9,
    "start_time": "2024-07-21T18:12:52.046Z"
   },
   {
    "duration": 146,
    "start_time": "2024-07-21T18:12:52.060Z"
   },
   {
    "duration": 22,
    "start_time": "2024-07-21T18:12:52.209Z"
   },
   {
    "duration": 379,
    "start_time": "2024-07-21T18:12:52.237Z"
   },
   {
    "duration": 841,
    "start_time": "2024-07-21T18:12:52.619Z"
   },
   {
    "duration": 4,
    "start_time": "2024-07-21T18:12:53.463Z"
   },
   {
    "duration": 166,
    "start_time": "2024-07-21T18:12:53.470Z"
   },
   {
    "duration": 26991,
    "start_time": "2024-07-21T18:12:53.638Z"
   },
   {
    "duration": 290,
    "start_time": "2024-07-21T18:13:20.632Z"
   },
   {
    "duration": 743343,
    "start_time": "2024-07-21T18:13:20.926Z"
   },
   {
    "duration": 301,
    "start_time": "2024-07-21T18:25:44.273Z"
   },
   {
    "duration": 1124865,
    "start_time": "2024-07-21T18:25:44.579Z"
   },
   {
    "duration": 146,
    "start_time": "2024-07-21T18:44:29.447Z"
   },
   {
    "duration": 2387556,
    "start_time": "2024-07-21T18:44:29.597Z"
   },
   {
    "duration": 1356,
    "start_time": "2024-07-21T19:24:17.157Z"
   },
   {
    "duration": 17,
    "start_time": "2024-07-21T19:24:18.516Z"
   },
   {
    "duration": 6,
    "start_time": "2024-07-21T19:24:18.536Z"
   },
   {
    "duration": 303,
    "start_time": "2024-07-21T19:24:18.547Z"
   },
   {
    "duration": 262,
    "start_time": "2024-07-21T19:24:18.853Z"
   },
   {
    "duration": 239,
    "start_time": "2024-07-21T19:24:19.119Z"
   },
   {
    "duration": 5734,
    "start_time": "2024-07-22T01:40:28.977Z"
   },
   {
    "duration": 855,
    "start_time": "2024-07-22T01:40:34.714Z"
   },
   {
    "duration": 147,
    "start_time": "2024-07-22T01:40:35.572Z"
   },
   {
    "duration": 5,
    "start_time": "2024-07-22T01:40:35.723Z"
   },
   {
    "duration": 45,
    "start_time": "2024-07-22T01:40:40.677Z"
   },
   {
    "duration": 489,
    "start_time": "2024-07-22T01:40:41.596Z"
   },
   {
    "duration": 954,
    "start_time": "2024-07-22T01:40:42.091Z"
   },
   {
    "duration": 37,
    "start_time": "2024-07-22T01:40:43.629Z"
   },
   {
    "duration": 20,
    "start_time": "2024-07-22T01:40:43.812Z"
   },
   {
    "duration": 96,
    "start_time": "2024-07-22T01:40:49.718Z"
   },
   {
    "duration": 52,
    "start_time": "2024-07-22T01:40:54.123Z"
   },
   {
    "duration": 159,
    "start_time": "2024-07-22T01:40:55.143Z"
   },
   {
    "duration": 7,
    "start_time": "2024-07-22T01:40:55.405Z"
   },
   {
    "duration": 16,
    "start_time": "2024-07-22T01:40:56.700Z"
   },
   {
    "duration": 43,
    "start_time": "2024-07-22T01:41:06.662Z"
   },
   {
    "duration": 252,
    "start_time": "2024-07-22T01:41:30.227Z"
   },
   {
    "duration": 338,
    "start_time": "2024-07-22T01:41:56.386Z"
   },
   {
    "duration": 41,
    "start_time": "2024-07-22T01:42:10.323Z"
   },
   {
    "duration": 43,
    "start_time": "2024-07-22T01:42:23.617Z"
   },
   {
    "duration": 317,
    "start_time": "2024-07-22T01:42:25.872Z"
   },
   {
    "duration": 28,
    "start_time": "2024-07-22T01:42:48.877Z"
   },
   {
    "duration": 304,
    "start_time": "2024-07-22T01:42:51.999Z"
   },
   {
    "duration": 24,
    "start_time": "2024-07-22T01:43:05.624Z"
   },
   {
    "duration": 304,
    "start_time": "2024-07-22T01:43:08.286Z"
   },
   {
    "duration": 414,
    "start_time": "2024-07-22T01:43:40.402Z"
   },
   {
    "duration": 6,
    "start_time": "2024-07-22T01:43:45.501Z"
   },
   {
    "duration": 934,
    "start_time": "2024-07-22T01:43:45.839Z"
   },
   {
    "duration": 192,
    "start_time": "2024-07-22T01:43:46.777Z"
   },
   {
    "duration": 6,
    "start_time": "2024-07-22T01:43:46.972Z"
   },
   {
    "duration": 32,
    "start_time": "2024-07-22T01:43:46.983Z"
   },
   {
    "duration": 433,
    "start_time": "2024-07-22T01:43:47.018Z"
   },
   {
    "duration": 951,
    "start_time": "2024-07-22T01:43:47.455Z"
   },
   {
    "duration": 63,
    "start_time": "2024-07-22T01:43:48.410Z"
   },
   {
    "duration": 24,
    "start_time": "2024-07-22T01:43:48.479Z"
   },
   {
    "duration": 100,
    "start_time": "2024-07-22T01:43:48.507Z"
   },
   {
    "duration": 45,
    "start_time": "2024-07-22T01:43:48.853Z"
   },
   {
    "duration": 82,
    "start_time": "2024-07-22T01:43:49.353Z"
   },
   {
    "duration": 6,
    "start_time": "2024-07-22T01:43:50.245Z"
   },
   {
    "duration": 17,
    "start_time": "2024-07-22T01:43:50.559Z"
   },
   {
    "duration": 320,
    "start_time": "2024-07-22T01:43:55.439Z"
   },
   {
    "duration": 43,
    "start_time": "2024-07-22T01:43:59.319Z"
   },
   {
    "duration": 325,
    "start_time": "2024-07-22T01:43:59.720Z"
   },
   {
    "duration": 1763,
    "start_time": "2024-07-22T01:44:29.683Z"
   },
   {
    "duration": 797,
    "start_time": "2024-07-22T01:44:31.450Z"
   },
   {
    "duration": 153,
    "start_time": "2024-07-22T01:44:32.251Z"
   },
   {
    "duration": 6,
    "start_time": "2024-07-22T01:44:32.411Z"
   },
   {
    "duration": 69,
    "start_time": "2024-07-22T01:44:32.423Z"
   },
   {
    "duration": 545,
    "start_time": "2024-07-22T01:44:32.495Z"
   },
   {
    "duration": 1408,
    "start_time": "2024-07-22T01:44:33.044Z"
   },
   {
    "duration": 54,
    "start_time": "2024-07-22T01:44:34.456Z"
   },
   {
    "duration": 15,
    "start_time": "2024-07-22T01:44:34.515Z"
   },
   {
    "duration": 119,
    "start_time": "2024-07-22T01:44:34.534Z"
   },
   {
    "duration": 48,
    "start_time": "2024-07-22T01:44:34.656Z"
   },
   {
    "duration": 129,
    "start_time": "2024-07-22T01:44:34.708Z"
   },
   {
    "duration": 9,
    "start_time": "2024-07-22T01:44:34.841Z"
   },
   {
    "duration": 16,
    "start_time": "2024-07-22T01:44:34.872Z"
   },
   {
    "duration": 368,
    "start_time": "2024-07-22T01:44:34.891Z"
   },
   {
    "duration": 54,
    "start_time": "2024-07-22T01:44:35.262Z"
   },
   {
    "duration": 369,
    "start_time": "2024-07-22T01:44:35.320Z"
   },
   {
    "duration": 12,
    "start_time": "2024-07-22T01:44:35.692Z"
   },
   {
    "duration": 66,
    "start_time": "2024-07-22T01:44:35.707Z"
   },
   {
    "duration": 14,
    "start_time": "2024-07-22T01:44:35.778Z"
   },
   {
    "duration": 15,
    "start_time": "2024-07-22T01:44:35.796Z"
   },
   {
    "duration": 80,
    "start_time": "2024-07-22T01:44:35.814Z"
   },
   {
    "duration": 20,
    "start_time": "2024-07-22T01:44:35.898Z"
   },
   {
    "duration": 109,
    "start_time": "2024-07-22T01:44:35.922Z"
   },
   {
    "duration": 7,
    "start_time": "2024-07-22T01:44:36.034Z"
   },
   {
    "duration": 353,
    "start_time": "2024-07-22T01:44:36.045Z"
   },
   {
    "duration": 65,
    "start_time": "2024-07-22T01:44:36.402Z"
   },
   {
    "duration": 38,
    "start_time": "2024-07-22T01:44:36.471Z"
   },
   {
    "duration": 76,
    "start_time": "2024-07-22T01:44:36.512Z"
   },
   {
    "duration": 78,
    "start_time": "2024-07-22T01:44:36.591Z"
   },
   {
    "duration": 5032,
    "start_time": "2024-07-22T01:44:36.673Z"
   },
   {
    "duration": 24,
    "start_time": "2024-07-22T01:44:41.709Z"
   },
   {
    "duration": 66,
    "start_time": "2024-07-22T01:44:41.737Z"
   },
   {
    "duration": 61,
    "start_time": "2024-07-22T01:44:41.807Z"
   },
   {
    "duration": 45,
    "start_time": "2024-07-22T01:44:41.872Z"
   },
   {
    "duration": 57,
    "start_time": "2024-07-22T01:44:41.921Z"
   },
   {
    "duration": 42,
    "start_time": "2024-07-22T01:44:41.981Z"
   },
   {
    "duration": 101,
    "start_time": "2024-07-22T01:44:42.027Z"
   },
   {
    "duration": 85,
    "start_time": "2024-07-22T01:44:42.131Z"
   },
   {
    "duration": 4,
    "start_time": "2024-07-22T01:44:42.220Z"
   },
   {
    "duration": 37,
    "start_time": "2024-07-22T01:44:42.239Z"
   },
   {
    "duration": 63,
    "start_time": "2024-07-22T01:44:42.279Z"
   },
   {
    "duration": 27,
    "start_time": "2024-07-22T01:44:42.372Z"
   },
   {
    "duration": 5,
    "start_time": "2024-07-22T01:44:42.403Z"
   },
   {
    "duration": 74,
    "start_time": "2024-07-22T01:44:42.412Z"
   },
   {
    "duration": 9,
    "start_time": "2024-07-22T01:44:42.489Z"
   },
   {
    "duration": 27,
    "start_time": "2024-07-22T01:44:42.502Z"
   },
   {
    "duration": 42,
    "start_time": "2024-07-22T01:44:42.532Z"
   },
   {
    "duration": 8,
    "start_time": "2024-07-22T01:44:42.578Z"
   },
   {
    "duration": 140,
    "start_time": "2024-07-22T01:44:42.590Z"
   },
   {
    "duration": 19,
    "start_time": "2024-07-22T01:44:42.735Z"
   },
   {
    "duration": 401,
    "start_time": "2024-07-22T01:44:42.770Z"
   },
   {
    "duration": 853,
    "start_time": "2024-07-22T01:44:43.176Z"
   },
   {
    "duration": 5,
    "start_time": "2024-07-22T01:44:44.033Z"
   },
   {
    "duration": 169,
    "start_time": "2024-07-22T01:44:44.042Z"
   },
   {
    "duration": 26962,
    "start_time": "2024-07-22T01:44:44.214Z"
   },
   {
    "duration": 319,
    "start_time": "2024-07-22T01:45:11.179Z"
   },
   {
    "duration": 711980,
    "start_time": "2024-07-22T01:45:11.508Z"
   },
   {
    "duration": 213,
    "start_time": "2024-07-22T01:57:03.491Z"
   },
   {
    "duration": 1047929,
    "start_time": "2024-07-22T01:57:03.707Z"
   },
   {
    "duration": 116,
    "start_time": "2024-07-22T02:14:31.638Z"
   },
   {
    "duration": 5200,
    "start_time": "2024-07-23T11:17:38.501Z"
   },
   {
    "duration": 824,
    "start_time": "2024-07-23T11:17:43.704Z"
   },
   {
    "duration": 146,
    "start_time": "2024-07-23T11:17:44.531Z"
   },
   {
    "duration": 6,
    "start_time": "2024-07-23T11:17:44.681Z"
   },
   {
    "duration": 57,
    "start_time": "2024-07-23T11:17:44.689Z"
   },
   {
    "duration": 404,
    "start_time": "2024-07-23T11:17:44.749Z"
   },
   {
    "duration": 882,
    "start_time": "2024-07-23T11:17:45.156Z"
   },
   {
    "duration": 47,
    "start_time": "2024-07-23T11:17:46.041Z"
   },
   {
    "duration": 14,
    "start_time": "2024-07-23T11:17:46.093Z"
   },
   {
    "duration": 69,
    "start_time": "2024-07-23T11:17:47.234Z"
   },
   {
    "duration": 36,
    "start_time": "2024-07-23T11:17:49.449Z"
   },
   {
    "duration": 75,
    "start_time": "2024-07-23T11:17:51.213Z"
   },
   {
    "duration": 5,
    "start_time": "2024-07-23T11:17:51.930Z"
   },
   {
    "duration": 12,
    "start_time": "2024-07-23T11:17:59.910Z"
   },
   {
    "duration": 2722,
    "start_time": "2024-07-23T11:18:41.244Z"
   },
   {
    "duration": 3,
    "start_time": "2024-07-23T11:21:03.530Z"
   },
   {
    "duration": 277,
    "start_time": "2024-07-23T11:21:10.638Z"
   },
   {
    "duration": 25,
    "start_time": "2024-07-23T11:23:03.523Z"
   },
   {
    "duration": 53,
    "start_time": "2024-07-23T11:28:12.474Z"
   },
   {
    "duration": 29,
    "start_time": "2024-07-23T11:29:11.267Z"
   },
   {
    "duration": 25,
    "start_time": "2024-07-23T11:31:11.022Z"
   },
   {
    "duration": 10,
    "start_time": "2024-07-23T11:31:23.492Z"
   },
   {
    "duration": 412,
    "start_time": "2024-07-23T11:32:16.530Z"
   },
   {
    "duration": 5,
    "start_time": "2024-07-23T11:32:25.549Z"
   },
   {
    "duration": 5,
    "start_time": "2024-07-23T11:32:46.343Z"
   },
   {
    "duration": 27,
    "start_time": "2024-07-23T11:35:19.462Z"
   },
   {
    "duration": 23,
    "start_time": "2024-07-23T11:36:33.893Z"
   },
   {
    "duration": 19,
    "start_time": "2024-07-23T11:38:20.049Z"
   },
   {
    "duration": 22,
    "start_time": "2024-07-23T11:39:21.710Z"
   },
   {
    "duration": 19,
    "start_time": "2024-07-23T11:41:19.680Z"
   },
   {
    "duration": 18,
    "start_time": "2024-07-23T11:44:10.822Z"
   },
   {
    "duration": 19,
    "start_time": "2024-07-23T11:46:19.576Z"
   },
   {
    "duration": 19,
    "start_time": "2024-07-23T11:51:01.073Z"
   },
   {
    "duration": 40,
    "start_time": "2024-07-23T11:59:35.313Z"
   },
   {
    "duration": 298,
    "start_time": "2024-07-23T11:59:40.421Z"
   },
   {
    "duration": 2316,
    "start_time": "2024-07-23T12:00:18.655Z"
   },
   {
    "duration": 2313,
    "start_time": "2024-07-23T12:01:06.943Z"
   },
   {
    "duration": 2585,
    "start_time": "2024-07-23T12:01:50.695Z"
   },
   {
    "duration": 2457,
    "start_time": "2024-07-23T12:02:25.073Z"
   },
   {
    "duration": 7,
    "start_time": "2024-07-23T12:03:40.531Z"
   },
   {
    "duration": 730,
    "start_time": "2024-07-23T12:03:40.921Z"
   },
   {
    "duration": 161,
    "start_time": "2024-07-23T12:03:41.654Z"
   },
   {
    "duration": 18,
    "start_time": "2024-07-23T12:03:41.817Z"
   },
   {
    "duration": 31,
    "start_time": "2024-07-23T12:03:41.839Z"
   },
   {
    "duration": 382,
    "start_time": "2024-07-23T12:03:41.937Z"
   },
   {
    "duration": 827,
    "start_time": "2024-07-23T12:03:42.323Z"
   },
   {
    "duration": 50,
    "start_time": "2024-07-23T12:03:43.153Z"
   },
   {
    "duration": 31,
    "start_time": "2024-07-23T12:03:43.205Z"
   },
   {
    "duration": 76,
    "start_time": "2024-07-23T12:03:44.149Z"
   },
   {
    "duration": 35,
    "start_time": "2024-07-23T12:03:45.334Z"
   },
   {
    "duration": 73,
    "start_time": "2024-07-23T12:03:46.620Z"
   },
   {
    "duration": 5,
    "start_time": "2024-07-23T12:03:46.969Z"
   },
   {
    "duration": 13,
    "start_time": "2024-07-23T12:03:48.938Z"
   },
   {
    "duration": 2676,
    "start_time": "2024-07-23T12:03:49.823Z"
   },
   {
    "duration": 26,
    "start_time": "2024-07-23T12:09:11.329Z"
   },
   {
    "duration": 25,
    "start_time": "2024-07-23T12:09:33.987Z"
   },
   {
    "duration": 39,
    "start_time": "2024-07-23T12:20:03.898Z"
   },
   {
    "duration": 2467,
    "start_time": "2024-07-23T12:20:07.369Z"
   },
   {
    "duration": 2358,
    "start_time": "2024-07-23T12:20:21.653Z"
   },
   {
    "duration": 1610,
    "start_time": "2024-07-23T12:20:59.195Z"
   },
   {
    "duration": 743,
    "start_time": "2024-07-23T12:21:00.808Z"
   },
   {
    "duration": 151,
    "start_time": "2024-07-23T12:21:01.553Z"
   },
   {
    "duration": 5,
    "start_time": "2024-07-23T12:21:01.708Z"
   },
   {
    "duration": 49,
    "start_time": "2024-07-23T12:21:01.715Z"
   },
   {
    "duration": 432,
    "start_time": "2024-07-23T12:21:01.767Z"
   },
   {
    "duration": 916,
    "start_time": "2024-07-23T12:21:02.201Z"
   },
   {
    "duration": 49,
    "start_time": "2024-07-23T12:21:03.120Z"
   },
   {
    "duration": 15,
    "start_time": "2024-07-23T12:21:03.173Z"
   },
   {
    "duration": 97,
    "start_time": "2024-07-23T12:21:03.195Z"
   },
   {
    "duration": 52,
    "start_time": "2024-07-23T12:21:03.295Z"
   },
   {
    "duration": 88,
    "start_time": "2024-07-23T12:21:03.350Z"
   },
   {
    "duration": 6,
    "start_time": "2024-07-23T12:21:03.441Z"
   },
   {
    "duration": 12,
    "start_time": "2024-07-23T12:21:03.450Z"
   },
   {
    "duration": 2638,
    "start_time": "2024-07-23T12:21:03.467Z"
   },
   {
    "duration": 287,
    "start_time": "2024-07-23T12:21:06.108Z"
   },
   {
    "duration": 37,
    "start_time": "2024-07-23T12:21:06.399Z"
   },
   {
    "duration": 11,
    "start_time": "2024-07-23T12:21:06.439Z"
   },
   {
    "duration": 21,
    "start_time": "2024-07-23T12:21:06.453Z"
   },
   {
    "duration": 55,
    "start_time": "2024-07-23T12:21:06.477Z"
   },
   {
    "duration": 20,
    "start_time": "2024-07-23T12:21:06.534Z"
   },
   {
    "duration": 40,
    "start_time": "2024-07-23T12:21:06.557Z"
   },
   {
    "duration": 2417,
    "start_time": "2024-07-23T12:21:06.630Z"
   },
   {
    "duration": 12,
    "start_time": "2024-07-23T12:21:09.050Z"
   },
   {
    "duration": 36,
    "start_time": "2024-07-23T12:21:09.064Z"
   },
   {
    "duration": 11,
    "start_time": "2024-07-23T12:21:09.131Z"
   },
   {
    "duration": 14,
    "start_time": "2024-07-23T12:21:09.145Z"
   },
   {
    "duration": 72,
    "start_time": "2024-07-23T12:21:09.169Z"
   },
   {
    "duration": 14,
    "start_time": "2024-07-23T12:21:09.246Z"
   },
   {
    "duration": 74,
    "start_time": "2024-07-23T12:21:09.264Z"
   },
   {
    "duration": 6,
    "start_time": "2024-07-23T12:21:09.341Z"
   },
   {
    "duration": 305,
    "start_time": "2024-07-23T12:21:09.351Z"
   },
   {
    "duration": 40,
    "start_time": "2024-07-23T12:21:09.659Z"
   },
   {
    "duration": 52,
    "start_time": "2024-07-23T12:21:09.702Z"
   },
   {
    "duration": 74,
    "start_time": "2024-07-23T12:21:09.757Z"
   },
   {
    "duration": 41,
    "start_time": "2024-07-23T12:21:09.833Z"
   },
   {
    "duration": 4532,
    "start_time": "2024-07-23T12:21:09.878Z"
   },
   {
    "duration": 25,
    "start_time": "2024-07-23T12:21:14.413Z"
   },
   {
    "duration": 47,
    "start_time": "2024-07-23T12:21:14.441Z"
   },
   {
    "duration": 65,
    "start_time": "2024-07-23T12:21:14.491Z"
   },
   {
    "duration": 41,
    "start_time": "2024-07-23T12:21:14.559Z"
   },
   {
    "duration": 64,
    "start_time": "2024-07-23T12:21:14.602Z"
   },
   {
    "duration": 61,
    "start_time": "2024-07-23T12:21:14.669Z"
   },
   {
    "duration": 66,
    "start_time": "2024-07-23T12:21:14.733Z"
   },
   {
    "duration": 71,
    "start_time": "2024-07-23T12:21:14.802Z"
   },
   {
    "duration": 6,
    "start_time": "2024-07-23T12:21:14.877Z"
   },
   {
    "duration": 21,
    "start_time": "2024-07-23T12:21:14.886Z"
   },
   {
    "duration": 49,
    "start_time": "2024-07-23T12:21:14.932Z"
   },
   {
    "duration": 48,
    "start_time": "2024-07-23T12:21:14.984Z"
   },
   {
    "duration": 5,
    "start_time": "2024-07-23T12:21:15.034Z"
   },
   {
    "duration": 30,
    "start_time": "2024-07-23T12:21:15.042Z"
   },
   {
    "duration": 9,
    "start_time": "2024-07-23T12:21:15.075Z"
   },
   {
    "duration": 54,
    "start_time": "2024-07-23T12:21:15.087Z"
   },
   {
    "duration": 9,
    "start_time": "2024-07-23T12:21:15.143Z"
   },
   {
    "duration": 7,
    "start_time": "2024-07-23T12:21:15.155Z"
   },
   {
    "duration": 141,
    "start_time": "2024-07-23T12:21:15.165Z"
   },
   {
    "duration": 27,
    "start_time": "2024-07-23T12:21:15.309Z"
   },
   {
    "duration": 355,
    "start_time": "2024-07-23T12:21:15.339Z"
   },
   {
    "duration": 749,
    "start_time": "2024-07-23T12:21:15.698Z"
   },
   {
    "duration": 4,
    "start_time": "2024-07-23T12:21:16.450Z"
   },
   {
    "duration": 154,
    "start_time": "2024-07-23T12:21:16.458Z"
   },
   {
    "duration": 22538,
    "start_time": "2024-07-23T12:21:16.615Z"
   },
   {
    "duration": 286,
    "start_time": "2024-07-23T12:21:39.155Z"
   },
   {
    "duration": 663682,
    "start_time": "2024-07-23T12:21:39.450Z"
   },
   {
    "duration": 205,
    "start_time": "2024-07-23T12:32:43.135Z"
   },
   {
    "duration": 1032598,
    "start_time": "2024-07-23T12:32:43.344Z"
   },
   {
    "duration": 127,
    "start_time": "2024-07-23T12:49:55.945Z"
   },
   {
    "duration": 2235376,
    "start_time": "2024-07-23T12:49:56.075Z"
   },
   {
    "duration": 1384,
    "start_time": "2024-07-23T13:27:11.454Z"
   },
   {
    "duration": 16,
    "start_time": "2024-07-23T13:27:12.841Z"
   },
   {
    "duration": 6,
    "start_time": "2024-07-23T13:27:12.861Z"
   },
   {
    "duration": 289,
    "start_time": "2024-07-23T13:27:12.870Z"
   },
   {
    "duration": 221,
    "start_time": "2024-07-23T13:27:13.162Z"
   },
   {
    "duration": 232,
    "start_time": "2024-07-23T13:27:13.386Z"
   },
   {
    "duration": 206,
    "start_time": "2024-07-23T13:27:13.631Z"
   },
   {
    "duration": 1652,
    "start_time": "2024-07-23T13:57:55.573Z"
   },
   {
    "duration": 1597,
    "start_time": "2024-07-23T13:58:55.844Z"
   },
   {
    "duration": 754,
    "start_time": "2024-07-23T13:58:57.445Z"
   },
   {
    "duration": 157,
    "start_time": "2024-07-23T13:58:58.202Z"
   },
   {
    "duration": 5,
    "start_time": "2024-07-23T13:58:58.364Z"
   },
   {
    "duration": 63,
    "start_time": "2024-07-23T13:58:58.372Z"
   },
   {
    "duration": 408,
    "start_time": "2024-07-23T13:58:58.438Z"
   },
   {
    "duration": 898,
    "start_time": "2024-07-23T13:58:58.849Z"
   },
   {
    "duration": 48,
    "start_time": "2024-07-23T13:58:59.751Z"
   },
   {
    "duration": 32,
    "start_time": "2024-07-23T13:58:59.802Z"
   },
   {
    "duration": 69,
    "start_time": "2024-07-23T13:59:00.098Z"
   },
   {
    "duration": 39,
    "start_time": "2024-07-23T13:59:02.375Z"
   },
   {
    "duration": 74,
    "start_time": "2024-07-23T13:59:03.101Z"
   },
   {
    "duration": 5,
    "start_time": "2024-07-23T13:59:03.626Z"
   },
   {
    "duration": 12,
    "start_time": "2024-07-23T13:59:06.517Z"
   },
   {
    "duration": 2629,
    "start_time": "2024-07-23T13:59:08.448Z"
   },
   {
    "duration": 255,
    "start_time": "2024-07-23T13:59:11.260Z"
   },
   {
    "duration": 30,
    "start_time": "2024-07-23T13:59:12.328Z"
   },
   {
    "duration": 10,
    "start_time": "2024-07-23T13:59:16.941Z"
   },
   {
    "duration": 20,
    "start_time": "2024-07-23T13:59:18.450Z"
   },
   {
    "duration": 19,
    "start_time": "2024-07-23T13:59:19.479Z"
   },
   {
    "duration": 20,
    "start_time": "2024-07-23T13:59:20.578Z"
   },
   {
    "duration": 1555,
    "start_time": "2024-07-23T13:59:25.502Z"
   },
   {
    "duration": 280,
    "start_time": "2024-07-23T14:00:03.936Z"
   },
   {
    "duration": 520,
    "start_time": "2024-07-23T14:00:15.550Z"
   },
   {
    "duration": 38,
    "start_time": "2024-07-23T14:00:51.942Z"
   },
   {
    "duration": 2144,
    "start_time": "2024-07-23T14:00:57.155Z"
   },
   {
    "duration": 1658,
    "start_time": "2024-07-23T14:01:23.395Z"
   },
   {
    "duration": 764,
    "start_time": "2024-07-23T14:01:25.056Z"
   },
   {
    "duration": 168,
    "start_time": "2024-07-23T14:01:25.822Z"
   },
   {
    "duration": 6,
    "start_time": "2024-07-23T14:01:25.994Z"
   },
   {
    "duration": 58,
    "start_time": "2024-07-23T14:01:26.003Z"
   },
   {
    "duration": 436,
    "start_time": "2024-07-23T14:01:26.064Z"
   },
   {
    "duration": 945,
    "start_time": "2024-07-23T14:01:26.503Z"
   },
   {
    "duration": 45,
    "start_time": "2024-07-23T14:01:27.451Z"
   },
   {
    "duration": 33,
    "start_time": "2024-07-23T14:01:27.500Z"
   },
   {
    "duration": 93,
    "start_time": "2024-07-23T14:01:27.539Z"
   },
   {
    "duration": 35,
    "start_time": "2024-07-23T14:01:27.635Z"
   },
   {
    "duration": 105,
    "start_time": "2024-07-23T14:01:27.673Z"
   },
   {
    "duration": 6,
    "start_time": "2024-07-23T14:01:27.782Z"
   },
   {
    "duration": 13,
    "start_time": "2024-07-23T14:01:27.791Z"
   },
   {
    "duration": 2901,
    "start_time": "2024-07-23T14:01:27.832Z"
   },
   {
    "duration": 273,
    "start_time": "2024-07-23T14:01:30.736Z"
   },
   {
    "duration": 34,
    "start_time": "2024-07-23T14:01:31.013Z"
   },
   {
    "duration": 10,
    "start_time": "2024-07-23T14:01:31.050Z"
   },
   {
    "duration": 20,
    "start_time": "2024-07-23T14:01:31.063Z"
   },
   {
    "duration": 51,
    "start_time": "2024-07-23T14:01:31.086Z"
   },
   {
    "duration": 20,
    "start_time": "2024-07-23T14:01:31.140Z"
   },
   {
    "duration": 75,
    "start_time": "2024-07-23T14:01:31.164Z"
   },
   {
    "duration": 2214,
    "start_time": "2024-07-23T14:01:31.243Z"
   },
   {
    "duration": 13,
    "start_time": "2024-07-23T14:01:33.460Z"
   },
   {
    "duration": 59,
    "start_time": "2024-07-23T14:01:33.475Z"
   },
   {
    "duration": 10,
    "start_time": "2024-07-23T14:01:33.537Z"
   },
   {
    "duration": 14,
    "start_time": "2024-07-23T14:01:33.550Z"
   },
   {
    "duration": 65,
    "start_time": "2024-07-23T14:01:33.574Z"
   },
   {
    "duration": 15,
    "start_time": "2024-07-23T14:01:33.642Z"
   },
   {
    "duration": 76,
    "start_time": "2024-07-23T14:01:33.660Z"
   },
   {
    "duration": 7,
    "start_time": "2024-07-23T14:01:33.739Z"
   },
   {
    "duration": 291,
    "start_time": "2024-07-23T14:01:33.750Z"
   },
   {
    "duration": 40,
    "start_time": "2024-07-23T14:01:34.044Z"
   },
   {
    "duration": 54,
    "start_time": "2024-07-23T14:01:34.087Z"
   },
   {
    "duration": 47,
    "start_time": "2024-07-23T14:01:34.145Z"
   },
   {
    "duration": 63,
    "start_time": "2024-07-23T14:01:34.195Z"
   },
   {
    "duration": 4282,
    "start_time": "2024-07-23T14:01:34.262Z"
   },
   {
    "duration": 17,
    "start_time": "2024-07-23T14:01:38.547Z"
   },
   {
    "duration": 69,
    "start_time": "2024-07-23T14:01:38.567Z"
   },
   {
    "duration": 39,
    "start_time": "2024-07-23T14:01:38.638Z"
   },
   {
    "duration": 65,
    "start_time": "2024-07-23T14:01:38.680Z"
   },
   {
    "duration": 39,
    "start_time": "2024-07-23T14:01:38.748Z"
   },
   {
    "duration": 55,
    "start_time": "2024-07-23T14:01:38.789Z"
   },
   {
    "duration": 62,
    "start_time": "2024-07-23T14:01:38.848Z"
   },
   {
    "duration": 52,
    "start_time": "2024-07-23T14:01:38.932Z"
   },
   {
    "duration": 3,
    "start_time": "2024-07-23T14:01:38.987Z"
   },
   {
    "duration": 45,
    "start_time": "2024-07-23T14:01:38.993Z"
   },
   {
    "duration": 44,
    "start_time": "2024-07-23T14:01:39.041Z"
   },
   {
    "duration": 49,
    "start_time": "2024-07-23T14:01:39.088Z"
   },
   {
    "duration": 5,
    "start_time": "2024-07-23T14:01:39.140Z"
   },
   {
    "duration": 27,
    "start_time": "2024-07-23T14:01:39.149Z"
   },
   {
    "duration": 8,
    "start_time": "2024-07-23T14:01:39.179Z"
   },
   {
    "duration": 65,
    "start_time": "2024-07-23T14:01:39.190Z"
   },
   {
    "duration": 10,
    "start_time": "2024-07-23T14:01:39.258Z"
   },
   {
    "duration": 8,
    "start_time": "2024-07-23T14:01:39.270Z"
   },
   {
    "duration": 131,
    "start_time": "2024-07-23T14:01:39.281Z"
   },
   {
    "duration": 24,
    "start_time": "2024-07-23T14:01:39.416Z"
   },
   {
    "duration": 331,
    "start_time": "2024-07-23T14:01:39.444Z"
   },
   {
    "duration": 708,
    "start_time": "2024-07-23T14:01:39.778Z"
   },
   {
    "duration": 3,
    "start_time": "2024-07-23T14:01:40.490Z"
   },
   {
    "duration": 146,
    "start_time": "2024-07-23T14:01:40.496Z"
   },
   {
    "duration": 19797,
    "start_time": "2024-07-23T14:01:40.648Z"
   },
   {
    "duration": 196,
    "start_time": "2024-07-23T14:02:00.450Z"
   },
   {
    "duration": 604629,
    "start_time": "2024-07-23T14:02:00.649Z"
   },
   {
    "duration": 186,
    "start_time": "2024-07-23T14:12:05.281Z"
   },
   {
    "duration": 971529,
    "start_time": "2024-07-23T14:12:05.470Z"
   },
   {
    "duration": 109,
    "start_time": "2024-07-23T14:28:17.002Z"
   },
   {
    "duration": 1984,
    "start_time": "2024-07-23T18:48:43.783Z"
   },
   {
    "duration": 1022,
    "start_time": "2024-07-23T18:48:45.771Z"
   },
   {
    "duration": 220,
    "start_time": "2024-07-23T18:48:46.796Z"
   },
   {
    "duration": 6,
    "start_time": "2024-07-23T18:48:47.031Z"
   },
   {
    "duration": 44,
    "start_time": "2024-07-23T18:48:47.041Z"
   },
   {
    "duration": 597,
    "start_time": "2024-07-23T18:48:47.090Z"
   },
   {
    "duration": 1059,
    "start_time": "2024-07-23T18:48:47.693Z"
   },
   {
    "duration": 43,
    "start_time": "2024-07-23T18:48:48.755Z"
   },
   {
    "duration": 33,
    "start_time": "2024-07-23T18:48:48.801Z"
   },
   {
    "duration": 94,
    "start_time": "2024-07-23T18:48:48.840Z"
   },
   {
    "duration": 43,
    "start_time": "2024-07-23T18:48:48.937Z"
   },
   {
    "duration": 105,
    "start_time": "2024-07-23T18:48:48.983Z"
   },
   {
    "duration": 6,
    "start_time": "2024-07-23T18:48:49.091Z"
   },
   {
    "duration": 31,
    "start_time": "2024-07-23T18:48:49.100Z"
   },
   {
    "duration": 2958,
    "start_time": "2024-07-23T18:48:49.134Z"
   },
   {
    "duration": 295,
    "start_time": "2024-07-23T18:48:52.101Z"
   },
   {
    "duration": 33,
    "start_time": "2024-07-23T18:48:52.402Z"
   },
   {
    "duration": 12,
    "start_time": "2024-07-23T18:48:52.437Z"
   },
   {
    "duration": 25,
    "start_time": "2024-07-23T18:48:52.452Z"
   },
   {
    "duration": 22,
    "start_time": "2024-07-23T18:48:52.480Z"
   },
   {
    "duration": 44,
    "start_time": "2024-07-23T18:48:52.505Z"
   },
   {
    "duration": 73,
    "start_time": "2024-07-23T18:48:52.558Z"
   },
   {
    "duration": 2543,
    "start_time": "2024-07-23T18:48:52.634Z"
   },
   {
    "duration": 13,
    "start_time": "2024-07-23T18:48:55.179Z"
   },
   {
    "duration": 65,
    "start_time": "2024-07-23T18:48:55.194Z"
   },
   {
    "duration": 13,
    "start_time": "2024-07-23T18:48:55.262Z"
   },
   {
    "duration": 15,
    "start_time": "2024-07-23T18:48:55.278Z"
   },
   {
    "duration": 61,
    "start_time": "2024-07-23T18:48:55.303Z"
   },
   {
    "duration": 18,
    "start_time": "2024-07-23T18:48:55.367Z"
   },
   {
    "duration": 88,
    "start_time": "2024-07-23T18:48:55.387Z"
   },
   {
    "duration": 6,
    "start_time": "2024-07-23T18:48:55.478Z"
   },
   {
    "duration": 399,
    "start_time": "2024-07-23T18:48:55.487Z"
   },
   {
    "duration": 75,
    "start_time": "2024-07-23T18:48:55.891Z"
   },
   {
    "duration": 65,
    "start_time": "2024-07-23T18:48:55.969Z"
   },
   {
    "duration": 61,
    "start_time": "2024-07-23T18:48:56.038Z"
   },
   {
    "duration": 76,
    "start_time": "2024-07-23T18:48:56.102Z"
   },
   {
    "duration": 5053,
    "start_time": "2024-07-23T18:48:56.181Z"
   },
   {
    "duration": 22,
    "start_time": "2024-07-23T18:49:01.240Z"
   },
   {
    "duration": 73,
    "start_time": "2024-07-23T18:49:01.265Z"
   },
   {
    "duration": 57,
    "start_time": "2024-07-23T18:49:01.341Z"
   },
   {
    "duration": 78,
    "start_time": "2024-07-23T18:49:01.402Z"
   },
   {
    "duration": 83,
    "start_time": "2024-07-23T18:49:01.484Z"
   },
   {
    "duration": 82,
    "start_time": "2024-07-23T18:49:01.570Z"
   },
   {
    "duration": 100,
    "start_time": "2024-07-23T18:49:01.660Z"
   },
   {
    "duration": 92,
    "start_time": "2024-07-23T18:49:01.771Z"
   },
   {
    "duration": 6,
    "start_time": "2024-07-23T18:49:01.866Z"
   },
   {
    "duration": 29,
    "start_time": "2024-07-23T18:49:01.875Z"
   },
   {
    "duration": 83,
    "start_time": "2024-07-23T18:49:01.908Z"
   },
   {
    "duration": 46,
    "start_time": "2024-07-23T18:49:01.993Z"
   },
   {
    "duration": 8,
    "start_time": "2024-07-23T18:49:02.042Z"
   },
   {
    "duration": 60,
    "start_time": "2024-07-23T18:49:02.053Z"
   },
   {
    "duration": 22,
    "start_time": "2024-07-23T18:49:02.120Z"
   },
   {
    "duration": 40,
    "start_time": "2024-07-23T18:49:02.148Z"
   },
   {
    "duration": 16,
    "start_time": "2024-07-23T18:49:02.194Z"
   },
   {
    "duration": 26,
    "start_time": "2024-07-23T18:49:02.215Z"
   },
   {
    "duration": 146,
    "start_time": "2024-07-23T18:49:02.244Z"
   },
   {
    "duration": 22,
    "start_time": "2024-07-23T18:49:02.393Z"
   },
   {
    "duration": 408,
    "start_time": "2024-07-23T18:49:02.432Z"
   },
   {
    "duration": 839,
    "start_time": "2024-07-23T18:49:02.843Z"
   },
   {
    "duration": 4,
    "start_time": "2024-07-23T18:49:03.685Z"
   },
   {
    "duration": 178,
    "start_time": "2024-07-23T18:49:03.692Z"
   },
   {
    "duration": 22500,
    "start_time": "2024-07-23T18:49:03.873Z"
   },
   {
    "duration": 224,
    "start_time": "2024-07-23T18:49:26.435Z"
   },
   {
    "duration": 609716,
    "start_time": "2024-07-23T18:49:26.662Z"
   },
   {
    "duration": 192,
    "start_time": "2024-07-23T18:59:36.381Z"
   },
   {
    "duration": 970782,
    "start_time": "2024-07-23T18:59:36.576Z"
   },
   {
    "duration": 132,
    "start_time": "2024-07-23T19:15:47.360Z"
   },
   {
    "duration": 2354758,
    "start_time": "2024-07-23T19:15:47.497Z"
   },
   {
    "duration": 1191,
    "start_time": "2024-07-23T19:55:02.258Z"
   },
   {
    "duration": 16,
    "start_time": "2024-07-23T19:55:03.453Z"
   },
   {
    "duration": 58,
    "start_time": "2024-07-23T19:55:03.473Z"
   },
   {
    "duration": 279,
    "start_time": "2024-07-23T19:55:03.535Z"
   },
   {
    "duration": 241,
    "start_time": "2024-07-23T19:55:03.817Z"
   },
   {
    "duration": 226,
    "start_time": "2024-07-23T19:55:04.062Z"
   },
   {
    "duration": 26,
    "start_time": "2024-07-23T22:29:26.985Z"
   },
   {
    "duration": 1686,
    "start_time": "2024-07-23T22:29:34.244Z"
   },
   {
    "duration": 750,
    "start_time": "2024-07-23T22:29:35.934Z"
   },
   {
    "duration": 158,
    "start_time": "2024-07-23T22:29:36.687Z"
   },
   {
    "duration": 6,
    "start_time": "2024-07-23T22:29:36.850Z"
   },
   {
    "duration": 31,
    "start_time": "2024-07-23T22:29:36.859Z"
   },
   {
    "duration": 444,
    "start_time": "2024-07-23T22:29:36.893Z"
   },
   {
    "duration": 880,
    "start_time": "2024-07-23T22:29:37.340Z"
   },
   {
    "duration": 50,
    "start_time": "2024-07-23T22:29:38.223Z"
   },
   {
    "duration": 16,
    "start_time": "2024-07-23T22:29:38.276Z"
   },
   {
    "duration": 95,
    "start_time": "2024-07-23T22:29:38.299Z"
   },
   {
    "duration": 53,
    "start_time": "2024-07-23T22:29:38.397Z"
   },
   {
    "duration": 90,
    "start_time": "2024-07-23T22:29:38.452Z"
   },
   {
    "duration": 7,
    "start_time": "2024-07-23T22:29:38.545Z"
   },
   {
    "duration": 12,
    "start_time": "2024-07-23T22:29:38.555Z"
   },
   {
    "duration": 2643,
    "start_time": "2024-07-23T22:29:38.569Z"
   },
   {
    "duration": 281,
    "start_time": "2024-07-23T22:29:41.216Z"
   },
   {
    "duration": 37,
    "start_time": "2024-07-23T22:29:41.501Z"
   },
   {
    "duration": 10,
    "start_time": "2024-07-23T22:29:41.542Z"
   },
   {
    "duration": 21,
    "start_time": "2024-07-23T22:29:41.555Z"
   },
   {
    "duration": 53,
    "start_time": "2024-07-23T22:29:41.579Z"
   },
   {
    "duration": 20,
    "start_time": "2024-07-23T22:29:41.635Z"
   },
   {
    "duration": 71,
    "start_time": "2024-07-23T22:29:41.659Z"
   },
   {
    "duration": 2377,
    "start_time": "2024-07-23T22:29:41.733Z"
   },
   {
    "duration": 22,
    "start_time": "2024-07-23T22:29:44.113Z"
   },
   {
    "duration": 36,
    "start_time": "2024-07-23T22:29:44.138Z"
   },
   {
    "duration": 12,
    "start_time": "2024-07-23T22:29:44.177Z"
   },
   {
    "duration": 50,
    "start_time": "2024-07-23T22:29:44.192Z"
   },
   {
    "duration": 35,
    "start_time": "2024-07-23T22:29:44.252Z"
   },
   {
    "duration": 40,
    "start_time": "2024-07-23T22:29:44.290Z"
   },
   {
    "duration": 54,
    "start_time": "2024-07-23T22:29:44.334Z"
   },
   {
    "duration": 6,
    "start_time": "2024-07-23T22:29:44.391Z"
   },
   {
    "duration": 315,
    "start_time": "2024-07-23T22:29:44.401Z"
   },
   {
    "duration": 44,
    "start_time": "2024-07-23T22:29:44.719Z"
   },
   {
    "duration": 35,
    "start_time": "2024-07-23T22:29:44.766Z"
   },
   {
    "duration": 52,
    "start_time": "2024-07-23T22:29:44.830Z"
   },
   {
    "duration": 57,
    "start_time": "2024-07-23T22:29:44.884Z"
   },
   {
    "duration": 4588,
    "start_time": "2024-07-23T22:29:44.944Z"
   },
   {
    "duration": 16,
    "start_time": "2024-07-23T22:29:49.534Z"
   },
   {
    "duration": 45,
    "start_time": "2024-07-23T22:29:49.554Z"
   },
   {
    "duration": 67,
    "start_time": "2024-07-23T22:29:49.602Z"
   },
   {
    "duration": 60,
    "start_time": "2024-07-23T22:29:49.672Z"
   },
   {
    "duration": 41,
    "start_time": "2024-07-23T22:29:49.734Z"
   },
   {
    "duration": 60,
    "start_time": "2024-07-23T22:29:49.778Z"
   },
   {
    "duration": 65,
    "start_time": "2024-07-23T22:29:49.841Z"
   },
   {
    "duration": 55,
    "start_time": "2024-07-23T22:29:49.931Z"
   },
   {
    "duration": 4,
    "start_time": "2024-07-23T22:29:49.989Z"
   },
   {
    "duration": 46,
    "start_time": "2024-07-23T22:29:49.997Z"
   },
   {
    "duration": 47,
    "start_time": "2024-07-23T22:29:50.048Z"
   },
   {
    "duration": 46,
    "start_time": "2024-07-23T22:29:50.098Z"
   },
   {
    "duration": 7,
    "start_time": "2024-07-23T22:29:50.147Z"
   },
   {
    "duration": 27,
    "start_time": "2024-07-23T22:29:50.157Z"
   },
   {
    "duration": 43,
    "start_time": "2024-07-23T22:29:50.187Z"
   },
   {
    "duration": 26,
    "start_time": "2024-07-23T22:29:50.233Z"
   },
   {
    "duration": 9,
    "start_time": "2024-07-23T22:29:50.261Z"
   },
   {
    "duration": 8,
    "start_time": "2024-07-23T22:29:50.272Z"
   },
   {
    "duration": 137,
    "start_time": "2024-07-23T22:29:50.282Z"
   },
   {
    "duration": 17,
    "start_time": "2024-07-23T22:29:50.431Z"
   },
   {
    "duration": 334,
    "start_time": "2024-07-23T22:29:50.451Z"
   },
   {
    "duration": 722,
    "start_time": "2024-07-23T22:29:50.788Z"
   },
   {
    "duration": 4,
    "start_time": "2024-07-23T22:29:51.513Z"
   },
   {
    "duration": 135,
    "start_time": "2024-07-23T22:29:51.531Z"
   },
   {
    "duration": 20872,
    "start_time": "2024-07-23T22:29:51.669Z"
   },
   {
    "duration": 205,
    "start_time": "2024-07-23T22:30:12.545Z"
   },
   {
    "duration": 631041,
    "start_time": "2024-07-23T22:30:12.754Z"
   },
   {
    "duration": 193,
    "start_time": "2024-07-23T22:40:43.798Z"
   },
   {
    "duration": 991688,
    "start_time": "2024-07-23T22:40:43.994Z"
   },
   {
    "duration": 118,
    "start_time": "2024-07-23T22:57:15.685Z"
   },
   {
    "duration": 2686149,
    "start_time": "2024-07-23T22:57:15.806Z"
   },
   {
    "duration": 1207,
    "start_time": "2024-07-23T23:42:02.038Z"
   },
   {
    "duration": 17,
    "start_time": "2024-07-23T23:42:03.248Z"
   },
   {
    "duration": 6,
    "start_time": "2024-07-23T23:42:03.268Z"
   },
   {
    "duration": 270,
    "start_time": "2024-07-23T23:42:03.331Z"
   },
   {
    "duration": 222,
    "start_time": "2024-07-23T23:42:03.604Z"
   },
   {
    "duration": 234,
    "start_time": "2024-07-23T23:42:03.832Z"
   },
   {
    "duration": 25,
    "start_time": "2024-07-24T00:18:05.303Z"
   },
   {
    "duration": 1669,
    "start_time": "2024-07-24T00:18:13.331Z"
   },
   {
    "duration": 741,
    "start_time": "2024-07-24T00:18:15.003Z"
   },
   {
    "duration": 155,
    "start_time": "2024-07-24T00:18:15.747Z"
   },
   {
    "duration": 24,
    "start_time": "2024-07-24T00:18:15.907Z"
   },
   {
    "duration": 32,
    "start_time": "2024-07-24T00:18:15.934Z"
   },
   {
    "duration": 423,
    "start_time": "2024-07-24T00:18:15.969Z"
   },
   {
    "duration": 886,
    "start_time": "2024-07-24T00:18:16.395Z"
   },
   {
    "duration": 51,
    "start_time": "2024-07-24T00:18:17.284Z"
   },
   {
    "duration": 14,
    "start_time": "2024-07-24T00:18:17.338Z"
   },
   {
    "duration": 94,
    "start_time": "2024-07-24T00:18:17.357Z"
   },
   {
    "duration": 35,
    "start_time": "2024-07-24T00:18:17.454Z"
   },
   {
    "duration": 99,
    "start_time": "2024-07-24T00:18:17.492Z"
   },
   {
    "duration": 5,
    "start_time": "2024-07-24T00:18:17.594Z"
   },
   {
    "duration": 29,
    "start_time": "2024-07-24T00:18:17.602Z"
   },
   {
    "duration": 2653,
    "start_time": "2024-07-24T00:18:17.634Z"
   },
   {
    "duration": 280,
    "start_time": "2024-07-24T00:18:20.290Z"
   },
   {
    "duration": 26,
    "start_time": "2024-07-24T00:18:20.572Z"
   },
   {
    "duration": 31,
    "start_time": "2024-07-24T00:18:20.601Z"
   },
   {
    "duration": 21,
    "start_time": "2024-07-24T00:18:20.635Z"
   },
   {
    "duration": 19,
    "start_time": "2024-07-24T00:18:20.659Z"
   },
   {
    "duration": 52,
    "start_time": "2024-07-24T00:18:20.681Z"
   },
   {
    "duration": 43,
    "start_time": "2024-07-24T00:18:20.736Z"
   },
   {
    "duration": 2556,
    "start_time": "2024-07-24T00:18:20.781Z"
   },
   {
    "duration": 12,
    "start_time": "2024-07-24T00:18:23.340Z"
   },
   {
    "duration": 41,
    "start_time": "2024-07-24T00:18:23.355Z"
   },
   {
    "duration": 38,
    "start_time": "2024-07-24T00:18:23.399Z"
   },
   {
    "duration": 16,
    "start_time": "2024-07-24T00:18:23.440Z"
   },
   {
    "duration": 74,
    "start_time": "2024-07-24T00:18:23.465Z"
   },
   {
    "duration": 15,
    "start_time": "2024-07-24T00:18:23.542Z"
   },
   {
    "duration": 79,
    "start_time": "2024-07-24T00:18:23.560Z"
   },
   {
    "duration": 7,
    "start_time": "2024-07-24T00:18:23.642Z"
   },
   {
    "duration": 318,
    "start_time": "2024-07-24T00:18:23.652Z"
   },
   {
    "duration": 42,
    "start_time": "2024-07-24T00:18:23.972Z"
   },
   {
    "duration": 37,
    "start_time": "2024-07-24T00:18:24.031Z"
   },
   {
    "duration": 75,
    "start_time": "2024-07-24T00:18:24.071Z"
   },
   {
    "duration": 43,
    "start_time": "2024-07-24T00:18:24.148Z"
   },
   {
    "duration": 4809,
    "start_time": "2024-07-24T00:18:24.194Z"
   },
   {
    "duration": 26,
    "start_time": "2024-07-24T00:18:29.006Z"
   },
   {
    "duration": 50,
    "start_time": "2024-07-24T00:18:29.035Z"
   },
   {
    "duration": 67,
    "start_time": "2024-07-24T00:18:29.087Z"
   },
   {
    "duration": 45,
    "start_time": "2024-07-24T00:18:29.157Z"
   },
   {
    "duration": 63,
    "start_time": "2024-07-24T00:18:29.204Z"
   },
   {
    "duration": 62,
    "start_time": "2024-07-24T00:18:29.270Z"
   },
   {
    "duration": 71,
    "start_time": "2024-07-24T00:18:29.335Z"
   },
   {
    "duration": 69,
    "start_time": "2024-07-24T00:18:29.408Z"
   },
   {
    "duration": 6,
    "start_time": "2024-07-24T00:18:29.481Z"
   },
   {
    "duration": 42,
    "start_time": "2024-07-24T00:18:29.490Z"
   },
   {
    "duration": 51,
    "start_time": "2024-07-24T00:18:29.535Z"
   },
   {
    "duration": 51,
    "start_time": "2024-07-24T00:18:29.589Z"
   },
   {
    "duration": 4,
    "start_time": "2024-07-24T00:18:29.645Z"
   },
   {
    "duration": 31,
    "start_time": "2024-07-24T00:18:29.653Z"
   },
   {
    "duration": 9,
    "start_time": "2024-07-24T00:18:29.687Z"
   },
   {
    "duration": 28,
    "start_time": "2024-07-24T00:18:29.731Z"
   },
   {
    "duration": 9,
    "start_time": "2024-07-24T00:18:29.762Z"
   },
   {
    "duration": 7,
    "start_time": "2024-07-24T00:18:29.774Z"
   },
   {
    "duration": 148,
    "start_time": "2024-07-24T00:18:29.784Z"
   },
   {
    "duration": 18,
    "start_time": "2024-07-24T00:18:29.934Z"
   },
   {
    "duration": 365,
    "start_time": "2024-07-24T00:18:29.955Z"
   },
   {
    "duration": 796,
    "start_time": "2024-07-24T00:18:30.330Z"
   },
   {
    "duration": 3,
    "start_time": "2024-07-24T00:18:31.129Z"
   },
   {
    "duration": 153,
    "start_time": "2024-07-24T00:18:31.136Z"
   },
   {
    "duration": 22339,
    "start_time": "2024-07-24T00:18:31.292Z"
   },
   {
    "duration": 205,
    "start_time": "2024-07-24T00:18:53.639Z"
   },
   {
    "duration": 689880,
    "start_time": "2024-07-24T00:18:53.851Z"
   },
   {
    "duration": 209,
    "start_time": "2024-07-24T00:30:23.734Z"
   },
   {
    "duration": 1057009,
    "start_time": "2024-07-24T00:30:23.946Z"
   },
   {
    "duration": 122,
    "start_time": "2024-07-24T00:48:00.958Z"
   },
   {
    "duration": 325,
    "start_time": "2024-07-25T19:19:54.906Z"
   }
  ],
  "kernelspec": {
   "display_name": "Python 3 (ipykernel)",
   "language": "python",
   "name": "python3"
  },
  "language_info": {
   "codemirror_mode": {
    "name": "ipython",
    "version": 3
   },
   "file_extension": ".py",
   "mimetype": "text/x-python",
   "name": "python",
   "nbconvert_exporter": "python",
   "pygments_lexer": "ipython3",
   "version": "3.12.4"
  },
  "toc": {
   "base_numbering": 1,
   "nav_menu": {},
   "number_sections": true,
   "sideBar": true,
   "skip_h1_title": true,
   "title_cell": "Table of Contents",
   "title_sidebar": "Contents",
   "toc_cell": false,
   "toc_position": {},
   "toc_section_display": true,
   "toc_window_display": false
  }
 },
 "nbformat": 4,
 "nbformat_minor": 2
}
